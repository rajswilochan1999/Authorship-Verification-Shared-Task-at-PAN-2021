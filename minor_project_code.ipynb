{
  "nbformat": 4,
  "nbformat_minor": 0,
  "metadata": {
    "colab": {
      "name": "Minor Project Code - Authorship Verification",
      "provenance": [],
      "collapsed_sections": [
        "vKkHnK8_4tc3",
        "set_EMre9ONw"
      ],
      "toc_visible": true
    },
    "kernelspec": {
      "display_name": "Python 3",
      "name": "python3"
    },
    "language_info": {
      "name": "python"
    },
    "widgets": {
      "application/vnd.jupyter.widget-state+json": {
        "55744e833b9744f5bb5c1843c8008215": {
          "model_module": "@jupyter-widgets/controls",
          "model_name": "HBoxModel",
          "state": {
            "_view_name": "HBoxView",
            "_dom_classes": [],
            "_model_name": "HBoxModel",
            "_view_module": "@jupyter-widgets/controls",
            "_model_module_version": "1.5.0",
            "_view_count": null,
            "_view_module_version": "1.5.0",
            "box_style": "",
            "layout": "IPY_MODEL_7539269707e84b648ec2bd502f3f9999",
            "_model_module": "@jupyter-widgets/controls",
            "children": [
              "IPY_MODEL_aa44ea94a01e40bb8922588e6d796304",
              "IPY_MODEL_68460b5a03ca41f0bd4a6ed8420a7b30"
            ]
          }
        },
        "7539269707e84b648ec2bd502f3f9999": {
          "model_module": "@jupyter-widgets/base",
          "model_name": "LayoutModel",
          "state": {
            "_view_name": "LayoutView",
            "grid_template_rows": null,
            "right": null,
            "justify_content": null,
            "_view_module": "@jupyter-widgets/base",
            "overflow": null,
            "_model_module_version": "1.2.0",
            "_view_count": null,
            "flex_flow": null,
            "width": null,
            "min_width": null,
            "border": null,
            "align_items": null,
            "bottom": null,
            "_model_module": "@jupyter-widgets/base",
            "top": null,
            "grid_column": null,
            "overflow_y": null,
            "overflow_x": null,
            "grid_auto_flow": null,
            "grid_area": null,
            "grid_template_columns": null,
            "flex": null,
            "_model_name": "LayoutModel",
            "justify_items": null,
            "grid_row": null,
            "max_height": null,
            "align_content": null,
            "visibility": null,
            "align_self": null,
            "height": null,
            "min_height": null,
            "padding": null,
            "grid_auto_rows": null,
            "grid_gap": null,
            "max_width": null,
            "order": null,
            "_view_module_version": "1.2.0",
            "grid_template_areas": null,
            "object_position": null,
            "object_fit": null,
            "grid_auto_columns": null,
            "margin": null,
            "display": null,
            "left": null
          }
        },
        "aa44ea94a01e40bb8922588e6d796304": {
          "model_module": "@jupyter-widgets/controls",
          "model_name": "FloatProgressModel",
          "state": {
            "_view_name": "ProgressView",
            "style": "IPY_MODEL_97e3fddab03a4b55a8d0f3ba32b101c4",
            "_dom_classes": [],
            "description": "100%",
            "_model_name": "FloatProgressModel",
            "bar_style": "success",
            "max": 1051,
            "_view_module": "@jupyter-widgets/controls",
            "_model_module_version": "1.5.0",
            "value": 1051,
            "_view_count": null,
            "_view_module_version": "1.5.0",
            "orientation": "horizontal",
            "min": 0,
            "description_tooltip": null,
            "_model_module": "@jupyter-widgets/controls",
            "layout": "IPY_MODEL_7f58ad8dd6c5442996abad43d5e80f38"
          }
        },
        "68460b5a03ca41f0bd4a6ed8420a7b30": {
          "model_module": "@jupyter-widgets/controls",
          "model_name": "HTMLModel",
          "state": {
            "_view_name": "HTMLView",
            "style": "IPY_MODEL_658b6cee79934729b2fb602c63f0c080",
            "_dom_classes": [],
            "description": "",
            "_model_name": "HTMLModel",
            "placeholder": "​",
            "_view_module": "@jupyter-widgets/controls",
            "_model_module_version": "1.5.0",
            "value": " 1051/1051 [00:23&lt;00:00, 44.36it/s]",
            "_view_count": null,
            "_view_module_version": "1.5.0",
            "description_tooltip": null,
            "_model_module": "@jupyter-widgets/controls",
            "layout": "IPY_MODEL_a531db0ee1ba43b1a703b8d74966f0f0"
          }
        },
        "97e3fddab03a4b55a8d0f3ba32b101c4": {
          "model_module": "@jupyter-widgets/controls",
          "model_name": "ProgressStyleModel",
          "state": {
            "_view_name": "StyleView",
            "_model_name": "ProgressStyleModel",
            "description_width": "initial",
            "_view_module": "@jupyter-widgets/base",
            "_model_module_version": "1.5.0",
            "_view_count": null,
            "_view_module_version": "1.2.0",
            "bar_color": null,
            "_model_module": "@jupyter-widgets/controls"
          }
        },
        "7f58ad8dd6c5442996abad43d5e80f38": {
          "model_module": "@jupyter-widgets/base",
          "model_name": "LayoutModel",
          "state": {
            "_view_name": "LayoutView",
            "grid_template_rows": null,
            "right": null,
            "justify_content": null,
            "_view_module": "@jupyter-widgets/base",
            "overflow": null,
            "_model_module_version": "1.2.0",
            "_view_count": null,
            "flex_flow": null,
            "width": null,
            "min_width": null,
            "border": null,
            "align_items": null,
            "bottom": null,
            "_model_module": "@jupyter-widgets/base",
            "top": null,
            "grid_column": null,
            "overflow_y": null,
            "overflow_x": null,
            "grid_auto_flow": null,
            "grid_area": null,
            "grid_template_columns": null,
            "flex": null,
            "_model_name": "LayoutModel",
            "justify_items": null,
            "grid_row": null,
            "max_height": null,
            "align_content": null,
            "visibility": null,
            "align_self": null,
            "height": null,
            "min_height": null,
            "padding": null,
            "grid_auto_rows": null,
            "grid_gap": null,
            "max_width": null,
            "order": null,
            "_view_module_version": "1.2.0",
            "grid_template_areas": null,
            "object_position": null,
            "object_fit": null,
            "grid_auto_columns": null,
            "margin": null,
            "display": null,
            "left": null
          }
        },
        "658b6cee79934729b2fb602c63f0c080": {
          "model_module": "@jupyter-widgets/controls",
          "model_name": "DescriptionStyleModel",
          "state": {
            "_view_name": "StyleView",
            "_model_name": "DescriptionStyleModel",
            "description_width": "",
            "_view_module": "@jupyter-widgets/base",
            "_model_module_version": "1.5.0",
            "_view_count": null,
            "_view_module_version": "1.2.0",
            "_model_module": "@jupyter-widgets/controls"
          }
        },
        "a531db0ee1ba43b1a703b8d74966f0f0": {
          "model_module": "@jupyter-widgets/base",
          "model_name": "LayoutModel",
          "state": {
            "_view_name": "LayoutView",
            "grid_template_rows": null,
            "right": null,
            "justify_content": null,
            "_view_module": "@jupyter-widgets/base",
            "overflow": null,
            "_model_module_version": "1.2.0",
            "_view_count": null,
            "flex_flow": null,
            "width": null,
            "min_width": null,
            "border": null,
            "align_items": null,
            "bottom": null,
            "_model_module": "@jupyter-widgets/base",
            "top": null,
            "grid_column": null,
            "overflow_y": null,
            "overflow_x": null,
            "grid_auto_flow": null,
            "grid_area": null,
            "grid_template_columns": null,
            "flex": null,
            "_model_name": "LayoutModel",
            "justify_items": null,
            "grid_row": null,
            "max_height": null,
            "align_content": null,
            "visibility": null,
            "align_self": null,
            "height": null,
            "min_height": null,
            "padding": null,
            "grid_auto_rows": null,
            "grid_gap": null,
            "max_width": null,
            "order": null,
            "_view_module_version": "1.2.0",
            "grid_template_areas": null,
            "object_position": null,
            "object_fit": null,
            "grid_auto_columns": null,
            "margin": null,
            "display": null,
            "left": null
          }
        },
        "5fbc6a74e8594535923bef0ba756791f": {
          "model_module": "@jupyter-widgets/controls",
          "model_name": "HBoxModel",
          "state": {
            "_view_name": "HBoxView",
            "_dom_classes": [],
            "_model_name": "HBoxModel",
            "_view_module": "@jupyter-widgets/controls",
            "_model_module_version": "1.5.0",
            "_view_count": null,
            "_view_module_version": "1.5.0",
            "box_style": "",
            "layout": "IPY_MODEL_12c6feae18c3455baccaa3d78a6e193c",
            "_model_module": "@jupyter-widgets/controls",
            "children": [
              "IPY_MODEL_50d5d4c839214b499a7e1fb780c06fdc",
              "IPY_MODEL_d287af6d1f604ac19de90641e0ab04b4"
            ]
          }
        },
        "12c6feae18c3455baccaa3d78a6e193c": {
          "model_module": "@jupyter-widgets/base",
          "model_name": "LayoutModel",
          "state": {
            "_view_name": "LayoutView",
            "grid_template_rows": null,
            "right": null,
            "justify_content": null,
            "_view_module": "@jupyter-widgets/base",
            "overflow": null,
            "_model_module_version": "1.2.0",
            "_view_count": null,
            "flex_flow": null,
            "width": null,
            "min_width": null,
            "border": null,
            "align_items": null,
            "bottom": null,
            "_model_module": "@jupyter-widgets/base",
            "top": null,
            "grid_column": null,
            "overflow_y": null,
            "overflow_x": null,
            "grid_auto_flow": null,
            "grid_area": null,
            "grid_template_columns": null,
            "flex": null,
            "_model_name": "LayoutModel",
            "justify_items": null,
            "grid_row": null,
            "max_height": null,
            "align_content": null,
            "visibility": null,
            "align_self": null,
            "height": null,
            "min_height": null,
            "padding": null,
            "grid_auto_rows": null,
            "grid_gap": null,
            "max_width": null,
            "order": null,
            "_view_module_version": "1.2.0",
            "grid_template_areas": null,
            "object_position": null,
            "object_fit": null,
            "grid_auto_columns": null,
            "margin": null,
            "display": null,
            "left": null
          }
        },
        "50d5d4c839214b499a7e1fb780c06fdc": {
          "model_module": "@jupyter-widgets/controls",
          "model_name": "FloatProgressModel",
          "state": {
            "_view_name": "ProgressView",
            "style": "IPY_MODEL_37a597a8c1594a6292b8330b47a4136e",
            "_dom_classes": [],
            "description": "100%",
            "_model_name": "FloatProgressModel",
            "bar_style": "success",
            "max": 1051,
            "_view_module": "@jupyter-widgets/controls",
            "_model_module_version": "1.5.0",
            "value": 1051,
            "_view_count": null,
            "_view_module_version": "1.5.0",
            "orientation": "horizontal",
            "min": 0,
            "description_tooltip": null,
            "_model_module": "@jupyter-widgets/controls",
            "layout": "IPY_MODEL_4d176c3cf07748ad88b9f519a4767853"
          }
        },
        "d287af6d1f604ac19de90641e0ab04b4": {
          "model_module": "@jupyter-widgets/controls",
          "model_name": "HTMLModel",
          "state": {
            "_view_name": "HTMLView",
            "style": "IPY_MODEL_b83ed64bde7c4e4d93e34b338f796415",
            "_dom_classes": [],
            "description": "",
            "_model_name": "HTMLModel",
            "placeholder": "​",
            "_view_module": "@jupyter-widgets/controls",
            "_model_module_version": "1.5.0",
            "value": " 1051/1051 [00:15&lt;00:00, 66.93it/s]",
            "_view_count": null,
            "_view_module_version": "1.5.0",
            "description_tooltip": null,
            "_model_module": "@jupyter-widgets/controls",
            "layout": "IPY_MODEL_8f7f298e6ff54d4a8e588a9cd974a4d2"
          }
        },
        "37a597a8c1594a6292b8330b47a4136e": {
          "model_module": "@jupyter-widgets/controls",
          "model_name": "ProgressStyleModel",
          "state": {
            "_view_name": "StyleView",
            "_model_name": "ProgressStyleModel",
            "description_width": "initial",
            "_view_module": "@jupyter-widgets/base",
            "_model_module_version": "1.5.0",
            "_view_count": null,
            "_view_module_version": "1.2.0",
            "bar_color": null,
            "_model_module": "@jupyter-widgets/controls"
          }
        },
        "4d176c3cf07748ad88b9f519a4767853": {
          "model_module": "@jupyter-widgets/base",
          "model_name": "LayoutModel",
          "state": {
            "_view_name": "LayoutView",
            "grid_template_rows": null,
            "right": null,
            "justify_content": null,
            "_view_module": "@jupyter-widgets/base",
            "overflow": null,
            "_model_module_version": "1.2.0",
            "_view_count": null,
            "flex_flow": null,
            "width": null,
            "min_width": null,
            "border": null,
            "align_items": null,
            "bottom": null,
            "_model_module": "@jupyter-widgets/base",
            "top": null,
            "grid_column": null,
            "overflow_y": null,
            "overflow_x": null,
            "grid_auto_flow": null,
            "grid_area": null,
            "grid_template_columns": null,
            "flex": null,
            "_model_name": "LayoutModel",
            "justify_items": null,
            "grid_row": null,
            "max_height": null,
            "align_content": null,
            "visibility": null,
            "align_self": null,
            "height": null,
            "min_height": null,
            "padding": null,
            "grid_auto_rows": null,
            "grid_gap": null,
            "max_width": null,
            "order": null,
            "_view_module_version": "1.2.0",
            "grid_template_areas": null,
            "object_position": null,
            "object_fit": null,
            "grid_auto_columns": null,
            "margin": null,
            "display": null,
            "left": null
          }
        },
        "b83ed64bde7c4e4d93e34b338f796415": {
          "model_module": "@jupyter-widgets/controls",
          "model_name": "DescriptionStyleModel",
          "state": {
            "_view_name": "StyleView",
            "_model_name": "DescriptionStyleModel",
            "description_width": "",
            "_view_module": "@jupyter-widgets/base",
            "_model_module_version": "1.5.0",
            "_view_count": null,
            "_view_module_version": "1.2.0",
            "_model_module": "@jupyter-widgets/controls"
          }
        },
        "8f7f298e6ff54d4a8e588a9cd974a4d2": {
          "model_module": "@jupyter-widgets/base",
          "model_name": "LayoutModel",
          "state": {
            "_view_name": "LayoutView",
            "grid_template_rows": null,
            "right": null,
            "justify_content": null,
            "_view_module": "@jupyter-widgets/base",
            "overflow": null,
            "_model_module_version": "1.2.0",
            "_view_count": null,
            "flex_flow": null,
            "width": null,
            "min_width": null,
            "border": null,
            "align_items": null,
            "bottom": null,
            "_model_module": "@jupyter-widgets/base",
            "top": null,
            "grid_column": null,
            "overflow_y": null,
            "overflow_x": null,
            "grid_auto_flow": null,
            "grid_area": null,
            "grid_template_columns": null,
            "flex": null,
            "_model_name": "LayoutModel",
            "justify_items": null,
            "grid_row": null,
            "max_height": null,
            "align_content": null,
            "visibility": null,
            "align_self": null,
            "height": null,
            "min_height": null,
            "padding": null,
            "grid_auto_rows": null,
            "grid_gap": null,
            "max_width": null,
            "order": null,
            "_view_module_version": "1.2.0",
            "grid_template_areas": null,
            "object_position": null,
            "object_fit": null,
            "grid_auto_columns": null,
            "margin": null,
            "display": null,
            "left": null
          }
        },
        "6a1bde2ba14f4e1cbdd4f0bdc04b966a": {
          "model_module": "@jupyter-widgets/controls",
          "model_name": "HBoxModel",
          "state": {
            "_view_name": "HBoxView",
            "_dom_classes": [],
            "_model_name": "HBoxModel",
            "_view_module": "@jupyter-widgets/controls",
            "_model_module_version": "1.5.0",
            "_view_count": null,
            "_view_module_version": "1.5.0",
            "box_style": "",
            "layout": "IPY_MODEL_92ece37b7ea84280a6efd81f3439209f",
            "_model_module": "@jupyter-widgets/controls",
            "children": [
              "IPY_MODEL_e3791faff38e4f53bbc7d5b84725bb6a",
              "IPY_MODEL_54118f79153c41e1a9973b70e792c7ae"
            ]
          }
        },
        "92ece37b7ea84280a6efd81f3439209f": {
          "model_module": "@jupyter-widgets/base",
          "model_name": "LayoutModel",
          "state": {
            "_view_name": "LayoutView",
            "grid_template_rows": null,
            "right": null,
            "justify_content": null,
            "_view_module": "@jupyter-widgets/base",
            "overflow": null,
            "_model_module_version": "1.2.0",
            "_view_count": null,
            "flex_flow": null,
            "width": null,
            "min_width": null,
            "border": null,
            "align_items": null,
            "bottom": null,
            "_model_module": "@jupyter-widgets/base",
            "top": null,
            "grid_column": null,
            "overflow_y": null,
            "overflow_x": null,
            "grid_auto_flow": null,
            "grid_area": null,
            "grid_template_columns": null,
            "flex": null,
            "_model_name": "LayoutModel",
            "justify_items": null,
            "grid_row": null,
            "max_height": null,
            "align_content": null,
            "visibility": null,
            "align_self": null,
            "height": null,
            "min_height": null,
            "padding": null,
            "grid_auto_rows": null,
            "grid_gap": null,
            "max_width": null,
            "order": null,
            "_view_module_version": "1.2.0",
            "grid_template_areas": null,
            "object_position": null,
            "object_fit": null,
            "grid_auto_columns": null,
            "margin": null,
            "display": null,
            "left": null
          }
        },
        "e3791faff38e4f53bbc7d5b84725bb6a": {
          "model_module": "@jupyter-widgets/controls",
          "model_name": "FloatProgressModel",
          "state": {
            "_view_name": "ProgressView",
            "style": "IPY_MODEL_6ba5dcf10d12421d83259c34ee3bb1b9",
            "_dom_classes": [],
            "description": "100%",
            "_model_name": "FloatProgressModel",
            "bar_style": "success",
            "max": 1051,
            "_view_module": "@jupyter-widgets/controls",
            "_model_module_version": "1.5.0",
            "value": 1051,
            "_view_count": null,
            "_view_module_version": "1.5.0",
            "orientation": "horizontal",
            "min": 0,
            "description_tooltip": null,
            "_model_module": "@jupyter-widgets/controls",
            "layout": "IPY_MODEL_8a11a1780b634e58a83134a26c6b7815"
          }
        },
        "54118f79153c41e1a9973b70e792c7ae": {
          "model_module": "@jupyter-widgets/controls",
          "model_name": "HTMLModel",
          "state": {
            "_view_name": "HTMLView",
            "style": "IPY_MODEL_0c816419d36d4801b2dd7a6aedb81a5b",
            "_dom_classes": [],
            "description": "",
            "_model_name": "HTMLModel",
            "placeholder": "​",
            "_view_module": "@jupyter-widgets/controls",
            "_model_module_version": "1.5.0",
            "value": " 1051/1051 [19:54&lt;00:00,  1.14s/it]",
            "_view_count": null,
            "_view_module_version": "1.5.0",
            "description_tooltip": null,
            "_model_module": "@jupyter-widgets/controls",
            "layout": "IPY_MODEL_355f2365eb164c9681f8d738cff28ca5"
          }
        },
        "6ba5dcf10d12421d83259c34ee3bb1b9": {
          "model_module": "@jupyter-widgets/controls",
          "model_name": "ProgressStyleModel",
          "state": {
            "_view_name": "StyleView",
            "_model_name": "ProgressStyleModel",
            "description_width": "initial",
            "_view_module": "@jupyter-widgets/base",
            "_model_module_version": "1.5.0",
            "_view_count": null,
            "_view_module_version": "1.2.0",
            "bar_color": null,
            "_model_module": "@jupyter-widgets/controls"
          }
        },
        "8a11a1780b634e58a83134a26c6b7815": {
          "model_module": "@jupyter-widgets/base",
          "model_name": "LayoutModel",
          "state": {
            "_view_name": "LayoutView",
            "grid_template_rows": null,
            "right": null,
            "justify_content": null,
            "_view_module": "@jupyter-widgets/base",
            "overflow": null,
            "_model_module_version": "1.2.0",
            "_view_count": null,
            "flex_flow": null,
            "width": null,
            "min_width": null,
            "border": null,
            "align_items": null,
            "bottom": null,
            "_model_module": "@jupyter-widgets/base",
            "top": null,
            "grid_column": null,
            "overflow_y": null,
            "overflow_x": null,
            "grid_auto_flow": null,
            "grid_area": null,
            "grid_template_columns": null,
            "flex": null,
            "_model_name": "LayoutModel",
            "justify_items": null,
            "grid_row": null,
            "max_height": null,
            "align_content": null,
            "visibility": null,
            "align_self": null,
            "height": null,
            "min_height": null,
            "padding": null,
            "grid_auto_rows": null,
            "grid_gap": null,
            "max_width": null,
            "order": null,
            "_view_module_version": "1.2.0",
            "grid_template_areas": null,
            "object_position": null,
            "object_fit": null,
            "grid_auto_columns": null,
            "margin": null,
            "display": null,
            "left": null
          }
        },
        "0c816419d36d4801b2dd7a6aedb81a5b": {
          "model_module": "@jupyter-widgets/controls",
          "model_name": "DescriptionStyleModel",
          "state": {
            "_view_name": "StyleView",
            "_model_name": "DescriptionStyleModel",
            "description_width": "",
            "_view_module": "@jupyter-widgets/base",
            "_model_module_version": "1.5.0",
            "_view_count": null,
            "_view_module_version": "1.2.0",
            "_model_module": "@jupyter-widgets/controls"
          }
        },
        "355f2365eb164c9681f8d738cff28ca5": {
          "model_module": "@jupyter-widgets/base",
          "model_name": "LayoutModel",
          "state": {
            "_view_name": "LayoutView",
            "grid_template_rows": null,
            "right": null,
            "justify_content": null,
            "_view_module": "@jupyter-widgets/base",
            "overflow": null,
            "_model_module_version": "1.2.0",
            "_view_count": null,
            "flex_flow": null,
            "width": null,
            "min_width": null,
            "border": null,
            "align_items": null,
            "bottom": null,
            "_model_module": "@jupyter-widgets/base",
            "top": null,
            "grid_column": null,
            "overflow_y": null,
            "overflow_x": null,
            "grid_auto_flow": null,
            "grid_area": null,
            "grid_template_columns": null,
            "flex": null,
            "_model_name": "LayoutModel",
            "justify_items": null,
            "grid_row": null,
            "max_height": null,
            "align_content": null,
            "visibility": null,
            "align_self": null,
            "height": null,
            "min_height": null,
            "padding": null,
            "grid_auto_rows": null,
            "grid_gap": null,
            "max_width": null,
            "order": null,
            "_view_module_version": "1.2.0",
            "grid_template_areas": null,
            "object_position": null,
            "object_fit": null,
            "grid_auto_columns": null,
            "margin": null,
            "display": null,
            "left": null
          }
        },
        "667c8d845f554c0298f425a788435d6f": {
          "model_module": "@jupyter-widgets/controls",
          "model_name": "HBoxModel",
          "state": {
            "_view_name": "HBoxView",
            "_dom_classes": [],
            "_model_name": "HBoxModel",
            "_view_module": "@jupyter-widgets/controls",
            "_model_module_version": "1.5.0",
            "_view_count": null,
            "_view_module_version": "1.5.0",
            "box_style": "",
            "layout": "IPY_MODEL_7a231abb02504c809becfe9b75e2e811",
            "_model_module": "@jupyter-widgets/controls",
            "children": [
              "IPY_MODEL_344fe06bf3fc41eb908fd65741ee82d2",
              "IPY_MODEL_a74af1f2c5ae4cfda6b1f6f2a7b6f8d0"
            ]
          }
        },
        "7a231abb02504c809becfe9b75e2e811": {
          "model_module": "@jupyter-widgets/base",
          "model_name": "LayoutModel",
          "state": {
            "_view_name": "LayoutView",
            "grid_template_rows": null,
            "right": null,
            "justify_content": null,
            "_view_module": "@jupyter-widgets/base",
            "overflow": null,
            "_model_module_version": "1.2.0",
            "_view_count": null,
            "flex_flow": null,
            "width": null,
            "min_width": null,
            "border": null,
            "align_items": null,
            "bottom": null,
            "_model_module": "@jupyter-widgets/base",
            "top": null,
            "grid_column": null,
            "overflow_y": null,
            "overflow_x": null,
            "grid_auto_flow": null,
            "grid_area": null,
            "grid_template_columns": null,
            "flex": null,
            "_model_name": "LayoutModel",
            "justify_items": null,
            "grid_row": null,
            "max_height": null,
            "align_content": null,
            "visibility": null,
            "align_self": null,
            "height": null,
            "min_height": null,
            "padding": null,
            "grid_auto_rows": null,
            "grid_gap": null,
            "max_width": null,
            "order": null,
            "_view_module_version": "1.2.0",
            "grid_template_areas": null,
            "object_position": null,
            "object_fit": null,
            "grid_auto_columns": null,
            "margin": null,
            "display": null,
            "left": null
          }
        },
        "344fe06bf3fc41eb908fd65741ee82d2": {
          "model_module": "@jupyter-widgets/controls",
          "model_name": "FloatProgressModel",
          "state": {
            "_view_name": "ProgressView",
            "style": "IPY_MODEL_0cceed875a714317bb40a38e24c031b5",
            "_dom_classes": [],
            "description": "100%",
            "_model_name": "FloatProgressModel",
            "bar_style": "success",
            "max": 748,
            "_view_module": "@jupyter-widgets/controls",
            "_model_module_version": "1.5.0",
            "value": 748,
            "_view_count": null,
            "_view_module_version": "1.5.0",
            "orientation": "horizontal",
            "min": 0,
            "description_tooltip": null,
            "_model_module": "@jupyter-widgets/controls",
            "layout": "IPY_MODEL_489e241514ed4f2fa5243eff822d790b"
          }
        },
        "a74af1f2c5ae4cfda6b1f6f2a7b6f8d0": {
          "model_module": "@jupyter-widgets/controls",
          "model_name": "HTMLModel",
          "state": {
            "_view_name": "HTMLView",
            "style": "IPY_MODEL_c6abe26705a344fd9a6f454690d26e74",
            "_dom_classes": [],
            "description": "",
            "_model_name": "HTMLModel",
            "placeholder": "​",
            "_view_module": "@jupyter-widgets/controls",
            "_model_module_version": "1.5.0",
            "value": " 748/748 [00:12&lt;00:00, 58.19it/s]",
            "_view_count": null,
            "_view_module_version": "1.5.0",
            "description_tooltip": null,
            "_model_module": "@jupyter-widgets/controls",
            "layout": "IPY_MODEL_3a2cf49f2ad743a998bbe328b2b58164"
          }
        },
        "0cceed875a714317bb40a38e24c031b5": {
          "model_module": "@jupyter-widgets/controls",
          "model_name": "ProgressStyleModel",
          "state": {
            "_view_name": "StyleView",
            "_model_name": "ProgressStyleModel",
            "description_width": "initial",
            "_view_module": "@jupyter-widgets/base",
            "_model_module_version": "1.5.0",
            "_view_count": null,
            "_view_module_version": "1.2.0",
            "bar_color": null,
            "_model_module": "@jupyter-widgets/controls"
          }
        },
        "489e241514ed4f2fa5243eff822d790b": {
          "model_module": "@jupyter-widgets/base",
          "model_name": "LayoutModel",
          "state": {
            "_view_name": "LayoutView",
            "grid_template_rows": null,
            "right": null,
            "justify_content": null,
            "_view_module": "@jupyter-widgets/base",
            "overflow": null,
            "_model_module_version": "1.2.0",
            "_view_count": null,
            "flex_flow": null,
            "width": null,
            "min_width": null,
            "border": null,
            "align_items": null,
            "bottom": null,
            "_model_module": "@jupyter-widgets/base",
            "top": null,
            "grid_column": null,
            "overflow_y": null,
            "overflow_x": null,
            "grid_auto_flow": null,
            "grid_area": null,
            "grid_template_columns": null,
            "flex": null,
            "_model_name": "LayoutModel",
            "justify_items": null,
            "grid_row": null,
            "max_height": null,
            "align_content": null,
            "visibility": null,
            "align_self": null,
            "height": null,
            "min_height": null,
            "padding": null,
            "grid_auto_rows": null,
            "grid_gap": null,
            "max_width": null,
            "order": null,
            "_view_module_version": "1.2.0",
            "grid_template_areas": null,
            "object_position": null,
            "object_fit": null,
            "grid_auto_columns": null,
            "margin": null,
            "display": null,
            "left": null
          }
        },
        "c6abe26705a344fd9a6f454690d26e74": {
          "model_module": "@jupyter-widgets/controls",
          "model_name": "DescriptionStyleModel",
          "state": {
            "_view_name": "StyleView",
            "_model_name": "DescriptionStyleModel",
            "description_width": "",
            "_view_module": "@jupyter-widgets/base",
            "_model_module_version": "1.5.0",
            "_view_count": null,
            "_view_module_version": "1.2.0",
            "_model_module": "@jupyter-widgets/controls"
          }
        },
        "3a2cf49f2ad743a998bbe328b2b58164": {
          "model_module": "@jupyter-widgets/base",
          "model_name": "LayoutModel",
          "state": {
            "_view_name": "LayoutView",
            "grid_template_rows": null,
            "right": null,
            "justify_content": null,
            "_view_module": "@jupyter-widgets/base",
            "overflow": null,
            "_model_module_version": "1.2.0",
            "_view_count": null,
            "flex_flow": null,
            "width": null,
            "min_width": null,
            "border": null,
            "align_items": null,
            "bottom": null,
            "_model_module": "@jupyter-widgets/base",
            "top": null,
            "grid_column": null,
            "overflow_y": null,
            "overflow_x": null,
            "grid_auto_flow": null,
            "grid_area": null,
            "grid_template_columns": null,
            "flex": null,
            "_model_name": "LayoutModel",
            "justify_items": null,
            "grid_row": null,
            "max_height": null,
            "align_content": null,
            "visibility": null,
            "align_self": null,
            "height": null,
            "min_height": null,
            "padding": null,
            "grid_auto_rows": null,
            "grid_gap": null,
            "max_width": null,
            "order": null,
            "_view_module_version": "1.2.0",
            "grid_template_areas": null,
            "object_position": null,
            "object_fit": null,
            "grid_auto_columns": null,
            "margin": null,
            "display": null,
            "left": null
          }
        },
        "ac42d0d1452e464ca1d006ddfed5cd4c": {
          "model_module": "@jupyter-widgets/controls",
          "model_name": "HBoxModel",
          "state": {
            "_view_name": "HBoxView",
            "_dom_classes": [],
            "_model_name": "HBoxModel",
            "_view_module": "@jupyter-widgets/controls",
            "_model_module_version": "1.5.0",
            "_view_count": null,
            "_view_module_version": "1.5.0",
            "box_style": "",
            "layout": "IPY_MODEL_f89b4d4d35094906be2a0bde4dd102bf",
            "_model_module": "@jupyter-widgets/controls",
            "children": [
              "IPY_MODEL_380d2a69f8f74774a93c1e57fea55005",
              "IPY_MODEL_4776438a711e4447bc36939c52f403f3"
            ]
          }
        },
        "f89b4d4d35094906be2a0bde4dd102bf": {
          "model_module": "@jupyter-widgets/base",
          "model_name": "LayoutModel",
          "state": {
            "_view_name": "LayoutView",
            "grid_template_rows": null,
            "right": null,
            "justify_content": null,
            "_view_module": "@jupyter-widgets/base",
            "overflow": null,
            "_model_module_version": "1.2.0",
            "_view_count": null,
            "flex_flow": null,
            "width": null,
            "min_width": null,
            "border": null,
            "align_items": null,
            "bottom": null,
            "_model_module": "@jupyter-widgets/base",
            "top": null,
            "grid_column": null,
            "overflow_y": null,
            "overflow_x": null,
            "grid_auto_flow": null,
            "grid_area": null,
            "grid_template_columns": null,
            "flex": null,
            "_model_name": "LayoutModel",
            "justify_items": null,
            "grid_row": null,
            "max_height": null,
            "align_content": null,
            "visibility": null,
            "align_self": null,
            "height": null,
            "min_height": null,
            "padding": null,
            "grid_auto_rows": null,
            "grid_gap": null,
            "max_width": null,
            "order": null,
            "_view_module_version": "1.2.0",
            "grid_template_areas": null,
            "object_position": null,
            "object_fit": null,
            "grid_auto_columns": null,
            "margin": null,
            "display": null,
            "left": null
          }
        },
        "380d2a69f8f74774a93c1e57fea55005": {
          "model_module": "@jupyter-widgets/controls",
          "model_name": "FloatProgressModel",
          "state": {
            "_view_name": "ProgressView",
            "style": "IPY_MODEL_4a6031d9459d4734ac994b1ec5d56d6e",
            "_dom_classes": [],
            "description": "100%",
            "_model_name": "FloatProgressModel",
            "bar_style": "success",
            "max": 748,
            "_view_module": "@jupyter-widgets/controls",
            "_model_module_version": "1.5.0",
            "value": 748,
            "_view_count": null,
            "_view_module_version": "1.5.0",
            "orientation": "horizontal",
            "min": 0,
            "description_tooltip": null,
            "_model_module": "@jupyter-widgets/controls",
            "layout": "IPY_MODEL_9d18084523824bb9a107a051bf1a15a3"
          }
        },
        "4776438a711e4447bc36939c52f403f3": {
          "model_module": "@jupyter-widgets/controls",
          "model_name": "HTMLModel",
          "state": {
            "_view_name": "HTMLView",
            "style": "IPY_MODEL_96c9d25afc1c403285dbe10df398af9d",
            "_dom_classes": [],
            "description": "",
            "_model_name": "HTMLModel",
            "placeholder": "​",
            "_view_module": "@jupyter-widgets/controls",
            "_model_module_version": "1.5.0",
            "value": " 748/748 [05:02&lt;00:00,  2.47it/s]",
            "_view_count": null,
            "_view_module_version": "1.5.0",
            "description_tooltip": null,
            "_model_module": "@jupyter-widgets/controls",
            "layout": "IPY_MODEL_c71354e9fe594fa889e88dbe2f48933c"
          }
        },
        "4a6031d9459d4734ac994b1ec5d56d6e": {
          "model_module": "@jupyter-widgets/controls",
          "model_name": "ProgressStyleModel",
          "state": {
            "_view_name": "StyleView",
            "_model_name": "ProgressStyleModel",
            "description_width": "initial",
            "_view_module": "@jupyter-widgets/base",
            "_model_module_version": "1.5.0",
            "_view_count": null,
            "_view_module_version": "1.2.0",
            "bar_color": null,
            "_model_module": "@jupyter-widgets/controls"
          }
        },
        "9d18084523824bb9a107a051bf1a15a3": {
          "model_module": "@jupyter-widgets/base",
          "model_name": "LayoutModel",
          "state": {
            "_view_name": "LayoutView",
            "grid_template_rows": null,
            "right": null,
            "justify_content": null,
            "_view_module": "@jupyter-widgets/base",
            "overflow": null,
            "_model_module_version": "1.2.0",
            "_view_count": null,
            "flex_flow": null,
            "width": null,
            "min_width": null,
            "border": null,
            "align_items": null,
            "bottom": null,
            "_model_module": "@jupyter-widgets/base",
            "top": null,
            "grid_column": null,
            "overflow_y": null,
            "overflow_x": null,
            "grid_auto_flow": null,
            "grid_area": null,
            "grid_template_columns": null,
            "flex": null,
            "_model_name": "LayoutModel",
            "justify_items": null,
            "grid_row": null,
            "max_height": null,
            "align_content": null,
            "visibility": null,
            "align_self": null,
            "height": null,
            "min_height": null,
            "padding": null,
            "grid_auto_rows": null,
            "grid_gap": null,
            "max_width": null,
            "order": null,
            "_view_module_version": "1.2.0",
            "grid_template_areas": null,
            "object_position": null,
            "object_fit": null,
            "grid_auto_columns": null,
            "margin": null,
            "display": null,
            "left": null
          }
        },
        "96c9d25afc1c403285dbe10df398af9d": {
          "model_module": "@jupyter-widgets/controls",
          "model_name": "DescriptionStyleModel",
          "state": {
            "_view_name": "StyleView",
            "_model_name": "DescriptionStyleModel",
            "description_width": "",
            "_view_module": "@jupyter-widgets/base",
            "_model_module_version": "1.5.0",
            "_view_count": null,
            "_view_module_version": "1.2.0",
            "_model_module": "@jupyter-widgets/controls"
          }
        },
        "c71354e9fe594fa889e88dbe2f48933c": {
          "model_module": "@jupyter-widgets/base",
          "model_name": "LayoutModel",
          "state": {
            "_view_name": "LayoutView",
            "grid_template_rows": null,
            "right": null,
            "justify_content": null,
            "_view_module": "@jupyter-widgets/base",
            "overflow": null,
            "_model_module_version": "1.2.0",
            "_view_count": null,
            "flex_flow": null,
            "width": null,
            "min_width": null,
            "border": null,
            "align_items": null,
            "bottom": null,
            "_model_module": "@jupyter-widgets/base",
            "top": null,
            "grid_column": null,
            "overflow_y": null,
            "overflow_x": null,
            "grid_auto_flow": null,
            "grid_area": null,
            "grid_template_columns": null,
            "flex": null,
            "_model_name": "LayoutModel",
            "justify_items": null,
            "grid_row": null,
            "max_height": null,
            "align_content": null,
            "visibility": null,
            "align_self": null,
            "height": null,
            "min_height": null,
            "padding": null,
            "grid_auto_rows": null,
            "grid_gap": null,
            "max_width": null,
            "order": null,
            "_view_module_version": "1.2.0",
            "grid_template_areas": null,
            "object_position": null,
            "object_fit": null,
            "grid_auto_columns": null,
            "margin": null,
            "display": null,
            "left": null
          }
        },
        "f2c7a1b8fa394d35ad38730058323286": {
          "model_module": "@jupyter-widgets/controls",
          "model_name": "HBoxModel",
          "state": {
            "_view_name": "HBoxView",
            "_dom_classes": [],
            "_model_name": "HBoxModel",
            "_view_module": "@jupyter-widgets/controls",
            "_model_module_version": "1.5.0",
            "_view_count": null,
            "_view_module_version": "1.5.0",
            "box_style": "",
            "layout": "IPY_MODEL_ff9041607a8f4fe58e61cf56e1382d1d",
            "_model_module": "@jupyter-widgets/controls",
            "children": [
              "IPY_MODEL_b77ebdf673b94e41b49142538e6280ee",
              "IPY_MODEL_08505a8b822342dfb739369bd34cd20a"
            ]
          }
        },
        "ff9041607a8f4fe58e61cf56e1382d1d": {
          "model_module": "@jupyter-widgets/base",
          "model_name": "LayoutModel",
          "state": {
            "_view_name": "LayoutView",
            "grid_template_rows": null,
            "right": null,
            "justify_content": null,
            "_view_module": "@jupyter-widgets/base",
            "overflow": null,
            "_model_module_version": "1.2.0",
            "_view_count": null,
            "flex_flow": null,
            "width": null,
            "min_width": null,
            "border": null,
            "align_items": null,
            "bottom": null,
            "_model_module": "@jupyter-widgets/base",
            "top": null,
            "grid_column": null,
            "overflow_y": null,
            "overflow_x": null,
            "grid_auto_flow": null,
            "grid_area": null,
            "grid_template_columns": null,
            "flex": null,
            "_model_name": "LayoutModel",
            "justify_items": null,
            "grid_row": null,
            "max_height": null,
            "align_content": null,
            "visibility": null,
            "align_self": null,
            "height": null,
            "min_height": null,
            "padding": null,
            "grid_auto_rows": null,
            "grid_gap": null,
            "max_width": null,
            "order": null,
            "_view_module_version": "1.2.0",
            "grid_template_areas": null,
            "object_position": null,
            "object_fit": null,
            "grid_auto_columns": null,
            "margin": null,
            "display": null,
            "left": null
          }
        },
        "b77ebdf673b94e41b49142538e6280ee": {
          "model_module": "@jupyter-widgets/controls",
          "model_name": "FloatProgressModel",
          "state": {
            "_view_name": "ProgressView",
            "style": "IPY_MODEL_9292cc3613b4468daff4391a105a4bfb",
            "_dom_classes": [],
            "description": "100%",
            "_model_name": "FloatProgressModel",
            "bar_style": "success",
            "max": 1,
            "_view_module": "@jupyter-widgets/controls",
            "_model_module_version": "1.5.0",
            "value": 1,
            "_view_count": null,
            "_view_module_version": "1.5.0",
            "orientation": "horizontal",
            "min": 0,
            "description_tooltip": null,
            "_model_module": "@jupyter-widgets/controls",
            "layout": "IPY_MODEL_ee18d1aace0d46f5a82baec317c17d62"
          }
        },
        "08505a8b822342dfb739369bd34cd20a": {
          "model_module": "@jupyter-widgets/controls",
          "model_name": "HTMLModel",
          "state": {
            "_view_name": "HTMLView",
            "style": "IPY_MODEL_a30a4e1bcca547028ccf6cc284ec9801",
            "_dom_classes": [],
            "description": "",
            "_model_name": "HTMLModel",
            "placeholder": "​",
            "_view_module": "@jupyter-widgets/controls",
            "_model_module_version": "1.5.0",
            "value": " 1/1 [00:00&lt;00:00,  1.30it/s]",
            "_view_count": null,
            "_view_module_version": "1.5.0",
            "description_tooltip": null,
            "_model_module": "@jupyter-widgets/controls",
            "layout": "IPY_MODEL_54194a96102c4bbea4e32ea5d4a1c265"
          }
        },
        "9292cc3613b4468daff4391a105a4bfb": {
          "model_module": "@jupyter-widgets/controls",
          "model_name": "ProgressStyleModel",
          "state": {
            "_view_name": "StyleView",
            "_model_name": "ProgressStyleModel",
            "description_width": "initial",
            "_view_module": "@jupyter-widgets/base",
            "_model_module_version": "1.5.0",
            "_view_count": null,
            "_view_module_version": "1.2.0",
            "bar_color": null,
            "_model_module": "@jupyter-widgets/controls"
          }
        },
        "ee18d1aace0d46f5a82baec317c17d62": {
          "model_module": "@jupyter-widgets/base",
          "model_name": "LayoutModel",
          "state": {
            "_view_name": "LayoutView",
            "grid_template_rows": null,
            "right": null,
            "justify_content": null,
            "_view_module": "@jupyter-widgets/base",
            "overflow": null,
            "_model_module_version": "1.2.0",
            "_view_count": null,
            "flex_flow": null,
            "width": null,
            "min_width": null,
            "border": null,
            "align_items": null,
            "bottom": null,
            "_model_module": "@jupyter-widgets/base",
            "top": null,
            "grid_column": null,
            "overflow_y": null,
            "overflow_x": null,
            "grid_auto_flow": null,
            "grid_area": null,
            "grid_template_columns": null,
            "flex": null,
            "_model_name": "LayoutModel",
            "justify_items": null,
            "grid_row": null,
            "max_height": null,
            "align_content": null,
            "visibility": null,
            "align_self": null,
            "height": null,
            "min_height": null,
            "padding": null,
            "grid_auto_rows": null,
            "grid_gap": null,
            "max_width": null,
            "order": null,
            "_view_module_version": "1.2.0",
            "grid_template_areas": null,
            "object_position": null,
            "object_fit": null,
            "grid_auto_columns": null,
            "margin": null,
            "display": null,
            "left": null
          }
        },
        "a30a4e1bcca547028ccf6cc284ec9801": {
          "model_module": "@jupyter-widgets/controls",
          "model_name": "DescriptionStyleModel",
          "state": {
            "_view_name": "StyleView",
            "_model_name": "DescriptionStyleModel",
            "description_width": "",
            "_view_module": "@jupyter-widgets/base",
            "_model_module_version": "1.5.0",
            "_view_count": null,
            "_view_module_version": "1.2.0",
            "_model_module": "@jupyter-widgets/controls"
          }
        },
        "54194a96102c4bbea4e32ea5d4a1c265": {
          "model_module": "@jupyter-widgets/base",
          "model_name": "LayoutModel",
          "state": {
            "_view_name": "LayoutView",
            "grid_template_rows": null,
            "right": null,
            "justify_content": null,
            "_view_module": "@jupyter-widgets/base",
            "overflow": null,
            "_model_module_version": "1.2.0",
            "_view_count": null,
            "flex_flow": null,
            "width": null,
            "min_width": null,
            "border": null,
            "align_items": null,
            "bottom": null,
            "_model_module": "@jupyter-widgets/base",
            "top": null,
            "grid_column": null,
            "overflow_y": null,
            "overflow_x": null,
            "grid_auto_flow": null,
            "grid_area": null,
            "grid_template_columns": null,
            "flex": null,
            "_model_name": "LayoutModel",
            "justify_items": null,
            "grid_row": null,
            "max_height": null,
            "align_content": null,
            "visibility": null,
            "align_self": null,
            "height": null,
            "min_height": null,
            "padding": null,
            "grid_auto_rows": null,
            "grid_gap": null,
            "max_width": null,
            "order": null,
            "_view_module_version": "1.2.0",
            "grid_template_areas": null,
            "object_position": null,
            "object_fit": null,
            "grid_auto_columns": null,
            "margin": null,
            "display": null,
            "left": null
          }
        }
      }
    }
  },
  "cells": [
    {
      "cell_type": "code",
      "metadata": {
        "colab": {
          "base_uri": "https://localhost:8080/"
        },
        "id": "zhlxCYdu05l0",
        "outputId": "82aee0dd-8d1c-407c-926e-b697acf84bb0"
      },
      "source": [
        "from google.colab import drive\n",
        "drive.mount('/content/drive', force_remount=True)"
      ],
      "execution_count": 1,
      "outputs": [
        {
          "output_type": "stream",
          "text": [
            "Mounted at /content/drive\n"
          ],
          "name": "stdout"
        }
      ]
    },
    {
      "cell_type": "code",
      "metadata": {
        "id": "6yhEmDBX1Jg-"
      },
      "source": [
        "%load_ext autoreload\n",
        "%autoreload 2"
      ],
      "execution_count": null,
      "outputs": []
    },
    {
      "cell_type": "code",
      "metadata": {
        "id": "_c9DF7p31UDW"
      },
      "source": [
        "import json\n",
        "import pickle\n",
        "import numpy as np\n",
        "from tqdm.notebook import trange, tqdm\n",
        "from sklearn.preprocessing import StandardScaler\n",
        "from sklearn.linear_model import LogisticRegression, SGDClassifier\n",
        "from sklearn.metrics import precision_recall_curve\n",
        "from sklearn.metrics import roc_curve, auc\n",
        "from sklearn.metrics import accuracy_score\n",
        "\n",
        "import torch\n",
        "import torch.nn as nn\n",
        "from torch.utils import data\n",
        "import copy\n",
        "from sklearn.model_selection import RandomizedSearchCV\n",
        "from scipy.stats import uniform"
      ],
      "execution_count": null,
      "outputs": []
    },
    {
      "cell_type": "code",
      "metadata": {
        "colab": {
          "base_uri": "https://localhost:8080/",
          "height": 70
        },
        "id": "v8f7-F5K1XmI",
        "outputId": "9c3a7945-17df-4cd5-bf11-74b0d465526f"
      },
      "source": [
        "import numpy as np\n",
        "import re\n",
        "import string\n",
        "import os.path\n",
        "from sklearn.feature_extraction.text import TfidfVectorizer\n",
        "from sklearn.base import BaseEstimator, TransformerMixin\n",
        "from sklearn.pipeline import FeatureUnion\n",
        "import nltk\n",
        "from nltk.corpus import stopwords\n",
        "from itertools import chain\n",
        "from nltk.tag.perceptron import PerceptronTagger\n",
        "from nltk.corpus import conll2000\n",
        "import pickle\n",
        "import nltk\n",
        "import nltk.data\n",
        "\n",
        "from plotly.offline import init_notebook_mode\n",
        "import plotly.offline as py\n",
        "import plotly.graph_objects as go\n",
        "import plotly.express as px\n",
        "init_notebook_mode(connected=True)\n",
        "import nltk\n",
        "nltk.download('content')"
      ],
      "execution_count": null,
      "outputs": [
        {
          "output_type": "display_data",
          "data": {
            "text/html": [
              "        <script type=\"text/javascript\">\n",
              "        window.PlotlyConfig = {MathJaxConfig: 'local'};\n",
              "        if (window.MathJax) {MathJax.Hub.Config({SVG: {font: \"STIX-Web\"}});}\n",
              "        if (typeof require !== 'undefined') {\n",
              "        require.undef(\"plotly\");\n",
              "        requirejs.config({\n",
              "            paths: {\n",
              "                'plotly': ['https://cdn.plot.ly/plotly-latest.min']\n",
              "            }\n",
              "        });\n",
              "        require(['plotly'], function(Plotly) {\n",
              "            window._Plotly = Plotly;\n",
              "        });\n",
              "        }\n",
              "        </script>\n",
              "        "
            ]
          },
          "metadata": {
            "tags": []
          }
        },
        {
          "output_type": "stream",
          "text": [
            "[nltk_data] Error loading content: Package 'content' not found in\n",
            "[nltk_data]     index\n"
          ],
          "name": "stdout"
        },
        {
          "output_type": "execute_result",
          "data": {
            "text/plain": [
              "False"
            ]
          },
          "metadata": {
            "tags": []
          },
          "execution_count": 4
        }
      ]
    },
    {
      "cell_type": "code",
      "metadata": {
        "colab": {
          "base_uri": "https://localhost:8080/"
        },
        "id": "sBgfUE1zYotr",
        "outputId": "d233846e-cd0f-4471-bb2e-5903290fd945"
      },
      "source": [
        "from google.colab import drive\n",
        "drive.mount('/content/drive')"
      ],
      "execution_count": null,
      "outputs": [
        {
          "output_type": "stream",
          "text": [
            "Drive already mounted at /content/drive; to attempt to forcibly remount, call drive.mount(\"/content/drive\", force_remount=True).\n"
          ],
          "name": "stdout"
        }
      ]
    },
    {
      "cell_type": "code",
      "metadata": {
        "id": "TMmh46JNQ0dN"
      },
      "source": [
        "PATH = '/content/drive/MyDrive/minor-project'"
      ],
      "execution_count": null,
      "outputs": []
    },
    {
      "cell_type": "code",
      "metadata": {
        "id": "W75rM_m81fT8"
      },
      "source": [
        "chunker_instance = None\n",
        "tokenizer = nltk.tokenize.TreebankWordTokenizer()\n",
        "tagger = nltk.data.load(PATH+\"/pos_tagger/treebank_brill_aubt.pickle\")\n",
        "\n",
        "grammar = r\"\"\"\n",
        "  NP: \n",
        "      {<DT|WDT|PP\\$|PRP\\$>?<\\#|CD>*(<JJ|JJS|JJR><VBG|VBN>?)*(<NN|NNS|NNP|NNPS>(<''><POS>)?)+}\n",
        "      {<DT|WDT|PP\\$|PRP\\$><JJ|JJS|JJR>*<CD>}\n",
        "      {<DT|WDT|PP\\$|PRP\\$>?<CD>?(<JJ|JJS|JJR><VBG>?)}\n",
        "      {<DT>?<PRP|PRP\\$>}\n",
        "      {<WP|WP\\$>}\n",
        "      {<DT|WDT>}\n",
        "      {<JJR>}\n",
        "      {<EX>}\n",
        "      {<CD>+}\n",
        "  VP: {<VBZ><VBG>}\n",
        "      {(<MD|TO|RB.*|VB|VBD|VBN|VBP|VBZ>)+}\n",
        "      \n",
        "\n",
        "\"\"\"\n",
        "\n",
        "def get_nltk_pos_tag_based_chunker():\n",
        "    global chunker_instance\n",
        "    if chunker_instance is not None:\n",
        "        return chunker_instance\n",
        "    chunker_instance = nltk.RegexpParser(grammar)\n",
        "    return chunker_instance\n",
        "\n",
        "    \n",
        "\n",
        "def chunk_to_str(chunk):\n",
        "    if type(chunk) is nltk.tree.Tree:\n",
        "        return chunk.label()\n",
        "    else:\n",
        "        return chunk[1]\n",
        "\n",
        "def extract_subtree_expansions(t, res):\n",
        "    if type(t) is nltk.tree.Tree:\n",
        "        expansion = t.label() + \"[\" + \" \".join([chunk_to_str(child) for child in t]) + \"]\"\n",
        "        res.append(expansion)\n",
        "        for child in t:\n",
        "            extract_subtree_expansions(child, res)\n",
        "            \n",
        "def nltk_pos_tag_chunk(pos_tags):\n",
        "    chunker = get_nltk_pos_tag_based_chunker()\n",
        "    parse_tree = chunker.parse(pos_tags)\n",
        "    subtree_expansions = []\n",
        "    for subt in parse_tree:\n",
        "        extract_subtree_expansions(subt, subtree_expansions)\n",
        "    return list(map(chunk_to_str, parse_tree)), subtree_expansions\n",
        "\n",
        "def prepare_entry(text):\n",
        "    tokens = []\n",
        "    # Workaround because there re some docuemtns that are repitions of the same word which causes the regex chunker to hang\n",
        "    prev_token = ''\n",
        "    for t in tokenizer.tokenize(text):\n",
        "        if t != prev_token:\n",
        "            tokens.append(t)\n",
        "    tagger_output = tagger.tag(tokens)\n",
        "    pos_tags = [t[1] for t in tagger_output]\n",
        "    pos_chunks, subtree_expansions = nltk_pos_tag_chunk(tagger_output)\n",
        "    entry = {\n",
        "        'preprocessed': text,\n",
        "        'pos_tags': pos_tags,\n",
        "        'pos_tag_chunks': pos_chunks,\n",
        "        'pos_tag_chunk_subtrees': subtree_expansions,\n",
        "        'tokens': tokens\n",
        "    }\n",
        "    return entry\n",
        "\n",
        "def word_count(entry):\n",
        "    return len(entry['tokens'])\n",
        "\n",
        "def avg_chars_per_word(entry):\n",
        "    r = np.mean([len(t) for t in entry['tokens']])\n",
        "    return r\n",
        "\n",
        "def distr_chars_per_word(entry, max_chars=10):\n",
        "    counts = [0] * max_chars\n",
        "    for t in entry['tokens']:\n",
        "        l = len(t)\n",
        "        if l <= max_chars:\n",
        "            counts[l - 1] += 1\n",
        "    r = [c/len(entry['tokens']) for c in counts]\n",
        "#     fnames = ['distr_chars_per_word_' + str(i + 1)  for i in range(max_chars)]\n",
        "    return r\n",
        "    \n",
        "def character_count(entry):\n",
        "    r = len(re.sub('\\s+', '', entry['preprocessed']))\n",
        "    return r\n",
        "\n",
        "\n",
        "#https://github.com/ashenoy95/writeprints-static/blob/master/whiteprints-static.py\n",
        "def hapax_legomena(entry):\n",
        "    freq = nltk.FreqDist(word for word in entry['tokens'])\n",
        "    hapax = [key for key, val in freq.items() if val == 1]\n",
        "    dis = [key for key, val in freq.items() if val == 2]\n",
        "    if len(dis) == 0 or len(entry['tokens']) == 0:\n",
        "        return 0\n",
        "    return (len(hapax) / len(dis)) / len(entry['tokens'])\n",
        "\n",
        "\n",
        "def pass_fn(x):\n",
        "    return x\n",
        "\n",
        "class CustomTfIdfTransformer(BaseEstimator, TransformerMixin):\n",
        "    \n",
        "    def __init__(self, key, analyzer, n=1, vocab=None):\n",
        "        self.key = key\n",
        "        if self.key == 'pos_tags' or self.key == 'tokens' or self.key == 'pos_tag_chunks' or self.key == 'pos_tag_chunk_subtrees':\n",
        "            self.vectorizer = TfidfVectorizer(analyzer=analyzer, min_df=0.1, tokenizer=pass_fn, preprocessor=pass_fn, vocabulary=vocab, norm='l1', ngram_range=(1, n))\n",
        "        else:\n",
        "            self.vectorizer = TfidfVectorizer(analyzer=analyzer, min_df=0.1, vocabulary=vocab, norm='l1', ngram_range=(1, n))\n",
        "\n",
        "    def fit(self, x, y=None):\n",
        "        self.vectorizer.fit([entry[self.key] for entry in x], y)\n",
        "        return self\n",
        "\n",
        "    def transform(self, x):\n",
        "        return self.vectorizer.transform([entry[self.key] for entry in x])\n",
        "    \n",
        "    def get_feature_names(self):\n",
        "        return self.vectorizer.get_feature_names()\n",
        "    \n",
        "    \n",
        "class CustomFreqTransformer(BaseEstimator, TransformerMixin):\n",
        "    \n",
        "    def __init__(self, analyzer, n=1, vocab=None):\n",
        "        self.vectorizer = TfidfVectorizer(tokenizer=pass_fn, preprocessor=pass_fn, vocabulary=vocab, norm=None, ngram_range=(1, n))\n",
        "\n",
        "    def fit(self, x, y=None):\n",
        "        self.vectorizer.fit([entry['tokens'] for entry in x], y)\n",
        "        return self\n",
        "\n",
        "    def transform(self, x):\n",
        "        d = np.array([1 + len(entry['tokens']) for entry in x])[:, None]\n",
        "        return self.vectorizer.transform([entry['tokens'] for entry in x]) / d\n",
        "    \n",
        "    def get_feature_names(self):\n",
        "        return self.vectorizer.get_feature_names()\n",
        "    \n",
        "    \n",
        "class CustomFuncTransformer(BaseEstimator, TransformerMixin):\n",
        "    def __init__(self, transformer_func, fnames=None):\n",
        "        self.transformer_func = transformer_func\n",
        "        self.fnames = fnames\n",
        "        \n",
        "    def fit(self, x, y=None):\n",
        "        return self;\n",
        "    \n",
        "    def transform(self, x):\n",
        "        xx = np.array([self.transformer_func(entry) for entry in x])\n",
        "        if len(xx.shape) == 1:\n",
        "            return xx[:, None]\n",
        "        else:\n",
        "            return xx\n",
        "    \n",
        "    def get_feature_names(self):\n",
        "        if self.fnames is None:\n",
        "            return ['']\n",
        "        else:\n",
        "            return self.fnames\n",
        "        \n",
        "        \n",
        "def get_writeprints_transformer():\n",
        "    char_distr = CustomTfIdfTransformer('preprocessed', 'char_wb', n=6)\n",
        "    word_distr = CustomTfIdfTransformer('preprocessed', 'word', n=3)\n",
        "    pos_tag_distr = CustomTfIdfTransformer('pos_tags', 'word', n=3)\n",
        "    pos_tag_chunks_distr = CustomTfIdfTransformer('pos_tag_chunks', 'word', n=3)\n",
        "    pos_tag_chunks_subtree_distr = CustomTfIdfTransformer('pos_tag_chunk_subtrees', 'word', n=1)\n",
        "    punctuation = '!\"#$%&\\'()*+,-./:;<=>?@[\\]^_`{¦}~'\n",
        "    special_char_distr = CustomTfIdfTransformer('preprocessed', 'char_wb', vocab=punctuation)\n",
        "    freq_func_words = CustomFreqTransformer('word', vocab=stopwords.words('english'))\n",
        "    \n",
        "    transformer = FeatureUnion([\n",
        "        ('char_distr', char_distr),\n",
        "        #('word_distr', word_distr),\n",
        "        ('pos_tag_distr', pos_tag_distr),\n",
        "        ('pos_tag_chunks_distr', pos_tag_chunks_distr),\n",
        "        ('pos_tag_chunks_subtree_distr', pos_tag_chunks_subtree_distr),\n",
        "        ('special_char_distr', special_char_distr),\n",
        "        ('freq_func_words', freq_func_words),\n",
        "        ('hapax_legomena', CustomFuncTransformer(hapax_legomena)),\n",
        "        ('character_count', CustomFuncTransformer(character_count)),\n",
        "        ('distr_chars_per_word', CustomFuncTransformer(distr_chars_per_word, fnames=[str(i) for i in range(10)])),\n",
        "        ('avg_chars_per_word', CustomFuncTransformer(avg_chars_per_word)),\n",
        "        ('word_count', CustomFuncTransformer(word_count))\n",
        "    ])\n",
        "    \n",
        "    return transformer"
      ],
      "execution_count": null,
      "outputs": []
    },
    {
      "cell_type": "code",
      "metadata": {
        "id": "K1FGOOiM1_EZ"
      },
      "source": [
        "import torch\n",
        "import torch.nn as nn\n",
        "from torch.utils import data\n",
        "\n",
        "# Fully connected neural network with one hidden layer\n",
        "class NeuralNet(nn.Module):\n",
        "    def __init__(self, input_size, hidden_size, num_classes, dropout_rate):\n",
        "        super(NeuralNet, self).__init__()\n",
        "        self.fc1 = nn.Linear(input_size, hidden_size) \n",
        "        self.relu = nn.ReLU()\n",
        "        self.fc2 = nn.Linear(hidden_size, num_classes)\n",
        "        self.batchnorm1 = nn.BatchNorm1d(hidden_size)\n",
        "        self.dropout = nn.Dropout(p=dropout_rate)\n",
        "        self.act = nn.Sigmoid()\n",
        "    \n",
        "    def forward(self, x):\n",
        "        out = self.fc1(x)\n",
        "        out = self.relu(out)\n",
        "        out = self.dropout(self.batchnorm1(out))\n",
        "        out = self.fc2(out)\n",
        "        out = self.act(out)\n",
        "        return out"
      ],
      "execution_count": null,
      "outputs": []
    },
    {
      "cell_type": "code",
      "metadata": {
        "id": "GFixvSCQ2JDP"
      },
      "source": [
        "# Load gound truth\n",
        "ground_truth = {}\n",
        "partition = {}\n",
        "with open( PATH+'/dataset-strata-truth.jsonl', 'r') as f:\n",
        "    for l in f:\n",
        "        d = json.loads(l)\n",
        "        ground_truth[d['id']] = d['same']\n",
        "        r = np.random.rand() # Gives value between [0-1)\n",
        "        if r < 0.7: # 70%\n",
        "            partition[d['id']] = 'train'\n",
        "        elif r < 0.85: # 15%\n",
        "            partition[d['id']] = 'val'\n",
        "        else: # 15%\n",
        "            partition[d['id']] = 'test'"
      ],
      "execution_count": null,
      "outputs": []
    },
    {
      "cell_type": "code",
      "metadata": {
        "id": "P1BjMkFs2NqF"
      },
      "source": [
        "# Split datasets in to three sets and assign random order for train set\n",
        "train_sz = len([v for v in partition.values() if v == 'train'])\n",
        "test_sz = len([v for v in partition.values() if v == 'test'])\n",
        "val_sz = len([v for v in partition.values() if v == 'val'])"
      ],
      "execution_count": null,
      "outputs": []
    },
    {
      "cell_type": "code",
      "metadata": {
        "colab": {
          "base_uri": "https://localhost:8080/",
          "height": 66,
          "referenced_widgets": [
            "55744e833b9744f5bb5c1843c8008215",
            "7539269707e84b648ec2bd502f3f9999",
            "aa44ea94a01e40bb8922588e6d796304",
            "68460b5a03ca41f0bd4a6ed8420a7b30",
            "97e3fddab03a4b55a8d0f3ba32b101c4",
            "7f58ad8dd6c5442996abad43d5e80f38",
            "658b6cee79934729b2fb602c63f0c080",
            "a531db0ee1ba43b1a703b8d74966f0f0"
          ]
        },
        "id": "sAQWzylbCRMH",
        "outputId": "042f923b-0310-4615-cb85-aff216873f8a"
      },
      "source": [
        "with open(PATH + '/dataset-strata.jsonl', 'r') as f,\\\n",
        "    open( PATH + '/val_dataset.jsonl', 'w') as val:\n",
        "    for l in tqdm(f, total=len(ground_truth)):\n",
        "        d = json.loads(l)\n",
        "        # e1 = prepare_entry(d['pair'][0])\n",
        "        # e2 = prepare_entry(d['pair'][1])\n",
        "        \n",
        "        if partition[d['id']] == 'test':\n",
        "            output_file = val\n",
        "            json.dump({'id': d['id'], 'fandoms': d['fandoms'], 'pair': d['pair']}, output_file)\n",
        "            output_file.write('\\n')"
      ],
      "execution_count": null,
      "outputs": [
        {
          "output_type": "display_data",
          "data": {
            "application/vnd.jupyter.widget-view+json": {
              "model_id": "55744e833b9744f5bb5c1843c8008215",
              "version_minor": 0,
              "version_major": 2
            },
            "text/plain": [
              "HBox(children=(FloatProgress(value=0.0, max=1051.0), HTML(value='')))"
            ]
          },
          "metadata": {
            "tags": []
          }
        },
        {
          "output_type": "stream",
          "text": [
            "\n"
          ],
          "name": "stdout"
        }
      ]
    },
    {
      "cell_type": "code",
      "metadata": {
        "colab": {
          "base_uri": "https://localhost:8080/",
          "height": 66,
          "referenced_widgets": [
            "5fbc6a74e8594535923bef0ba756791f",
            "12c6feae18c3455baccaa3d78a6e193c",
            "50d5d4c839214b499a7e1fb780c06fdc",
            "d287af6d1f604ac19de90641e0ab04b4",
            "37a597a8c1594a6292b8330b47a4136e",
            "4d176c3cf07748ad88b9f519a4767853",
            "b83ed64bde7c4e4d93e34b338f796415",
            "8f7f298e6ff54d4a8e588a9cd974a4d2"
          ]
        },
        "id": "AIIPMTza_gl7",
        "outputId": "c46e61ca-f3cd-422b-8fac-4febb17fd04f"
      },
      "source": [
        "with open(PATH + '/dataset-strata-truth.jsonl', 'r') as f,\\\n",
        "    open( PATH + '/op_ground_truth.jsonl', 'w') as val:\n",
        "    for l in tqdm(f, total=len(ground_truth)):\n",
        "        d = json.loads(l)\n",
        "        # e1 = prepare_entry(d['pair'][0])\n",
        "        # e2 = prepare_entry(d['pair'][1])\n",
        "        \n",
        "        if partition[d['id']] == 'test':\n",
        "            output_file = val\n",
        "            json.dump({'id': d['id'], 'same': d['same'], 'authors': d['authors']}, output_file)\n",
        "            output_file.write('\\n')"
      ],
      "execution_count": null,
      "outputs": [
        {
          "output_type": "display_data",
          "data": {
            "application/vnd.jupyter.widget-view+json": {
              "model_id": "5fbc6a74e8594535923bef0ba756791f",
              "version_minor": 0,
              "version_major": 2
            },
            "text/plain": [
              "HBox(children=(FloatProgress(value=0.0, max=1051.0), HTML(value='')))"
            ]
          },
          "metadata": {
            "tags": []
          }
        },
        {
          "output_type": "stream",
          "text": [
            "\n"
          ],
          "name": "stdout"
        }
      ]
    },
    {
      "cell_type": "code",
      "metadata": {
        "colab": {
          "base_uri": "https://localhost:8080/",
          "height": 66,
          "referenced_widgets": [
            "6a1bde2ba14f4e1cbdd4f0bdc04b966a",
            "92ece37b7ea84280a6efd81f3439209f",
            "e3791faff38e4f53bbc7d5b84725bb6a",
            "54118f79153c41e1a9973b70e792c7ae",
            "6ba5dcf10d12421d83259c34ee3bb1b9",
            "8a11a1780b634e58a83134a26c6b7815",
            "0c816419d36d4801b2dd7a6aedb81a5b",
            "355f2365eb164c9681f8d738cff28ca5"
          ]
        },
        "id": "mXFh9IXQ2nna",
        "outputId": "9648a3ee-0230-4fbe-da45-c20aef7fd645"
      },
      "source": [
        "# Preprocess data and split to files\n",
        "with open(PATH + '/dataset-strata.jsonl', 'r') as f,\\\n",
        "    open( PATH + '/process_docs_train.jsonl', 'w') as f_train,\\\n",
        "    open( PATH + '/process_docs_test.jsonl', 'w') as f_test,\\\n",
        "    open( PATH + '/process_docs_val.jsonl', 'w') as f_val:\n",
        "    for l in tqdm(f, total=len(ground_truth)):\n",
        "        d = json.loads(l)\n",
        "       \n",
        "        e1 = prepare_entry(d['pair'][0])\n",
        "        e2 = prepare_entry(d['pair'][1])\n",
        "        \n",
        "        if partition[d['id']] == 'train':\n",
        "            output_file = f_train\n",
        "        elif partition[d['id']] == 'test':\n",
        "            output_file = f_test\n",
        "        elif partition[d['id']] == 'val':\n",
        "            output_file = f_val\n",
        "        else:\n",
        "            raise('Invalid partition')\n",
        "        json.dump({'id': d['id'], 'doc1': e1, 'doc2': e2}, output_file)\n",
        "        output_file.write('\\n')\n",
        "    "
      ],
      "execution_count": null,
      "outputs": [
        {
          "output_type": "display_data",
          "data": {
            "application/vnd.jupyter.widget-view+json": {
              "model_id": "6a1bde2ba14f4e1cbdd4f0bdc04b966a",
              "version_minor": 0,
              "version_major": 2
            },
            "text/plain": [
              "HBox(children=(FloatProgress(value=0.0, max=1051.0), HTML(value='')))"
            ]
          },
          "metadata": {
            "tags": []
          }
        },
        {
          "output_type": "stream",
          "text": [
            "\n"
          ],
          "name": "stdout"
        }
      ]
    },
    {
      "cell_type": "code",
      "metadata": {
        "colab": {
          "base_uri": "https://localhost:8080/",
          "height": 66,
          "referenced_widgets": [
            "667c8d845f554c0298f425a788435d6f",
            "7a231abb02504c809becfe9b75e2e811",
            "344fe06bf3fc41eb908fd65741ee82d2",
            "a74af1f2c5ae4cfda6b1f6f2a7b6f8d0",
            "0cceed875a714317bb40a38e24c031b5",
            "489e241514ed4f2fa5243eff822d790b",
            "c6abe26705a344fd9a6f454690d26e74",
            "3a2cf49f2ad743a998bbe328b2b58164"
          ]
        },
        "id": "ggP_qMRc3yV3",
        "outputId": "4c2ca87c-8078-4a6d-f624-932aaaf58541"
      },
      "source": [
        "with open(PATH + '/process_docs_train.jsonl', 'r') as f:\n",
        "    docs = []\n",
        "    for l in tqdm(f, total=train_sz):\n",
        "#         Only retain a sample of records to train the transformer\n",
        "        if np.random.rand() > 0.5:\n",
        "            continue\n",
        "            \n",
        "        d = json.loads(l)\n",
        "        docs.append(d['doc1'])\n",
        "        docs.append(d['doc2'])"
      ],
      "execution_count": null,
      "outputs": [
        {
          "output_type": "display_data",
          "data": {
            "application/vnd.jupyter.widget-view+json": {
              "model_id": "667c8d845f554c0298f425a788435d6f",
              "version_minor": 0,
              "version_major": 2
            },
            "text/plain": [
              "HBox(children=(FloatProgress(value=0.0, max=748.0), HTML(value='')))"
            ]
          },
          "metadata": {
            "tags": []
          }
        },
        {
          "output_type": "stream",
          "text": [
            "\n"
          ],
          "name": "stdout"
        }
      ]
    },
    {
      "cell_type": "code",
      "metadata": {
        "colab": {
          "base_uri": "https://localhost:8080/"
        },
        "id": "YgdjvQHW4KdH",
        "outputId": "6a947ce7-9854-43a5-bd6e-44b01d04e0c2"
      },
      "source": [
        "print(docs[0])"
      ],
      "execution_count": null,
      "outputs": [
        {
          "output_type": "stream",
          "text": [
            "{'preprocessed': 'But I KNOW, not think, that I don\"t deserve Tohru. And it makes me painfully aware that Yuki needs her more that I do. I stopped in front of her door, to call her to dinner as I knocked my fist on the surface of the huge rectangular block of wood. \"Dinner.\" I called out, knowing that she would understand what I meant. Immediately, I heard some sniffling, footsteps, and some more sniffling before the door before me was opened. \"Ah, Kyou-kun,\" her sweet voice pronounced, hurriedly wiping her eyes with the back of her hand. I winced inwardly - her blue eyes were extremely bloodshot and tearstains can be definitely seen. Her hair was a mess, and her cheeks and nose were slightly pink, signaling that she really had been crying. \"C\"mon,\" I murmured to her, bringing my hand up to her face to wipe away a single tear. \"Don\"t cry, alright? Everything\"s gonna be okay.\" I tried to comfort her with words, but that wasn\"t my area. I brought my hand where it belonged, apparently beside me. \"Kyou-kun,\" she started, trying not to make her voice quiver. \"It\"s just that...I\"m really worried about Yuki-kun...It\"s been five days and he\" she sniffled a cry before continuing. \"He didn\"t call yet...\" \"I\"m sure he has his reasons.\" I reassured her. Yeah, that guy better have his reasons. \"C\"mon, let\"s go eat.\" That mouse would definitely get it from me. I hate seeing her like this. Shigure looked at the girl with a pitiful stare. Tohru\"s eyes were still bloodshot, and she was unusually quiet during the meal. \"Tohru-kun,\" Shigure started, holding his chopsticks in his palm. \"It\"s going to be alright. Only five days have passed, and I know Yuki\"s perfectly fine. Yuki can take care of himself.\" Shigure tried to deliver words of comfort to the distraught girl. Tohru tried on her best smile to shake off Shigure and Kyou\"s worried looks. \"Shigure-san, I\"m already okay.\" Tohru tried to say on her best cheery voice, but all else failed. She looked down on her food before continuing. \"I know Yuki-kun could take care of himself...\" The snowflakes slowly entered the Japanese-style decorated room, placing themselves on the bamboo floor before melting away. His lavender eyes stayed put on the snowflakes, completely bored, even though almost every part of his body was aching. Yuki closed his eyes and turned his head back to face the ceiling, wanting to feel refreshment for once. Akito had no right to bring him here without his own permission, didn\"t he? Yuki wasn\"t his to own and to torture every single night and day. Honestly, Yuki was somehow relieved that the whole day, no blue-haired, blue-eyed Sohma clan head entered his torture chamber. Or else he would\"ve gone through a series of memories that he didn\"t want to go through again. He sighed, feeling guilt overcome his sudden consciousness. It was his fault that Yuki was all cooped up in that room, unable to do anything, not even call his loved ones at home. It was his fault that Yuki was feeling as miserable as miserable could be, with no brown-haired, blue-eyed girl to be by his side. Hatori sighed again, this time of exasperation, knowing that somehow, what he did was the right thing to do. \"Hatori, come over here.\" Akito murmured, signaling the fellow Sohma to come upon his aid. Yuki was still unconscious. \"What do you need, Akito?\" \"Don\"t let Yuki use the phone.\" \"WHAT?!\" Hatori asked in pure rage. \"What do you mean? He has to tell Shigure and everyone else on where he is.\" Akito\"s eyes narrowed. \"I don\"t want anyone else to know that my precious Yuki is here with me, Hatori. Disobey me and Shigure and the others would feel my wrath. Yuki should NOT use the phone. Anyone calling for him is to be spoken to by me.\" (Yuki\"s POV) I winced as I felt another stab of unbearable pain invade my wrecked stature. I\"m lying here, in this futon, without the ability to move anything besides my gaze. My eyes followed another snowflake enter the solitary room. It suffered the same fate as the others did, trapped in this forsaken room until they melt away into nothingness. I felt alone...and I need Tohru-san by my side. My eyes jerked to my other side as I heard heavy footsteps coming to the door. I closed my eyes shut, clenching my fist, hoping that the person who will enter this forsaken room was Hatori, or anybody else for that matter. I wished hard for the person not to be Akito. My fists clenched into a ball, possibly harder, as if my nails could bring blood. The door was slowly opened, and someone came in before shutting it tight, putting a lock on it. If only my legs could move, which felt like two sticks of lead, I would greatly stand up and run away form this horrid place. The person started to move - and to my horror - to my direction. I could hear the shuffling of bare feet nearing my figure, the soft whiffs of cold wind that the steps gathered against my cheek. And at last, the movements stopped, but still I dreaded to open my lavender eyes. As I hoped, the figure stopped, but then the person started to move again. To the south of my figure, that is. All I knew next was that a cold, smooth hand was brushing off a few silken strands of my lavender-silver hair. The soft hand brushed the stray locks away, pushing them behind my ear, or playing with it in its fingers. I felt the edge of a sleeve of a gi graze my cheek, my eyes still closed. I felt the hand move downwards, abandoning my cheek, only to move to my jaw and trace my lips. Inwardly, I wanted to push the person the hell away from me, because for some reason, I felt what the person was doing was sexual harassment. The hand soon then left my face, but started its journey down my neck. I could feel the fingertips slowly - but unpleasantly - tickle my warm skin, trailing down my neck to my collarbone. It stopped, I hope, but to m y disappointment the hand started to move again, now feeling another hand pressed lightly upon my other shoulder. Finally, I opened my eyes to see the horror that was looming over me. \"A-Akito...?\" Author\"s notes: Any comments? Suggestions? Violent Reactions? Please feel free to review, and please do! Anyone interested in Yami no Matsuei, please read my fic, if you could. Thank you and Merry Christmas! Imprisonment 6 Author\"s notes: This chapter is dedicated to ~*paper star*~. Maybe some of your questions would be answered in this chapter. I hope you like it, and please, review. I am really going to die if you guys don\"t review this. **chokes** I hope you enjoy! (Kyou\"s POV) I sat on the roof, quiet, staring at the full moon. It was too unnerving to stay inside, seeing Tohru broken like a piece of fragile glass. Shigure wasn\"t helping - his words of comfort only brought more pain inside Tohru, as I can see. The moon shone brightly back at me, as if glaring at me. I shrugged the feeling off as I drowned in my own thoughts, my concern concentrated on the brown-haired girl down below me. How did I know that I do not deserve Tohru, you ask? Well, it\"s quite simple really. To be honest, I don\"t even know how it happened. I was just walking by the forest, hoping to relax as I did, since Shigure was making a racket with his agent inside the house. Ayame also arrived that day, intent and keen on pestering the stupid mouse. So I had to get away from it all, and deciding that a walk should be fine instead of staying up on the roof, I went to the woods. The sunlight was bright and warm, not hot and painful to the eyes. My footsteps couldn\"t be heard, and I was glad of that. And then, I saw them. The two of them, that baka nezumi and Tohru, were working on what I could call a secret garden. The garden was full of strawberries, carrots, onions and some other vegetables, and I was keen not to be noticed by the two. I overheard their conversation, as I stayed put, leaning behind a tree. I remember that they were talking about an agreement, to call each other by their names. Breathing heavily, I turned around to sneak a peek at the two, seeing how content they were. You could say that they were happily contented at that moment, as if they would never be apart. And that moment alone awakened me. I was not meant for Tohru, but that nezumi was. I was meant for someone else, for me to be content, to be happy, and for that person to accept who I really am. I\"m not meant to chase after someone I wasn\"t meant for - and that proved that I just love Tohru in a friendly way. I didn\"t deserve her - she was too good, too perfect for me. Her unearthly beauty was to be discovered by Yuki, they were meant to be together, they were meant to love each other until the very end. I would only be standing in their way if I continued my useless pursuit. God, how poetic was that? That was definitely unlike me. So, your question has been answered, here, right now, as I glare back at the glowing moon. I hate you, Yuki. I hate you for making me realize that. But... I hate myself more for seeing the fact that you two were meant to be. God, I am so stupid. So, we both are. Everything\"s equal...everything\"s fair. I\"d find my match, I\"m sure of it. You just have to wish me luck. (Akito\"s POV) I led my hand up to his temples, feeling the soft silken strands of his lavender hair. His skin was so soft, too soft to be a man\"s, in fact, making me want him more. He was just beautiful, and I need to satisfy my craving for him sooner. I just wonder how come I never did this to him when he was little. Maybe because he grew up - he grew up to be a lovely man that makes me crave for him more. His skin was a lovely shade of pale cream, just like mine, the taste of his mouth invigorating. His body was fragile, his eyes the same hue as his hair, his body well refined as mine. I\"m about to die any minute, and thinking about it, my most recent goal was to take him before I die. He was just too special, making me want him badly, making me want to torture him in a new, more horrible way. And my kiss, my touch, seems to make his memories float to his current state. I love seeing him shattered like a precious, porcelain doll, as if he would break in every way I touch him. He was wounded by how I treated him a few years back, and I want him more terrified of me, more scared of me than every before. I take delight in torturing what is mine. I love his terrified face. I love his quavering voice. Let me take you, Yuki. His eyes open as I continued to move my hand, gracing his soft, warm skin. I held him gently down on the futon, knowing that he couldn\"t move because his wound would open up and his ribs would hurt. \"A-Akito...?\" he murmured at me, his eyes wide in horror. (Yuki\"s POV) He loomed over me as if I was a porcelain doll that needed his protection. But I am not a doll for him to play with; I\"m a human being who needs to be away from some lunatic called Akito. I winced as he inserted his hand in my gi, pushing the cloth apart, revealing my upper body. \"Stop it, Akito.\" I murmured, trying to get up, but once again my ribs started to hurt. He pushed me down on the futon, his hand still atop my chest, and his other hand on my shoulder. \"Hold still.\" He mumbled back at me, his blue eyes narrowing as he eyed my half-naked body. Shivers ran down my spine, the hair at the back of my neck standing, my eyes still widening as he continued with his torture. \"You know you\"re hurt. Don\"t move...\" he started, now slipping the other sleeve out of his way, leaving my upper body totally unclothed. \"a single bit...\" I tried to squirm out of his heavy grasp, seeing that he was already on top of me. \"Stop it.\" He didn\"t stop what he was doing. He continued on with his agonizing activity, slowly undressing me, sending terror down in my veins. Akito eyed me, now a sly smirk playing in his lips. I hated myself, my body, for not enabling me to move and get the hell away from him. I looked sideways and flinched, now feeling his hot breath upon my exposed neck. I could still imagine his wry smile playing on his lips, enjoying every single second of his agonizing torment. He ran a hand upon my cheek, then on the other side of my neck, then finally cradling my head as he brought his lips to my bare neck. I tried to push him away, but once again my ribs started to deliver the unwanted pain. He stopped kissing my neck, raising his head a little as he murmured his words. \"I said don\"t move.\" Hesitantly, I realized that I could not do anything to disobey his displeasing wishes. I was too injured to do anything. I couldn\"t even lift a hand without my body throbbing. I just shut my eyes and waited for him to do what he wants, thinking that I was a helpless little mouse caught in a trap. (Our POV) Three people stopped in their tracks upon hearing Yuki\"s cries of protest. Momiji, Hatsuharu and Hatori looked curiously and worriedly at where Yuki was staying, hearing the shuffling of cloths and Yuki\"s continuous whimpers for the Sohma head clan to stop. Hatori immediately approached the door, prying it open, but only to find it locked. \"Damn, Akito locked the door.\" He cursed, his hands still trying to open the wooden doors. Hatsuharu quickly shifted his gaze at the doctor, something unreadable etched in his eyes. \"Is Yuki in there?\" he asked, his voice full of worry and concern. \"Yuki is in there.\" Momiji answered, the three of them serious. \"Hurry, we have to get to Shigure\"s, quick.\" Hatori announced, starting to walk to the gates. Author\"s notes: Is it okay? Was it good? Any comments? Suggestions? Violent reactions? Please review this fic! I really need REVIEWERS! Please?! Pweety pweety pweety pwease? Arigato! A. Pikachu Imprisonment 7 Author\"s notes: You know I don\"t own Fruits Basket, right? Good. Anyway.... Oh shit, I just watched Moulin Rouge! Damn, it was sooooooooooooooo good!!!! I cried, you know. I CRIED!!!!!!!!!!!!!!!!!!!! Why did Satine have to die!?!?!?!?! (calms down) (coughs) Besides, I\"ve watched that many times already. But it\"s just so tear jerking, you know. Seems like Yuki torture goes first. I hope you\"ll like it, thank you! (Akito\"s POV) I smirked to myself in delight. He gave in to my desires and let me do my work, laying himself aside as I continued to \"play\" with him for a while. My, Yuki\"s so obedient, isn\"t he? I licked my lips, thinking about what agonizing thing would I do to my precious Yuki. I eyed the exposed piece of cream-colored skin that invited me. Finally, I narrowed my eyes, bowing my head down to sink my lips into his delicious skin, my hand running up against his cheek, cradling his head to keep it that way for a moment. My tongue brushed briefly against his skin, licking it every now and then. God, I could just imagine that terrified look on his face that I loved so much, his lavender eyes widening at me as if I was some horrible creature. But hell, I am not. I\"m Akito. Continuing on with my pleasant torture to the mouse, I\"ve enjoyed it, literally. But I\"m not getting enough of him. So what I did was I traced a trail down to his well-chiseled chest, pressing him down firmly, but gently, as I made him look at me. He had his eyes shut tight, his brows wrinkled in fright of what I was to do. I smiled to myself in triumph - I love your face, Yuki. Immediately, after seeing him like that, I parted my lips and bent down to kiss him. Now I could feel that he opened his eyes in shock, not believing what I was doing to him right now. (Yuki\"s POV) I was stunned. That was all there was to it. Well, what would you have done if a guy were kissing you? And you\"re severely injured? I only saw locks of navy blue, blocking my eyesight. I tried to hold on to his shoulders, intent on pushing him away as fast as I could. But my arms didn\"t respond. They were pinned against his hands, numb and unable to move. Now I was stuck here, with Akito on top of me, kissing me. Nothing could be worse. But it came all along. I felt his hands move away from my arms up to my chest, running his hands all over it. I winced inwardly, feeling his cold hands lay on my warm, upper body, doing what he pleases. I flinched more when I felt him start a passionate kiss, which I didn\"t return, making him break the forsaken lip lock and stare at me with narrowed eyes. \"Why won\"t you kiss me back?\" he demanded of me, his eyes still narrowed with newfound rage. \"I...I...\" suddenly, I went on a mental block and couldn\"t say the answer. Akito eyed me, standing up, reaching for my neck. He grabbed me by my neck, letting my feet dangle a few inches off the floor. My whole body went limp, and I was like a puppet sagging with its strings. \"ANSWER ME!\" Hatsuharu pounded on the door, slamming his fist against the wooden block. \"SHIGURE!!\" Hatsuharu screamed, demanding that someone answer the door. \"Geez, what\"s your problem?\" the older Jyuunishi remarked, finally opening the door to the three hassled Sohmas. After seeing how serious the three were, Shigure shut his mouth up and asked serenely what was the matter. Hatori answered him, and thus making the writer run up the stairs to get the orange cat and Tohru. The girl was hysterical. She was speechless. She was... Afraid. Afraid of what the clan head was doing to him. Afraid of what Yuki could be experiencing...afraid of almost everything. Fear ran through her veins, making her hand shake as they rode on the car. They were on their way to the Main House, intent on rescuing Yuki from Akito\"s wretched hands. \"Tohru-chan, daijoubu?\" Momiji asked the girl, worry etched in his bright brown eyes. Tohru looked at him kindly, smiling at the younger boy. \"Hai, Momiji-kun. I\"m alright.\" (Our POV) The futon lay silent on the floor, left alone as the one lying on it was dangling a few inches off the ground. Akito didn\"t move his fingers away from Yuki\"s neck - he kept it wrapped around it. Yuki whimpered in pain. \"Answer me, Yuki.\" Akito murmured sternly, his blue eyes narrowing, his voice husky as Yuki stared back at him, terrified. Yuki kept himself silent, not finding the words that would explain the eccentricity of Akito\"s actions. \"You won\"t answer me?\" Akito asked, as if leering on the younger man. Yuki whimpered again, gasping for air, feeling Akito\"s hand tighten its grip on his neck. Blue eyes narrowed, after a while, a limp body was thrown in full contact with the bamboo wall. He lay silent, whimpering, cringing as his body started to respond to the beatings he was having. His head started to bleed, his rib break again, and out of all this pain, he couldn\"t move a single inch. His body was resting limp against the wall, blood trickling down his pale lavender-colored hair. Blood started to be coughed out from his lungs, his bronchi acting up as he tried to gasp for breath. It was spattered on the floor as he tried to bring up his hand to his mouth, trying to stop the attacks of his coughs to his lungs. Soon blood covered his hands, the side of his head trickling with the same liquid, his lips full red because of his sickness. He was still half-naked, the upper part of his gi under him. Yuki swung his head back, coughing out blood once more. He started to blush from a fever he was beginning to have. Akito frowned. \"You still won\"t answer me.\" He started to walk to a cupboard that rested in the far corner of the room. \"My, my...aren\"t we stubborn.\" He got something from the cupboard, closing it and turning around to face the mouse. \"Unless you want to go back to your childhood days.\" Yuki\"s pale purple eyes widened. Kyou, Shigure, Hatori and Hatsuharu tried relentlessly to break down the locked wooden doors, Momiji and Tohru watching behind them. They have been trying it for a while now, after hearing something heavy clout against a wall. Shigure and Hatori stepped back, allowing Hatsuharu and Kyou to have the full space. The two stepped back a few steps, running towards it in full force, successfully opening (or breaking) the locked wooden doors. Akito gripped the whip in his right hand, ready to brandish it at the younger Sohma. He didn\"t notice something - or someone - run at full speed from the space Kyou and Hatsuharu produced from their attempts. He didn\"t notice someone with long, brown hair and bright blue eyes filled with worry kneel in front of Yuki and wrapped her arms around him, protecting him from the terror of Akito\"s weapon, her smooth locks whipping with the unseen wind. Hatori and Shigure ran after Tohru, holding the Sohma master down in order to stop the clan head from doing anything else. Kyou, Hatsuharu and Momiji entered the scene, ready to assist and support Tohru and Yuki. But there was something strange. Something peculiar. Yuki didn\"t transform. ***The end?*** Author\"s notes: is that a cliffhanger? I don\"t know. If anyone wants this continued, please review! Or else I\"ll leave it at that, alright? Note to jo-chan: uh...you\"re getting pretty creepy. (joke) How did you know I was a Filipino AND 12 years old? You\"re not some stalker, are you? *someone bangs her head with a huge mallet* Anyway, I love your fic, and please continue yours. And thanks for your comment on my bio...I was bored... So, please review if you want this continued! And also if you want some explanations! Have a great year!!! A. Pikachu', 'pos_tags': ['CC', 'PRP', '-None-', ',', 'RB', 'VB', ',', 'IN', 'PRP', 'NNP', \"''\", '-None-', 'VBP', '-None-', 'CC', 'PRP', 'VBZ', 'PRP', 'RB', 'JJ', 'IN', 'NNP', 'VBZ', 'PRP$', 'JJR', 'IN', 'PRP', '-None-', 'PRP', 'VBD', 'IN', 'NN', 'IN', 'PRP$', 'NN', ',', 'TO', 'VB', 'PRP$', 'TO', 'NN', 'IN', 'PRP', 'VBD', 'PRP$', 'NN', 'IN', 'DT', 'NN', 'IN', 'DT', 'JJ', 'JJ', 'NN', 'IN', '-None-', '``', '-None-', \"''\", 'PRP', 'VBN', 'RP', ',', 'VBG', 'IN', 'PRP', 'MD', 'VB', 'WP', 'PRP', '-None-', 'RB', ',', 'PRP', 'VBN', 'DT', 'VBG', ',', 'VBZ', ',', 'CC', 'DT', 'RBR', 'VBG', 'RB', 'DT', 'NN', 'IN', 'PRP', 'VBD', '-None-', '``', '-None-', ',', 'NNP', ',', \"''\", 'PRP$', 'JJ', 'NN', 'VBN', ',', 'RB', 'VBG', 'PRP', 'NNS', 'IN', 'DT', 'NN', 'IN', 'PRP$', 'NNP', 'NNP', 'VBN', 'RB', ':', 'PRP$', 'JJ', 'NNS', 'VBD', 'RB', 'NN', 'CC', 'NNS', 'MD', 'VB', 'RB', 'NNP', 'PRP$', 'NN', 'VBD', 'DT', 'NN', ',', 'CC', 'PRP$', 'NNS', 'CC', 'NN', 'VBD', 'RB', 'VBP', ',', 'VBG', 'IN', 'PRP', 'RB', 'VBD', 'VBN', '-None-', '``', '-None-', \"''\", 'JJ', ',', \"''\", 'PRP', 'VBN', 'TO', 'PRP$', ',', 'VBG', 'PRP$', 'NN', 'IN', 'TO', 'PRP$', 'NN', 'TO', 'NN', 'RB', 'DT', 'JJ', '-None-', '``', 'NNP', \"''\", '-None-', 'VBP', ',', 'NN', '.', 'NN', \"''\", '-None-', 'NNP', '-None-', 'VB', '-None-', \"''\", 'PRP', 'VBD', 'TO', 'NN', 'PRP$', 'IN', 'NNS', ',', 'CC', 'IN', '-None-', \"''\", '-None-', 'PRP$', '-None-', 'PRP', 'VBD', 'PRP$', 'NN', 'WRB', 'PRP', 'VBN', ',', 'RB', 'NN', '-None-', '``', 'NNP', ',', \"''\", 'PRP', 'VBD', ',', 'VBG', 'RB', 'TO', 'VB', 'PRP$', 'NN', '-None-', '``', 'PRP', \"''\", '-None-', 'RB', 'IN', ':', 'PRP', \"''\", '-None-', 'RB', 'VBN', 'IN', 'NNP', ':', 'PRP', \"''\", '-None-', 'VBN', 'CD', 'NNS', 'CC', 'PRP', \"''\", 'PRP', 'VBN', 'DT', 'VBP', 'IN', '-None-', '``', 'PRP', '-None-', \"''\", '-None-', 'NN', 'RB', ':', \"''\", '``', 'PRP', \"''\", '-None-', 'JJ', 'PRP', 'VBZ', 'PRP$', '-None-', \"''\", 'PRP', 'VBN', '-None-', '-None-', ',', 'IN', 'NN', 'JJR', 'VBP', 'PRP$', '-None-', '``', '-None-', \"''\", 'JJ', ',', 'VB', \"''\", '-None-', 'VB', '-None-', \"''\", 'DT', 'IN', 'MD', 'RB', 'VB', 'PRP', 'IN', '-None-', 'PRP', 'NN', 'VBG', 'PRP', 'VBP', 'NNP', 'NN', 'VBN', 'IN', 'DT', 'NN', 'IN', 'DT', 'JJ', 'NNP', '-None-', \"''\", '-None-', 'NNS', 'VBD', 'RB', 'NN', ',', 'CC', 'PRP', 'VBD', 'RB', 'JJ', 'IN', 'DT', '-None-', '``', 'NNP', ',', \"''\", 'NN', 'VBD', ',', 'VBG', 'PRP$', 'NNS', 'IN', 'PRP$', '-None-', '``', 'PRP', \"''\", '-None-', 'VBG', 'TO', 'VB', '-None-', 'RB', 'CD', 'NNS', 'VBP', 'VBD', ',', 'CC', 'PRP', 'VBP', 'NNP', \"''\", '-None-', 'RB', '-None-', 'NNP', 'MD', 'VB', 'NN', 'IN', '-None-', \"''\", 'NN', 'VBD', 'TO', 'VB', 'NNS', 'IN', 'NN', 'TO', 'DT', 'NN', '-None-', '-None-', 'VBD', 'IN', 'PRP$', 'JJS', 'IN', 'TO', 'VB', 'RP', 'NN', 'CC', 'PRP', \"''\", '-None-', 'VBN', '-None-', '``', 'NNP', ',', 'PRP', \"''\", '-None-', 'RB', '-None-', \"''\", '-None-', 'VBD', 'TO', 'VB', 'IN', 'PRP$', 'JJS', 'NN', 'NN', ',', 'CC', 'DT', 'RB', '-None-', 'PRP', 'VBN', 'RP', 'IN', 'PRP$', 'NN', 'IN', '-None-', '``', 'PRP', 'VBP', 'NNP', 'MD', 'VB', 'NN', 'IN', 'PRP', ':', \"''\", 'DT', 'VBZ', 'RB', 'VBD', 'DT', 'NN', 'VBN', 'NN', ',', 'VBG', 'PRP', 'IN', 'DT', '-None-', 'NN', 'IN', 'VBG', '-None-', 'PRP$', 'NN', 'NNS', 'VBD', 'VBN', 'IN', 'DT', 'VBZ', ',', 'RB', 'VBN', ',', 'RB', 'IN', 'RB', 'DT', 'NN', 'IN', 'PRP$', 'NN', 'VBD', '-None-', 'NNP', 'VBD', 'PRP$', 'NNS', 'CC', 'VBD', 'PRP$', 'NN', 'RB', 'TO', 'VB', 'DT', 'NN', ',', 'VBG', 'TO', 'VB', 'NN', 'IN', '-None-', 'NNP', 'VBD', 'DT', 'NN', 'TO', 'VB', 'PRP', 'RB', 'IN', 'PRP$', 'JJ', 'NN', ',', '-None-', \"''\", '-None-', 'PRP', '.', 'NNP', '-None-', \"''\", '-None-', 'PRP$', 'TO', 'VB', 'CC', 'TO', 'NN', 'DT', 'JJ', 'NN', 'CC', '-None-', 'RB', ',', 'NNP', 'VBD', 'RB', 'JJ', 'IN', 'DT', 'JJ', 'NN', ',', 'DT', 'VBN', ',', 'VBN', '-None-', 'NN', 'NN', 'VBD', 'PRP$', 'NN', '-None-', 'CC', 'RB', 'PRP', 'MD', \"''\", '-None-', 'VBN', 'IN', 'DT', 'NN', 'IN', 'NNS', 'IN', 'PRP', '-None-', \"''\", '-None-', 'VBP', 'TO', 'VB', 'RP', '-None-', 'PRP', 'VBN', ',', 'VBG', 'VBN', 'VBN', 'PRP$', 'JJ', 'NNP', 'PRP', 'VBD', 'PRP$', 'NN', 'IN', 'NNP', 'VBD', 'DT', 'VBD', 'RP', 'IN', 'DT', 'NN', ',', 'JJ', 'TO', 'VB', 'NN', ',', 'RB', 'RB', 'NN', 'PRP$', 'VBD', 'NNS', 'IN', '-None-', 'PRP', 'VBD', 'PRP$', 'NN', 'IN', 'NNP', 'VBD', 'VBG', 'RB', 'JJ', 'IN', 'JJ', 'MD', 'VB', ',', 'IN', 'DT', 'VBN', ',', 'VBN', 'NN', 'TO', 'VB', 'IN', 'PRP$', '-None-', 'NNP', 'VBN', 'RB', ',', 'DT', 'NN', 'IN', 'NN', ',', 'VBG', 'IN', 'RB', ',', 'WDT', 'PRP', 'VBD', 'VBD', 'DT', 'NN', 'NN', 'TO', '-None-', '``', 'NNP', ',', 'VB', 'RP', 'NNP', \"''\", 'NNP', 'VBN', ',', 'VBG', 'DT', 'JJ', '-None-', 'TO', 'VB', 'IN', 'PRP$', '-None-', 'NNP', 'VBD', 'RB', '-None-', '``', 'WP', 'VBP', 'PRP', 'VBP', ',', 'NNP', '.', \"''\", '``', 'NNP', \"''\", '-None-', 'VB', 'NNP', 'NN', 'DT', '-None-', \"''\", '``', 'WDT', '.', '.', \"''\", 'NNP', 'VBD', 'IN', 'NN', '-None-', '``', 'WP', 'VBP', 'PRP', 'VB', '.', 'PRP', 'VBZ', 'TO', 'VBP', 'NN', 'CC', 'NN', 'RB', 'IN', 'WRB', 'PRP', 'NNP', \"''\", 'NNP', \"''\", '-None-', 'NNS', '-None-', '``', 'PRP', 'NNP', \"''\", '-None-', 'VBP', 'NN', 'RB', 'TO', 'VB', 'IN', 'PRP$', 'JJ', 'NNP', 'VBZ', 'RB', 'IN', 'PRP', ',', '-None-', 'NNP', 'PRP', 'CC', 'NN', 'CC', 'DT', 'NNS', 'MD', 'VBP', 'PRP$', '-None-', 'NNP', 'MD', '-None-', 'NN', 'DT', '-None-', 'CD', 'VBG', 'IN', 'PRP', 'VBZ', 'TO', 'VB', 'VBN', 'TO', 'IN', '-None-', \"''\", '-None-', 'NNP', \"''\", '-None-', '-None-', '-None-', 'PRP', 'VBN', 'IN', 'PRP', 'VBD', 'DT', '-None-', 'IN', 'JJ', 'NN', 'NN', 'PRP$', 'VBD', 'NNP', 'NNP', \"''\", '-None-', 'VBG', 'RB', ',', 'IN', 'DT', 'NNP', ',', 'IN', 'DT', 'NN', 'TO', 'VB', 'NN', 'NNS', 'PRP$', '-None-', 'PRP$', 'NNS', 'VBD', 'DT', 'VB', 'VB', 'DT', 'JJ', '-None-', 'PRP', 'VBD', 'DT', 'JJ', 'NN', 'IN', 'DT', 'NNS', 'VBD', ',', 'VBD', 'IN', 'DT', 'VBN', 'NN', 'IN', 'PRP', 'NNP', 'RB', 'IN', 'NNP', 'NNP', 'VBD', 'RB', ':', 'CC', 'PRP', 'VBP', 'NNP', 'IN', 'PRP$', '-None-', 'PRP$', 'NNS', 'VBD', 'TO', 'PRP$', 'JJ', 'NN', 'IN', 'PRP', 'VBN', 'JJ', 'VBZ', 'VBG', 'TO', 'DT', '-None-', 'PRP', 'VBD', 'PRP$', 'NNS', 'VB', ',', 'VBG', 'PRP$', 'NN', ',', 'VBG', 'IN', 'DT', 'NN', 'WP', 'MD', 'VB', 'DT', 'VBN', 'NN', 'VBD', 'NNP', ',', 'CC', 'NN', 'RB', 'IN', 'IN', '-None-', 'PRP', 'VBN', 'JJ', 'IN', 'DT', 'NN', 'RB', 'TO', 'VB', '-None-', 'PRP$', 'NNS', 'VBN', 'IN', 'DT', 'NN', ',', 'RB', 'JJR', ',', 'IN', 'IN', 'PRP$', 'NNS', 'MD', 'VB', '-None-', 'DT', 'NN', 'VBD', 'RB', 'VBN', ',', 'CC', 'NN', 'VBD', 'IN', 'IN', 'VBG', 'PRP', 'JJ', ',', 'VBG', 'DT', 'VB', 'IN', '-None-', 'IN', 'RB', 'PRP$', '-None-', 'MD', 'VB', ',', 'WDT', 'VBD', 'IN', 'CD', 'NNS', 'IN', 'NN', ',', 'PRP', 'MD', 'RB', 'VBP', 'RP', 'CC', 'VBP', 'RB', 'NN', 'DT', '-None-', '-None-', 'DT', 'NN', 'VBD', 'TO', 'VB', ':', 'CC', 'TO', 'PRP$', 'NN', ':', 'IN', 'PRP$', '-None-', 'PRP', 'MD', 'VB', 'DT', 'VBG', 'IN', 'VBP', 'NNS', 'VBG', 'PRP$', 'NN', ',', 'DT', 'JJ', 'NNS', 'IN', 'JJ', 'NN', 'IN', 'DT', 'NNS', 'VBN', 'IN', 'PRP$', '-None-', 'CC', 'IN', 'JJ', ',', 'DT', 'NNS', 'VBD', ',', 'CC', 'RB', 'PRP', 'VBD', 'TO', 'VB', 'PRP$', 'NN', '-None-', 'IN', 'PRP', 'VBD', ',', 'DT', 'NN', 'VBD', ',', 'CC', 'RB', 'DT', 'NN', 'VBD', 'TO', 'VB', '-None-', 'TO', 'DT', 'RB', 'IN', 'PRP$', 'NN', ',', 'IN', 'NNP', 'DT', 'PRP', 'VBD', 'JJ', 'VBD', 'IN', 'DT', 'NN', ',', 'JJ', 'NN', 'VBD', 'VBG', 'RP', 'DT', 'JJ', 'VBN', 'NNS', 'IN', 'PRP$', 'RB', '-None-', 'DT', 'JJ', 'NN', 'VBD', 'DT', 'NNP', 'NNS', 'RB', ',', 'VBG', 'PRP', 'IN', 'PRP$', 'NN', ',', 'CC', 'VBG', 'IN', 'PRP', 'IN', 'PRP$', 'NNP', 'NNP', 'VBD', 'DT', 'NNP', 'IN', 'DT', 'VBP', 'IN', 'DT', '-None-', 'NN', 'PRP$', 'NN', ',', 'PRP$', 'NNS', 'RB', '-None-', 'PRP', 'VBD', 'DT', 'NN', 'NN', 'NNS', ',', 'VBG', 'PRP$', 'NN', ',', 'RB', 'TO', 'VB', 'TO', 'PRP$', '-None-', 'CC', 'NN', 'PRP$', '-None-', 'RB', ',', 'PRP', 'VBD', 'TO', 'VB', 'DT', 'NN', 'DT', 'NNP', 'RB', 'IN', 'PRP', ',', 'IN', 'IN', 'DT', 'NN', ',', 'PRP', 'VBD', 'WP', 'DT', 'NN', 'VBD', 'VBG', 'VBD', 'JJ', '-None-', 'DT', 'NN', 'RB', 'RB', 'VBN', 'PRP$', 'NN', ',', 'CC', 'VBD', 'PRP$', 'NN', 'IN', 'PRP$', '-None-', 'PRP', 'MD', 'VBP', 'DT', 'NNS', 'RB', ':', 'CC', 'RB', ':', 'NN', 'PRP$', 'NN', 'NN', ',', 'VBG', 'IN', 'PRP$', 'VB', 'TO', 'PRP$', '-None-', 'PRP', 'VBD', ',', 'PRP', 'VBP', ',', 'CC', 'TO', '-None-', '-None-', 'NN', 'DT', 'NN', 'VBD', 'TO', 'VB', 'RB', ',', 'RB', 'VBG', 'DT', 'NN', 'VBN', 'RB', 'IN', 'PRP$', 'JJ', '-None-', 'RB', ',', 'PRP', 'VBD', 'PRP$', 'NNS', 'TO', 'VB', 'DT', 'NN', 'IN', 'VBD', 'VBG', 'IN', '-None-', '``', 'NNP', ':', '.', \"''\", 'NN', \"''\", '-None-', 'NNS', ':', 'DT', 'NNS', '.', 'NNS', '.', 'NN', 'NNS', '.', 'NN', 'VBP', 'JJ', 'TO', 'VB', ',', 'CC', 'VB', 'VBP', '.', 'CD', 'JJ', 'IN', 'NNP', 'DT', '-None-', ',', 'VB', 'VBN', 'PRP$', 'NNP', ',', 'IN', 'PRP', '-None-', 'NN', 'PRP', 'CC', 'NNP', 'NNP', '.', 'NN', 'CD', 'NN', \"''\", '-None-', 'NNS', ':', 'DT', 'NN', 'VBZ', 'VBN', 'TO', 'NN', '-None-', 'RB', 'DT', 'IN', 'PRP$', 'NNS', 'MD', 'VB', 'VBN', 'IN', 'DT', '-None-', 'PRP', 'VBP', 'PRP', 'VBP', 'PRP', ',', 'CC', 'VB', ',', '-None-', 'PRP', 'VBP', 'RB', 'VBG', 'TO', 'VB', 'IN', 'PRP', 'NNS', 'NNP', \"''\", '-None-', 'NN', 'NNP', '-None-', 'PRP', 'VBP', 'PRP', 'VBP', '.', '-None-', 'PRP', \"''\", '-None-', '-None-', '-None-', 'PRP', '-None-', 'IN', 'DT', 'NN', ',', 'JJ', ',', 'VBG', 'IN', 'DT', 'JJ', '-None-', 'PRP', 'VBD', 'RB', 'VBG', 'TO', 'VB', 'NN', ',', 'VBG', '-None-', 'VBN', 'IN', 'DT', 'NN', 'IN', 'JJ', 'NNP', 'NN', '-None-', \"''\", '-None-', 'VBG', ':', 'PRP$', 'NNS', 'IN', 'NN', 'RB', 'VBD', 'JJR', 'NN', 'NN', '-None-', ',', 'IN', 'PRP', 'MD', '-None-', 'DT', 'RB', 'CD', 'RB', 'RB', 'IN', 'PRP', ',', 'IN', 'IN', 'VBG', 'IN', '-None-', 'PRP', 'VBN', 'DT', 'VBG', 'RP', 'RB', 'PRP', 'VBN', 'IN', 'PRP$', 'JJ', 'NNS', ',', 'PRP$', 'NN', 'VBD', 'IN', 'DT', 'VBN', 'NN', 'RP', 'IN', '-None-', 'WRB', 'VBD', 'PRP', 'VBP', 'IN', 'PRP', 'VBP', 'RB', 'VB', '-None-', ',', 'PRP', 'VBP', '.', 'NNP', ',', 'PRP', \"''\", '-None-', 'RB', 'JJ', '-None-', 'TO', 'VB', 'NN', ',', 'PRP', 'NNP', \"''\", '-None-', 'RB', 'VB', 'WRB', 'PRP', '-None-', 'PRP', 'VBD', 'RB', 'VBG', 'IN', 'DT', 'NN', ',', 'VBG', 'TO', '-None-', 'IN', 'PRP', 'VBD', ',', 'IN', 'NN', 'VBD', 'VBG', 'DT', 'NN', 'IN', 'PRP$', 'NN', 'NN', 'DT', '-None-', 'VBD', 'RB', 'VBD', 'IN', 'NN', ',', 'NN', 'CC', 'VBN', 'IN', 'VBG', 'DT', 'JJ', '-None-', 'IN', 'PRP', 'VBD', 'TO', 'VB', 'RP', 'IN', 'PRP', 'RB', ',', 'CC', 'VBG', 'IN', 'DT', 'VBP', 'MD', 'VB', 'NN', 'RB', 'IN', 'VBG', 'RP', 'IN', 'DT', 'NN', ',', 'PRP', 'VBD', 'TO', 'DT', '-None-', 'DT', 'NN', 'VBD', 'JJ', 'CC', 'NN', ',', 'RB', 'JJ', 'CC', 'JJ', 'TO', 'DT', '-None-', 'PRP$', 'VBZ', '-None-', \"''\", '-None-', 'VB', 'VBN', ',', 'CC', 'PRP', 'VBD', '-None-', 'IN', '-None-', 'CC', 'RB', ',', 'PRP', 'VBD', '-None-', 'DT', 'CD', 'IN', 'PRP', ',', 'IN', 'NNP', 'NNP', 'CC', '-None-', ',', 'VBD', 'VBG', 'IN', 'WP', 'PRP', 'MD', 'NN', 'DT', 'NN', 'NNP', 'DT', 'NNP', 'VBD', 'JJ', 'IN', 'NNS', ',', 'NNS', ',', 'NNS', 'CC', 'DT', 'JJ', 'NNS', ',', 'CC', 'PRP', 'VBD', 'VBN', 'RB', 'TO', 'VB', 'VBN', 'IN', 'DT', '-None-', 'PRP', 'NNP', 'PRP$', 'NN', ',', 'IN', 'PRP', 'VBD', 'VBN', ',', 'VBG', 'IN', 'DT', '-None-', 'PRP', 'NNP', 'IN', 'PRP', 'VBD', 'VBG', 'IN', 'DT', 'NN', ',', 'TO', 'VB', 'DT', 'JJ', 'IN', 'PRP$', '-None-', 'VBG', 'RB', ',', 'PRP', 'VBD', 'IN', 'TO', 'JJ', 'DT', 'NN', 'IN', 'DT', 'CD', ',', 'VBG', 'WRB', 'NN', 'PRP', 'NNP', 'PRP', 'MD', 'VB', 'IN', 'PRP', 'VBD', 'RB', 'VBN', 'IN', 'DT', 'NN', ',', 'IN', 'IN', 'PRP', 'MD', 'RB', 'VB', '-None-', 'CC', 'IN', 'NN', 'RB', 'VBN', '-None-', 'PRP', 'VBD', 'RB', 'VBD', 'IN', '-None-', ',', 'CC', 'IN', 'NNP', '-None-', 'PRP', 'VBD', 'VBD', 'IN', 'NN', 'RB', ',', 'IN', 'PRP', 'TO', 'VB', 'NN', ',', 'TO', 'VB', 'JJ', ',', 'CC', 'IN', 'DT', 'NN', 'TO', 'VB', 'WP', 'PRP', 'RB', '-None-', 'PRP', \"''\", '-None-', 'RB', 'VBD', 'TO', 'VB', 'IN', 'NN', 'PRP', '-None-', \"''\", '-None-', 'VBD', 'IN', ':', 'CC', 'IN', 'VBN', 'IN', 'PRP', 'RB', 'VB', '-None-', 'IN', 'DT', 'JJ', '-None-', 'PRP', '-None-', \"''\", '-None-', 'VBP', 'PRP', ':', 'PRP', 'VBD', 'RB', 'JJ', ',', 'RB', 'NN', 'IN', '-None-', 'PRP$', 'RB', 'NN', 'VBD', 'TO', 'VB', 'VBN', 'IN', 'NNP', ',', 'PRP', 'VBD', 'VBD', 'TO', 'VB', 'RB', ',', 'PRP', 'VBD', 'VBD', 'TO', 'VB', 'DT', 'JJ', 'IN', 'DT', 'RB', 'NNP', 'NNP', 'MD', 'RB', 'VB', 'NN', 'IN', 'PRP$', 'NN', 'IN', 'PRP', 'VBD', 'PRP$', 'NN', '-None-', 'NNP', ',', 'WRB', 'JJ', 'VBD', 'IN', '.', 'DT', 'VBD', 'RB', 'IN', '-None-', 'IN', ',', 'PRP$', 'NN', 'VBZ', 'VBN', 'VBN', ',', 'RB', ',', 'RB', 'RB', ',', 'IN', 'PRP', 'VBP', 'RB', 'IN', 'DT', 'VBG', '-None-', 'PRP', 'NN', 'PRP', ',', '-None-', 'PRP', 'NN', 'PRP', 'IN', 'VBG', 'PRP', 'VB', '-None-', 'CC', ':', 'PRP', 'NN', 'PRP', 'JJR', 'IN', 'VBG', 'DT', 'NN', 'IN', 'PRP', 'CD', 'VBD', 'VBD', 'TO', '-None-', 'NNP', ',', 'PRP', 'VBP', 'RB', '-None-', 'IN', ',', 'PRP', 'DT', 'NNP', 'NN', \"''\", '-None-', 'JJ', ':', 'NN', \"''\", '-None-', '-None-', 'PRP', \"''\", '-None-', 'VB', 'PRP$', 'VB', ',', 'PRP', \"''\", '-None-', 'JJ', 'IN', '-None-', 'PRP', 'RB', 'VBP', 'TO', 'VB', 'PRP', '-None-', '-None-', 'NNP', \"''\", '-None-', '-None-', '-None-', 'PRP', 'VBN', 'PRP$', 'NN', 'IN', 'TO', 'PRP$', 'NNS', ',', 'VBG', 'DT', 'JJ', 'VBN', 'NNS', 'IN', 'PRP$', 'NN', '-None-', 'PRP$', 'NN', 'VBD', 'RB', 'JJ', ',', 'RB', 'JJ', 'TO', 'VB', 'DT', 'NN', \"''\", '-None-', ',', 'IN', 'NN', ',', 'VBG', 'PRP', 'VBP', 'PRP', 'NNP', 'PRP', 'VBD', 'RB', 'JJ', ',', 'CC', 'PRP', 'VBP', 'TO', '-None-', 'PRP$', 'VBG', 'IN', 'PRP', '-None-', 'PRP', 'RB', 'NN', 'WRB', 'VB', 'PRP', 'RB', 'VBD', 'DT', 'TO', 'PRP', 'WRB', 'PRP', 'VBD', '-None-', 'RB', 'IN', 'PRP', 'VBD', 'RP', ':', 'PRP', 'VBD', 'RP', 'TO', 'VB', 'DT', 'JJ', 'NN', 'WDT', 'VBZ', 'PRP', 'VBP', 'IN', 'PRP', 'NNP', 'PRP$', 'NN', 'VBD', 'DT', 'JJ', 'NN', 'IN', 'NN', 'NN', ',', 'RB', 'VB', 'JJ', ',', 'DT', 'NN', 'IN', 'PRP$', 'NNP', '-None-', 'PRP$', 'NN', 'VBD', 'JJ', ',', 'PRP$', 'NNS', 'DT', 'JJ', 'NNP', 'IN', 'PRP$', 'NN', ',', 'PRP$', 'NN', 'RB', 'VBN', 'IN', '-None-', 'PRP', \"''\", '-None-', 'IN', 'TO', 'VB', 'DT', 'NN', ',', 'CC', 'VBG', 'IN', 'PRP', ',', 'PRP$', 'RBS', 'JJ', 'NN', 'VBD', 'TO', 'VB', 'PRP', 'IN', 'PRP', '-None-', 'PRP', 'VBD', 'RB', 'RB', 'JJ', ',', 'VBG', 'PRP', 'VBP', 'PRP', 'RB', ',', 'VBG', 'PRP', 'VBP', 'TO', 'NN', 'PRP', 'IN', 'DT', 'JJ', ',', 'RBR', 'JJ', '-None-', 'CC', 'PRP$', 'JJ', ',', 'PRP$', 'VBP', ',', 'VBZ', 'TO', 'VB', 'PRP$', 'NNS', 'JJ', 'TO', 'PRP$', 'JJ', '-None-', 'PRP', 'VB', 'VBG', 'PRP', 'VBN', 'IN', 'DT', 'JJ', ',', 'NN', 'NNP', ',', 'IN', 'IN', 'PRP', 'MD', 'VB', 'IN', 'DT', 'NN', 'PRP', 'VBP', '-None-', 'PRP', 'VBD', 'VBD', 'IN', 'WRB', 'PRP', 'VBN', 'PRP', 'DT', 'JJ', 'NNS', 'RB', ',', 'CC', 'PRP', 'VBP', 'PRP', 'JJR', 'VBN', 'IN', 'PRP', ',', 'RBR', 'VBN', 'IN', 'PRP', 'IN', 'DT', 'NNP', 'NNP', 'VB', 'NN', 'IN', 'VBG', 'WP', 'VBZ', '-None-', 'PRP', 'VB', 'PRP$', 'VBN', '-None-', 'PRP', 'VB', 'PRP$', 'VBG', '-None-', '-None-', 'PRP', 'VBP', 'PRP', ',', '-None-', 'PRP$', 'NNS', 'JJ', 'IN', 'PRP', 'VBD', 'TO', 'VB', 'PRP$', 'NN', ',', 'VBG', 'PRP$', 'JJ', ',', 'NN', '-None-', 'PRP', 'VBN', 'PRP', 'RB', 'RB', 'IN', 'DT', 'NNP', ',', 'VBG', 'IN', 'PRP', '-None-', \"''\", '-None-', 'NN', 'IN', 'PRP$', 'NN', 'MD', 'VB', 'RP', 'CC', 'PRP$', '-None-', 'MD', '-None-', '``', 'NNP', ':', '.', \"''\", 'PRP', 'VBN', 'IN', 'PRP', ',', 'PRP$', 'NNS', 'JJ', 'IN', '-None-', '-None-', 'NNP', \"''\", '-None-', '-None-', '-None-', 'PRP', 'VBN', 'IN', 'PRP', 'IN', 'IN', 'PRP', 'VBD', 'DT', 'NN', 'NNP', 'IN', 'VBN', 'PRP$', '-None-', 'CC', 'PRP', 'VBP', 'RB', 'DT', 'NNP', 'IN', 'PRP', 'TO', 'VB', 'IN', ':', 'PRP', \"''\", '-None-', 'DT', 'JJ', 'VBG', 'WP', 'VBZ', 'TO', 'VB', 'RP', 'IN', 'DT', 'JJ', 'VBN', '-None-', 'PRP', 'VBN', 'IN', 'PRP', 'VBN', 'PRP$', 'NN', 'IN', 'PRP$', '-None-', ',', 'VBG', 'DT', 'NN', 'RB', ',', 'VBG', 'PRP$', 'JJ', '-None-', '``', 'JJ', 'PRP', ',', '-None-', \"''\", 'PRP', 'VBN', ',', 'VBG', 'TO', 'VB', 'RP', ',', 'CC', 'RB', 'RB', 'PRP$', '-None-', 'VBD', 'TO', '-None-', 'PRP', 'VBN', 'PRP', 'IN', 'IN', 'DT', 'NNP', ',', 'PRP$', 'NN', 'RB', 'JJ', 'PRP$', 'NN', ',', 'CC', 'PRP$', 'JJ', 'NN', 'IN', 'PRP$', '-None-', '``', 'VB', 'NNP', \"''\", 'PRP', 'VBN', 'RB', 'IN', 'PRP', ',', 'PRP$', 'JJ', 'NNS', 'VBG', 'IN', 'PRP', 'VBN', 'PRP$', 'VBD', '-None-', 'NNS', 'VBD', 'RB', 'PRP$', 'NN', ',', 'DT', 'NN', 'IN', 'DT', 'NN', 'IN', 'PRP$', 'VB', 'NN', ',', 'PRP$', 'NNS', 'RB', 'VBG', 'IN', 'PRP', 'VBD', 'IN', 'PRP$', 'NNP', '``', 'PRP', 'VBP', 'PRP', \"''\", '-None-', '-None-', 'NNP', \"''\", '-None-', 'NN', ':', \"''\", 'PRP', 'VBD', ',', 'RB', 'VBG', 'DT', 'JJ', 'VBP', 'RP', 'IN', 'PRP$', 'NN', ',', 'VBG', 'PRP$', 'JJ', 'NN', 'RB', '-None-', '``', 'DT', 'JJ', 'NN', ':', \"''\", 'PRP', 'VBD', 'TO', 'NN', 'IN', 'IN', 'PRP$', 'JJ', '-None-', ',', 'VBG', 'IN', 'PRP', 'VBD', 'RB', 'IN', 'JJ', 'IN', '-None-', '``', 'JJ', '-None-', \"''\", 'PRP', '-None-', \"''\", '-None-', 'VB', 'WP', 'PRP', 'VBD', '-None-', 'PRP', 'VBD', 'IN', 'IN', 'PRP$', 'VBG', 'NN', ',', 'RB', 'VBG', 'PRP', ',', 'VBG', 'NN', 'RP', 'IN', 'PRP$', '-None-', 'NNP', 'VBN', 'PRP', ',', 'RB', 'DT', 'RB', '-None-', 'VBG', 'IN', 'PRP$', '-None-', 'PRP', 'VBN', 'PRP', ',', 'PRP$', 'NN', ',', 'IN', 'RB', 'VBG', 'PRP', 'TO', 'VB', 'CC', 'VB', 'DT', 'NNP', 'RB', 'IN', '-None-', 'PRP', 'VBN', 'VBZ', 'CC', 'VBN', ',', 'RB', 'VBG', 'PRP$', 'JJ', 'NN', 'IN', 'PRP$', 'VBN', '-None-', 'PRP', 'MD', 'RB', 'VB', 'PRP$', '-None-', 'IN', 'VBG', 'IN', 'PRP$', 'NNS', ',', 'VBG', 'DT', 'JJ', 'JJ', 'IN', 'PRP$', 'VBG', '-None-', 'PRP', 'VBD', 'DT', 'NN', 'IN', 'PRP$', 'NN', ',', 'RB', 'IN', 'DT', 'JJ', 'NN', 'IN', 'PRP$', 'VB', ',', 'RB', 'RB', 'VBG', 'PRP$', 'NN', 'IN', 'PRP', 'VBD', 'PRP$', 'NNS', 'TO', 'PRP$', 'VBP', '-None-', 'PRP', 'VBD', 'TO', 'VB', 'PRP', 'RB', ',', 'CC', 'RB', 'RB', 'PRP$', '-None-', 'VBD', 'TO', 'VB', 'DT', 'JJ', '-None-', 'PRP', 'VBD', 'VBG', 'PRP$', 'VB', ',', 'VBG', 'PRP$', 'NN', 'DT', 'RB', 'IN', 'PRP', 'VBN', 'PRP$', '-None-', '``', 'PRP', 'VBD', 'NNP', \"''\", '-None-', '-None-', \"''\", 'RB', ',', 'PRP', 'VBD', 'IN', 'PRP', 'MD', 'RB', 'VBP', 'NN', 'TO', 'NNP', 'PRP$', 'VBG', '-None-', 'PRP', 'VBD', 'RB', 'VBN', 'TO', 'VB', '-None-', 'PRP', '-None-', \"''\", '-None-', 'RB', 'VB', 'DT', 'NN', 'IN', 'PRP$', 'NN', '-None-', 'PRP', 'RB', 'VB', 'PRP$', 'NNS', 'CC', 'VBD', 'IN', 'PRP', 'TO', 'VB', 'WP', 'PRP', 'VBZ', ',', 'VBG', 'IN', 'PRP', 'VBD', 'DT', 'NN', 'JJ', 'IN', 'VBN', 'IN', 'DT', '-None-', '-None-', '-None-', '-None-', '-None-', 'CD', 'NNS', 'VBD', 'IN', 'PRP$', 'VBZ', 'IN', 'NN', 'NNP', \"''\", '-None-', 'NNS', 'IN', '-None-', '-None-', ',', '-None-', 'CC', 'NNP', 'VBN', 'RB', 'CC', 'RB', 'IN', 'WRB', 'NNP', 'VBD', 'VBG', ',', 'NN', 'DT', 'VBG', 'IN', 'NNS', 'CC', 'NNP', \"''\", '-None-', 'JJ', 'NNS', 'IN', 'DT', '-None-', 'NN', 'NN', 'TO', '-None-', 'NNP', 'RB', 'VBD', 'DT', 'NN', ',', 'JJ', 'PRP', 'JJ', ',', 'CC', 'RB', 'TO', 'VB', 'PRP', '-None-', '``', 'RB', ',', 'NNP', 'VBN', 'DT', '-None-', \"''\", 'PRP', 'VBN', ',', 'PRP$', 'NNS', 'RB', 'VBG', 'TO', 'VB', 'DT', 'NNP', 'NNP', '-None-', 'RB', 'VBN', 'PRP$', 'NN', 'IN', 'DT', 'NN', ',', 'NN', 'JJ', 'VBN', 'IN', 'PRP$', '-None-', '``', 'VBZ', 'NNP', 'IN', 'EX', '.', \"''\", 'PRP', 'VBD', ',', 'PRP$', 'NN', 'JJ', 'IN', 'NN', 'CC', '-None-', '``', 'NNP', 'VBZ', 'IN', 'NNP', \"''\", '-None-', 'VBN', ',', 'DT', 'CD', 'IN', 'PRP', '-None-', '``', 'NNP', ',', 'PRP', 'VBP', 'TO', 'VB', 'TO', 'NN', \"''\", '-None-', ',', '-None-', \"''\", 'NNP', 'VBD', ',', 'VBG', 'TO', 'VBP', 'TO', 'DT', '-None-', 'NN', \"''\", '-None-', 'NNS', ':', 'VBZ', 'PRP', '-None-', '.', '-None-', 'PRP', 'JJ', '.', 'DT', 'NNS', '.', 'NNS', '.', 'NN', 'NNS', '.', 'NN', 'NN', 'DT', 'NNP', '.', 'PRP', 'RB', 'VBP', 'NNS', '.', 'NN', '.', '.', 'NN', 'NN', 'NN', 'NN', '.', 'NNP', '.', 'NNP', '-None-', 'NN', 'CD', 'NN', \"''\", '-None-', 'NNS', ':', 'PRP', 'VBP', 'PRP', 'NNP', \"''\", '-None-', 'JJ', 'PRP$', 'NN', ',', 'RB', '.', '-None-', 'NN', ':', '.', 'UH', 'VBN', ',', 'PRP', 'RB', 'VBN', 'NNP', 'NNP', '.', 'RB', ',', 'PRP', 'VBD', '-None-', 'JJ', '.', '.', '.', '.', 'PRP', 'VBN', ',', 'PRP', '-None-', 'PRP', '-None-', '.', '.', '.', '.', '.', '.', '.', '.', '.', '.', '.', '.', '.', '.', '.', '.', '.', '.', '.', '.', 'WRB', 'VBD', 'NN', 'VBP', 'TO', 'VB', '.', '.', '.', '.', '.', '.', '.', '.', '.', '-None-', 'NNS', 'IN', '-None-', '-None-', 'NNS', '-None-', 'IN', ',', 'PRP', \"''\", '-None-', 'VBN', 'IN', 'JJ', 'NNS', '-None-', 'CC', 'PRP', \"''\", '-None-', 'RB', 'RB', 'NN', 'VBG', ',', 'PRP', '-None-', 'NNS', 'IN', 'NNP', 'NN', 'VBZ', '-None-', 'PRP', 'VBP', 'PRP', \"''\", '-None-', 'IN', 'PRP', ',', 'NN', 'PRP', '.', '-None-', 'NNP', \"''\", '-None-', '-None-', '-None-', 'PRP', 'VBD', 'TO', 'PRP', 'IN', '-None-', 'PRP', 'VBD', 'IN', 'TO', 'PRP$', 'NNS', 'CC', 'VB', 'PRP', 'VBP', 'PRP$', 'NN', ',', 'VBG', 'PRP', 'NN', 'IN', 'PRP', 'VBD', 'TO', '``', 'VB', \"''\", 'IN', 'PRP', 'IN', 'DT', '-None-', 'PRP$', ',', 'NNP', \"''\", '-None-', 'RB', 'JJ', ',', '-None-', \"''\", '-None-', 'PRP', '.', 'PRP', 'VBD', 'PRP$', 'NNS', ',', 'VBG', 'IN', 'WP', 'VBG', 'NN', 'MD', 'PRP', 'VBP', 'TO', 'PRP$', 'JJ', '-None-', 'PRP', 'VBN', 'DT', 'VBN', 'NN', 'IN', 'VBN', 'NN', 'IN', 'VBN', '-None-', 'RB', ',', 'PRP', 'VBD', 'PRP$', 'NNS', ',', 'VBG', 'PRP$', 'NN', 'IN', 'TO', 'VB', 'PRP$', 'NNS', 'IN', 'PRP$', 'JJ', 'NN', ',', 'PRP$', 'NN', 'VBG', 'RP', 'IN', 'PRP$', 'NN', ',', 'VBG', 'PRP$', 'NN', 'TO', 'VB', 'PRP', 'IN', 'NN', 'IN', 'DT', '-None-', 'PRP$', 'VBP', 'VBD', 'NN', 'IN', 'PRP$', 'NN', ',', 'VBG', 'PRP', 'DT', 'RB', 'CC', 'NNP', 'NNP', ',', 'PRP', 'MD', 'RB', 'VB', 'IN', 'VBN', 'NN', 'IN', 'PRP$', 'NN', 'IN', 'PRP', 'VBD', 'RB', 'RB', ',', 'PRP$', 'NN', 'NNS', 'VBG', 'IN', 'PRP', 'IN', 'IN', 'PRP', 'VBD', 'DT', 'JJ', 'NNP', 'CC', 'NNP', ',', 'PRP', 'VBP', '-None-', 'PRP', \"''\", '-None-', '-None-', 'VBG', 'IN', 'IN', 'PRP$', 'JJ', 'NN', 'TO', 'DT', 'IN', ',', 'PRP', \"''\", '-None-', 'VBN', 'PRP', ',', '-None-', 'CC', 'PRP', \"''\", '-None-', 'RB', 'VBG', 'RB', 'IN', '-None-', 'IN', 'WP', 'PRP', 'VBD', 'VBD', 'PRP', 'VBD', 'DT', 'VB', 'IN', 'TO', 'PRP$', 'VBN', 'NN', ',', 'VBG', 'PRP', 'IN', 'RB', ',', 'CC', 'RB', ',', 'IN', 'PRP', 'VBD', 'PRP', 'VBP', 'IN', '-None-', 'PRP', 'VBD', 'PRP$', 'NNS', 'VB', 'JJ', ',', 'PRP$', 'VBZ', 'VBN', 'IN', 'NN', 'IN', 'WP', 'PRP', 'VBD', 'TO', '-None-', 'PRP', 'VBN', 'TO', 'PRP', 'IN', '-None-', ':', 'PRP', 'VB', 'PRP$', 'NN', ',', '-None-', 'RB', ',', 'IN', 'VBG', 'PRP', 'VBP', 'IN', ',', 'PRP', 'VBN', 'PRP$', 'NNS', 'CC', 'NN', 'RP', 'TO', 'JJ', '-None-', 'RB', 'PRP', 'MD', 'VBP', 'IN', 'PRP', 'VBD', 'PRP$', 'NNS', 'IN', 'NN', ',', 'RB', 'VBG', 'WP', 'PRP', 'VBD', 'VBG', 'TO', 'PRP', 'RB', '-None-', '-None-', 'NNP', \"''\", '-None-', '-None-', '-None-', 'PRP', 'VBD', '-None-', 'DT', 'VBD', 'DT', 'EX', 'VBD', 'TO', '-None-', 'NNP', ',', 'WDT', 'MD', 'PRP', 'VBP', 'VBN', 'IN', 'DT', 'NN', 'VBD', 'VBG', 'PRP', '.', 'CC', 'PRP', \"''\", '-None-', 'RB', 'VBN', '.', 'PRP', 'RB', 'VBD', 'NNS', 'IN', 'JJ', 'JJ', ',', 'VBG', 'PRP$', '-None-', 'PRP', 'VBD', 'TO', 'VB', 'IN', 'TO', 'PRP$', 'NNS', ',', 'NN', 'IN', 'VBG', 'PRP', 'RB', 'RB', 'RB', 'IN', 'PRP', '-None-', 'CC', 'PRP$', 'NNS', '-None-', \"''\", '-None-', 'NNP', 'PRP', 'VBD', 'VBN', 'IN', 'PRP$', 'NNS', ',', '-None-', 'CC', 'JJ', 'TO', '-None-', 'RB', 'PRP', 'VBD', 'VBD', 'RB', ',', 'IN', 'NNP', 'IN', 'JJ', 'IN', 'PRP', ',', 'VBG', '-None-', 'VBG', 'MD', 'VB', '-None-', 'CC', 'PRP', 'VBD', 'PDT', '-None-', 'PRP', 'VBD', 'PRP$', 'NNS', 'VB', 'RP', 'IN', 'PRP$', 'NNS', 'RP', 'TO', 'PRP$', 'NN', ',', 'VBG', 'PRP$', 'NNS', 'DT', 'IN', '-None-', 'PRP', 'VBN', 'RB', ',', 'VBG', 'PRP$', 'JJ', 'NNS', 'VBD', 'IN', 'PRP$', 'NN', ',', 'JJ', 'NN', ',', 'VBG', 'WP', 'PRP', '-None-', 'PRP', 'VBN', 'JJR', 'WRB', 'PRP', 'VBD', 'PRP', 'VB', 'DT', 'NN', 'JJ', ',', 'WDT', 'PRP', '-None-', \"''\", '-None-', 'NN', ',', 'VBG', 'PRP', 'VB', 'DT', 'VBN', 'NNP', 'VB', 'CC', 'VBP', 'IN', 'PRP', 'IN', 'VBD', '-None-', '``', 'WRB', 'VBD', \"''\", '-None-', 'PRP', 'JJ', 'PRP', 'RB', '.', \"''\", 'PRP', 'VBD', 'IN', 'PRP', ',', 'PRP$', 'NNS', 'RB', 'VBD', 'IN', 'NN', '-None-', '``', 'PRP', ':', 'PRP', ':', \"''\", 'RB', ',', 'PRP', 'VBD', 'IN', 'DT', 'JJ', 'NN', 'CC', '-None-', \"''\", '-None-', 'VBP', 'DT', '-None-', 'NNP', 'VBN', 'PRP', ',', 'NN', 'IN', ',', 'VBG', 'IN', 'PRP$', '-None-', 'PRP', 'VBN', 'PRP', 'IN', 'PRP$', 'VB', ',', 'VBG', 'PRP$', 'NNS', 'JJ', 'DT', 'JJ', 'NNS', 'IN', 'DT', '-None-', 'PRP$', 'JJ', 'NN', 'VBD', '-None-', ',', 'CC', 'PRP', 'VBD', 'IN', 'DT', 'NN', 'VBG', 'IN', 'PRP$', '-None-', '``', '-None-', '-None-', '.', \"''\", '-None-', 'VBD', 'IN', 'DT', 'NN', ',', 'VBG', 'PRP$', 'NN', 'IN', 'DT', 'NNP', '-None-', '``', '-None-', '.', '.', \"''\", '-None-', 'VBN', ',', 'VBG', 'IN', 'NN', 'NN', 'DT', '-None-', '``', '-None-', ',', 'WDT', \"''\", '-None-', 'PRP$', 'NN', '.', \"''\", 'DT', 'JJR', 'NNP', 'VBD', ',', 'RB', 'VBG', 'DT', 'NN', 'TO', 'DT', 'CD', 'VBN', '-None-', 'IN', 'VBG', 'WRB', 'JJ', 'DT', 'CD', 'VBD', ',', 'NN', 'VB', 'PRP$', 'NNP', 'IN', 'CC', 'VBD', 'RB', 'WP', 'VBD', 'DT', '-None-', 'NNP', 'VBN', 'PRP', ',', 'CC', 'RB', 'VBG', 'DT', 'NN', 'VBN', 'RP', 'DT', 'NNS', 'TO', 'VB', 'DT', 'JJ', '-None-', 'CC', '-None-', 'DT', 'NN', 'VBD', '-None-', 'PRP', 'VBD', 'NNP', 'PRP', 'VBD', ':', '-None-', 'VBD', 'IN', 'WP', 'DT', 'NN', 'NN', 'VBD', 'VBG', 'TO', '-None-', 'VBD', 'IN', 'WP', 'NNP', 'MD', 'VB', 'VBG', ':', 'JJ', 'IN', 'RB', '-None-', 'NN', 'VBD', 'IN', 'PRP$', 'NNS', ',', 'VBG', 'PRP', 'NN', 'VB', 'IN', 'PRP', 'NNP', 'IN', 'DT', '-None-', 'PRP', 'VBD', 'IN', 'PRP$', 'NN', 'TO', 'DT', 'NN', 'NNP', ',', 'NN', 'IN', 'VBG', 'NNP', 'IN', 'NNP', \"''\", '-None-', 'VBN', '-None-', '``', 'IN', ',', '-None-', '.', \"''\", '-None-', 'VBD', 'DT', 'NN', ',', 'VBP', 'VBN', 'IN', 'PRP$', 'JJ', 'JJ', '-None-', '-None-', 'VBN', 'IN', 'PRP', 'RB', ',', 'VBG', 'IN', 'DT', 'JJR', '-None-', '``', '-None-', ',', '-None-', 'PRP', \"''\", '-None-', '-None-', \"''\", '-None-', '-None-', '-None-', '-None-', 'DT', 'NNP', 'VBD', 'JJ', 'IN', 'DT', 'NN', ',', 'VBN', 'RB', 'IN', 'DT', 'CD', 'VBG', 'IN', 'PRP', 'VBD', 'VBG', 'DT', 'JJ', 'NNS', 'IN', 'DT', 'NNP', 'NNP', '-None-', \"''\", '-None-', 'NN', 'PRP$', 'NNS', 'RB', 'IN', 'NNP', \"''\", '-None-', 'VB', ':', 'PRP', 'VBD', 'PRP', 'VBD', 'IN', '-None-', 'NNP', 'VBN', 'IN', '-None-', '``', 'JJR', 'PRP', ',', '-None-', \"''\", 'NNP', 'VBN', 'RB', ',', 'PRP$', 'JJ', 'NNS', 'VBG', ',', 'PRP$', 'NN', 'NNP', 'IN', 'NNP', 'VBN', 'RB', 'IN', 'PRP', ',', '-None-', 'NNP', 'VBD', 'PRP', 'JJ', ',', 'RB', 'NN', 'DT', 'NNS', 'WDT', 'MD', 'VB', 'DT', 'NN', 'IN', 'NNP', \"''\", '-None-', '-None-', '``', 'PRP', 'VBD', \"''\", '-None-', 'NN', 'PRP', '.', \"''\", 'NNP', 'VBD', ',', 'IN', 'IN', 'VBG', 'IN', 'DT', 'JJR', 'NNP', 'NNP', 'VBN', 'RB', ',', 'VBG', 'IN', 'NN', ',', 'VBG', 'NNP', \"''\", '-None-', 'NN', 'RB', 'PRP$', 'NN', 'IN', 'PRP$', '-None-', 'NNP', 'NNS', 'VBD', ',', 'IN', 'DT', 'NN', ',', 'DT', '-None-', 'NN', 'VBD', 'JJ', 'IN', 'JJ', 'NN', 'IN', 'DT', '-None-', 'NNP', 'PRP', 'VBD', 'JJ', ',', 'VBG', ',', 'VBG', 'IN', 'PRP$', 'NN', 'VBD', 'TO', 'VB', 'TO', 'DT', 'NNS', 'PRP', 'VBD', '-None-', 'PRP$', 'NN', 'VBD', 'TO', 'VBP', ',', 'PRP$', 'NN', 'VB', 'RB', ',', 'CC', 'IN', 'IN', 'PDT', 'DT', 'NN', ',', 'PRP', '-None-', \"''\", '-None-', 'NN', 'DT', 'JJ', 'NNP', 'PRP$', 'NN', 'VBD', 'VBG', '-None-', 'IN', 'PDT', 'DT', ',', 'NN', 'VBG', 'IN', 'PRP$', 'NN', 'VBN', '-None-', 'JJ', 'VBD', 'TO', 'VB', 'VBN', 'RP', 'IN', 'PRP$', 'NNS', ',', 'PRP$', 'NNP', 'JJ', 'RP', 'RB', 'PRP', 'VBD', 'TO', '-None-', 'IN', '-None-', 'PRP', 'VBD', 'VBN', 'IN', 'DT', 'NN', 'IN', 'PRP', 'VBD', 'TO', 'VB', 'RP', 'PRP$', 'NN', 'TO', 'PRP$', 'NNP', ',', 'VBG', 'TO', 'VB', 'DT', 'NNS', 'IN', 'PRP$', 'NNS', 'TO', 'PRP$', '-None-', 'RB', 'NN', 'VBN', 'PRP$', 'NNS', ',', 'DT', 'NN', 'IN', 'PRP$', 'NN', 'VBG', 'IN', 'DT', 'JJ', 'NN', ',', 'PRP$', 'NNS', 'JJ', 'JJ', 'IN', 'IN', 'PRP$', 'NNP', 'PRP', 'VBD', 'RB', 'VBD', ',', 'DT', 'JJ', 'NN', 'IN', 'PRP$', '-None-', 'IN', '-None-', 'NNP', 'JJ', 'PRP$', 'NN', 'RB', ',', 'VBG', 'RP', 'NN', 'RB', 'NNP', 'PRP', 'VBD', 'TO', 'NNP', 'IN', 'DT', 'RB', 'PRP', 'VBD', 'VBG', 'TO', '-None-', 'NNP', '-None-', '``', 'PRP', 'RB', 'VBD', \"''\", '-None-', 'NN', '-None-', \"''\", 'PRP', 'VBD', 'TO', 'VBP', 'TO', 'DT', 'NNP', 'IN', 'VBN', 'IN', 'DT', 'RB', 'NN', 'IN', 'DT', '-None-', '``', 'PRP$', ',', 'PRP$', ':', 'NNS', \"''\", '-None-', 'PRP', '-None-', \"''\", 'PRP', 'VBD', 'NN', 'IN', 'DT', 'NNP', ',', 'JJ', 'PRP', 'CC', 'VBG', 'IN', 'TO', 'VB', 'DT', '-None-', '``', 'IN', 'PRP', 'VBP', 'TO', 'VB', 'RB', 'TO', 'PRP$', 'JJ', '-None-', \"''\", 'NNP', \"''\", '-None-', 'NN', 'NNS', 'NNS', '-None-', 'PRP', ',', 'NN', ',', 'NNP', 'CC', '-None-', 'VBD', 'RB', 'TO', 'VB', 'RP', 'DT', 'VBN', 'NNP', 'NNS', ',', '-None-', 'CC', '-None-', 'VBG', 'IN', '-None-', 'PRP', 'VBP', 'VBN', 'VBG', 'PRP', 'IN', 'DT', 'NN', 'RB', ',', 'IN', 'NN', 'NN', 'JJ', 'IN', 'IN', 'DT', 'NNP', 'NN', 'CC', 'NNP', 'VBD', 'RP', ',', 'VBG', '-None-', 'CC', 'PRP', 'TO', 'VB', 'DT', 'JJ', '-None-', 'DT', 'CD', 'VBD', 'RP', 'DT', 'JJ', 'NNS', ',', 'VBG', 'NNS', 'PRP', 'IN', 'JJ', 'NN', ',', 'RB', 'VBG', '-None-', 'CC', 'VBG', '-None-', 'DT', 'VBN', 'NNP', 'NNP', 'NNP', 'VBD', 'DT', 'NN', 'IN', 'PRP$', 'NN', 'NN', ',', 'JJ', 'TO', 'JJ', 'PRP', 'IN', 'DT', 'JJR', '-None-', 'PRP', '-None-', \"''\", '-None-', 'NN', 'NN', ':', 'CC', 'NN', ':', 'VB', 'IN', 'JJ', 'NN', 'IN', 'DT', 'NN', 'PRP', 'CC', '-None-', 'VBN', 'IN', 'PRP$', '-None-', 'PRP', '-None-', \"''\", '-None-', 'NN', 'NN', 'IN', 'RB', ',', 'JJ', 'NN', 'CC', 'JJ', 'JJ', 'NNS', 'VBN', 'IN', 'NN', 'NN', 'IN', 'NN', 'IN', 'NNP', 'CC', 'VBD', 'PRP', 'NNS', 'IN', 'PRP', ',', 'VBG', 'PRP', 'IN', 'DT', 'NN', 'IN', 'NNP', \"''\", '-None-', 'NN', ',', 'PRP$', 'JJ', 'NNS', 'JJ', 'IN', 'DT', 'VBN', 'NNP', 'NNP', 'CC', 'NN', 'VBD', 'IN', '-None-', ',', 'VBG', 'DT', '-None-', 'NN', 'RP', 'IN', 'NN', 'TO', 'VB', 'DT', 'NN', 'NN', 'IN', 'VBG', 'NN', '-None-', 'PRP', ',', '-None-', 'CC', '-None-', 'VBD', 'DT', 'NN', ',', 'JJ', 'TO', 'VB', 'CC', 'NN', '-None-', 'CC', '-None-', 'CC', 'EX', 'VBD', 'NN', '-None-', 'NN', '-None-', 'NNP', '-None-', \"''\", '-None-', '-None-', 'DT', 'NN', '.', '-None-', 'NN', \"''\", '-None-', 'NNS', ':', 'VBZ', 'IN', 'DT', 'NN', '.', 'PRP', 'NNP', \"''\", '-None-', '-None-', 'IN', 'NN', 'VBZ', 'DT', 'VBN', ',', 'VB', 'NN', '.', 'CC', 'RB', 'PRP', \"''\", '-None-', 'VB', 'PRP', 'IN', 'DT', ',', 'NN', '.', 'VB', 'TO', 'IN', ':', '-None-', ':', 'PRP', \"''\", '-None-', 'VBG', 'RB', '-None-', '-None-', 'VB', '-None-', 'WRB', 'VBD', 'PRP', 'VBP', 'PRP', 'VBD', 'DT', 'NNP', 'NNP', 'CD', 'NNS', 'JJ', '.', 'PRP', \"''\", '-None-', 'RB', 'DT', 'NN', ',', 'VBP', 'PRP', '.', 'CD', 'NNS', 'PRP$', 'NN', 'IN', 'DT', 'JJ', '-None-', 'NN', ',', 'PRP', 'VB', 'PRP$', 'NNP', ',', 'CC', 'VB', 'VB', 'NNP', 'CC', 'NNS', 'IN', 'PRP$', 'NN', 'IN', 'PRP$', '-None-', ':', 'PRP', 'VBD', 'VBN', ':', 'IN', ',', 'VB', 'NN', 'IN', 'PRP', 'VBP', 'DT', 'VBN', '.', 'CC', 'RB', 'IN', 'PRP', 'VBP', 'DT', 'NNS', '.', 'NNP', 'DT', 'JJ', 'NN', '.', '.', '.', 'NNP', '-None-'], 'pos_tag_chunks': ['CC', 'NP', '-None-', ',', 'VP', ',', 'IN', 'NP', 'NP', \"''\", '-None-', 'VP', '-None-', 'CC', 'NP', 'VP', 'NP', 'VP', 'NP', 'IN', 'NP', 'VP', 'NP', 'IN', 'NP', '-None-', 'NP', 'VP', 'IN', 'NP', 'IN', 'NP', ',', 'VP', 'NP', 'VP', 'NP', 'IN', 'NP', 'VP', 'NP', 'IN', 'NP', 'IN', 'NP', 'IN', '-None-', '``', '-None-', \"''\", 'NP', 'VP', 'RP', ',', 'VBG', 'IN', 'NP', 'VP', 'NP', 'NP', '-None-', 'VP', ',', 'NP', 'VP', 'NP', 'VBG', ',', 'VP', ',', 'CC', 'NP', 'VP', 'VBG', 'VP', 'NP', 'IN', 'NP', 'VP', '-None-', '``', '-None-', ',', 'NP', ',', \"''\", 'NP', 'VP', ',', 'VP', 'VBG', 'NP', 'NP', 'IN', 'NP', 'IN', 'NP', 'VP', ':', 'NP', 'VP', 'NP', 'CC', 'NP', 'VP', 'NP', 'NP', 'VP', 'NP', ',', 'CC', 'NP', 'CC', 'NP', 'VP', ',', 'VBG', 'IN', 'NP', 'VP', '-None-', '``', '-None-', \"''\", 'NP', ',', \"''\", 'NP', 'VP', 'NP', ',', 'VBG', 'NP', 'IN', 'VP', 'NP', 'VP', 'NP', 'VP', 'NP', '-None-', '``', 'NP', \"''\", '-None-', 'VP', ',', 'NP', '.', 'NP', \"''\", '-None-', 'NP', '-None-', 'VP', '-None-', \"''\", 'NP', 'VP', 'NP', 'NP', 'IN', 'NP', ',', 'CC', 'IN', '-None-', \"''\", '-None-', 'NP', '-None-', 'NP', 'VP', 'NP', 'WRB', 'NP', 'VP', ',', 'VP', 'NP', '-None-', '``', 'NP', ',', \"''\", 'NP', 'VP', ',', 'VBG', 'VP', 'NP', '-None-', '``', 'NP', \"''\", '-None-', 'VP', 'IN', ':', 'NP', \"''\", '-None-', 'VP', 'IN', 'NP', ':', 'NP', \"''\", '-None-', 'VP', 'NP', 'CC', 'NP', \"''\", 'NP', 'VP', 'NP', 'VP', 'IN', '-None-', '``', 'NP', '-None-', \"''\", '-None-', 'NP', 'VP', ':', \"''\", '``', 'NP', \"''\", '-None-', 'NP', 'NP', 'VP', 'NP', '-None-', \"''\", 'NP', 'VP', '-None-', '-None-', ',', 'IN', 'NP', 'NP', 'VP', 'NP', '-None-', '``', '-None-', \"''\", 'NP', ',', 'VP', \"''\", '-None-', 'VP', '-None-', \"''\", 'NP', 'IN', 'VP', 'NP', 'IN', '-None-', 'NP', 'NP', 'VBG', 'NP', 'VP', 'NP', 'VP', 'IN', 'NP', 'IN', 'NP', '-None-', \"''\", '-None-', 'NP', 'VP', 'NP', ',', 'CC', 'NP', 'VP', 'NP', 'IN', 'NP', '-None-', '``', 'NP', ',', \"''\", 'NP', 'VP', ',', 'VBG', 'NP', 'IN', 'NP', '-None-', '``', 'NP', \"''\", '-None-', 'VBG', 'VP', '-None-', 'VP', 'NP', 'VP', ',', 'CC', 'NP', 'VP', 'NP', \"''\", '-None-', 'VP', '-None-', 'NP', 'VP', 'NP', 'IN', '-None-', \"''\", 'NP', 'VP', 'NP', 'IN', 'NP', 'VP', 'NP', '-None-', '-None-', 'VP', 'IN', 'NP', 'IN', 'VP', 'RP', 'NP', 'CC', 'NP', \"''\", '-None-', 'VP', '-None-', '``', 'NP', ',', 'NP', \"''\", '-None-', 'VP', '-None-', \"''\", '-None-', 'VP', 'IN', 'NP', ',', 'CC', 'NP', 'VP', '-None-', 'NP', 'VP', 'RP', 'IN', 'NP', 'IN', '-None-', '``', 'NP', 'VP', 'NP', 'VP', 'NP', 'IN', 'NP', ':', \"''\", 'NP', 'VP', 'NP', 'VP', 'NP', ',', 'VBG', 'NP', 'IN', 'NP', '-None-', 'NP', 'IN', 'VBG', '-None-', 'NP', 'VP', 'IN', 'NP', 'VP', ',', 'VP', ',', 'VP', 'IN', 'VP', 'NP', 'IN', 'NP', 'VP', '-None-', 'NP', 'VP', 'NP', 'CC', 'VP', 'NP', 'VP', 'NP', ',', 'VBG', 'VP', 'NP', 'IN', '-None-', 'NP', 'VP', 'NP', 'VP', 'NP', 'VP', 'IN', 'NP', ',', '-None-', \"''\", '-None-', 'NP', '.', 'NP', '-None-', \"''\", '-None-', 'NP', 'VP', 'CC', 'VP', 'NP', 'NP', 'CC', '-None-', 'VP', ',', 'NP', 'VP', 'NP', 'IN', 'NP', ',', 'NP', 'VP', ',', 'VP', '-None-', 'NP', 'VP', 'NP', '-None-', 'CC', 'VP', 'NP', 'VP', \"''\", '-None-', 'VP', 'IN', 'NP', 'IN', 'NP', 'IN', 'NP', '-None-', \"''\", '-None-', 'VP', 'RP', '-None-', 'NP', 'VP', ',', 'VBG', 'VP', 'NP', 'NP', 'VP', 'NP', 'IN', 'NP', 'VP', 'NP', 'VP', 'RP', 'IN', 'NP', ',', 'NP', 'VP', 'NP', ',', 'VP', 'NP', 'NP', 'VP', 'NP', 'IN', '-None-', 'NP', 'VP', 'NP', 'IN', 'NP', 'VP', 'VBG', 'VP', 'NP', 'IN', 'NP', 'VP', ',', 'IN', 'NP', 'VP', ',', 'VP', 'NP', 'VP', 'IN', 'NP', '-None-', 'NP', 'VP', ',', 'NP', 'IN', 'NP', ',', 'VBG', 'IN', 'VP', ',', 'NP', 'NP', 'VP', 'NP', 'VP', '-None-', '``', 'NP', ',', 'VP', 'RP', 'NP', \"''\", 'NP', 'VP', ',', 'VBG', 'NP', '-None-', 'VP', 'IN', 'NP', '-None-', 'NP', 'VP', '-None-', '``', 'NP', 'VP', 'NP', 'VP', ',', 'NP', '.', \"''\", '``', 'NP', \"''\", '-None-', 'VP', 'NP', 'NP', '-None-', \"''\", '``', 'NP', '.', '.', \"''\", 'NP', 'VP', 'IN', 'NP', '-None-', '``', 'NP', 'VP', 'NP', 'VP', '.', 'NP', 'VP', 'NP', 'CC', 'NP', 'VP', 'IN', 'WRB', 'NP', 'NP', \"''\", 'NP', \"''\", '-None-', 'NP', '-None-', '``', 'NP', 'NP', \"''\", '-None-', 'VP', 'NP', 'VP', 'IN', 'NP', 'VP', 'IN', 'NP', ',', '-None-', 'NP', 'NP', 'CC', 'NP', 'CC', 'NP', 'VP', 'NP', '-None-', 'NP', 'VP', '-None-', 'NP', 'NP', '-None-', 'NP', 'VBG', 'IN', 'NP', 'VP', 'IN', '-None-', \"''\", '-None-', 'NP', \"''\", '-None-', '-None-', '-None-', 'NP', 'VP', 'IN', 'NP', 'VP', 'NP', '-None-', 'IN', 'NP', 'NP', 'VP', 'NP', \"''\", '-None-', 'VBG', 'VP', ',', 'IN', 'NP', ',', 'IN', 'NP', 'VP', 'NP', 'NP', '-None-', 'NP', 'VP', 'NP', 'VP', 'NP', '-None-', 'NP', 'VP', 'NP', 'IN', 'NP', 'VP', ',', 'VP', 'IN', 'NP', 'VP', 'NP', 'IN', 'NP', 'NP', 'VP', 'IN', 'NP', 'VP', ':', 'CC', 'NP', 'VP', 'NP', 'IN', 'NP', '-None-', 'NP', 'VP', 'NP', 'IN', 'NP', 'VP', 'NP', 'VP', 'VP', 'NP', '-None-', 'NP', 'VP', 'NP', 'VP', ',', 'VBG', 'NP', ',', 'VBG', 'IN', 'NP', 'NP', 'VP', 'NP', 'VP', 'NP', 'VP', 'NP', ',', 'CC', 'NP', 'VP', 'IN', 'IN', '-None-', 'NP', 'VP', 'NP', 'IN', 'NP', 'VP', '-None-', 'NP', 'VP', 'IN', 'NP', ',', 'VP', 'NP', ',', 'IN', 'IN', 'NP', 'VP', '-None-', 'NP', 'VP', ',', 'CC', 'NP', 'VP', 'IN', 'IN', 'VBG', 'NP', 'NP', ',', 'VBG', 'NP', 'VP', 'IN', '-None-', 'IN', 'VP', 'NP', '-None-', 'VP', ',', 'NP', 'VP', 'IN', 'NP', 'IN', 'NP', ',', 'NP', 'VP', 'RP', 'CC', 'VP', 'NP', 'NP', '-None-', '-None-', 'NP', 'VP', ':', 'CC', 'VP', 'NP', ':', 'IN', 'NP', '-None-', 'NP', 'VP', 'NP', 'VBG', 'IN', 'VP', 'NP', 'VBG', 'NP', ',', 'NP', 'IN', 'NP', 'IN', 'NP', 'VP', 'IN', 'NP', '-None-', 'CC', 'IN', 'NP', ',', 'NP', 'VP', ',', 'CC', 'VP', 'NP', 'VP', 'NP', '-None-', 'IN', 'NP', 'VP', ',', 'NP', 'VP', ',', 'CC', 'VP', 'NP', 'VP', '-None-', 'VP', 'NP', 'VP', 'IN', 'NP', ',', 'IN', 'NP', 'NP', 'VP', 'NP', 'VP', 'IN', 'NP', ',', 'NP', 'VP', 'VBG', 'RP', 'NP', 'IN', 'NP', 'VP', '-None-', 'NP', 'VP', 'NP', 'VP', ',', 'VBG', 'NP', 'IN', 'NP', ',', 'CC', 'VBG', 'IN', 'NP', 'IN', 'NP', 'VP', 'NP', 'IN', 'NP', 'VP', 'IN', 'NP', '-None-', 'NP', 'NP', ',', 'NP', 'VP', '-None-', 'NP', 'VP', 'NP', ',', 'VBG', 'NP', ',', 'VP', 'NP', '-None-', 'CC', 'NP', 'NP', '-None-', 'VP', ',', 'NP', 'VP', 'NP', 'NP', 'VP', 'IN', 'NP', ',', 'IN', 'IN', 'NP', ',', 'NP', 'VP', 'NP', 'NP', 'VP', 'VBG', 'VP', 'NP', '-None-', 'NP', 'VP', 'NP', ',', 'CC', 'VP', 'NP', 'IN', 'NP', '-None-', 'NP', 'VP', 'NP', 'VP', ':', 'CC', 'VP', ':', 'NP', 'NP', ',', 'VBG', 'IN', 'NP', 'VP', 'NP', '-None-', 'NP', 'VP', ',', 'NP', 'VP', ',', 'CC', 'VP', '-None-', '-None-', 'NP', 'NP', 'VP', ',', 'VP', 'VBG', 'NP', 'VP', 'IN', 'NP', '-None-', 'VP', ',', 'NP', 'VP', 'NP', 'VP', 'NP', 'IN', 'VP', 'VBG', 'IN', '-None-', '``', 'NP', ':', '.', \"''\", 'NP', \"''\", '-None-', 'NP', ':', 'NP', '.', 'NP', '.', 'NP', '.', 'NP', 'VP', 'NP', 'VP', ',', 'CC', 'VP', '.', 'NP', 'IN', 'NP', 'NP', '-None-', ',', 'VP', 'NP', ',', 'IN', 'NP', '-None-', 'NP', 'NP', 'CC', 'NP', '.', 'NP', 'NP', \"''\", '-None-', 'NP', ':', 'NP', 'VP', 'NP', '-None-', 'VP', 'NP', 'IN', 'NP', 'VP', 'IN', 'NP', '-None-', 'NP', 'VP', 'NP', 'VP', 'NP', ',', 'CC', 'VP', ',', '-None-', 'NP', 'VP', 'VBG', 'VP', 'IN', 'NP', 'NP', \"''\", '-None-', 'NP', '-None-', 'NP', 'VP', 'NP', 'VP', '.', '-None-', 'NP', \"''\", '-None-', '-None-', '-None-', 'NP', '-None-', 'IN', 'NP', ',', 'NP', ',', 'VBG', 'IN', 'NP', '-None-', 'NP', 'VP', 'VBG', 'VP', 'NP', ',', 'VBG', '-None-', 'VP', 'IN', 'NP', 'IN', 'NP', '-None-', \"''\", '-None-', 'VBG', ':', 'NP', 'IN', 'NP', 'VP', 'NP', '-None-', ',', 'IN', 'NP', 'VP', '-None-', 'NP', 'VP', 'NP', 'VP', 'IN', 'NP', ',', 'IN', 'IN', 'VBG', 'IN', '-None-', 'NP', 'VP', 'NP', 'VBG', 'RP', 'VP', 'NP', 'VP', 'IN', 'NP', ',', 'NP', 'VP', 'IN', 'NP', 'VP', 'NP', 'RP', 'IN', '-None-', 'WRB', 'VP', 'NP', 'VP', 'IN', 'NP', 'VP', '-None-', ',', 'NP', 'VP', '.', 'NP', ',', 'NP', \"''\", '-None-', 'VP', 'NP', '-None-', 'VP', 'NP', ',', 'NP', 'NP', \"''\", '-None-', 'VP', 'WRB', 'NP', '-None-', 'NP', 'VP', 'VBG', 'IN', 'NP', ',', 'VBG', 'VP', '-None-', 'IN', 'NP', 'VP', ',', 'IN', 'NP', 'VP', 'VBG', 'NP', 'IN', 'NP', 'NP', '-None-', 'VP', 'IN', 'NP', ',', 'NP', 'CC', 'VP', 'IN', 'VBG', 'NP', '-None-', 'IN', 'NP', 'VP', 'RP', 'IN', 'NP', 'VP', ',', 'CC', 'VBG', 'IN', 'NP', 'VP', 'NP', 'VP', 'IN', 'VBG', 'RP', 'IN', 'NP', ',', 'NP', 'VP', 'NP', '-None-', 'NP', 'VP', 'NP', 'CC', 'NP', ',', 'VP', 'NP', 'CC', 'NP', 'VP', 'NP', '-None-', 'NP', 'VP', '-None-', \"''\", '-None-', 'VP', ',', 'CC', 'NP', 'VP', '-None-', 'IN', '-None-', 'CC', 'VP', ',', 'NP', 'VP', '-None-', 'NP', 'IN', 'NP', ',', 'IN', 'NP', 'CC', '-None-', ',', 'VP', 'VBG', 'IN', 'NP', 'NP', 'VP', 'NP', 'NP', 'NP', 'VP', 'NP', 'IN', 'NP', ',', 'NP', ',', 'NP', 'CC', 'NP', ',', 'CC', 'NP', 'VP', 'IN', 'NP', '-None-', 'NP', 'NP', 'NP', ',', 'IN', 'NP', 'VP', ',', 'VBG', 'IN', 'NP', '-None-', 'NP', 'NP', 'IN', 'NP', 'VP', 'VBG', 'IN', 'NP', ',', 'VP', 'NP', 'IN', 'NP', '-None-', 'VBG', 'VP', ',', 'NP', 'VP', 'IN', 'VP', 'NP', 'NP', 'IN', 'NP', ',', 'VBG', 'WRB', 'NP', 'NP', 'NP', 'NP', 'VP', 'IN', 'NP', 'VP', 'IN', 'NP', ',', 'IN', 'IN', 'NP', 'VP', '-None-', 'CC', 'IN', 'NP', 'VP', '-None-', 'NP', 'VP', 'IN', '-None-', ',', 'CC', 'IN', 'NP', '-None-', 'NP', 'VP', 'IN', 'NP', 'VP', ',', 'IN', 'NP', 'VP', 'NP', ',', 'VP', 'NP', ',', 'CC', 'IN', 'NP', 'VP', 'NP', 'NP', 'VP', '-None-', 'NP', \"''\", '-None-', 'VP', 'IN', 'NP', 'NP', '-None-', \"''\", '-None-', 'VP', 'IN', ':', 'CC', 'IN', 'VP', 'IN', 'NP', 'VP', '-None-', 'IN', 'NP', '-None-', 'NP', '-None-', \"''\", '-None-', 'VP', 'NP', ':', 'NP', 'VP', 'NP', ',', 'VP', 'NP', 'IN', '-None-', 'NP', 'VP', 'NP', 'VP', 'IN', 'NP', ',', 'NP', 'VP', ',', 'NP', 'VP', 'NP', 'IN', 'NP', 'VP', 'NP', 'VP', 'NP', 'IN', 'NP', 'IN', 'NP', 'VP', 'NP', '-None-', 'NP', ',', 'WRB', 'NP', 'VP', 'IN', '.', 'NP', 'VP', 'IN', '-None-', 'IN', ',', 'NP', 'VP', ',', 'VP', ',', 'VP', ',', 'IN', 'NP', 'VP', 'IN', 'NP', 'VBG', '-None-', 'NP', 'NP', 'NP', ',', '-None-', 'NP', 'NP', 'NP', 'IN', 'VBG', 'NP', 'VP', '-None-', 'CC', ':', 'NP', 'NP', 'NP', 'NP', 'IN', 'VBG', 'NP', 'IN', 'NP', 'NP', 'VP', '-None-', 'NP', ',', 'NP', 'VP', '-None-', 'IN', ',', 'NP', 'NP', \"''\", '-None-', 'NP', ':', 'NP', \"''\", '-None-', '-None-', 'NP', \"''\", '-None-', 'VP', 'NP', 'VP', ',', 'NP', \"''\", '-None-', 'NP', 'IN', '-None-', 'NP', 'VP', 'NP', '-None-', '-None-', 'NP', \"''\", '-None-', '-None-', '-None-', 'NP', 'VP', 'NP', 'IN', 'VP', 'NP', ',', 'VBG', 'NP', 'IN', 'NP', '-None-', 'NP', 'VP', 'NP', ',', 'VP', 'NP', 'VP', 'NP', \"''\", '-None-', ',', 'IN', 'NP', ',', 'VBG', 'NP', 'VP', 'NP', 'NP', 'NP', 'VP', 'NP', ',', 'CC', 'NP', 'VP', '-None-', 'NP', 'VBG', 'IN', 'NP', '-None-', 'NP', 'VP', 'NP', 'WRB', 'VP', 'NP', 'VP', 'NP', 'VP', 'NP', 'WRB', 'NP', 'VP', '-None-', 'VP', 'IN', 'NP', 'VP', 'RP', ':', 'NP', 'VP', 'RP', 'VP', 'NP', 'NP', 'VP', 'NP', 'VP', 'IN', 'NP', 'NP', 'NP', 'VP', 'NP', 'IN', 'NP', ',', 'VP', 'NP', ',', 'NP', 'IN', 'NP', '-None-', 'NP', 'VP', 'NP', ',', 'NP', 'NP', 'IN', 'NP', ',', 'NP', 'VP', 'IN', '-None-', 'NP', \"''\", '-None-', 'IN', 'VP', 'NP', ',', 'CC', 'VBG', 'IN', 'NP', ',', 'NP', 'VP', 'NP', 'VP', 'NP', 'IN', 'NP', '-None-', 'NP', 'VP', 'NP', ',', 'VBG', 'NP', 'VP', 'NP', 'VP', ',', 'VBG', 'NP', 'VP', 'NP', 'NP', 'IN', 'NP', ',', 'VP', 'NP', '-None-', 'CC', 'NP', ',', 'NP', 'VP', ',', 'VP', 'NP', 'NP', 'VP', 'NP', '-None-', 'NP', 'VP', 'VBG', 'NP', 'VP', 'IN', 'NP', ',', 'NP', ',', 'IN', 'IN', 'NP', 'VP', 'IN', 'NP', 'NP', 'VP', '-None-', 'NP', 'VP', 'IN', 'WRB', 'NP', 'VP', 'NP', 'NP', 'VP', ',', 'CC', 'NP', 'VP', 'NP', 'NP', 'VP', 'IN', 'NP', ',', 'VP', 'IN', 'NP', 'IN', 'NP', 'VP', 'NP', 'IN', 'VBG', 'NP', 'VP', '-None-', 'NP', 'VP', 'NP', 'VP', '-None-', 'NP', 'VP', 'NP', 'VBG', '-None-', '-None-', 'NP', 'VP', 'NP', ',', '-None-', 'NP', 'NP', 'IN', 'NP', 'VP', 'NP', ',', 'VBG', 'NP', ',', 'NP', '-None-', 'NP', 'VP', 'NP', 'VP', 'IN', 'NP', ',', 'VBG', 'IN', 'NP', '-None-', \"''\", '-None-', 'NP', 'IN', 'NP', 'VP', 'RP', 'CC', 'NP', '-None-', 'VP', '-None-', '``', 'NP', ':', '.', \"''\", 'NP', 'VP', 'IN', 'NP', ',', 'NP', 'NP', 'IN', '-None-', '-None-', 'NP', \"''\", '-None-', '-None-', '-None-', 'NP', 'VP', 'IN', 'NP', 'IN', 'IN', 'NP', 'VP', 'NP', 'IN', 'VP', 'NP', '-None-', 'CC', 'NP', 'VP', 'NP', 'IN', 'NP', 'VP', 'IN', ':', 'NP', \"''\", '-None-', 'NP', 'NP', 'VP', 'RP', 'IN', 'NP', 'VP', '-None-', 'NP', 'VP', 'IN', 'NP', 'VP', 'NP', 'IN', 'NP', '-None-', ',', 'VBG', 'NP', 'VP', ',', 'VBG', 'NP', '-None-', '``', 'NP', 'NP', ',', '-None-', \"''\", 'NP', 'VP', ',', 'VBG', 'VP', 'RP', ',', 'CC', 'VP', 'NP', '-None-', 'VP', '-None-', 'NP', 'VP', 'NP', 'IN', 'IN', 'NP', ',', 'NP', 'VP', 'NP', 'NP', ',', 'CC', 'NP', 'IN', 'NP', '-None-', '``', 'VP', 'NP', \"''\", 'NP', 'VP', 'IN', 'NP', ',', 'NP', 'VBG', 'IN', 'NP', 'VP', 'NP', 'VP', '-None-', 'NP', 'VP', 'NP', ',', 'NP', 'IN', 'NP', 'IN', 'NP', 'VP', 'NP', ',', 'NP', 'VP', 'VBG', 'IN', 'NP', 'VP', 'IN', 'NP', '``', 'NP', 'VP', 'NP', \"''\", '-None-', '-None-', 'NP', \"''\", '-None-', 'NP', ':', \"''\", 'NP', 'VP', ',', 'VP', 'VBG', 'NP', 'VP', 'RP', 'IN', 'NP', ',', 'VBG', 'NP', 'VP', '-None-', '``', 'NP', ':', \"''\", 'NP', 'VP', 'NP', 'IN', 'IN', 'NP', '-None-', ',', 'VBG', 'IN', 'NP', 'VP', 'IN', 'NP', 'IN', '-None-', '``', 'NP', '-None-', \"''\", 'NP', '-None-', \"''\", '-None-', 'VP', 'NP', 'NP', 'VP', '-None-', 'NP', 'VP', 'IN', 'IN', 'NP', 'VBG', 'NP', ',', 'VP', 'VBG', 'NP', ',', 'VBG', 'NP', 'RP', 'IN', 'NP', '-None-', 'NP', 'VP', 'NP', ',', 'VP', 'NP', 'VP', '-None-', 'VBG', 'IN', 'NP', '-None-', 'NP', 'VP', 'NP', ',', 'NP', ',', 'IN', 'VP', 'VBG', 'NP', 'VP', 'CC', 'VP', 'NP', 'VP', 'IN', '-None-', 'NP', 'VP', 'CC', 'VP', ',', 'VP', 'VBG', 'NP', 'IN', 'NP', 'VP', '-None-', 'NP', 'VP', 'NP', '-None-', 'IN', 'VBG', 'IN', 'NP', ',', 'VBG', 'NP', 'NP', 'IN', 'NP', 'VBG', '-None-', 'NP', 'VP', 'NP', 'IN', 'NP', ',', 'VP', 'IN', 'NP', 'IN', 'NP', 'VP', ',', 'VP', 'VBG', 'NP', 'IN', 'NP', 'VP', 'NP', 'VP', 'NP', 'VP', '-None-', 'NP', 'VP', 'NP', 'VP', ',', 'CC', 'VP', 'NP', '-None-', 'VP', 'NP', '-None-', 'NP', 'VP', 'VBG', 'NP', 'VP', ',', 'VBG', 'NP', 'NP', 'VP', 'IN', 'NP', 'VP', 'NP', '-None-', '``', 'NP', 'VP', 'NP', \"''\", '-None-', '-None-', \"''\", 'VP', ',', 'NP', 'VP', 'IN', 'NP', 'VP', 'NP', 'VP', 'NP', 'NP', 'VBG', '-None-', 'NP', 'VP', '-None-', 'NP', '-None-', \"''\", '-None-', 'VP', 'NP', 'IN', 'NP', '-None-', 'NP', 'VP', 'NP', 'CC', 'VP', 'IN', 'NP', 'VP', 'NP', 'NP', 'VP', ',', 'VBG', 'IN', 'NP', 'VP', 'NP', 'NP', 'IN', 'VP', 'IN', 'NP', '-None-', '-None-', '-None-', '-None-', '-None-', 'NP', 'VP', 'IN', 'NP', 'VP', 'IN', 'NP', \"''\", '-None-', 'NP', 'IN', '-None-', '-None-', ',', '-None-', 'CC', 'NP', 'VP', 'CC', 'VP', 'IN', 'WRB', 'NP', 'VP', 'VBG', ',', 'NP', 'NP', 'VBG', 'IN', 'NP', 'CC', 'NP', \"''\", '-None-', 'NP', 'IN', 'NP', '-None-', 'NP', 'VP', '-None-', 'NP', 'VP', 'NP', ',', 'NP', 'NP', 'NP', ',', 'CC', 'VP', 'NP', '-None-', '``', 'VP', ',', 'NP', 'VP', 'NP', '-None-', \"''\", 'NP', 'VP', ',', 'NP', 'VP', 'VBG', 'VP', 'NP', '-None-', 'VP', 'NP', 'IN', 'NP', ',', 'NP', 'NP', 'VP', 'IN', 'NP', '-None-', '``', 'VP', 'NP', 'IN', 'NP', '.', \"''\", 'NP', 'VP', ',', 'NP', 'NP', 'IN', 'NP', 'CC', '-None-', '``', 'NP', 'VP', 'IN', 'NP', \"''\", '-None-', 'VP', ',', 'NP', 'IN', 'NP', '-None-', '``', 'NP', ',', 'NP', 'VP', 'NP', \"''\", '-None-', ',', '-None-', \"''\", 'NP', 'VP', ',', 'VBG', 'VP', 'NP', '-None-', 'NP', \"''\", '-None-', 'NP', ':', 'VP', 'NP', '-None-', '.', '-None-', 'NP', 'NP', '.', 'NP', '.', 'NP', '.', 'NP', '.', 'NP', 'NP', '.', 'NP', 'VP', 'NP', '.', 'NP', '.', '.', 'NP', '.', 'NP', '.', 'NP', '-None-', 'NP', 'NP', \"''\", '-None-', 'NP', ':', 'NP', 'VP', 'NP', 'NP', \"''\", '-None-', 'NP', 'NP', ',', 'VP', '.', '-None-', 'NP', ':', '.', 'UH', 'VP', ',', 'NP', 'VP', 'NP', '.', 'VP', ',', 'NP', 'VP', '-None-', 'NP', '.', '.', '.', '.', 'NP', 'VP', ',', 'NP', '-None-', 'NP', '-None-', '.', '.', '.', '.', '.', '.', '.', '.', '.', '.', '.', '.', '.', '.', '.', '.', '.', '.', '.', '.', 'WRB', 'VP', 'NP', 'VP', '.', '.', '.', '.', '.', '.', '.', '.', '.', '-None-', 'NP', 'IN', '-None-', '-None-', 'NP', '-None-', 'IN', ',', 'NP', \"''\", '-None-', 'VP', 'IN', 'NP', '-None-', 'CC', 'NP', \"''\", '-None-', 'VP', 'NP', 'VBG', ',', 'NP', '-None-', 'NP', 'IN', 'NP', 'VP', '-None-', 'NP', 'VP', 'NP', \"''\", '-None-', 'IN', 'NP', ',', 'NP', 'NP', '.', '-None-', 'NP', \"''\", '-None-', '-None-', '-None-', 'NP', 'VP', 'NP', 'IN', '-None-', 'NP', 'VP', 'IN', 'VP', 'NP', 'CC', 'VP', 'NP', 'VP', 'NP', ',', 'VBG', 'NP', 'NP', 'IN', 'NP', 'VP', '``', 'VP', \"''\", 'IN', 'NP', 'IN', 'NP', '-None-', 'NP', ',', 'NP', \"''\", '-None-', 'VP', 'NP', ',', '-None-', \"''\", '-None-', 'NP', '.', 'NP', 'VP', 'NP', ',', 'VBG', 'IN', 'NP', 'VBG', 'NP', 'VP', 'NP', 'VP', 'NP', '-None-', 'NP', 'VP', 'NP', 'VP', 'NP', 'IN', 'VP', 'NP', 'IN', 'VP', '-None-', 'VP', ',', 'NP', 'VP', 'NP', ',', 'VBG', 'NP', 'IN', 'VP', 'NP', 'IN', 'NP', ',', 'NP', 'VBG', 'RP', 'IN', 'NP', ',', 'VBG', 'NP', 'VP', 'NP', 'IN', 'NP', 'IN', 'NP', '-None-', 'NP', 'VP', 'NP', 'IN', 'NP', ',', 'VBG', 'NP', 'NP', 'VP', 'CC', 'NP', ',', 'NP', 'VP', 'IN', 'VP', 'NP', 'IN', 'NP', 'IN', 'NP', 'VP', ',', 'NP', 'VBG', 'IN', 'NP', 'IN', 'IN', 'NP', 'VP', 'NP', 'CC', 'NP', ',', 'NP', 'VP', '-None-', 'NP', \"''\", '-None-', '-None-', 'VBG', 'IN', 'IN', 'NP', 'VP', 'NP', 'IN', ',', 'NP', \"''\", '-None-', 'VP', 'NP', ',', '-None-', 'CC', 'NP', \"''\", '-None-', 'VP', 'VBG', 'VP', 'IN', '-None-', 'IN', 'NP', 'NP', 'VP', 'NP', 'VP', 'NP', 'VP', 'IN', 'VP', 'NP', 'VP', 'NP', ',', 'VBG', 'NP', 'IN', 'VP', ',', 'CC', 'VP', ',', 'IN', 'NP', 'VP', 'NP', 'VP', 'IN', '-None-', 'NP', 'VP', 'NP', 'VP', 'NP', ',', 'NP', 'VP', 'IN', 'NP', 'IN', 'NP', 'NP', 'VP', '-None-', 'NP', 'VP', 'NP', 'IN', '-None-', ':', 'NP', 'VP', 'NP', ',', '-None-', 'VP', ',', 'IN', 'VBG', 'NP', 'VP', 'IN', ',', 'NP', 'VP', 'NP', 'CC', 'NP', 'RP', 'VP', 'NP', '-None-', 'VP', 'NP', 'VP', 'IN', 'NP', 'VP', 'NP', 'IN', 'NP', ',', 'VP', 'VBG', 'NP', 'NP', 'VP', 'VBG', 'VP', 'NP', 'VP', '-None-', '-None-', 'NP', \"''\", '-None-', '-None-', '-None-', 'NP', 'VP', '-None-', 'NP', 'VP', 'NP', 'NP', 'VP', '-None-', 'NP', ',', 'NP', 'VP', 'NP', 'VP', 'IN', 'NP', 'VP', 'VBG', 'NP', '.', 'CC', 'NP', \"''\", '-None-', 'VP', '.', 'NP', 'VP', 'NP', 'IN', 'NP', 'NP', ',', 'VBG', 'NP', '-None-', 'NP', 'VP', 'IN', 'VP', 'NP', ',', 'NP', 'IN', 'VBG', 'NP', 'VP', 'IN', 'NP', '-None-', 'CC', 'NP', '-None-', \"''\", '-None-', 'NP', 'NP', 'VP', 'IN', 'NP', ',', '-None-', 'CC', 'NP', 'VP', '-None-', 'VP', 'NP', 'VP', ',', 'IN', 'NP', 'IN', 'NP', 'IN', 'NP', ',', 'VBG', '-None-', 'VBG', 'VP', '-None-', 'CC', 'NP', 'VP', 'PDT', '-None-', 'NP', 'VP', 'NP', 'VP', 'RP', 'IN', 'NP', 'RP', 'VP', 'NP', ',', 'VBG', 'NP', 'NP', 'IN', '-None-', 'NP', 'VP', ',', 'VBG', 'NP', 'VP', 'IN', 'NP', ',', 'NP', ',', 'VBG', 'NP', 'NP', '-None-', 'NP', 'VP', 'NP', 'WRB', 'NP', 'VP', 'NP', 'VP', 'NP', 'NP', ',', 'NP', 'NP', '-None-', \"''\", '-None-', 'NP', ',', 'VBG', 'NP', 'VP', 'NP', 'VP', 'NP', 'VP', 'CC', 'VP', 'IN', 'NP', 'IN', 'VP', '-None-', '``', 'WRB', 'VP', \"''\", '-None-', 'NP', 'NP', 'NP', 'VP', '.', \"''\", 'NP', 'VP', 'IN', 'NP', ',', 'NP', 'VP', 'IN', 'NP', '-None-', '``', 'NP', ':', 'NP', ':', \"''\", 'VP', ',', 'NP', 'VP', 'IN', 'NP', 'CC', '-None-', \"''\", '-None-', 'VP', 'NP', '-None-', 'NP', 'VP', 'NP', ',', 'NP', 'IN', ',', 'VBG', 'IN', 'NP', '-None-', 'NP', 'VP', 'NP', 'IN', 'NP', 'VP', ',', 'VBG', 'NP', 'NP', 'NP', 'IN', 'NP', '-None-', 'NP', 'VP', '-None-', ',', 'CC', 'NP', 'VP', 'IN', 'NP', 'VBG', 'IN', 'NP', '-None-', '``', '-None-', '-None-', '.', \"''\", '-None-', 'VP', 'IN', 'NP', ',', 'VBG', 'NP', 'IN', 'NP', '-None-', '``', '-None-', '.', '.', \"''\", '-None-', 'VP', ',', 'VBG', 'IN', 'NP', 'NP', '-None-', '``', '-None-', ',', 'NP', \"''\", '-None-', 'NP', '.', \"''\", 'NP', 'VP', ',', 'VP', 'VBG', 'NP', 'VP', 'NP', 'VP', '-None-', 'IN', 'VBG', 'WRB', 'NP', 'NP', 'VP', ',', 'NP', 'VP', 'NP', 'IN', 'CC', 'VP', 'NP', 'VP', 'NP', '-None-', 'NP', 'VP', 'NP', ',', 'CC', 'VP', 'VBG', 'NP', 'VP', 'RP', 'NP', 'VP', 'NP', '-None-', 'CC', '-None-', 'NP', 'VP', '-None-', 'NP', 'VP', 'NP', 'NP', 'VP', ':', '-None-', 'VP', 'IN', 'NP', 'NP', 'VP', 'VBG', 'VP', '-None-', 'VP', 'IN', 'NP', 'NP', 'VP', 'VBG', ':', 'NP', 'IN', 'VP', '-None-', 'NP', 'VP', 'IN', 'NP', ',', 'VBG', 'NP', 'NP', 'VP', 'IN', 'NP', 'NP', 'IN', 'NP', '-None-', 'NP', 'VP', 'IN', 'NP', 'VP', 'NP', ',', 'NP', 'IN', 'VBG', 'NP', 'IN', 'NP', \"''\", '-None-', 'VP', '-None-', '``', 'IN', ',', '-None-', '.', \"''\", '-None-', 'VP', 'NP', ',', 'VP', 'IN', 'NP', 'NP', '-None-', '-None-', 'VP', 'IN', 'NP', 'VP', ',', 'VBG', 'IN', 'NP', '-None-', '``', '-None-', ',', '-None-', 'NP', \"''\", '-None-', '-None-', \"''\", '-None-', '-None-', '-None-', '-None-', 'NP', 'VP', 'NP', 'IN', 'NP', ',', 'VP', 'IN', 'NP', 'VBG', 'IN', 'NP', 'VP', 'VBG', 'NP', 'IN', 'NP', '-None-', \"''\", '-None-', 'NP', 'NP', 'VP', 'IN', 'NP', \"''\", '-None-', 'VP', ':', 'NP', 'VP', 'NP', 'VP', 'IN', '-None-', 'NP', 'VP', 'IN', '-None-', '``', 'NP', 'NP', ',', '-None-', \"''\", 'NP', 'VP', ',', 'NP', 'VBG', ',', 'NP', 'IN', 'NP', 'VP', 'IN', 'NP', ',', '-None-', 'NP', 'VP', 'NP', 'NP', ',', 'VP', 'NP', 'NP', 'NP', 'VP', 'NP', 'IN', 'NP', \"''\", '-None-', '-None-', '``', 'NP', 'VP', \"''\", '-None-', 'NP', 'NP', '.', \"''\", 'NP', 'VP', ',', 'IN', 'IN', 'VBG', 'IN', 'NP', 'VP', ',', 'VBG', 'IN', 'NP', ',', 'VBG', 'NP', \"''\", '-None-', 'NP', 'VP', 'NP', 'IN', 'NP', '-None-', 'NP', 'VP', ',', 'IN', 'NP', ',', 'NP', '-None-', 'NP', 'VP', 'NP', 'IN', 'NP', 'IN', 'NP', '-None-', 'NP', 'NP', 'VP', 'NP', ',', 'VBG', ',', 'VBG', 'IN', 'NP', 'VP', 'NP', 'NP', 'VP', '-None-', 'NP', 'VP', ',', 'NP', 'VP', ',', 'CC', 'IN', 'IN', 'PDT', 'NP', ',', 'NP', '-None-', \"''\", '-None-', 'NP', 'NP', 'NP', 'VP', 'VBG', '-None-', 'IN', 'PDT', 'NP', ',', 'NP', 'VBG', 'IN', 'NP', 'VP', '-None-', 'NP', 'VP', 'RP', 'IN', 'NP', ',', 'NP', 'NP', 'RP', 'VP', 'NP', 'VP', '-None-', 'IN', '-None-', 'NP', 'VP', 'IN', 'NP', 'IN', 'NP', 'VP', 'RP', 'NP', 'VP', 'NP', ',', 'VBG', 'VP', 'NP', 'IN', 'NP', 'VP', 'NP', '-None-', 'VP', 'NP', 'VP', 'NP', ',', 'NP', 'IN', 'NP', 'VBG', 'IN', 'NP', ',', 'NP', 'NP', 'NP', 'IN', 'IN', 'NP', 'NP', 'VP', ',', 'NP', 'IN', 'NP', '-None-', 'IN', '-None-', 'NP', 'NP', 'NP', 'VP', ',', 'VBG', 'RP', 'NP', 'VP', 'NP', 'NP', 'VP', 'NP', 'IN', 'NP', 'VP', 'NP', 'VP', 'VBG', 'VP', '-None-', 'NP', '-None-', '``', 'NP', 'VP', \"''\", '-None-', 'NP', '-None-', \"''\", 'NP', 'VP', 'NP', 'IN', 'VP', 'IN', 'NP', 'VP', 'NP', 'IN', 'NP', '-None-', '``', 'NP', ',', 'NP', ':', 'NP', \"''\", '-None-', 'NP', '-None-', \"''\", 'NP', 'VP', 'NP', 'IN', 'NP', ',', 'NP', 'NP', 'CC', 'VBG', 'IN', 'VP', 'NP', '-None-', '``', 'IN', 'NP', 'VP', 'NP', '-None-', \"''\", 'NP', \"''\", '-None-', 'NP', '-None-', 'NP', ',', 'NP', ',', 'NP', 'CC', '-None-', 'VP', 'RP', 'NP', 'VP', 'NP', ',', '-None-', 'CC', '-None-', 'VBG', 'IN', '-None-', 'NP', 'VP', 'VBG', 'NP', 'IN', 'NP', 'VP', ',', 'IN', 'NP', 'NP', 'IN', 'IN', 'NP', 'CC', 'NP', 'VP', 'RP', ',', 'VBG', '-None-', 'CC', 'NP', 'VP', 'NP', '-None-', 'NP', 'VP', 'RP', 'NP', ',', 'VBG', 'NP', 'NP', 'IN', 'NP', ',', 'VP', 'VBG', '-None-', 'CC', 'VBG', '-None-', 'NP', 'VP', 'NP', 'VP', 'NP', 'IN', 'NP', ',', 'NP', 'VP', 'NP', 'NP', 'IN', 'NP', '-None-', 'NP', '-None-', \"''\", '-None-', 'NP', ':', 'CC', 'NP', ':', 'VP', 'IN', 'NP', 'IN', 'NP', 'NP', 'CC', '-None-', 'VP', 'IN', 'NP', '-None-', 'NP', '-None-', \"''\", '-None-', 'NP', 'IN', 'VP', ',', 'NP', 'CC', 'NP', 'VP', 'IN', 'NP', 'IN', 'NP', 'IN', 'NP', 'CC', 'VP', 'NP', 'NP', 'IN', 'NP', ',', 'VBG', 'NP', 'IN', 'NP', 'IN', 'NP', \"''\", '-None-', 'NP', ',', 'NP', 'NP', 'IN', 'NP', 'VP', 'NP', 'CC', 'NP', 'VP', 'IN', '-None-', ',', 'VBG', 'NP', '-None-', 'NP', 'RP', 'IN', 'NP', 'VP', 'NP', 'IN', 'VBG', 'NP', '-None-', 'NP', ',', '-None-', 'CC', '-None-', 'VP', 'NP', ',', 'NP', 'VP', 'CC', 'NP', '-None-', 'CC', '-None-', 'CC', 'NP', 'VP', 'NP', '-None-', 'NP', '-None-', 'NP', '-None-', \"''\", '-None-', '-None-', 'NP', '.', '-None-', 'NP', \"''\", '-None-', 'NP', ':', 'VP', 'IN', 'NP', '.', 'NP', 'NP', \"''\", '-None-', '-None-', 'IN', 'NP', 'VP', 'NP', 'VP', ',', 'VP', 'NP', '.', 'CC', 'VP', 'NP', \"''\", '-None-', 'VP', 'NP', 'IN', 'NP', ',', 'NP', '.', 'VP', 'IN', ':', '-None-', ':', 'NP', \"''\", '-None-', 'VBG', 'VP', '-None-', '-None-', 'VP', '-None-', 'WRB', 'VP', 'NP', 'VP', 'NP', 'VP', 'NP', 'NP', 'NP', '.', 'NP', \"''\", '-None-', 'VP', 'NP', ',', 'VP', 'NP', '.', 'NP', 'NP', 'IN', 'NP', '-None-', 'NP', ',', 'NP', 'VP', 'NP', ',', 'CC', 'VP', 'NP', 'CC', 'NP', 'IN', 'NP', 'IN', 'NP', '-None-', ':', 'NP', 'VP', ':', 'IN', ',', 'VP', 'NP', 'IN', 'NP', 'VP', 'NP', 'VP', '.', 'CC', 'VP', 'IN', 'NP', 'VP', 'NP', '.', 'NP', 'NP', '.', '.', '.', 'NP', '-None-'], 'pos_tag_chunk_subtrees': ['NP[PRP]', 'VP[RB VB]', 'NP[PRP]', 'NP[NNP]', 'VP[VBP]', 'NP[PRP]', 'VP[VBZ]', 'NP[PRP]', 'VP[RB]', 'NP[JJ]', 'NP[NNP]', 'VP[VBZ]', 'NP[PRP$ JJR]', 'NP[PRP]', 'NP[PRP]', 'VP[VBD]', 'NP[NN]', 'NP[PRP$ NN]', 'VP[TO VB]', 'NP[PRP$]', 'VP[TO]', 'NP[NN]', 'NP[PRP]', 'VP[VBD]', 'NP[PRP$ NN]', 'NP[DT NN]', 'NP[DT JJ JJ NN]', 'NP[PRP]', 'VP[VBN]', 'NP[PRP]', 'VP[MD VB]', 'NP[WP]', 'NP[PRP]', 'VP[RB]', 'NP[PRP]', 'VP[VBN]', 'NP[DT]', 'VP[VBZ]', 'NP[DT]', 'VP[RBR]', 'VP[RB]', 'NP[DT NN]', 'NP[PRP]', 'VP[VBD]', 'NP[NNP]', 'NP[PRP$ JJ NN]', 'VP[VBN]', 'VP[RB]', 'NP[PRP]', 'NP[NNS]', 'NP[DT NN]', 'NP[PRP$ NNP NNP]', 'VP[VBN RB]', 'NP[PRP$ JJ NNS]', 'VP[VBD RB]', 'NP[NN]', 'NP[NNS]', 'VP[MD VB RB]', 'NP[NNP]', 'NP[PRP$ NN]', 'VP[VBD]', 'NP[DT NN]', 'NP[PRP$ NNS]', 'NP[NN]', 'VP[VBD RB VBP]', 'NP[PRP]', 'VP[RB VBD VBN]', 'NP[JJ]', 'NP[PRP]', 'VP[VBN TO]', 'NP[PRP$]', 'NP[PRP$ NN]', 'VP[TO]', 'NP[PRP$ NN]', 'VP[TO]', 'NP[NN]', 'VP[RB]', 'NP[DT JJ]', 'NP[NNP]', 'VP[VBP]', 'NP[NN]', 'NP[NN]', 'NP[NNP]', 'VP[VB]', 'NP[PRP]', 'VP[VBD TO]', 'NP[NN]', 'NP[PRP$]', 'NP[NNS]', 'NP[PRP$]', 'NP[PRP]', 'VP[VBD]', 'NP[PRP$ NN]', 'NP[PRP]', 'VP[VBN]', 'VP[RB]', 'NP[NN]', 'NP[NNP]', 'NP[PRP]', 'VP[VBD]', 'VP[RB TO VB]', 'NP[PRP$ NN]', 'NP[PRP]', 'VP[RB]', 'NP[PRP]', 'VP[RB VBN]', 'NP[NNP]', 'NP[PRP]', 'VP[VBN]', 'NP[CD NNS]', 'NP[PRP]', 'NP[PRP]', 'VP[VBN]', 'NP[DT]', 'VP[VBP]', 'NP[PRP]', 'NP[NN]', 'VP[RB]', 'NP[PRP]', 'NP[JJ]', 'NP[PRP]', 'VP[VBZ]', 'NP[PRP$]', 'NP[PRP]', 'VP[VBN]', 'NP[NN]', 'NP[JJR]', 'VP[VBP]', 'NP[PRP$]', 'NP[JJ]', 'VP[VB]', 'VP[VB]', 'NP[DT]', 'VP[MD RB VB]', 'NP[PRP]', 'NP[PRP]', 'NP[NN]', 'NP[PRP]', 'VP[VBP]', 'NP[NNP NN]', 'VP[VBN]', 'NP[DT NN]', 'NP[DT JJ NNP]', 'NP[NNS]', 'VP[VBD RB]', 'NP[NN]', 'NP[PRP]', 'VP[VBD RB]', 'NP[JJ]', 'NP[DT]', 'NP[NNP]', 'NP[NN]', 'VP[VBD]', 'NP[PRP$ NNS]', 'NP[PRP$]', 'NP[PRP]', 'VP[TO VB]', 'VP[RB]', 'NP[CD NNS]', 'VP[VBP VBD]', 'NP[PRP]', 'VP[VBP]', 'NP[NNP]', 'VP[RB]', 'NP[NNP]', 'VP[MD VB]', 'NP[NN]', 'NP[NN]', 'VP[VBD TO VB]', 'NP[NNS]', 'NP[NN]', 'VP[TO]', 'NP[DT NN]', 'VP[VBD]', 'NP[PRP$ JJS]', 'VP[TO VB]', 'NP[NN]', 'NP[PRP]', 'VP[VBN]', 'NP[NNP]', 'NP[PRP]', 'VP[RB]', 'VP[VBD TO VB]', 'NP[PRP$ JJS NN NN]', 'NP[DT]', 'VP[RB]', 'NP[PRP]', 'VP[VBN]', 'NP[PRP$ NN]', 'NP[PRP]', 'VP[VBP]', 'NP[NNP]', 'VP[MD VB]', 'NP[NN]', 'NP[PRP]', 'NP[DT]', 'VP[VBZ RB VBD]', 'NP[DT NN]', 'VP[VBN]', 'NP[NN]', 'NP[PRP]', 'NP[DT]', 'NP[NN]', 'NP[PRP$ NN NNS]', 'VP[VBD VBN]', 'NP[DT]', 'VP[VBZ]', 'VP[RB VBN]', 'VP[RB]', 'VP[RB]', 'NP[DT NN]', 'NP[PRP$ NN]', 'VP[VBD]', 'NP[NNP]', 'VP[VBD]', 'NP[PRP$ NNS]', 'VP[VBD]', 'NP[PRP$ NN]', 'VP[RB TO VB]', 'NP[DT NN]', 'VP[TO VB]', 'NP[NN]', 'NP[NNP]', 'VP[VBD]', 'NP[DT NN]', 'VP[TO VB]', 'NP[PRP]', 'VP[RB]', 'NP[PRP$ JJ NN]', 'NP[PRP]', 'NP[NNP]', 'NP[PRP$]', 'VP[TO VB]', 'VP[TO]', 'NP[NN]', 'NP[DT JJ NN]', 'VP[RB]', 'NP[NNP]', 'VP[VBD RB]', 'NP[JJ]', 'NP[DT JJ NN]', 'NP[DT]', 'VP[VBN]', 'VP[VBN]', 'NP[NN NN]', 'VP[VBD]', 'NP[PRP$ NN]', 'VP[RB]', 'NP[PRP]', 'VP[MD]', 'VP[VBN]', 'NP[DT NN]', 'NP[NNS]', 'NP[PRP]', 'VP[VBP TO VB]', 'NP[PRP]', 'VP[VBN]', 'VP[VBN VBN]', 'NP[PRP$ JJ NNP]', 'NP[PRP]', 'VP[VBD]', 'NP[PRP$ NN]', 'NP[NNP]', 'VP[VBD]', 'NP[DT]', 'VP[VBD]', 'NP[DT NN]', 'NP[JJ]', 'VP[TO VB]', 'NP[NN]', 'VP[RB RB]', 'NP[NN]', 'NP[PRP$]', 'VP[VBD]', 'NP[NNS]', 'NP[PRP]', 'VP[VBD]', 'NP[PRP$ NN]', 'NP[NNP]', 'VP[VBD]', 'VP[RB]', 'NP[JJ]', 'NP[JJ]', 'VP[MD VB]', 'NP[DT]', 'VP[VBN]', 'VP[VBN]', 'NP[NN]', 'VP[TO VB]', 'NP[PRP$]', 'NP[NNP]', 'VP[VBN RB]', 'NP[DT NN]', 'NP[NN]', 'VP[RB]', 'NP[WDT]', 'NP[PRP]', 'VP[VBD VBD]', 'NP[DT NN NN]', 'VP[TO]', 'NP[NNP]', 'VP[VB]', 'NP[NNP]', 'NP[NNP]', 'VP[VBN]', 'NP[DT JJ]', 'VP[TO VB]', 'NP[PRP$]', 'NP[NNP]', 'VP[VBD RB]', 'NP[WP]', 'VP[VBP]', 'NP[PRP]', 'VP[VBP]', 'NP[NNP]', 'NP[NNP]', 'VP[VB]', 'NP[NNP NN]', 'NP[DT]', 'NP[WDT]', 'NP[NNP]', 'VP[VBD]', 'NP[NN]', 'NP[WP]', 'VP[VBP]', 'NP[PRP]', 'VP[VB]', 'NP[PRP]', 'VP[VBZ TO VBP]', 'NP[NN]', 'NP[NN]', 'VP[RB]', 'NP[PRP]', 'NP[NNP]', 'NP[NNP]', 'NP[NNS]', 'NP[PRP]', 'NP[NNP]', 'VP[VBP]', 'NP[NN]', 'VP[RB TO VB]', 'NP[PRP$ JJ NNP]', 'VP[VBZ RB]', 'NP[PRP]', 'NP[NNP]', 'NP[PRP]', 'NP[NN]', 'NP[DT NNS]', 'VP[MD VBP]', 'NP[PRP$]', 'NP[NNP]', 'VP[MD]', 'NP[NN]', 'NP[DT]', 'NP[CD]', 'NP[PRP]', 'VP[VBZ TO VB VBN TO]', 'NP[NNP]', 'NP[PRP]', 'VP[VBN]', 'NP[PRP]', 'VP[VBD]', 'NP[DT]', 'NP[JJ NN NN]', 'NP[PRP$]', 'VP[VBD]', 'NP[NNP NNP]', 'VP[RB]', 'NP[DT NNP]', 'NP[DT NN]', 'VP[TO VB]', 'NP[NN NNS]', 'NP[PRP$]', 'NP[PRP$ NNS]', 'VP[VBD]', 'NP[DT]', 'VP[VB VB]', 'NP[DT JJ]', 'NP[PRP]', 'VP[VBD]', 'NP[DT JJ NN]', 'NP[DT NNS]', 'VP[VBD]', 'VP[VBD]', 'NP[DT]', 'VP[VBN]', 'NP[NN]', 'NP[PRP]', 'NP[NNP]', 'VP[RB]', 'NP[NNP NNP]', 'VP[VBD RB]', 'NP[PRP]', 'VP[VBP]', 'NP[NNP]', 'NP[PRP$]', 'NP[PRP$ NNS]', 'VP[VBD TO]', 'NP[PRP$ JJ NN]', 'NP[PRP]', 'VP[VBN]', 'NP[JJ]', 'VP[VBZ VBG]', 'VP[TO]', 'NP[DT]', 'NP[PRP]', 'VP[VBD]', 'NP[PRP$ NNS]', 'VP[VB]', 'NP[PRP$ NN]', 'NP[DT NN]', 'NP[WP]', 'VP[MD VB]', 'NP[DT]', 'VP[VBN]', 'NP[NN]', 'VP[VBD]', 'NP[NNP]', 'NP[NN]', 'VP[RB]', 'NP[PRP]', 'VP[VBN]', 'NP[JJ]', 'NP[DT NN]', 'VP[RB TO VB]', 'NP[PRP$ NNS]', 'VP[VBN]', 'NP[DT NN]', 'VP[RB]', 'NP[JJR]', 'NP[PRP$ NNS]', 'VP[MD VB]', 'NP[DT NN]', 'VP[VBD RB VBN]', 'NP[NN]', 'VP[VBD]', 'NP[PRP]', 'NP[JJ]', 'NP[DT]', 'VP[VB]', 'VP[RB]', 'NP[PRP$]', 'VP[MD VB]', 'NP[WDT]', 'VP[VBD]', 'NP[CD NNS]', 'NP[NN]', 'NP[PRP]', 'VP[MD RB VBP]', 'VP[VBP RB]', 'NP[NN]', 'NP[DT]', 'NP[DT NN]', 'VP[VBD TO VB]', 'VP[TO]', 'NP[PRP$ NN]', 'NP[PRP$]', 'NP[PRP]', 'VP[MD VB]', 'NP[DT]', 'VP[VBP]', 'NP[NNS]', 'NP[PRP$ NN]', 'NP[DT JJ NNS]', 'NP[JJ NN]', 'NP[DT NNS]', 'VP[VBN]', 'NP[PRP$]', 'NP[JJ]', 'NP[DT NNS]', 'VP[VBD]', 'VP[RB]', 'NP[PRP]', 'VP[VBD TO VB]', 'NP[PRP$ NN]', 'NP[PRP]', 'VP[VBD]', 'NP[DT NN]', 'VP[VBD]', 'VP[RB]', 'NP[DT NN]', 'VP[VBD TO VB]', 'VP[TO]', 'NP[DT]', 'VP[RB]', 'NP[PRP$ NN]', 'NP[NNP]', 'NP[DT PRP]', 'VP[VBD]', 'NP[JJ]', 'VP[VBD]', 'NP[DT NN]', 'NP[JJ NN]', 'VP[VBD]', 'NP[DT JJ VBN NNS]', 'NP[PRP$]', 'VP[RB]', 'NP[DT JJ NN]', 'VP[VBD]', 'NP[DT NNP NNS]', 'VP[RB]', 'NP[PRP]', 'NP[PRP$ NN]', 'NP[PRP]', 'NP[PRP$ NNP NNP]', 'VP[VBD]', 'NP[DT NNP]', 'NP[DT]', 'VP[VBP]', 'NP[DT]', 'NP[NN]', 'NP[PRP$ NN]', 'NP[PRP$ NNS]', 'VP[RB]', 'NP[PRP]', 'VP[VBD]', 'NP[DT NN NN NNS]', 'NP[PRP$ NN]', 'VP[RB TO VB TO]', 'NP[PRP$]', 'NP[NN]', 'NP[PRP$]', 'VP[RB]', 'NP[PRP]', 'VP[VBD TO VB]', 'NP[DT NN]', 'NP[DT NNP]', 'VP[RB]', 'NP[PRP]', 'NP[DT NN]', 'NP[PRP]', 'VP[VBD]', 'NP[WP]', 'NP[DT NN]', 'VP[VBD]', 'VP[VBD]', 'NP[JJ]', 'NP[DT NN]', 'VP[RB RB VBN]', 'NP[PRP$ NN]', 'VP[VBD]', 'NP[PRP$ NN]', 'NP[PRP$]', 'NP[PRP]', 'VP[MD VBP]', 'NP[DT NNS]', 'VP[RB]', 'VP[RB]', 'NP[NN]', 'NP[PRP$ NN NN]', 'NP[PRP$]', 'VP[VB TO]', 'NP[PRP$]', 'NP[PRP]', 'VP[VBD]', 'NP[PRP]', 'VP[VBP]', 'VP[TO]', 'NP[NN]', 'NP[DT NN]', 'VP[VBD TO VB RB]', 'VP[RB]', 'NP[DT NN]', 'VP[VBN RB]', 'NP[PRP$ JJ]', 'VP[RB]', 'NP[PRP]', 'VP[VBD]', 'NP[PRP$ NNS]', 'VP[TO VB]', 'NP[DT NN]', 'VP[VBD]', 'NP[NNP]', 'NP[NN]', 'NP[NNS]', 'NP[DT NNS]', 'NP[NNS]', 'NP[NN NNS]', 'NP[NN]', 'VP[VBP]', 'NP[JJ]', 'VP[TO VB]', 'VP[VB VBP]', 'NP[CD JJ]', 'NP[NNP]', 'NP[DT]', 'VP[VB VBN]', 'NP[PRP$ NNP]', 'NP[PRP]', 'NP[NN]', 'NP[PRP]', 'NP[NNP NNP]', 'NP[NN]', 'NP[CD NN]', 'NP[NNS]', 'NP[DT NN]', 'VP[VBZ VBN TO]', 'NP[NN]', 'VP[RB]', 'NP[DT]', 'NP[PRP$ NNS]', 'VP[MD VB VBN]', 'NP[DT]', 'NP[PRP]', 'VP[VBP]', 'NP[PRP]', 'VP[VBP]', 'NP[PRP]', 'VP[VB]', 'NP[PRP]', 'VP[VBP RB]', 'VP[TO VB]', 'NP[PRP]', 'NP[NNS NNP]', 'NP[NN NNP]', 'NP[PRP]', 'VP[VBP]', 'NP[PRP]', 'VP[VBP]', 'NP[PRP]', 'NP[PRP]', 'NP[DT NN]', 'NP[JJ]', 'NP[DT JJ]', 'NP[PRP]', 'VP[VBD RB]', 'VP[TO VB]', 'NP[NN]', 'VP[VBN]', 'NP[DT NN]', 'NP[JJ NNP NN]', 'NP[PRP$ NNS]', 'NP[NN]', 'VP[RB VBD]', 'NP[JJR NN NN]', 'NP[PRP]', 'VP[MD]', 'NP[DT]', 'VP[RB]', 'NP[CD]', 'VP[RB RB]', 'NP[PRP]', 'NP[PRP]', 'VP[VBN]', 'NP[DT]', 'VP[RB]', 'NP[PRP]', 'VP[VBN]', 'NP[PRP$ JJ NNS]', 'NP[PRP$ NN]', 'VP[VBD]', 'NP[DT]', 'VP[VBN]', 'NP[NN]', 'VP[VBD]', 'NP[PRP]', 'VP[VBP]', 'NP[PRP]', 'VP[VBP RB VB]', 'NP[PRP]', 'VP[VBP]', 'NP[NNP]', 'NP[PRP]', 'VP[RB]', 'NP[JJ]', 'VP[TO VB]', 'NP[NN]', 'NP[PRP]', 'NP[NNP]', 'VP[RB VB]', 'NP[PRP]', 'NP[PRP]', 'VP[VBD RB]', 'NP[DT NN]', 'VP[TO]', 'NP[PRP]', 'VP[VBD]', 'NP[NN]', 'VP[VBD]', 'NP[DT NN]', 'NP[PRP$ NN NN]', 'NP[DT]', 'VP[VBD RB VBD]', 'NP[NN]', 'NP[NN]', 'VP[VBN]', 'NP[DT JJ]', 'NP[PRP]', 'VP[VBD TO VB]', 'NP[PRP]', 'VP[RB]', 'NP[DT]', 'VP[VBP MD VB]', 'NP[NN]', 'VP[RB]', 'NP[DT NN]', 'NP[PRP]', 'VP[VBD TO]', 'NP[DT]', 'NP[DT NN]', 'VP[VBD]', 'NP[JJ]', 'NP[NN]', 'VP[RB]', 'NP[JJ]', 'NP[JJ]', 'VP[TO]', 'NP[DT]', 'NP[PRP$]', 'VP[VBZ]', 'VP[VB VBN]', 'NP[PRP]', 'VP[VBD]', 'VP[RB]', 'NP[PRP]', 'VP[VBD]', 'NP[DT CD]', 'NP[PRP]', 'NP[NNP NNP]', 'VP[VBD]', 'NP[WP]', 'NP[PRP]', 'VP[MD]', 'NP[NN]', 'NP[DT NN NNP]', 'NP[DT NNP]', 'VP[VBD]', 'NP[JJ]', 'NP[NNS]', 'NP[NNS]', 'NP[NNS]', 'NP[DT JJ NNS]', 'NP[PRP]', 'VP[VBD VBN RB TO VB VBN]', 'NP[DT]', 'NP[PRP]', 'NP[NNP]', 'NP[PRP$ NN]', 'NP[PRP]', 'VP[VBD VBN]', 'NP[DT]', 'NP[PRP]', 'NP[NNP]', 'NP[PRP]', 'VP[VBD]', 'NP[DT NN]', 'VP[TO VB]', 'NP[DT JJ]', 'NP[PRP$]', 'VP[RB]', 'NP[PRP]', 'VP[VBD]', 'VP[TO]', 'NP[JJ]', 'NP[DT NN]', 'NP[DT CD]', 'NP[NN]', 'NP[PRP]', 'NP[NNP]', 'NP[PRP]', 'VP[MD VB]', 'NP[PRP]', 'VP[VBD RB VBN]', 'NP[DT NN]', 'NP[PRP]', 'VP[MD RB VB]', 'NP[NN]', 'VP[RB VBN]', 'NP[PRP]', 'VP[VBD RB VBD]', 'NP[NNP]', 'NP[PRP]', 'VP[VBD VBD]', 'NP[NN]', 'VP[RB]', 'NP[PRP]', 'VP[TO VB]', 'NP[NN]', 'VP[TO VB]', 'NP[JJ]', 'NP[DT NN]', 'VP[TO VB]', 'NP[WP]', 'NP[PRP]', 'VP[RB]', 'NP[PRP]', 'VP[RB VBD TO VB]', 'NP[NN]', 'NP[PRP]', 'VP[VBD]', 'VP[VBN]', 'NP[PRP]', 'VP[RB VB]', 'NP[DT JJ]', 'NP[PRP]', 'VP[VBP]', 'NP[PRP]', 'NP[PRP]', 'VP[VBD RB]', 'NP[JJ]', 'VP[RB]', 'NP[NN]', 'NP[PRP$]', 'VP[RB]', 'NP[NN]', 'VP[VBD TO VB VBN]', 'NP[NNP]', 'NP[PRP]', 'VP[VBD VBD TO VB RB]', 'NP[PRP]', 'VP[VBD VBD TO VB]', 'NP[DT JJ]', 'NP[DT]', 'VP[RB]', 'NP[NNP NNP]', 'VP[MD RB VB]', 'NP[NN]', 'NP[PRP$ NN]', 'NP[PRP]', 'VP[VBD]', 'NP[PRP$ NN]', 'NP[NNP]', 'NP[JJ]', 'VP[VBD]', 'NP[DT]', 'VP[VBD RB]', 'NP[PRP$ NN]', 'VP[VBZ VBN VBN]', 'VP[RB]', 'VP[RB RB]', 'NP[PRP]', 'VP[VBP RB]', 'NP[DT]', 'NP[PRP]', 'NP[NN]', 'NP[PRP]', 'NP[PRP]', 'NP[NN]', 'NP[PRP]', 'NP[PRP]', 'VP[VB]', 'NP[PRP]', 'NP[NN]', 'NP[PRP]', 'NP[JJR]', 'NP[DT NN]', 'NP[PRP]', 'NP[CD]', 'VP[VBD VBD TO]', 'NP[NNP]', 'NP[PRP]', 'VP[VBP RB]', 'NP[PRP]', 'NP[DT NNP NN]', 'NP[JJ]', 'NP[NN]', 'NP[PRP]', 'VP[VB]', 'NP[PRP$]', 'VP[VB]', 'NP[PRP]', 'NP[JJ]', 'NP[PRP]', 'VP[RB VBP TO VB]', 'NP[PRP]', 'NP[NNP]', 'NP[PRP]', 'VP[VBN]', 'NP[PRP$ NN]', 'VP[TO]', 'NP[PRP$ NNS]', 'NP[DT JJ VBN NNS]', 'NP[PRP$ NN]', 'NP[PRP$ NN]', 'VP[VBD RB]', 'NP[JJ]', 'VP[RB]', 'NP[JJ]', 'VP[TO VB]', 'NP[DT NN]', 'NP[NN]', 'NP[PRP]', 'VP[VBP]', 'NP[PRP]', 'NP[NNP]', 'NP[PRP]', 'VP[VBD RB]', 'NP[JJ]', 'NP[PRP]', 'VP[VBP TO]', 'NP[PRP$]', 'NP[PRP]', 'NP[PRP]', 'VP[RB]', 'NP[NN]', 'VP[VB]', 'NP[PRP]', 'VP[RB VBD]', 'NP[DT]', 'VP[TO]', 'NP[PRP]', 'NP[PRP]', 'VP[VBD]', 'VP[RB]', 'NP[PRP]', 'VP[VBD]', 'NP[PRP]', 'VP[VBD]', 'VP[TO VB]', 'NP[DT JJ NN]', 'NP[WDT]', 'VP[VBZ]', 'NP[PRP]', 'VP[VBP]', 'NP[PRP]', 'NP[NNP]', 'NP[PRP$ NN]', 'VP[VBD]', 'NP[DT JJ NN]', 'NP[NN NN]', 'VP[RB VB]', 'NP[JJ]', 'NP[DT NN]', 'NP[PRP$ NNP]', 'NP[PRP$ NN]', 'VP[VBD]', 'NP[JJ]', 'NP[PRP$ NNS]', 'NP[DT JJ NNP]', 'NP[PRP$ NN]', 'NP[PRP$ NN]', 'VP[RB VBN]', 'NP[PRP]', 'VP[TO VB]', 'NP[DT NN]', 'NP[PRP]', 'NP[PRP$]', 'VP[RBS]', 'NP[JJ NN]', 'VP[VBD TO VB]', 'NP[PRP]', 'NP[PRP]', 'NP[PRP]', 'VP[VBD RB RB]', 'NP[JJ]', 'NP[PRP]', 'VP[VBP]', 'NP[PRP]', 'VP[RB]', 'NP[PRP]', 'VP[VBP TO]', 'NP[NN]', 'NP[PRP]', 'NP[DT JJ]', 'VP[RBR]', 'NP[JJ]', 'NP[PRP$ JJ]', 'NP[PRP$]', 'VP[VBP]', 'VP[VBZ TO VB]', 'NP[PRP$ NNS]', 'NP[JJ]', 'VP[TO]', 'NP[PRP$ JJ]', 'NP[PRP]', 'VP[VB]', 'NP[PRP]', 'VP[VBN]', 'NP[DT JJ]', 'NP[NN NNP]', 'NP[PRP]', 'VP[MD VB]', 'NP[DT NN]', 'NP[PRP]', 'VP[VBP]', 'NP[PRP]', 'VP[VBD VBD]', 'NP[PRP]', 'VP[VBN]', 'NP[PRP]', 'NP[DT JJ NNS]', 'VP[RB]', 'NP[PRP]', 'VP[VBP]', 'NP[PRP]', 'NP[JJR]', 'VP[VBN]', 'NP[PRP]', 'VP[RBR VBN]', 'NP[PRP]', 'NP[DT NNP NNP]', 'VP[VB]', 'NP[NN]', 'NP[WP]', 'VP[VBZ]', 'NP[PRP]', 'VP[VB]', 'NP[PRP$]', 'VP[VBN]', 'NP[PRP]', 'VP[VB]', 'NP[PRP$]', 'NP[PRP]', 'VP[VBP]', 'NP[PRP]', 'NP[PRP$ NNS]', 'NP[JJ]', 'NP[PRP]', 'VP[VBD TO VB]', 'NP[PRP$ NN]', 'NP[PRP$ JJ]', 'NP[NN]', 'NP[PRP]', 'VP[VBN]', 'NP[PRP]', 'VP[RB RB]', 'NP[DT NNP]', 'NP[PRP]', 'NP[NN]', 'NP[PRP$ NN]', 'VP[MD VB]', 'NP[PRP$]', 'VP[MD]', 'NP[NNP]', 'NP[PRP]', 'VP[VBN]', 'NP[PRP]', 'NP[PRP$ NNS]', 'NP[JJ]', 'NP[NNP]', 'NP[PRP]', 'VP[VBN]', 'NP[PRP]', 'NP[PRP]', 'VP[VBD]', 'NP[DT NN NNP]', 'VP[VBN]', 'NP[PRP$]', 'NP[PRP]', 'VP[VBP RB]', 'NP[DT NNP]', 'NP[PRP]', 'VP[TO VB]', 'NP[PRP]', 'NP[DT JJ VBG]', 'NP[WP]', 'VP[VBZ TO VB]', 'NP[DT JJ]', 'VP[VBN]', 'NP[PRP]', 'VP[VBN]', 'NP[PRP]', 'VP[VBN]', 'NP[PRP$ NN]', 'NP[PRP$]', 'NP[DT NN]', 'VP[RB]', 'NP[PRP$ JJ]', 'NP[JJ]', 'NP[PRP]', 'NP[PRP]', 'VP[VBN]', 'VP[TO VB]', 'VP[RB RB]', 'NP[PRP$]', 'VP[VBD TO]', 'NP[PRP]', 'VP[VBN]', 'NP[PRP]', 'NP[DT NNP]', 'NP[PRP$ NN]', 'VP[RB]', 'NP[JJ]', 'NP[PRP$ NN]', 'NP[PRP$ JJ NN]', 'NP[PRP$]', 'VP[VB]', 'NP[NNP]', 'NP[PRP]', 'VP[VBN RB]', 'NP[PRP]', 'NP[PRP$ JJ NNS]', 'NP[PRP]', 'VP[VBN]', 'NP[PRP$]', 'VP[VBD]', 'NP[NNS]', 'VP[VBD RB]', 'NP[PRP$ NN]', 'NP[DT NN]', 'NP[DT NN]', 'NP[PRP$]', 'VP[VB]', 'NP[NN]', 'NP[PRP$ NNS]', 'VP[RB]', 'NP[PRP]', 'VP[VBD]', 'NP[PRP$ NNP]', 'NP[PRP]', 'VP[VBP]', 'NP[PRP]', 'NP[NNP]', 'NP[NN]', 'NP[PRP]', 'VP[VBD]', 'VP[RB]', 'NP[DT JJ]', 'VP[VBP]', 'NP[PRP$ NN]', 'NP[PRP$ JJ NN]', 'VP[RB]', 'NP[DT JJ NN]', 'NP[PRP]', 'VP[VBD TO]', 'NP[NN]', 'NP[PRP$ JJ]', 'NP[PRP]', 'VP[VBD RB]', 'NP[JJ]', 'NP[JJ]', 'NP[PRP]', 'VP[VB]', 'NP[WP]', 'NP[PRP]', 'VP[VBD]', 'NP[PRP]', 'VP[VBD]', 'NP[PRP$]', 'NP[NN]', 'VP[RB]', 'NP[PRP]', 'NP[NN]', 'NP[PRP$]', 'NP[NNP]', 'VP[VBN]', 'NP[PRP]', 'VP[RB]', 'NP[DT]', 'VP[RB]', 'NP[PRP$]', 'NP[PRP]', 'VP[VBN]', 'NP[PRP]', 'NP[PRP$ NN]', 'VP[RB]', 'NP[PRP]', 'VP[TO VB]', 'VP[VB]', 'NP[DT NNP]', 'VP[RB]', 'NP[PRP]', 'VP[VBN VBZ]', 'VP[VBN]', 'VP[RB]', 'NP[PRP$ JJ NN]', 'NP[PRP$]', 'VP[VBN]', 'NP[PRP]', 'VP[MD RB VB]', 'NP[PRP$]', 'NP[PRP$ NNS]', 'NP[DT JJ]', 'NP[JJ]', 'NP[PRP$]', 'NP[PRP]', 'VP[VBD]', 'NP[DT NN]', 'NP[PRP$ NN]', 'VP[RB]', 'NP[DT JJ NN]', 'NP[PRP$]', 'VP[VB]', 'VP[RB RB]', 'NP[PRP$ NN]', 'NP[PRP]', 'VP[VBD]', 'NP[PRP$ NNS]', 'VP[TO]', 'NP[PRP$]', 'VP[VBP]', 'NP[PRP]', 'VP[VBD TO VB]', 'NP[PRP]', 'VP[RB]', 'VP[RB RB]', 'NP[PRP$]', 'VP[VBD TO VB]', 'NP[DT JJ]', 'NP[PRP]', 'VP[VBD]', 'NP[PRP$]', 'VP[VB]', 'NP[PRP$ NN]', 'NP[DT]', 'VP[RB]', 'NP[PRP]', 'VP[VBN]', 'NP[PRP$]', 'NP[PRP]', 'VP[VBD]', 'NP[NNP]', 'VP[RB]', 'NP[PRP]', 'VP[VBD]', 'NP[PRP]', 'VP[MD RB VBP]', 'NP[NN]', 'VP[TO]', 'NP[NNP]', 'NP[PRP$]', 'NP[PRP]', 'VP[VBD RB VBN TO VB]', 'NP[PRP]', 'VP[RB VB]', 'NP[DT NN]', 'NP[PRP$ NN]', 'NP[PRP]', 'VP[RB VB]', 'NP[PRP$ NNS]', 'VP[VBD]', 'NP[PRP]', 'VP[TO VB]', 'NP[WP]', 'NP[PRP]', 'VP[VBZ]', 'NP[PRP]', 'VP[VBD]', 'NP[DT NN]', 'NP[JJ]', 'VP[VBN]', 'NP[DT]', 'NP[CD NNS]', 'VP[VBD]', 'NP[PRP$]', 'VP[VBZ]', 'NP[NN NNP]', 'NP[NNS]', 'NP[NNP]', 'VP[VBN RB]', 'VP[RB]', 'NP[NNP]', 'VP[VBD]', 'NP[NN]', 'NP[DT]', 'NP[NNS]', 'NP[NNP]', 'NP[JJ NNS]', 'NP[DT]', 'NP[NN NN]', 'VP[TO]', 'NP[NNP]', 'VP[RB VBD]', 'NP[DT NN]', 'NP[JJ]', 'NP[PRP]', 'NP[JJ]', 'VP[RB TO VB]', 'NP[PRP]', 'VP[RB]', 'NP[NNP]', 'VP[VBN]', 'NP[DT]', 'NP[PRP]', 'VP[VBN]', 'NP[PRP$ NNS]', 'VP[RB]', 'VP[TO VB]', 'NP[DT NNP NNP]', 'VP[RB VBN]', 'NP[PRP$ NN]', 'NP[DT NN]', 'NP[NN]', 'NP[JJ]', 'VP[VBN]', 'NP[PRP$]', 'VP[VBZ]', 'NP[NNP]', 'NP[EX]', 'NP[PRP]', 'VP[VBD]', 'NP[PRP$ NN]', 'NP[JJ]', 'NP[NN]', 'NP[NNP]', 'VP[VBZ]', 'NP[NNP]', 'VP[VBN]', 'NP[DT CD]', 'NP[PRP]', 'NP[NNP]', 'NP[PRP]', 'VP[VBP TO VB TO]', 'NP[NN]', 'NP[NNP]', 'VP[VBD]', 'VP[TO VBP TO]', 'NP[DT]', 'NP[NN]', 'NP[NNS]', 'VP[VBZ]', 'NP[PRP]', 'NP[PRP]', 'NP[JJ]', 'NP[DT NNS]', 'NP[NNS]', 'NP[NN NNS]', 'NP[NN NN]', 'NP[DT NNP]', 'NP[PRP]', 'VP[RB VBP]', 'NP[NNS]', 'NP[NN]', 'NP[NN NN NN NN]', 'NP[NNP]', 'NP[NNP]', 'NP[NN]', 'NP[CD NN]', 'NP[NNS]', 'NP[PRP]', 'VP[VBP]', 'NP[PRP]', 'NP[NNP]', 'NP[JJ]', 'NP[PRP$ NN]', 'VP[RB]', 'NP[NN]', 'VP[VBN]', 'NP[PRP]', 'VP[RB VBN]', 'NP[NNP NNP]', 'VP[RB]', 'NP[PRP]', 'VP[VBD]', 'NP[JJ]', 'NP[PRP]', 'VP[VBN]', 'NP[PRP]', 'NP[PRP]', 'VP[VBD]', 'NP[NN]', 'VP[VBP TO VB]', 'NP[NNS]', 'NP[NNS]', 'NP[PRP]', 'VP[VBN]', 'NP[JJ NNS]', 'NP[PRP]', 'VP[RB RB]', 'NP[NN]', 'NP[PRP]', 'NP[NNS]', 'NP[NNP NN]', 'VP[VBZ]', 'NP[PRP]', 'VP[VBP]', 'NP[PRP]', 'NP[PRP]', 'NP[NN]', 'NP[PRP]', 'NP[NNP]', 'NP[PRP]', 'VP[VBD TO]', 'NP[PRP]', 'NP[PRP]', 'VP[VBD]', 'VP[TO]', 'NP[PRP$ NNS]', 'VP[VB]', 'NP[PRP]', 'VP[VBP]', 'NP[PRP$ NN]', 'NP[PRP]', 'NP[NN]', 'NP[PRP]', 'VP[VBD TO]', 'VP[VB]', 'NP[PRP]', 'NP[DT]', 'NP[PRP$]', 'NP[NNP]', 'VP[RB]', 'NP[JJ]', 'NP[PRP]', 'NP[PRP]', 'VP[VBD]', 'NP[PRP$ NNS]', 'NP[WP]', 'NP[NN]', 'VP[MD]', 'NP[PRP]', 'VP[VBP TO]', 'NP[PRP$ JJ]', 'NP[PRP]', 'VP[VBN]', 'NP[DT]', 'VP[VBN]', 'NP[NN]', 'VP[VBN]', 'NP[NN]', 'VP[VBN]', 'VP[RB]', 'NP[PRP]', 'VP[VBD]', 'NP[PRP$ NNS]', 'NP[PRP$ NN]', 'VP[TO VB]', 'NP[PRP$ NNS]', 'NP[PRP$ JJ NN]', 'NP[PRP$ NN]', 'NP[PRP$ NN]', 'NP[PRP$ NN]', 'VP[TO VB]', 'NP[PRP]', 'NP[NN]', 'NP[DT]', 'NP[PRP$]', 'VP[VBP VBD]', 'NP[NN]', 'NP[PRP$ NN]', 'NP[PRP]', 'NP[DT]', 'VP[RB]', 'NP[NNP NNP]', 'NP[PRP]', 'VP[MD RB VB]', 'VP[VBN]', 'NP[NN]', 'NP[PRP$ NN]', 'NP[PRP]', 'VP[VBD RB RB]', 'NP[PRP$ NN NNS]', 'NP[PRP]', 'NP[PRP]', 'VP[VBD]', 'NP[DT JJ NNP]', 'NP[NNP]', 'NP[PRP]', 'VP[VBP]', 'NP[PRP]', 'NP[PRP$ JJ NN]', 'VP[TO]', 'NP[DT]', 'NP[PRP]', 'VP[VBN]', 'NP[PRP]', 'NP[PRP]', 'VP[RB]', 'VP[RB]', 'NP[WP]', 'NP[PRP]', 'VP[VBD VBD]', 'NP[PRP]', 'VP[VBD]', 'NP[DT]', 'VP[VB]', 'VP[TO]', 'NP[PRP$]', 'VP[VBN]', 'NP[NN]', 'NP[PRP]', 'VP[RB]', 'VP[RB]', 'NP[PRP]', 'VP[VBD]', 'NP[PRP]', 'VP[VBP]', 'NP[PRP]', 'VP[VBD]', 'NP[PRP$ NNS]', 'VP[VB]', 'NP[JJ]', 'NP[PRP$]', 'VP[VBZ VBN]', 'NP[NN]', 'NP[WP]', 'NP[PRP]', 'VP[VBD TO]', 'NP[PRP]', 'VP[VBN TO]', 'NP[PRP]', 'NP[PRP]', 'VP[VB]', 'NP[PRP$ NN]', 'VP[RB]', 'NP[PRP]', 'VP[VBP]', 'NP[PRP]', 'VP[VBN]', 'NP[PRP$ NNS]', 'NP[NN]', 'VP[TO]', 'NP[JJ]', 'VP[RB]', 'NP[PRP]', 'VP[MD VBP]', 'NP[PRP]', 'VP[VBD]', 'NP[PRP$ NNS]', 'NP[NN]', 'VP[RB]', 'NP[WP]', 'NP[PRP]', 'VP[VBD]', 'VP[TO]', 'NP[PRP]', 'VP[RB]', 'NP[NNP]', 'NP[PRP]', 'VP[VBD]', 'NP[DT]', 'VP[VBD]', 'NP[DT]', 'NP[EX]', 'VP[VBD TO]', 'NP[NNP]', 'NP[WDT]', 'VP[MD]', 'NP[PRP]', 'VP[VBP VBN]', 'NP[DT NN]', 'VP[VBD]', 'NP[PRP]', 'NP[PRP]', 'VP[RB VBN]', 'NP[PRP]', 'VP[RB VBD]', 'NP[NNS]', 'NP[JJ]', 'NP[JJ]', 'NP[PRP$]', 'NP[PRP]', 'VP[VBD TO VB]', 'VP[TO]', 'NP[PRP$ NNS]', 'NP[NN]', 'NP[PRP]', 'VP[RB RB RB]', 'NP[PRP]', 'NP[PRP$ NNS]', 'NP[NNP]', 'NP[PRP]', 'VP[VBD VBN]', 'NP[PRP$ NNS]', 'NP[JJ]', 'VP[TO]', 'VP[RB]', 'NP[PRP]', 'VP[VBD VBD RB]', 'NP[NNP]', 'NP[JJ]', 'NP[PRP]', 'VP[MD VB]', 'NP[PRP]', 'VP[VBD]', 'NP[PRP]', 'VP[VBD]', 'NP[PRP$ NNS]', 'VP[VB]', 'NP[PRP$ NNS]', 'VP[TO]', 'NP[PRP$ NN]', 'NP[PRP$ NNS]', 'NP[DT]', 'NP[PRP]', 'VP[VBN RB]', 'NP[PRP$ JJ NNS]', 'VP[VBD]', 'NP[PRP$ NN]', 'NP[JJ NN]', 'NP[WP]', 'NP[PRP]', 'NP[PRP]', 'VP[VBN]', 'NP[JJR]', 'NP[PRP]', 'VP[VBD]', 'NP[PRP]', 'VP[VB]', 'NP[DT NN]', 'NP[JJ]', 'NP[WDT]', 'NP[PRP]', 'NP[NN]', 'NP[PRP]', 'VP[VB]', 'NP[DT]', 'VP[VBN]', 'NP[NNP]', 'VP[VB]', 'VP[VBP]', 'NP[PRP]', 'VP[VBD]', 'VP[VBD]', 'NP[PRP]', 'NP[JJ]', 'NP[PRP]', 'VP[RB]', 'NP[PRP]', 'VP[VBD]', 'NP[PRP]', 'NP[PRP$ NNS]', 'VP[RB VBD]', 'NP[NN]', 'NP[PRP]', 'NP[PRP]', 'VP[RB]', 'NP[PRP]', 'VP[VBD]', 'NP[DT JJ NN]', 'VP[VBP]', 'NP[DT]', 'NP[NNP]', 'VP[VBN]', 'NP[PRP]', 'NP[NN]', 'NP[PRP$]', 'NP[PRP]', 'VP[VBN]', 'NP[PRP]', 'NP[PRP$]', 'VP[VB]', 'NP[PRP$ NNS]', 'NP[JJ]', 'NP[DT JJ NNS]', 'NP[DT]', 'NP[PRP$ JJ NN]', 'VP[VBD]', 'NP[PRP]', 'VP[VBD]', 'NP[DT NN]', 'NP[PRP$]', 'VP[VBD]', 'NP[DT NN]', 'NP[PRP$ NN]', 'NP[DT NNP]', 'VP[VBN]', 'NP[NN NN]', 'NP[DT]', 'NP[WDT]', 'NP[PRP$ NN]', 'NP[DT JJR NNP]', 'VP[VBD]', 'VP[RB]', 'NP[DT NN]', 'VP[TO]', 'NP[DT CD]', 'VP[VBN]', 'NP[JJ]', 'NP[DT CD]', 'VP[VBD]', 'NP[NN]', 'VP[VB]', 'NP[PRP$ NNP]', 'VP[VBD RB]', 'NP[WP]', 'VP[VBD]', 'NP[DT]', 'NP[NNP]', 'VP[VBN]', 'NP[PRP]', 'VP[RB]', 'NP[DT NN]', 'VP[VBN]', 'NP[DT NNS]', 'VP[TO VB]', 'NP[DT JJ]', 'NP[DT NN]', 'VP[VBD]', 'NP[PRP]', 'VP[VBD]', 'NP[NNP]', 'NP[PRP]', 'VP[VBD]', 'VP[VBD]', 'NP[WP]', 'NP[DT NN NN]', 'VP[VBD]', 'VP[TO]', 'VP[VBD]', 'NP[WP]', 'NP[NNP]', 'VP[MD VB]', 'NP[JJ]', 'VP[RB]', 'NP[NN]', 'VP[VBD]', 'NP[PRP$ NNS]', 'NP[PRP]', 'NP[NN]', 'VP[VB]', 'NP[PRP]', 'NP[NNP]', 'NP[DT]', 'NP[PRP]', 'VP[VBD]', 'NP[PRP$ NN]', 'VP[TO]', 'NP[DT NN NNP]', 'NP[NN]', 'NP[NNP]', 'NP[NNP]', 'VP[VBN]', 'VP[VBD]', 'NP[DT NN]', 'VP[VBP VBN]', 'NP[PRP$ JJ]', 'NP[JJ]', 'VP[VBN]', 'NP[PRP]', 'VP[RB]', 'NP[DT JJR]', 'NP[PRP]', 'NP[DT NNP]', 'VP[VBD]', 'NP[JJ]', 'NP[DT NN]', 'VP[VBN RB]', 'NP[DT CD]', 'NP[PRP]', 'VP[VBD]', 'NP[DT JJ NNS]', 'NP[DT NNP NNP]', 'NP[NN]', 'NP[PRP$ NNS]', 'VP[RB]', 'NP[NNP]', 'VP[VB]', 'NP[PRP]', 'VP[VBD]', 'NP[PRP]', 'VP[VBD]', 'NP[NNP]', 'VP[VBN]', 'NP[JJR]', 'NP[PRP]', 'NP[NNP]', 'VP[VBN RB]', 'NP[PRP$ JJ NNS]', 'NP[PRP$ NN NNP]', 'NP[NNP]', 'VP[VBN RB]', 'NP[PRP]', 'NP[NNP]', 'VP[VBD]', 'NP[PRP]', 'NP[JJ]', 'VP[RB]', 'NP[NN]', 'NP[DT NNS]', 'NP[WDT]', 'VP[MD VB]', 'NP[DT NN]', 'NP[NNP]', 'NP[PRP]', 'VP[VBD]', 'NP[NN]', 'NP[PRP]', 'NP[NNP]', 'VP[VBD]', 'NP[DT JJR NNP NNP]', 'VP[VBN RB]', 'NP[NN]', 'NP[NNP]', 'NP[NN]', 'VP[RB]', 'NP[PRP$ NN]', 'NP[PRP$]', 'NP[NNP NNS]', 'VP[VBD]', 'NP[DT NN]', 'NP[DT]', 'NP[NN]', 'VP[VBD]', 'NP[JJ]', 'NP[JJ NN]', 'NP[DT]', 'NP[NNP]', 'NP[PRP]', 'VP[VBD]', 'NP[JJ]', 'NP[PRP$ NN]', 'VP[VBD TO VB TO]', 'NP[DT NNS]', 'NP[PRP]', 'VP[VBD]', 'NP[PRP$ NN]', 'VP[VBD TO VBP]', 'NP[PRP$ NN]', 'VP[VB RB]', 'NP[DT NN]', 'NP[PRP]', 'NP[NN]', 'NP[DT JJ NNP]', 'NP[PRP$ NN]', 'VP[VBD]', 'NP[DT]', 'NP[NN]', 'NP[PRP$ NN]', 'VP[VBN]', 'NP[JJ]', 'VP[VBD TO VB VBN]', 'NP[PRP$ NNS]', 'NP[PRP$ NNP]', 'NP[JJ]', 'VP[RB]', 'NP[PRP]', 'VP[VBD TO]', 'NP[PRP]', 'VP[VBD VBN]', 'NP[DT NN]', 'NP[PRP]', 'VP[VBD TO VB]', 'NP[PRP$ NN]', 'VP[TO]', 'NP[PRP$ NNP]', 'VP[TO VB]', 'NP[DT NNS]', 'NP[PRP$ NNS]', 'VP[TO]', 'NP[PRP$]', 'VP[RB]', 'NP[NN]', 'VP[VBN]', 'NP[PRP$ NNS]', 'NP[DT NN]', 'NP[PRP$ NN]', 'NP[DT JJ NN]', 'NP[PRP$ NNS]', 'NP[JJ]', 'NP[JJ]', 'NP[PRP$ NNP]', 'NP[PRP]', 'VP[VBD RB VBD]', 'NP[DT JJ NN]', 'NP[PRP$]', 'NP[NNP]', 'NP[JJ]', 'NP[PRP$ NN]', 'VP[RB]', 'NP[NN]', 'VP[RB]', 'NP[NNP]', 'NP[PRP]', 'VP[VBD TO]', 'NP[NNP]', 'NP[DT]', 'VP[RB]', 'NP[PRP]', 'VP[VBD]', 'VP[TO]', 'NP[NNP]', 'NP[PRP]', 'VP[RB VBD]', 'NP[NN]', 'NP[PRP]', 'VP[VBD TO VBP TO]', 'NP[DT NNP]', 'VP[VBN]', 'NP[DT]', 'VP[RB]', 'NP[NN]', 'NP[DT]', 'NP[PRP$]', 'NP[PRP$]', 'NP[NNS]', 'NP[PRP]', 'NP[PRP]', 'VP[VBD]', 'NP[NN]', 'NP[DT NNP]', 'NP[JJ]', 'NP[PRP]', 'VP[TO VB]', 'NP[DT]', 'NP[PRP]', 'VP[VBP TO VB RB TO]', 'NP[PRP$ JJ]', 'NP[NNP]', 'NP[NN NNS NNS]', 'NP[PRP]', 'NP[NN]', 'NP[NNP]', 'VP[VBD RB TO VB]', 'NP[DT]', 'VP[VBN]', 'NP[NNP NNS]', 'NP[PRP]', 'VP[VBP VBN]', 'NP[PRP]', 'NP[DT NN]', 'VP[RB]', 'NP[NN NN]', 'NP[JJ]', 'NP[DT NNP NN]', 'NP[NNP]', 'VP[VBD]', 'NP[PRP]', 'VP[TO VB]', 'NP[DT JJ]', 'NP[DT CD]', 'VP[VBD]', 'NP[DT JJ NNS]', 'NP[NNS]', 'NP[PRP]', 'NP[JJ NN]', 'VP[RB]', 'NP[DT]', 'VP[VBN]', 'NP[NNP NNP NNP]', 'VP[VBD]', 'NP[DT NN]', 'NP[PRP$ NN NN]', 'NP[JJ]', 'VP[TO]', 'NP[JJ]', 'NP[PRP]', 'NP[DT JJR]', 'NP[PRP]', 'NP[NN NN]', 'NP[NN]', 'VP[VB]', 'NP[JJ NN]', 'NP[DT NN]', 'NP[PRP]', 'VP[VBN]', 'NP[PRP$]', 'NP[PRP]', 'NP[NN NN]', 'VP[RB]', 'NP[JJ NN]', 'NP[JJ JJ NNS]', 'VP[VBN]', 'NP[NN NN]', 'NP[NN]', 'NP[NNP]', 'VP[VBD]', 'NP[PRP]', 'NP[NNS]', 'NP[PRP]', 'NP[PRP]', 'NP[DT NN]', 'NP[NNP]', 'NP[NN]', 'NP[PRP$ JJ NNS]', 'NP[JJ]', 'NP[DT]', 'VP[VBN]', 'NP[NNP NNP]', 'NP[NN]', 'VP[VBD]', 'NP[DT]', 'NP[NN]', 'NP[NN]', 'VP[TO VB]', 'NP[DT NN NN]', 'NP[NN]', 'NP[PRP]', 'VP[VBD]', 'NP[DT NN]', 'NP[JJ]', 'VP[TO VB]', 'NP[NN]', 'NP[EX]', 'VP[VBD]', 'NP[NN]', 'NP[NN]', 'NP[NNP]', 'NP[DT NN]', 'NP[NN]', 'NP[NNS]', 'VP[VBZ]', 'NP[DT NN]', 'NP[PRP]', 'NP[NNP]', 'NP[NN]', 'VP[VBZ]', 'NP[DT]', 'VP[VBN]', 'VP[VB]', 'NP[NN]', 'VP[RB]', 'NP[PRP]', 'VP[VB]', 'NP[PRP]', 'NP[DT]', 'NP[NN]', 'VP[VB TO]', 'NP[PRP]', 'VP[RB]', 'VP[VB]', 'VP[VBD]', 'NP[PRP]', 'VP[VBP]', 'NP[PRP]', 'VP[VBD]', 'NP[DT NNP NNP]', 'NP[CD NNS]', 'NP[JJ]', 'NP[PRP]', 'VP[RB]', 'NP[DT NN]', 'VP[VBP]', 'NP[PRP]', 'NP[CD NNS]', 'NP[PRP$ NN]', 'NP[DT JJ]', 'NP[NN]', 'NP[PRP]', 'VP[VB]', 'NP[PRP$ NNP]', 'VP[VB VB]', 'NP[NNP]', 'NP[NNS]', 'NP[PRP$ NN]', 'NP[PRP$]', 'NP[PRP]', 'VP[VBD VBN]', 'VP[VB]', 'NP[NN]', 'NP[PRP]', 'VP[VBP]', 'NP[DT]', 'VP[VBN]', 'VP[RB]', 'NP[PRP]', 'VP[VBP]', 'NP[DT NNS]', 'NP[NNP]', 'NP[DT JJ NN]', 'NP[NNP]'], 'tokens': ['But', 'I', 'KNOW', ',', 'not', 'think', ',', 'that', 'I', 'don', \"''\", 't', 'deserve', 'Tohru.', 'And', 'it', 'makes', 'me', 'painfully', 'aware', 'that', 'Yuki', 'needs', 'her', 'more', 'that', 'I', 'do.', 'I', 'stopped', 'in', 'front', 'of', 'her', 'door', ',', 'to', 'call', 'her', 'to', 'dinner', 'as', 'I', 'knocked', 'my', 'fist', 'on', 'the', 'surface', 'of', 'the', 'huge', 'rectangular', 'block', 'of', 'wood.', '``', 'Dinner.', \"''\", 'I', 'called', 'out', ',', 'knowing', 'that', 'she', 'would', 'understand', 'what', 'I', 'meant.', 'Immediately', ',', 'I', 'heard', 'some', 'sniffling', ',', 'footsteps', ',', 'and', 'some', 'more', 'sniffling', 'before', 'the', 'door', 'before', 'me', 'was', 'opened.', '``', 'Ah', ',', 'Kyou-kun', ',', \"''\", 'her', 'sweet', 'voice', 'pronounced', ',', 'hurriedly', 'wiping', 'her', 'eyes', 'with', 'the', 'back', 'of', 'her', 'hand.', 'I', 'winced', 'inwardly', '-', 'her', 'blue', 'eyes', 'were', 'extremely', 'bloodshot', 'and', 'tearstains', 'can', 'be', 'definitely', 'seen.', 'Her', 'hair', 'was', 'a', 'mess', ',', 'and', 'her', 'cheeks', 'and', 'nose', 'were', 'slightly', 'pink', ',', 'signaling', 'that', 'she', 'really', 'had', 'been', 'crying.', '``', 'C', \"''\", 'mon', ',', \"''\", 'I', 'murmured', 'to', 'her', ',', 'bringing', 'my', 'hand', 'up', 'to', 'her', 'face', 'to', 'wipe', 'away', 'a', 'single', 'tear.', '``', 'Don', \"''\", 't', 'cry', ',', 'alright', '?', 'Everything', \"''\", 's', 'gon', 'na', 'be', 'okay.', \"''\", 'I', 'tried', 'to', 'comfort', 'her', 'with', 'words', ',', 'but', 'that', 'wasn', \"''\", 't', 'my', 'area.', 'I', 'brought', 'my', 'hand', 'where', 'it', 'belonged', ',', 'apparently', 'beside', 'me.', '``', 'Kyou-kun', ',', \"''\", 'she', 'started', ',', 'trying', 'not', 'to', 'make', 'her', 'voice', 'quiver.', '``', 'It', \"''\", 's', 'just', 'that', '...', 'I', \"''\", 'm', 'really', 'worried', 'about', 'Yuki-kun', '...', 'It', \"''\", 's', 'been', 'five', 'days', 'and', 'he', \"''\", 'she', 'sniffled', 'a', 'cry', 'before', 'continuing.', '``', 'He', 'didn', \"''\", 't', 'call', 'yet', '...', \"''\", '``', 'I', \"''\", 'm', 'sure', 'he', 'has', 'his', 'reasons.', \"''\", 'I', 'reassured', 'her.', 'Yeah', ',', 'that', 'guy', 'better', 'have', 'his', 'reasons.', '``', 'C', \"''\", 'mon', ',', 'let', \"''\", 's', 'go', 'eat.', \"''\", 'That', 'mouse', 'would', 'definitely', 'get', 'it', 'from', 'me.', 'I', 'hate', 'seeing', 'her', 'like', 'this.', 'Shigure', 'looked', 'at', 'the', 'girl', 'with', 'a', 'pitiful', 'stare.', 'Tohru', \"''\", 's', 'eyes', 'were', 'still', 'bloodshot', ',', 'and', 'she', 'was', 'unusually', 'quiet', 'during', 'the', 'meal.', '``', 'Tohru-kun', ',', \"''\", 'Shigure', 'started', ',', 'holding', 'his', 'chopsticks', 'in', 'his', 'palm.', '``', 'It', \"''\", 's', 'going', 'to', 'be', 'alright.', 'Only', 'five', 'days', 'have', 'passed', ',', 'and', 'I', 'know', 'Yuki', \"''\", 's', 'perfectly', 'fine.', 'Yuki', 'can', 'take', 'care', 'of', 'himself.', \"''\", 'Shigure', 'tried', 'to', 'deliver', 'words', 'of', 'comfort', 'to', 'the', 'distraught', 'girl.', 'Tohru', 'tried', 'on', 'her', 'best', 'smile', 'to', 'shake', 'off', 'Shigure', 'and', 'Kyou', \"''\", 's', 'worried', 'looks.', '``', 'Shigure-san', ',', 'I', \"''\", 'm', 'already', 'okay.', \"''\", 'Tohru', 'tried', 'to', 'say', 'on', 'her', 'best', 'cheery', 'voice', ',', 'but', 'all', 'else', 'failed.', 'She', 'looked', 'down', 'on', 'her', 'food', 'before', 'continuing.', '``', 'I', 'know', 'Yuki-kun', 'could', 'take', 'care', 'of', 'himself', '...', \"''\", 'The', 'snowflakes', 'slowly', 'entered', 'the', 'Japanese-style', 'decorated', 'room', ',', 'placing', 'themselves', 'on', 'the', 'bamboo', 'floor', 'before', 'melting', 'away.', 'His', 'lavender', 'eyes', 'stayed', 'put', 'on', 'the', 'snowflakes', ',', 'completely', 'bored', ',', 'even', 'though', 'almost', 'every', 'part', 'of', 'his', 'body', 'was', 'aching.', 'Yuki', 'closed', 'his', 'eyes', 'and', 'turned', 'his', 'head', 'back', 'to', 'face', 'the', 'ceiling', ',', 'wanting', 'to', 'feel', 'refreshment', 'for', 'once.', 'Akito', 'had', 'no', 'right', 'to', 'bring', 'him', 'here', 'without', 'his', 'own', 'permission', ',', 'didn', \"''\", 't', 'he', '?', 'Yuki', 'wasn', \"''\", 't', 'his', 'to', 'own', 'and', 'to', 'torture', 'every', 'single', 'night', 'and', 'day.', 'Honestly', ',', 'Yuki', 'was', 'somehow', 'relieved', 'that', 'the', 'whole', 'day', ',', 'no', 'blue-haired', ',', 'blue-eyed', 'Sohma', 'clan', 'head', 'entered', 'his', 'torture', 'chamber.', 'Or', 'else', 'he', 'would', \"''\", 've', 'gone', 'through', 'a', 'series', 'of', 'memories', 'that', 'he', 'didn', \"''\", 't', 'want', 'to', 'go', 'through', 'again.', 'He', 'sighed', ',', 'feeling', 'guilt', 'overcome', 'his', 'sudden', 'consciousness.', 'It', 'was', 'his', 'fault', 'that', 'Yuki', 'was', 'all', 'cooped', 'up', 'in', 'that', 'room', ',', 'unable', 'to', 'do', 'anything', ',', 'not', 'even', 'call', 'his', 'loved', 'ones', 'at', 'home.', 'It', 'was', 'his', 'fault', 'that', 'Yuki', 'was', 'feeling', 'as', 'miserable', 'as', 'miserable', 'could', 'be', ',', 'with', 'no', 'brown-haired', ',', 'blue-eyed', 'girl', 'to', 'be', 'by', 'his', 'side.', 'Hatori', 'sighed', 'again', ',', 'this', 'time', 'of', 'exasperation', ',', 'knowing', 'that', 'somehow', ',', 'what', 'he', 'did', 'was', 'the', 'right', 'thing', 'to', 'do.', '``', 'Hatori', ',', 'come', 'over', 'here.', \"''\", 'Akito', 'murmured', ',', 'signaling', 'the', 'fellow', 'Sohma', 'to', 'come', 'upon', 'his', 'aid.', 'Yuki', 'was', 'still', 'unconscious.', '``', 'What', 'do', 'you', 'need', ',', 'Akito', '?', \"''\", '``', 'Don', \"''\", 't', 'let', 'Yuki', 'use', 'the', 'phone.', \"''\", '``', 'WHAT', '?', '!', \"''\", 'Hatori', 'asked', 'in', 'pure', 'rage.', '``', 'What', 'do', 'you', 'mean', '?', 'He', 'has', 'to', 'tell', 'Shigure', 'and', 'everyone', 'else', 'on', 'where', 'he', 'is.', \"''\", 'Akito', \"''\", 's', 'eyes', 'narrowed.', '``', 'I', 'don', \"''\", 't', 'want', 'anyone', 'else', 'to', 'know', 'that', 'my', 'precious', 'Yuki', 'is', 'here', 'with', 'me', ',', 'Hatori.', 'Disobey', 'me', 'and', 'Shigure', 'and', 'the', 'others', 'would', 'feel', 'my', 'wrath.', 'Yuki', 'should', 'NOT', 'use', 'the', 'phone.', 'Anyone', 'calling', 'for', 'him', 'is', 'to', 'be', 'spoken', 'to', 'by', 'me.', \"''\", '(', 'Yuki', \"''\", 's', 'POV', ')', 'I', 'winced', 'as', 'I', 'felt', 'another', 'stab', 'of', 'unbearable', 'pain', 'invade', 'my', 'wrecked', 'stature.', 'I', \"''\", 'm', 'lying', 'here', ',', 'in', 'this', 'futon', ',', 'without', 'the', 'ability', 'to', 'move', 'anything', 'besides', 'my', 'gaze.', 'My', 'eyes', 'followed', 'another', 'snowflake', 'enter', 'the', 'solitary', 'room.', 'It', 'suffered', 'the', 'same', 'fate', 'as', 'the', 'others', 'did', ',', 'trapped', 'in', 'this', 'forsaken', 'room', 'until', 'they', 'melt', 'away', 'into', 'nothingness.', 'I', 'felt', 'alone', '...', 'and', 'I', 'need', 'Tohru-san', 'by', 'my', 'side.', 'My', 'eyes', 'jerked', 'to', 'my', 'other', 'side', 'as', 'I', 'heard', 'heavy', 'footsteps', 'coming', 'to', 'the', 'door.', 'I', 'closed', 'my', 'eyes', 'shut', ',', 'clenching', 'my', 'fist', ',', 'hoping', 'that', 'the', 'person', 'who', 'will', 'enter', 'this', 'forsaken', 'room', 'was', 'Hatori', ',', 'or', 'anybody', 'else', 'for', 'that', 'matter.', 'I', 'wished', 'hard', 'for', 'the', 'person', 'not', 'to', 'be', 'Akito.', 'My', 'fists', 'clenched', 'into', 'a', 'ball', ',', 'possibly', 'harder', ',', 'as', 'if', 'my', 'nails', 'could', 'bring', 'blood.', 'The', 'door', 'was', 'slowly', 'opened', ',', 'and', 'someone', 'came', 'in', 'before', 'shutting', 'it', 'tight', ',', 'putting', 'a', 'lock', 'on', 'it.', 'If', 'only', 'my', 'legs', 'could', 'move', ',', 'which', 'felt', 'like', 'two', 'sticks', 'of', 'lead', ',', 'I', 'would', 'greatly', 'stand', 'up', 'and', 'run', 'away', 'form', 'this', 'horrid', 'place.', 'The', 'person', 'started', 'to', 'move', '-', 'and', 'to', 'my', 'horror', '-', 'to', 'my', 'direction.', 'I', 'could', 'hear', 'the', 'shuffling', 'of', 'bare', 'feet', 'nearing', 'my', 'figure', ',', 'the', 'soft', 'whiffs', 'of', 'cold', 'wind', 'that', 'the', 'steps', 'gathered', 'against', 'my', 'cheek.', 'And', 'at', 'last', ',', 'the', 'movements', 'stopped', ',', 'but', 'still', 'I', 'dreaded', 'to', 'open', 'my', 'lavender', 'eyes.', 'As', 'I', 'hoped', ',', 'the', 'figure', 'stopped', ',', 'but', 'then', 'the', 'person', 'started', 'to', 'move', 'again.', 'To', 'the', 'south', 'of', 'my', 'figure', ',', 'that', 'is.', 'All', 'I', 'knew', 'next', 'was', 'that', 'a', 'cold', ',', 'smooth', 'hand', 'was', 'brushing', 'off', 'a', 'few', 'silken', 'strands', 'of', 'my', 'lavender-silver', 'hair.', 'The', 'soft', 'hand', 'brushed', 'the', 'stray', 'locks', 'away', ',', 'pushing', 'them', 'behind', 'my', 'ear', ',', 'or', 'playing', 'with', 'it', 'in', 'its', 'fingers.', 'I', 'felt', 'the', 'edge', 'of', 'a', 'sleeve', 'of', 'a', 'gi', 'graze', 'my', 'cheek', ',', 'my', 'eyes', 'still', 'closed.', 'I', 'felt', 'the', 'hand', 'move', 'downwards', ',', 'abandoning', 'my', 'cheek', ',', 'only', 'to', 'move', 'to', 'my', 'jaw', 'and', 'trace', 'my', 'lips.', 'Inwardly', ',', 'I', 'wanted', 'to', 'push', 'the', 'person', 'the', 'hell', 'away', 'from', 'me', ',', 'because', 'for', 'some', 'reason', ',', 'I', 'felt', 'what', 'the', 'person', 'was', 'doing', 'was', 'sexual', 'harassment.', 'The', 'hand', 'soon', 'then', 'left', 'my', 'face', ',', 'but', 'started', 'its', 'journey', 'down', 'my', 'neck.', 'I', 'could', 'feel', 'the', 'fingertips', 'slowly', '-', 'but', 'unpleasantly', '-', 'tickle', 'my', 'warm', 'skin', ',', 'trailing', 'down', 'my', 'neck', 'to', 'my', 'collarbone.', 'It', 'stopped', ',', 'I', 'hope', ',', 'but', 'to', 'm', 'y', 'disappointment', 'the', 'hand', 'started', 'to', 'move', 'again', ',', 'now', 'feeling', 'another', 'hand', 'pressed', 'lightly', 'upon', 'my', 'other', 'shoulder.', 'Finally', ',', 'I', 'opened', 'my', 'eyes', 'to', 'see', 'the', 'horror', 'that', 'was', 'looming', 'over', 'me.', '``', 'A-Akito', '...', '?', \"''\", 'Author', \"''\", 's', 'notes', ':', 'Any', 'comments', '?', 'Suggestions', '?', 'Violent', 'Reactions', '?', 'Please', 'feel', 'free', 'to', 'review', ',', 'and', 'please', 'do', '!', 'Anyone', 'interested', 'in', 'Yami', 'no', 'Matsuei', ',', 'please', 'read', 'my', 'fic', ',', 'if', 'you', 'could.', 'Thank', 'you', 'and', 'Merry', 'Christmas', '!', 'Imprisonment', '6', 'Author', \"''\", 's', 'notes', ':', 'This', 'chapter', 'is', 'dedicated', 'to', '~*paper', 'star*~.', 'Maybe', 'some', 'of', 'your', 'questions', 'would', 'be', 'answered', 'in', 'this', 'chapter.', 'I', 'hope', 'you', 'like', 'it', ',', 'and', 'please', ',', 'review.', 'I', 'am', 'really', 'going', 'to', 'die', 'if', 'you', 'guys', 'don', \"''\", 't', 'review', 'this.', '**chokes**', 'I', 'hope', 'you', 'enjoy', '!', '(', 'Kyou', \"''\", 's', 'POV', ')', 'I', 'sat', 'on', 'the', 'roof', ',', 'quiet', ',', 'staring', 'at', 'the', 'full', 'moon.', 'It', 'was', 'too', 'unnerving', 'to', 'stay', 'inside', ',', 'seeing', 'Tohru', 'broken', 'like', 'a', 'piece', 'of', 'fragile', 'glass.', 'Shigure', 'wasn', \"''\", 't', 'helping', '-', 'his', 'words', 'of', 'comfort', 'only', 'brought', 'more', 'pain', 'inside', 'Tohru', ',', 'as', 'I', 'can', 'see.', 'The', 'moon', 'shone', 'brightly', 'back', 'at', 'me', ',', 'as', 'if', 'glaring', 'at', 'me.', 'I', 'shrugged', 'the', 'feeling', 'off', 'as', 'I', 'drowned', 'in', 'my', 'own', 'thoughts', ',', 'my', 'concern', 'concentrated', 'on', 'the', 'brown-haired', 'girl', 'down', 'below', 'me.', 'How', 'did', 'I', 'know', 'that', 'I', 'do', 'not', 'deserve', 'Tohru', ',', 'you', 'ask', '?', 'Well', ',', 'it', \"''\", 's', 'quite', 'simple', 'really.', 'To', 'be', 'honest', ',', 'I', 'don', \"''\", 't', 'even', 'know', 'how', 'it', 'happened.', 'I', 'was', 'just', 'walking', 'by', 'the', 'forest', ',', 'hoping', 'to', 'relax', 'as', 'I', 'did', ',', 'since', 'Shigure', 'was', 'making', 'a', 'racket', 'with', 'his', 'agent', 'inside', 'the', 'house.', 'Ayame', 'also', 'arrived', 'that', 'day', ',', 'intent', 'and', 'keen', 'on', 'pestering', 'the', 'stupid', 'mouse.', 'So', 'I', 'had', 'to', 'get', 'away', 'from', 'it', 'all', ',', 'and', 'deciding', 'that', 'a', 'walk', 'should', 'be', 'fine', 'instead', 'of', 'staying', 'up', 'on', 'the', 'roof', ',', 'I', 'went', 'to', 'the', 'woods.', 'The', 'sunlight', 'was', 'bright', 'and', 'warm', ',', 'not', 'hot', 'and', 'painful', 'to', 'the', 'eyes.', 'My', 'footsteps', 'couldn', \"''\", 't', 'be', 'heard', ',', 'and', 'I', 'was', 'glad', 'of', 'that.', 'And', 'then', ',', 'I', 'saw', 'them.', 'The', 'two', 'of', 'them', ',', 'that', 'baka', 'nezumi', 'and', 'Tohru', ',', 'were', 'working', 'on', 'what', 'I', 'could', 'call', 'a', 'secret', 'garden.', 'The', 'garden', 'was', 'full', 'of', 'strawberries', ',', 'carrots', ',', 'onions', 'and', 'some', 'other', 'vegetables', ',', 'and', 'I', 'was', 'keen', 'not', 'to', 'be', 'noticed', 'by', 'the', 'two.', 'I', 'overheard', 'their', 'conversation', ',', 'as', 'I', 'stayed', 'put', ',', 'leaning', 'behind', 'a', 'tree.', 'I', 'remember', 'that', 'they', 'were', 'talking', 'about', 'an', 'agreement', ',', 'to', 'call', 'each', 'other', 'by', 'their', 'names.', 'Breathing', 'heavily', ',', 'I', 'turned', 'around', 'to', 'sneak', 'a', 'peek', 'at', 'the', 'two', ',', 'seeing', 'how', 'content', 'they', 'were.', 'You', 'could', 'say', 'that', 'they', 'were', 'happily', 'contented', 'at', 'that', 'moment', ',', 'as', 'if', 'they', 'would', 'never', 'be', 'apart.', 'And', 'that', 'moment', 'alone', 'awakened', 'me.', 'I', 'was', 'not', 'meant', 'for', 'Tohru', ',', 'but', 'that', 'nezumi', 'was.', 'I', 'was', 'meant', 'for', 'someone', 'else', ',', 'for', 'me', 'to', 'be', 'content', ',', 'to', 'be', 'happy', ',', 'and', 'for', 'that', 'person', 'to', 'accept', 'who', 'I', 'really', 'am.', 'I', \"''\", 'm', 'not', 'meant', 'to', 'chase', 'after', 'someone', 'I', 'wasn', \"''\", 't', 'meant', 'for', '-', 'and', 'that', 'proved', 'that', 'I', 'just', 'love', 'Tohru', 'in', 'a', 'friendly', 'way.', 'I', 'didn', \"''\", 't', 'deserve', 'her', '-', 'she', 'was', 'too', 'good', ',', 'too', 'perfect', 'for', 'me.', 'Her', 'unearthly', 'beauty', 'was', 'to', 'be', 'discovered', 'by', 'Yuki', ',', 'they', 'were', 'meant', 'to', 'be', 'together', ',', 'they', 'were', 'meant', 'to', 'love', 'each', 'other', 'until', 'the', 'very', 'end.', 'I', 'would', 'only', 'be', 'standing', 'in', 'their', 'way', 'if', 'I', 'continued', 'my', 'useless', 'pursuit.', 'God', ',', 'how', 'poetic', 'was', 'that', '?', 'That', 'was', 'definitely', 'unlike', 'me.', 'So', ',', 'your', 'question', 'has', 'been', 'answered', ',', 'here', ',', 'right', 'now', ',', 'as', 'I', 'glare', 'back', 'at', 'the', 'glowing', 'moon.', 'I', 'hate', 'you', ',', 'Yuki.', 'I', 'hate', 'you', 'for', 'making', 'me', 'realize', 'that.', 'But', '...', 'I', 'hate', 'myself', 'more', 'for', 'seeing', 'the', 'fact', 'that', 'you', 'two', 'were', 'meant', 'to', 'be.', 'God', ',', 'I', 'am', 'so', 'stupid.', 'So', ',', 'we', 'both', 'are.', 'Everything', \"''\", 's', 'equal', '...', 'everything', \"''\", 's', 'fair.', 'I', \"''\", 'd', 'find', 'my', 'match', ',', 'I', \"''\", 'm', 'sure', 'of', 'it.', 'You', 'just', 'have', 'to', 'wish', 'me', 'luck.', '(', 'Akito', \"''\", 's', 'POV', ')', 'I', 'led', 'my', 'hand', 'up', 'to', 'his', 'temples', ',', 'feeling', 'the', 'soft', 'silken', 'strands', 'of', 'his', 'lavender', 'hair.', 'His', 'skin', 'was', 'so', 'soft', ',', 'too', 'soft', 'to', 'be', 'a', 'man', \"''\", 's', ',', 'in', 'fact', ',', 'making', 'me', 'want', 'him', 'more.', 'He', 'was', 'just', 'beautiful', ',', 'and', 'I', 'need', 'to', 'satisfy', 'my', 'craving', 'for', 'him', 'sooner.', 'I', 'just', 'wonder', 'how', 'come', 'I', 'never', 'did', 'this', 'to', 'him', 'when', 'he', 'was', 'little.', 'Maybe', 'because', 'he', 'grew', 'up', '-', 'he', 'grew', 'up', 'to', 'be', 'a', 'lovely', 'man', 'that', 'makes', 'me', 'crave', 'for', 'him', 'more.', 'His', 'skin', 'was', 'a', 'lovely', 'shade', 'of', 'pale', 'cream', ',', 'just', 'like', 'mine', ',', 'the', 'taste', 'of', 'his', 'mouth', 'invigorating.', 'His', 'body', 'was', 'fragile', ',', 'his', 'eyes', 'the', 'same', 'hue', 'as', 'his', 'hair', ',', 'his', 'body', 'well', 'refined', 'as', 'mine.', 'I', \"''\", 'm', 'about', 'to', 'die', 'any', 'minute', ',', 'and', 'thinking', 'about', 'it', ',', 'my', 'most', 'recent', 'goal', 'was', 'to', 'take', 'him', 'before', 'I', 'die.', 'He', 'was', 'just', 'too', 'special', ',', 'making', 'me', 'want', 'him', 'badly', ',', 'making', 'me', 'want', 'to', 'torture', 'him', 'in', 'a', 'new', ',', 'more', 'horrible', 'way.', 'And', 'my', 'kiss', ',', 'my', 'touch', ',', 'seems', 'to', 'make', 'his', 'memories', 'float', 'to', 'his', 'current', 'state.', 'I', 'love', 'seeing', 'him', 'shattered', 'like', 'a', 'precious', ',', 'porcelain', 'doll', ',', 'as', 'if', 'he', 'would', 'break', 'in', 'every', 'way', 'I', 'touch', 'him.', 'He', 'was', 'wounded', 'by', 'how', 'I', 'treated', 'him', 'a', 'few', 'years', 'back', ',', 'and', 'I', 'want', 'him', 'more', 'terrified', 'of', 'me', ',', 'more', 'scared', 'of', 'me', 'than', 'every', 'before.', 'I', 'take', 'delight', 'in', 'torturing', 'what', 'is', 'mine.', 'I', 'love', 'his', 'terrified', 'face.', 'I', 'love', 'his', 'quavering', 'voice.', 'Let', 'me', 'take', 'you', ',', 'Yuki.', 'His', 'eyes', 'open', 'as', 'I', 'continued', 'to', 'move', 'my', 'hand', ',', 'gracing', 'his', 'soft', ',', 'warm', 'skin.', 'I', 'held', 'him', 'gently', 'down', 'on', 'the', 'futon', ',', 'knowing', 'that', 'he', 'couldn', \"''\", 't', 'move', 'because', 'his', 'wound', 'would', 'open', 'up', 'and', 'his', 'ribs', 'would', 'hurt.', '``', 'A-Akito', '...', '?', \"''\", 'he', 'murmured', 'at', 'me', ',', 'his', 'eyes', 'wide', 'in', 'horror.', '(', 'Yuki', \"''\", 's', 'POV', ')', 'He', 'loomed', 'over', 'me', 'as', 'if', 'I', 'was', 'a', 'porcelain', 'doll', 'that', 'needed', 'his', 'protection.', 'But', 'I', 'am', 'not', 'a', 'doll', 'for', 'him', 'to', 'play', 'with', ';', 'I', \"''\", 'm', 'a', 'human', 'being', 'who', 'needs', 'to', 'be', 'away', 'from', 'some', 'lunatic', 'called', 'Akito.', 'I', 'winced', 'as', 'he', 'inserted', 'his', 'hand', 'in', 'my', 'gi', ',', 'pushing', 'the', 'cloth', 'apart', ',', 'revealing', 'my', 'upper', 'body.', '``', 'Stop', 'it', ',', 'Akito.', \"''\", 'I', 'murmured', ',', 'trying', 'to', 'get', 'up', ',', 'but', 'once', 'again', 'my', 'ribs', 'started', 'to', 'hurt.', 'He', 'pushed', 'me', 'down', 'on', 'the', 'futon', ',', 'his', 'hand', 'still', 'atop', 'my', 'chest', ',', 'and', 'his', 'other', 'hand', 'on', 'my', 'shoulder.', '``', 'Hold', 'still.', \"''\", 'He', 'mumbled', 'back', 'at', 'me', ',', 'his', 'blue', 'eyes', 'narrowing', 'as', 'he', 'eyed', 'my', 'half-naked', 'body.', 'Shivers', 'ran', 'down', 'my', 'spine', ',', 'the', 'hair', 'at', 'the', 'back', 'of', 'my', 'neck', 'standing', ',', 'my', 'eyes', 'still', 'widening', 'as', 'he', 'continued', 'with', 'his', 'torture.', '``', 'You', 'know', 'you', \"''\", 're', 'hurt.', 'Don', \"''\", 't', 'move', '...', \"''\", 'he', 'started', ',', 'now', 'slipping', 'the', 'other', 'sleeve', 'out', 'of', 'his', 'way', ',', 'leaving', 'my', 'upper', 'body', 'totally', 'unclothed.', '``', 'a', 'single', 'bit', '...', \"''\", 'I', 'tried', 'to', 'squirm', 'out', 'of', 'his', 'heavy', 'grasp', ',', 'seeing', 'that', 'he', 'was', 'already', 'on', 'top', 'of', 'me.', '``', 'Stop', 'it.', \"''\", 'He', 'didn', \"''\", 't', 'stop', 'what', 'he', 'was', 'doing.', 'He', 'continued', 'on', 'with', 'his', 'agonizing', 'activity', ',', 'slowly', 'undressing', 'me', ',', 'sending', 'terror', 'down', 'in', 'my', 'veins.', 'Akito', 'eyed', 'me', ',', 'now', 'a', 'sly', 'smirk', 'playing', 'in', 'his', 'lips.', 'I', 'hated', 'myself', ',', 'my', 'body', ',', 'for', 'not', 'enabling', 'me', 'to', 'move', 'and', 'get', 'the', 'hell', 'away', 'from', 'him.', 'I', 'looked', 'sideways', 'and', 'flinched', ',', 'now', 'feeling', 'his', 'hot', 'breath', 'upon', 'my', 'exposed', 'neck.', 'I', 'could', 'still', 'imagine', 'his', 'wry', 'smile', 'playing', 'on', 'his', 'lips', ',', 'enjoying', 'every', 'single', 'second', 'of', 'his', 'agonizing', 'torment.', 'He', 'ran', 'a', 'hand', 'upon', 'my', 'cheek', ',', 'then', 'on', 'the', 'other', 'side', 'of', 'my', 'neck', ',', 'then', 'finally', 'cradling', 'my', 'head', 'as', 'he', 'brought', 'his', 'lips', 'to', 'my', 'bare', 'neck.', 'I', 'tried', 'to', 'push', 'him', 'away', ',', 'but', 'once', 'again', 'my', 'ribs', 'started', 'to', 'deliver', 'the', 'unwanted', 'pain.', 'He', 'stopped', 'kissing', 'my', 'neck', ',', 'raising', 'his', 'head', 'a', 'little', 'as', 'he', 'murmured', 'his', 'words.', '``', 'I', 'said', 'don', \"''\", 't', 'move.', \"''\", 'Hesitantly', ',', 'I', 'realized', 'that', 'I', 'could', 'not', 'do', 'anything', 'to', 'disobey', 'his', 'displeasing', 'wishes.', 'I', 'was', 'too', 'injured', 'to', 'do', 'anything.', 'I', 'couldn', \"''\", 't', 'even', 'lift', 'a', 'hand', 'without', 'my', 'body', 'throbbing.', 'I', 'just', 'shut', 'my', 'eyes', 'and', 'waited', 'for', 'him', 'to', 'do', 'what', 'he', 'wants', ',', 'thinking', 'that', 'I', 'was', 'a', 'helpless', 'little', 'mouse', 'caught', 'in', 'a', 'trap.', '(', 'Our', 'POV', ')', 'Three', 'people', 'stopped', 'in', 'their', 'tracks', 'upon', 'hearing', 'Yuki', \"''\", 's', 'cries', 'of', 'protest.', 'Momiji', ',', 'Hatsuharu', 'and', 'Hatori', 'looked', 'curiously', 'and', 'worriedly', 'at', 'where', 'Yuki', 'was', 'staying', ',', 'hearing', 'the', 'shuffling', 'of', 'cloths', 'and', 'Yuki', \"''\", 's', 'continuous', 'whimpers', 'for', 'the', 'Sohma', 'head', 'clan', 'to', 'stop.', 'Hatori', 'immediately', 'approached', 'the', 'door', ',', 'prying', 'it', 'open', ',', 'but', 'only', 'to', 'find', 'it', 'locked.', '``', 'Damn', ',', 'Akito', 'locked', 'the', 'door.', \"''\", 'He', 'cursed', ',', 'his', 'hands', 'still', 'trying', 'to', 'open', 'the', 'wooden', 'doors.', 'Hatsuharu', 'quickly', 'shifted', 'his', 'gaze', 'at', 'the', 'doctor', ',', 'something', 'unreadable', 'etched', 'in', 'his', 'eyes.', '``', 'Is', 'Yuki', 'in', 'there', '?', \"''\", 'he', 'asked', ',', 'his', 'voice', 'full', 'of', 'worry', 'and', 'concern.', '``', 'Yuki', 'is', 'in', 'there.', \"''\", 'Momiji', 'answered', ',', 'the', 'three', 'of', 'them', 'serious.', '``', 'Hurry', ',', 'we', 'have', 'to', 'get', 'to', 'Shigure', \"''\", 's', ',', 'quick.', \"''\", 'Hatori', 'announced', ',', 'starting', 'to', 'walk', 'to', 'the', 'gates.', 'Author', \"''\", 's', 'notes', ':', 'Is', 'it', 'okay', '?', 'Was', 'it', 'good', '?', 'Any', 'comments', '?', 'Suggestions', '?', 'Violent', 'reactions', '?', 'Please', 'review', 'this', 'fic', '!', 'I', 'really', 'need', 'REVIEWERS', '!', 'Please', '?', '!', 'Pweety', 'pweety', 'pweety', 'pwease', '?', 'Arigato', '!', 'A.', 'Pikachu', 'Imprisonment', '7', 'Author', \"''\", 's', 'notes', ':', 'You', 'know', 'I', 'don', \"''\", 't', 'own', 'Fruits', 'Basket', ',', 'right', '?', 'Good.', 'Anyway', '...', '.', 'Oh', 'shit', ',', 'I', 'just', 'watched', 'Moulin', 'Rouge', '!', 'Damn', ',', 'it', 'was', 'sooooooooooooooo', 'good', '!', '!', '!', '!', 'I', 'cried', ',', 'you', 'know.', 'I', 'CRIED', '!', '!', '!', '!', '!', '!', '!', '!', '!', '!', '!', '!', '!', '!', '!', '!', '!', '!', '!', '!', 'Why', 'did', 'Satine', 'have', 'to', 'die', '!', '?', '!', '?', '!', '?', '!', '?', '!', '(', 'calms', 'down', ')', '(', 'coughs', ')', 'Besides', ',', 'I', \"''\", 've', 'watched', 'that', 'many', 'times', 'already.', 'But', 'it', \"''\", 's', 'just', 'so', 'tear', 'jerking', ',', 'you', 'know.', 'Seems', 'like', 'Yuki', 'torture', 'goes', 'first.', 'I', 'hope', 'you', \"''\", 'll', 'like', 'it', ',', 'thank', 'you', '!', '(', 'Akito', \"''\", 's', 'POV', ')', 'I', 'smirked', 'to', 'myself', 'in', 'delight.', 'He', 'gave', 'in', 'to', 'my', 'desires', 'and', 'let', 'me', 'do', 'my', 'work', ',', 'laying', 'himself', 'aside', 'as', 'I', 'continued', 'to', '``', 'play', \"''\", 'with', 'him', 'for', 'a', 'while.', 'My', ',', 'Yuki', \"''\", 's', 'so', 'obedient', ',', 'isn', \"''\", 't', 'he', '?', 'I', 'licked', 'my', 'lips', ',', 'thinking', 'about', 'what', 'agonizing', 'thing', 'would', 'I', 'do', 'to', 'my', 'precious', 'Yuki.', 'I', 'eyed', 'the', 'exposed', 'piece', 'of', 'cream-colored', 'skin', 'that', 'invited', 'me.', 'Finally', ',', 'I', 'narrowed', 'my', 'eyes', ',', 'bowing', 'my', 'head', 'down', 'to', 'sink', 'my', 'lips', 'into', 'his', 'delicious', 'skin', ',', 'my', 'hand', 'running', 'up', 'against', 'his', 'cheek', ',', 'cradling', 'his', 'head', 'to', 'keep', 'it', 'that', 'way', 'for', 'a', 'moment.', 'My', 'tongue', 'brushed', 'briefly', 'against', 'his', 'skin', ',', 'licking', 'it', 'every', 'now', 'and', 'then.', 'God', ',', 'I', 'could', 'just', 'imagine', 'that', 'terrified', 'look', 'on', 'his', 'face', 'that', 'I', 'loved', 'so', 'much', ',', 'his', 'lavender', 'eyes', 'widening', 'at', 'me', 'as', 'if', 'I', 'was', 'some', 'horrible', 'creature.', 'But', 'hell', ',', 'I', 'am', 'not.', 'I', \"''\", 'm', 'Akito.', 'Continuing', 'on', 'with', 'my', 'pleasant', 'torture', 'to', 'the', 'mouse', ',', 'I', \"''\", 've', 'enjoyed', 'it', ',', 'literally.', 'But', 'I', \"''\", 'm', 'not', 'getting', 'enough', 'of', 'him.', 'So', 'what', 'I', 'did', 'was', 'I', 'traced', 'a', 'trail', 'down', 'to', 'his', 'well-chiseled', 'chest', ',', 'pressing', 'him', 'down', 'firmly', ',', 'but', 'gently', ',', 'as', 'I', 'made', 'him', 'look', 'at', 'me.', 'He', 'had', 'his', 'eyes', 'shut', 'tight', ',', 'his', 'brows', 'wrinkled', 'in', 'fright', 'of', 'what', 'I', 'was', 'to', 'do.', 'I', 'smiled', 'to', 'myself', 'in', 'triumph', '-', 'I', 'love', 'your', 'face', ',', 'Yuki.', 'Immediately', ',', 'after', 'seeing', 'him', 'like', 'that', ',', 'I', 'parted', 'my', 'lips', 'and', 'bent', 'down', 'to', 'kiss', 'him.', 'Now', 'I', 'could', 'feel', 'that', 'he', 'opened', 'his', 'eyes', 'in', 'shock', ',', 'not', 'believing', 'what', 'I', 'was', 'doing', 'to', 'him', 'right', 'now.', '(', 'Yuki', \"''\", 's', 'POV', ')', 'I', 'was', 'stunned.', 'That', 'was', 'all', 'there', 'was', 'to', 'it.', 'Well', ',', 'what', 'would', 'you', 'have', 'done', 'if', 'a', 'guy', 'were', 'kissing', 'you', '?', 'And', 'you', \"''\", 're', 'severely', 'injured', '?', 'I', 'only', 'saw', 'locks', 'of', 'navy', 'blue', ',', 'blocking', 'my', 'eyesight.', 'I', 'tried', 'to', 'hold', 'on', 'to', 'his', 'shoulders', ',', 'intent', 'on', 'pushing', 'him', 'away', 'as', 'fast', 'as', 'I', 'could.', 'But', 'my', 'arms', 'didn', \"''\", 't', 'respond.', 'They', 'were', 'pinned', 'against', 'his', 'hands', ',', 'numb', 'and', 'unable', 'to', 'move.', 'Now', 'I', 'was', 'stuck', 'here', ',', 'with', 'Akito', 'on', 'top', 'of', 'me', ',', 'kissing', 'me.', 'Nothing', 'could', 'be', 'worse.', 'But', 'it', 'came', 'all', 'along.', 'I', 'felt', 'his', 'hands', 'move', 'away', 'from', 'my', 'arms', 'up', 'to', 'my', 'chest', ',', 'running', 'his', 'hands', 'all', 'over', 'it.', 'I', 'winced', 'inwardly', ',', 'feeling', 'his', 'cold', 'hands', 'lay', 'on', 'my', 'warm', ',', 'upper', 'body', ',', 'doing', 'what', 'he', 'pleases.', 'I', 'flinched', 'more', 'when', 'I', 'felt', 'him', 'start', 'a', 'passionate', 'kiss', ',', 'which', 'I', 'didn', \"''\", 't', 'return', ',', 'making', 'him', 'break', 'the', 'forsaken', 'lip', 'lock', 'and', 'stare', 'at', 'me', 'with', 'narrowed', 'eyes.', '``', 'Why', 'won', \"''\", 't', 'you', 'kiss', 'me', 'back', '?', \"''\", 'he', 'demanded', 'of', 'me', ',', 'his', 'eyes', 'still', 'narrowed', 'with', 'newfound', 'rage.', '``', 'I', '...', 'I', '...', \"''\", 'suddenly', ',', 'I', 'went', 'on', 'a', 'mental', 'block', 'and', 'couldn', \"''\", 't', 'say', 'the', 'answer.', 'Akito', 'eyed', 'me', ',', 'standing', 'up', ',', 'reaching', 'for', 'my', 'neck.', 'He', 'grabbed', 'me', 'by', 'my', 'neck', ',', 'letting', 'my', 'feet', 'dangle', 'a', 'few', 'inches', 'off', 'the', 'floor.', 'My', 'whole', 'body', 'went', 'limp', ',', 'and', 'I', 'was', 'like', 'a', 'puppet', 'sagging', 'with', 'its', 'strings.', '``', 'ANSWER', 'ME', '!', \"''\", 'Hatsuharu', 'pounded', 'on', 'the', 'door', ',', 'slamming', 'his', 'fist', 'against', 'the', 'wooden', 'block.', '``', 'SHIGURE', '!', '!', \"''\", 'Hatsuharu', 'screamed', ',', 'demanding', 'that', 'someone', 'answer', 'the', 'door.', '``', 'Geez', ',', 'what', \"''\", 's', 'your', 'problem', '?', \"''\", 'the', 'older', 'Jyuunishi', 'remarked', ',', 'finally', 'opening', 'the', 'door', 'to', 'the', 'three', 'hassled', 'Sohmas.', 'After', 'seeing', 'how', 'serious', 'the', 'three', 'were', ',', 'Shigure', 'shut', 'his', 'mouth', 'up', 'and', 'asked', 'serenely', 'what', 'was', 'the', 'matter.', 'Hatori', 'answered', 'him', ',', 'and', 'thus', 'making', 'the', 'writer', 'run', 'up', 'the', 'stairs', 'to', 'get', 'the', 'orange', 'cat', 'and', 'Tohru.', 'The', 'girl', 'was', 'hysterical.', 'She', 'was', 'speechless.', 'She', 'was', '...', 'Afraid.', 'Afraid', 'of', 'what', 'the', 'clan', 'head', 'was', 'doing', 'to', 'him.', 'Afraid', 'of', 'what', 'Yuki', 'could', 'be', 'experiencing', '...', 'afraid', 'of', 'almost', 'everything.', 'Fear', 'ran', 'through', 'her', 'veins', ',', 'making', 'her', 'hand', 'shake', 'as', 'they', 'rode', 'on', 'the', 'car.', 'They', 'were', 'on', 'their', 'way', 'to', 'the', 'Main', 'House', ',', 'intent', 'on', 'rescuing', 'Yuki', 'from', 'Akito', \"''\", 's', 'wretched', 'hands.', '``', 'Tohru-chan', ',', 'daijoubu', '?', \"''\", 'Momiji', 'asked', 'the', 'girl', ',', 'worry', 'etched', 'in', 'his', 'bright', 'brown', 'eyes.', 'Tohru', 'looked', 'at', 'him', 'kindly', ',', 'smiling', 'at', 'the', 'younger', 'boy.', '``', 'Hai', ',', 'Momiji-kun.', 'I', \"''\", 'm', 'alright.', \"''\", '(', 'Our', 'POV', ')', 'The', 'futon', 'lay', 'silent', 'on', 'the', 'floor', ',', 'left', 'alone', 'as', 'the', 'one', 'lying', 'on', 'it', 'was', 'dangling', 'a', 'few', 'inches', 'off', 'the', 'ground.', 'Akito', 'didn', \"''\", 't', 'move', 'his', 'fingers', 'away', 'from', 'Yuki', \"''\", 's', 'neck', '-', 'he', 'kept', 'it', 'wrapped', 'around', 'it.', 'Yuki', 'whimpered', 'in', 'pain.', '``', 'Answer', 'me', ',', 'Yuki.', \"''\", 'Akito', 'murmured', 'sternly', ',', 'his', 'blue', 'eyes', 'narrowing', ',', 'his', 'voice', 'husky', 'as', 'Yuki', 'stared', 'back', 'at', 'him', ',', 'terrified.', 'Yuki', 'kept', 'himself', 'silent', ',', 'not', 'finding', 'the', 'words', 'that', 'would', 'explain', 'the', 'eccentricity', 'of', 'Akito', \"''\", 's', 'actions.', '``', 'You', 'won', \"''\", 't', 'answer', 'me', '?', \"''\", 'Akito', 'asked', ',', 'as', 'if', 'leering', 'on', 'the', 'younger', 'man.', 'Yuki', 'whimpered', 'again', ',', 'gasping', 'for', 'air', ',', 'feeling', 'Akito', \"''\", 's', 'hand', 'tighten', 'its', 'grip', 'on', 'his', 'neck.', 'Blue', 'eyes', 'narrowed', ',', 'after', 'a', 'while', ',', 'a', 'limp', 'body', 'was', 'thrown', 'in', 'full', 'contact', 'with', 'the', 'bamboo', 'wall.', 'He', 'lay', 'silent', ',', 'whimpering', ',', 'cringing', 'as', 'his', 'body', 'started', 'to', 'respond', 'to', 'the', 'beatings', 'he', 'was', 'having.', 'His', 'head', 'started', 'to', 'bleed', ',', 'his', 'rib', 'break', 'again', ',', 'and', 'out', 'of', 'all', 'this', 'pain', ',', 'he', 'couldn', \"''\", 't', 'move', 'a', 'single', 'inch.', 'His', 'body', 'was', 'resting', 'limp', 'against', 'the', 'wall', ',', 'blood', 'trickling', 'down', 'his', 'pale', 'lavender-colored', 'hair.', 'Blood', 'started', 'to', 'be', 'coughed', 'out', 'from', 'his', 'lungs', ',', 'his', 'bronchi', 'acting', 'up', 'as', 'he', 'tried', 'to', 'gasp', 'for', 'breath.', 'It', 'was', 'spattered', 'on', 'the', 'floor', 'as', 'he', 'tried', 'to', 'bring', 'up', 'his', 'hand', 'to', 'his', 'mouth', ',', 'trying', 'to', 'stop', 'the', 'attacks', 'of', 'his', 'coughs', 'to', 'his', 'lungs.', 'Soon', 'blood', 'covered', 'his', 'hands', ',', 'the', 'side', 'of', 'his', 'head', 'trickling', 'with', 'the', 'same', 'liquid', ',', 'his', 'lips', 'full', 'red', 'because', 'of', 'his', 'sickness.', 'He', 'was', 'still', 'half-naked', ',', 'the', 'upper', 'part', 'of', 'his', 'gi', 'under', 'him.', 'Yuki', 'swung', 'his', 'head', 'back', ',', 'coughing', 'out', 'blood', 'once', 'more.', 'He', 'started', 'to', 'blush', 'from', 'a', 'fever', 'he', 'was', 'beginning', 'to', 'have.', 'Akito', 'frowned.', '``', 'You', 'still', 'won', \"''\", 't', 'answer', 'me.', \"''\", 'He', 'started', 'to', 'walk', 'to', 'a', 'cupboard', 'that', 'rested', 'in', 'the', 'far', 'corner', 'of', 'the', 'room.', '``', 'My', ',', 'my', '...', 'aren', \"''\", 't', 'we', 'stubborn.', \"''\", 'He', 'got', 'something', 'from', 'the', 'cupboard', ',', 'closing', 'it', 'and', 'turning', 'around', 'to', 'face', 'the', 'mouse.', '``', 'Unless', 'you', 'want', 'to', 'go', 'back', 'to', 'your', 'childhood', 'days.', \"''\", 'Yuki', \"''\", 's', 'pale', 'purple', 'eyes', 'widened.', 'Kyou', ',', 'Shigure', ',', 'Hatori', 'and', 'Hatsuharu', 'tried', 'relentlessly', 'to', 'break', 'down', 'the', 'locked', 'wooden', 'doors', ',', 'Momiji', 'and', 'Tohru', 'watching', 'behind', 'them.', 'They', 'have', 'been', 'trying', 'it', 'for', 'a', 'while', 'now', ',', 'after', 'hearing', 'something', 'heavy', 'clout', 'against', 'a', 'wall.', 'Shigure', 'and', 'Hatori', 'stepped', 'back', ',', 'allowing', 'Hatsuharu', 'and', 'Kyou', 'to', 'have', 'the', 'full', 'space.', 'The', 'two', 'stepped', 'back', 'a', 'few', 'steps', ',', 'running', 'towards', 'it', 'in', 'full', 'force', ',', 'successfully', 'opening', '(', 'or', 'breaking', ')', 'the', 'locked', 'wooden', 'doors.', 'Akito', 'gripped', 'the', 'whip', 'in', 'his', 'right', 'hand', ',', 'ready', 'to', 'brandish', 'it', 'at', 'the', 'younger', 'Sohma.', 'He', 'didn', \"''\", 't', 'notice', 'something', '-', 'or', 'someone', '-', 'run', 'at', 'full', 'speed', 'from', 'the', 'space', 'Kyou', 'and', 'Hatsuharu', 'produced', 'from', 'their', 'attempts.', 'He', 'didn', \"''\", 't', 'notice', 'someone', 'with', 'long', ',', 'brown', 'hair', 'and', 'bright', 'blue', 'eyes', 'filled', 'with', 'worry', 'kneel', 'in', 'front', 'of', 'Yuki', 'and', 'wrapped', 'her', 'arms', 'around', 'him', ',', 'protecting', 'him', 'from', 'the', 'terror', 'of', 'Akito', \"''\", 's', 'weapon', ',', 'her', 'smooth', 'locks', 'whipping', 'with', 'the', 'unseen', 'wind.', 'Hatori', 'and', 'Shigure', 'ran', 'after', 'Tohru', ',', 'holding', 'the', 'Sohma', 'master', 'down', 'in', 'order', 'to', 'stop', 'the', 'clan', 'head', 'from', 'doing', 'anything', 'else.', 'Kyou', ',', 'Hatsuharu', 'and', 'Momiji', 'entered', 'the', 'scene', ',', 'ready', 'to', 'assist', 'and', 'support', 'Tohru', 'and', 'Yuki.', 'But', 'there', 'was', 'something', 'strange.', 'Something', 'peculiar.', 'Yuki', 'didn', \"''\", 't', 'transform.', '***The', 'end', '?', '***', 'Author', \"''\", 's', 'notes', ':', 'is', 'that', 'a', 'cliffhanger', '?', 'I', 'don', \"''\", 't', 'know.', 'If', 'anyone', 'wants', 'this', 'continued', ',', 'please', 'review', '!', 'Or', 'else', 'I', \"''\", 'll', 'leave', 'it', 'at', 'that', ',', 'alright', '?', 'Note', 'to', 'jo-chan', ':', 'uh', '...', 'you', \"''\", 're', 'getting', 'pretty', 'creepy.', '(', 'joke', ')', 'How', 'did', 'you', 'know', 'I', 'was', 'a', 'Filipino', 'AND', '12', 'years', 'old', '?', 'You', \"''\", 're', 'not', 'some', 'stalker', ',', 'are', 'you', '?', '*someone', 'bangs', 'her', 'head', 'with', 'a', 'huge', 'mallet*', 'Anyway', ',', 'I', 'love', 'your', 'fic', ',', 'and', 'please', 'continue', 'yours.', 'And', 'thanks', 'for', 'your', 'comment', 'on', 'my', 'bio', '...', 'I', 'was', 'bored', '...', 'So', ',', 'please', 'review', 'if', 'you', 'want', 'this', 'continued', '!', 'And', 'also', 'if', 'you', 'want', 'some', 'explanations', '!', 'Have', 'a', 'great', 'year', '!', '!', '!', 'A.', 'Pikachu']}\n"
          ],
          "name": "stdout"
        }
      ]
    },
    {
      "cell_type": "code",
      "metadata": {
        "colab": {
          "base_uri": "https://localhost:8080/"
        },
        "id": "L02x-uJc4PgN",
        "outputId": "d92ebac4-a9af-4301-be5d-256d998bcd3e"
      },
      "source": [
        "import nltk\n",
        "nltk.download('stopwords')"
      ],
      "execution_count": null,
      "outputs": [
        {
          "output_type": "stream",
          "text": [
            "[nltk_data] Downloading package stopwords to /root/nltk_data...\n",
            "[nltk_data]   Unzipping corpora/stopwords.zip.\n"
          ],
          "name": "stdout"
        },
        {
          "output_type": "execute_result",
          "data": {
            "text/plain": [
              "True"
            ]
          },
          "metadata": {
            "tags": []
          },
          "execution_count": 18
        }
      ]
    },
    {
      "cell_type": "code",
      "metadata": {
        "colab": {
          "base_uri": "https://localhost:8080/"
        },
        "id": "0eyb8ubv4H2J",
        "outputId": "583fcc21-a4b4-41f5-b22b-729e6550457c"
      },
      "source": [
        "transformer = get_writeprints_transformer()\n",
        "X = transformer.fit_transform(docs)\n",
        "scaler = StandardScaler(with_mean=False)\n",
        "X = scaler.fit_transform(X)\n",
        "with open(PATH + '/transformers.p', 'wb') as f:\n",
        "    pickle.dump((transformer, scaler), f)"
      ],
      "execution_count": null,
      "outputs": [
        {
          "output_type": "stream",
          "text": [
            "/usr/local/lib/python3.7/dist-packages/sklearn/feature_extraction/text.py:507: UserWarning:\n",
            "\n",
            "The parameter 'token_pattern' will not be used since 'tokenizer' is not None'\n",
            "\n",
            "/usr/local/lib/python3.7/dist-packages/sklearn/feature_extraction/text.py:507: UserWarning:\n",
            "\n",
            "The parameter 'token_pattern' will not be used since 'tokenizer' is not None'\n",
            "\n",
            "/usr/local/lib/python3.7/dist-packages/sklearn/feature_extraction/text.py:507: UserWarning:\n",
            "\n",
            "The parameter 'token_pattern' will not be used since 'tokenizer' is not None'\n",
            "\n",
            "/usr/local/lib/python3.7/dist-packages/sklearn/feature_extraction/text.py:507: UserWarning:\n",
            "\n",
            "The parameter 'token_pattern' will not be used since 'tokenizer' is not None'\n",
            "\n"
          ],
          "name": "stderr"
        }
      ]
    },
    {
      "cell_type": "code",
      "metadata": {
        "id": "Yij5i81fVhP_"
      },
      "source": [
        "TEMP_DATA_DIR=PATH"
      ],
      "execution_count": null,
      "outputs": []
    },
    {
      "cell_type": "code",
      "metadata": {
        "id": "d8GRUzS-4V7l"
      },
      "source": [
        "train_idxs = np.array(range(train_sz))\n",
        "np.random.shuffle(train_idxs)\n",
        "#print(train_idxs.dtype)\n",
        "with open(PATH + '/ordering_metadata.p', 'wb') as f:\n",
        "    pickle.dump((train_sz, test_sz, val_sz, train_idxs), f)"
      ],
      "execution_count": null,
      "outputs": []
    },
    {
      "cell_type": "code",
      "metadata": {
        "colab": {
          "base_uri": "https://localhost:8080/"
        },
        "id": "o5Lfp5V_J_IT",
        "outputId": "b15fbd06-e64b-4cff-9a04-03c10efb11c5"
      },
      "source": [
        "print(train_idxs)"
      ],
      "execution_count": null,
      "outputs": [
        {
          "output_type": "stream",
          "text": [
            "[312 169   0 273 648  29 379  47 653 417 236 622 440 346 698 335  35 186\n",
            "  26 390 647 300 400  28 292 729 348 461 185 584 745 243 654 194 577  17\n",
            " 707 681 560 276 472 734 674 523 274 485 209 307 691 723  73 326 561 102\n",
            " 343 629 107 609  91 220 492 686 268 498 735 283 392 122 397 517 636 144\n",
            " 282 153 407 695 230 668 148 619 398 507 702 108 677 244 353 576 580 232\n",
            " 420 608 116 328 491 460 741 385 337 255 368 641 188 237 373 575 360  87\n",
            " 133 323 717 528 227 193 469 406 109 123 631 113  39 633 513 104 222 324\n",
            " 476   8 410  66 502 127  84 205  58 318 264 467 618 134  72 489 572 557\n",
            " 314 378 539 313 549 546 401 733 154 238 201 520  33 404 490 511 315 416\n",
            " 708 645 430 659 405 529 271 554 613 165 151 678 487 289 650 628 415 159\n",
            " 607 571  94   2 699 419 331 213 627  44 658 679 199 342 488 454 591 480\n",
            " 701 564 694 218 439 339 516 180 221 448 669 372  88 429 270 434 436 742\n",
            "  22 515 189 217 675  55 198 555 393 664 569 586  71 350 203 506  64 187\n",
            " 233 652 714 449 582 157 114 601  11 521  15 590 320  89 279 570 229 508\n",
            " 646 239 667 657 382 117  95 692 294 587 179 718 357 642 216 602 125 340\n",
            " 301 644 402 396 164 281 254 552 592 249 285 680 514 347 533 191 146 634\n",
            " 465 129 496 223 639  16 661 655 581  45 207 588  60 705 155 421  59 443\n",
            "  83 556 412 295 656 503 171 630 482 167  82 168 310 363 182 132 356 455\n",
            " 252 139 737 445 704 494 715 183 242 468 140 477 330 277 593 510  86 470\n",
            " 329  79 621 137 463  13 152 411 697 459 451 142 730 537 135  97 119 479\n",
            " 130 497 583 431 351 231 349  41 484 685   6 424 374 617  31 673  92 464\n",
            " 212 287 544   7 423 558 505 594 258 309 143 362 131 284 172 458 611  10\n",
            " 428 447  36  74 688 266 743 599 545 210 110 399 568 530 306 303  23 738\n",
            " 744 623 311 358 256 322 453  27 269   5 366  62 562 525 332 288  81 260\n",
            " 376 474 422 204 248 687 578 293 432  25 672 740 706 716 700 319 262  46\n",
            " 395 272 225  69 452 321 370 721 150 149 616 163 381 624 693 596 297 291\n",
            "   9 355 214 275 446 486 101 228 682 444 124 286 450 403  38 208 184  96\n",
            " 457  34  70  19 548 112 308 526  99  50 483 522 414 296 722 595  75  24\n",
            " 612 103 176 305 224 665 538  98 190 126 174 433 437 136 438 361   3  85\n",
            " 247 257 456 195  93 259 711 551 200  20  77 158 425 534 100  37 317 696\n",
            " 240 481 128 173 527 684 369 559 234 354 280 327 473 333  52 597 336 671\n",
            " 713 731 375 267 162  21 585 345 418 542 662 509 138 550 211 574 175 524\n",
            " 519 156 384  63  56 120 253 166 206 643 181 728 689 604 278  12   4 637\n",
            " 380 197 726 377 141 121 341 535 603 493 573 501 615 670  14  78 161 466\n",
            " 367 111 625 683 736  80 626  32 160 352  68  40 202 442 703 178  42 298\n",
            " 359 720 676  43 245 547 605  54 426 536 250 589 235 746 719 541 325  65\n",
            " 663  67  57 170 640 263 246 725 478 563 383  18 391 435 710 518  30 462\n",
            " 660  76 500 145 600  48 690 649  53 598 504  90 499 389 495 666 177 219\n",
            " 251 386 441 344 732 147 531 409 196 610 712 408 365  51 302 739 471 532\n",
            " 304 635 299 388 215 540 727 115 334 606 105 316 394 106 747 638 226 579\n",
            " 261 364 338 413 265 512  61 567 566 475 543 192 290 427 241 553  49 632\n",
            " 614 118 620 709 651   1 387 371 565 724]\n"
          ],
          "name": "stdout"
        }
      ]
    },
    {
      "cell_type": "code",
      "metadata": {
        "id": "c3g-qcxB4ivq"
      },
      "source": [
        "with open(PATH + '/transformers.p', 'rb') as f:\n",
        "    transformer, scaler = pickle.load(f)\n",
        "    \n",
        "with open(PATH + '/ordering_metadata.p', 'rb') as f:\n",
        "    train_sz, test_sz, val_sz, train_idxs = pickle.load(f)"
      ],
      "execution_count": null,
      "outputs": []
    },
    {
      "cell_type": "markdown",
      "metadata": {
        "id": "vKkHnK8_4tc3"
      },
      "source": [
        "## Vectorizing Training Data"
      ]
    },
    {
      "cell_type": "code",
      "metadata": {
        "id": "Gbx4rDZY429R"
      },
      "source": [
        "feature_sz = len(transformer.get_feature_names())\n",
        "X_train = np.memmap(PATH + '/extracted_features_X_train.npy', dtype='float32', mode='w+', shape=(train_sz, feature_sz))\n",
        "Y_train = np.memmap(PATH + '/extracted_features_Y_train.npy', dtype='int32', mode='w+', shape=(train_sz))"
      ],
      "execution_count": null,
      "outputs": []
    },
    {
      "cell_type": "code",
      "metadata": {
        "colab": {
          "base_uri": "https://localhost:8080/",
          "height": 66,
          "referenced_widgets": [
            "ac42d0d1452e464ca1d006ddfed5cd4c",
            "f89b4d4d35094906be2a0bde4dd102bf",
            "380d2a69f8f74774a93c1e57fea55005",
            "4776438a711e4447bc36939c52f403f3",
            "4a6031d9459d4734ac994b1ec5d56d6e",
            "9d18084523824bb9a107a051bf1a15a3",
            "96c9d25afc1c403285dbe10df398af9d",
            "c71354e9fe594fa889e88dbe2f48933c"
          ]
        },
        "id": "8lvTdf5B4-Fs",
        "outputId": "d48b1cd8-ed58-4f1f-d881-ec116559f95d"
      },
      "source": [
        "with open(PATH + '/process_docs_train.jsonl', 'r') as f:\n",
        "    batch_size = 20000\n",
        "    i = 0;\n",
        "    docs1 = []\n",
        "    docs2 = []\n",
        "    idxs = []\n",
        "    labels = []\n",
        "    for l in tqdm(f, total=train_sz):\n",
        "        d = json.loads(l)\n",
        "        docs1.append(d['doc1'])\n",
        "        docs2.append(d['doc2'])\n",
        "        labels.append(ground_truth[d['id']])\n",
        "        idxs.append(train_idxs[i])\n",
        "        i += 1\n",
        "        if len(labels) >= batch_size:\n",
        "            x1 = scaler.transform(transformer.transform(docs1))\n",
        "            x2 = scaler.transform(transformer.transform(docs2))\n",
        "            X_train[idxs, :] = np.abs(x1-x2).todense()\n",
        "            Y_train[idxs] = labels\n",
        "            \n",
        "            docs1 = []\n",
        "            docs2 = []\n",
        "            idxs = []\n",
        "            labels = []\n",
        "            \n",
        "x1 = scaler.transform(transformer.transform(docs1))\n",
        "x2 = scaler.transform(transformer.transform(docs2))\n",
        "X_train[idxs, :] = np.abs(x1-x2).todense()\n",
        "Y_train[idxs] = labels"
      ],
      "execution_count": null,
      "outputs": [
        {
          "output_type": "display_data",
          "data": {
            "application/vnd.jupyter.widget-view+json": {
              "model_id": "ac42d0d1452e464ca1d006ddfed5cd4c",
              "version_minor": 0,
              "version_major": 2
            },
            "text/plain": [
              "HBox(children=(FloatProgress(value=0.0, max=748.0), HTML(value='')))"
            ]
          },
          "metadata": {
            "tags": []
          }
        },
        {
          "output_type": "stream",
          "text": [
            "\n"
          ],
          "name": "stdout"
        }
      ]
    },
    {
      "cell_type": "code",
      "metadata": {
        "colab": {
          "base_uri": "https://localhost:8080/"
        },
        "id": "sj05bLpC7QkA",
        "outputId": "7d32883e-34ad-433d-bf94-4229656e81b9"
      },
      "source": [
        "print(Y_train)"
      ],
      "execution_count": null,
      "outputs": [
        {
          "output_type": "stream",
          "text": [
            "[1 0 1 0 0 0 1 1 1 0 0 1 0 1 0 1 1 1 0 0 0 0 1 0 0 0 1 0 1 1 0 1 0 1 0 1 0\n",
            " 0 0 1 0 1 0 0 1 1 0 1 0 0 0 0 0 0 0 1 0 0 1 1 1 0 0 0 1 0 1 0 0 0 0 1 1 1\n",
            " 0 0 0 0 0 1 0 0 1 1 1 0 1 1 1 1 0 1 1 0 1 1 0 1 0 0 0 0 1 0 1 0 0 1 1 1 0\n",
            " 0 0 1 1 0 1 1 0 1 0 0 1 1 0 1 0 1 0 1 1 1 1 1 1 1 0 1 0 1 1 0 1 1 1 0 1 0\n",
            " 1 0 0 1 1 1 1 1 0 1 0 1 0 0 0 0 1 1 0 1 1 1 0 1 1 0 0 0 0 0 0 1 1 0 1 1 0\n",
            " 1 1 1 1 1 0 1 0 1 1 0 0 0 1 1 0 1 0 1 0 1 0 1 0 1 0 0 1 1 0 0 1 1 1 0 1 1\n",
            " 1 1 0 0 0 1 0 1 1 1 1 1 0 0 1 1 1 1 0 0 1 1 1 0 0 0 0 1 0 0 1 0 1 1 0 0 1\n",
            " 0 0 0 0 0 1 0 0 0 1 0 1 1 0 1 1 0 1 1 0 1 0 1 1 1 1 1 0 1 0 1 0 0 1 0 1 1\n",
            " 0 0 0 0 1 1 0 0 0 0 0 1 0 1 1 0 1 1 1 1 0 0 1 0 1 0 0 1 1 0 1 0 1 1 1 1 0\n",
            " 0 0 1 0 1 0 1 1 0 1 1 0 0 1 1 1 1 1 1 0 1 0 0 1 1 0 0 1 0 1 1 0 0 0 0 1 0\n",
            " 0 0 1 1 1 0 0 0 1 1 0 0 1 0 0 1 0 0 0 0 1 0 1 1 0 0 1 1 1 0 1 1 1 0 1 1 1\n",
            " 1 0 0 1 1 1 0 0 1 1 1 0 1 1 1 0 1 1 0 0 0 0 1 1 1 0 0 1 0 1 0 0 1 1 0 0 1\n",
            " 0 1 0 0 1 1 0 1 0 0 1 1 0 0 0 1 1 1 0 1 1 1 0 1 1 1 1 0 1 0 0 0 1 1 0 1 1\n",
            " 0 1 0 1 1 0 1 1 1 1 1 1 0 1 0 1 1 1 0 0 0 1 1 0 1 1 1 1 0 1 1 0 1 1 1 1 1\n",
            " 0 0 1 1 0 1 0 0 0 0 1 1 0 0 0 1 0 0 0 1 0 1 0 0 0 0 1 0 1 0 0 1 0 0 1 0 1\n",
            " 1 1 1 1 0 1 1 0 0 1 0 0 0 0 1 1 1 1 0 0 1 1 1 0 0 1 1 1 1 1 0 1 1 1 0 1 1\n",
            " 1 1 1 0 0 0 0 0 0 1 1 0 0 0 0 1 1 1 0 0 0 1 0 0 0 1 1 1 0 1 1 0 0 0 0 1 1\n",
            " 1 1 1 0 1 1 0 1 0 0 1 0 1 1 0 1 1 1 1 1 0 1 0 1 1 1 1 1 1 1 1 0 1 0 0 1 0\n",
            " 0 1 1 1 0 0 0 1 1 1 0 1 1 1 1 1 0 0 0 1 1 0 0 0 0 1 1 0 1 1 0 1 1 1 0 1 1\n",
            " 0 1 1 0 1 1 0 0 0 0 0 1 1 0 1 1 0 0 0 0 1 0 0 0 0 0 1 1 0 0 1 1 1 0 1 0 0\n",
            " 0 1 1 0 0 1 0 0]\n"
          ],
          "name": "stdout"
        }
      ]
    },
    {
      "cell_type": "markdown",
      "metadata": {
        "id": "set_EMre9ONw"
      },
      "source": [
        "## Vectorizing Test Data"
      ]
    },
    {
      "cell_type": "code",
      "metadata": {
        "id": "S6aAGdu59RsL"
      },
      "source": [
        "# feature_sz = len(transformer.get_feature_names())\n",
        "X_test = np.memmap(TEMP_DATA_DIR + '/extracted_features_X_test.npy', dtype='float32', mode='w+', shape=(test_sz, feature_sz))\n",
        "Y_test = np.memmap(TEMP_DATA_DIR + '/extracted_features_Y_test.npy', dtype='int32', mode='w+', shape=(test_sz))\n",
        "\n",
        "with open(TEMP_DATA_DIR + '/process_docs_test.jsonl', 'r') as f:\n",
        "    batch_size = 10000\n",
        "    i = 0;\n",
        "    docs1 = []\n",
        "    docs2 = []\n",
        "    labels = []\n",
        "    idxs = []\n",
        "    for l in f:\n",
        "        d = json.loads(l)\n",
        "        docs1.append(d['doc1'])\n",
        "        docs2.append(d['doc2'])\n",
        "        labels.append(ground_truth[d['id']])\n",
        "        idxs.append(i)\n",
        "        i += 1          \n",
        "\n",
        "\n",
        "x1 = scaler.transform(transformer.transform(docs1))\n",
        "x2 = scaler.transform(transformer.transform(docs2))\n",
        "X_test[idxs, :] = np.abs(x1-x2).todense()\n",
        "Y_test[idxs] = labels"
      ],
      "execution_count": null,
      "outputs": []
    },
    {
      "cell_type": "code",
      "metadata": {
        "colab": {
          "base_uri": "https://localhost:8080/"
        },
        "id": "_16iYK-jaoDI",
        "outputId": "2955fe17-6d15-4635-fa3a-3bb4983801be"
      },
      "source": [
        "print(Y_test)"
      ],
      "execution_count": null,
      "outputs": [
        {
          "output_type": "stream",
          "text": [
            "[1 1 1 1 1 1 1 1 1 1 1 1 1 1 1 1 1 1 1 1 1 1 1 1 1 1 1 1 1 1 1 1 1 1 1 1 1\n",
            " 1 1 1 1 1 1 1 1 1 1 1 1 1 1 1 1 1 1 1 1 1 1 1 1 1 1 1 1 1 1 1 1 1 1 1 1 1\n",
            " 1 1 1 1 1 1 1 1 0 0 0 0 0 0 0 0 0 0 0 0 0 0 0 0 0 0 0 0 0 0 0 0 0 0 0 0 0\n",
            " 0 0 0 0 0 0 0 0 0 0 0 0 0 0 0 0 0 0 0 0 0 0 0 0 0 0 0 0 0 0 0 0 0 0 0 0 0\n",
            " 0 0 0]\n"
          ],
          "name": "stdout"
        }
      ]
    },
    {
      "cell_type": "markdown",
      "metadata": {
        "id": "QaVrrqbS9brn"
      },
      "source": [
        "## Vectorizing Val Data"
      ]
    },
    {
      "cell_type": "code",
      "metadata": {
        "colab": {
          "base_uri": "https://localhost:8080/"
        },
        "id": "Mx4D68Pn9faG",
        "outputId": "9b6fac3c-e88b-404a-b296-0a07aa184437"
      },
      "source": [
        "feature_sz = len(transformer.get_feature_names())\n",
        "X_val = np.memmap(TEMP_DATA_DIR + '/extracted_features_X_val.npy', dtype='float32', mode='w+', shape=(val_sz, feature_sz))\n",
        "Y_val = np.memmap(TEMP_DATA_DIR + '/extracted_features_Y_val.npy', dtype='int32', mode='w+', shape=(val_sz))\n",
        "\n",
        "with open(TEMP_DATA_DIR + '/process_docs_val.jsonl', 'r') as f:\n",
        "    batch_size = 10000\n",
        "    i = 0;\n",
        "    docs1 = []\n",
        "    docs2 = []\n",
        "    labels = []\n",
        "    idxs = []\n",
        "    for l in f:\n",
        "        if i % 10000 == 0:\n",
        "            print(i)\n",
        "        d = json.loads(l)\n",
        "        docs1.append(d['doc1'])\n",
        "        docs2.append(d['doc2'])\n",
        "        labels.append(ground_truth[d['id']])\n",
        "        idxs.append(i)\n",
        "        i += 1\n",
        "\n",
        "\n",
        "x1 = scaler.transform(transformer.transform(docs1))\n",
        "x2 = scaler.transform(transformer.transform(docs2))\n",
        "X_val[idxs, :] = np.abs(x1-x2).todense()\n",
        "Y_val[idxs] = labels"
      ],
      "execution_count": null,
      "outputs": [
        {
          "output_type": "stream",
          "text": [
            "0\n"
          ],
          "name": "stdout"
        }
      ]
    },
    {
      "cell_type": "markdown",
      "metadata": {
        "id": "duKD9sC-9x7g"
      },
      "source": [
        "## Training SGD"
      ]
    },
    {
      "cell_type": "code",
      "metadata": {
        "id": "pBHhob1n9uBq"
      },
      "source": [
        "with open(TEMP_DATA_DIR + '/ordering_metadata.p', 'rb') as f:\n",
        "    train_sz, test_sz, val_sz, train_idxs = pickle.load(f)\n",
        "    \n",
        "with open(TEMP_DATA_DIR + '/transformers.p', 'rb') as f:\n",
        "    transformer, scaler = pickle.load(f)"
      ],
      "execution_count": null,
      "outputs": []
    },
    {
      "cell_type": "code",
      "metadata": {
        "id": "0m3EUXkR-2fz"
      },
      "source": [
        "feature_sz = len(transformer.get_feature_names())\n",
        "X_train = np.memmap(TEMP_DATA_DIR + '/extracted_features_X_train.npy', dtype='float32', mode='r', shape=(train_sz, feature_sz))\n",
        "Y_train = np.memmap(TEMP_DATA_DIR + '/extracted_features_Y_train.npy', dtype='int32', mode='r', shape=(train_sz))"
      ],
      "execution_count": null,
      "outputs": []
    },
    {
      "cell_type": "code",
      "metadata": {
        "id": "mrFGcBGD--n_"
      },
      "source": [
        "X_test = np.memmap(TEMP_DATA_DIR + '/extracted_features_X_test.npy', dtype='float32', mode='r+', shape=(test_sz, feature_sz))\n",
        "Y_test = np.memmap(TEMP_DATA_DIR + '/extracted_features_Y_test.npy', dtype='int32', mode='r+', shape=(test_sz))"
      ],
      "execution_count": null,
      "outputs": []
    },
    {
      "cell_type": "code",
      "metadata": {
        "id": "t8h3FR_z_CQ5"
      },
      "source": [
        "clf = SGDClassifier(loss='log', verbose=True)"
      ],
      "execution_count": null,
      "outputs": []
    },
    {
      "cell_type": "code",
      "metadata": {
        "id": "I3Sd6iQN_PbS"
      },
      "source": [
        "def batch(iterable, n=1):\n",
        "    l = len(iterable)\n",
        "    for ndx in range(0, l, n):\n",
        "        yield iterable[ndx:min(ndx + n, l)]"
      ],
      "execution_count": null,
      "outputs": []
    },
    {
      "cell_type": "code",
      "metadata": {
        "id": "cq3XiR3i_F9Z",
        "colab": {
          "base_uri": "https://localhost:8080/",
          "height": 242,
          "referenced_widgets": [
            "f2c7a1b8fa394d35ad38730058323286",
            "ff9041607a8f4fe58e61cf56e1382d1d",
            "b77ebdf673b94e41b49142538e6280ee",
            "08505a8b822342dfb739369bd34cd20a",
            "9292cc3613b4468daff4391a105a4bfb",
            "ee18d1aace0d46f5a82baec317c17d62",
            "a30a4e1bcca547028ccf6cc284ec9801",
            "54194a96102c4bbea4e32ea5d4a1c265"
          ]
        },
        "outputId": "7cc4bcd5-1bf2-49e2-e5e7-bdd279a23bf9"
      },
      "source": [
        "batch_size=1000 #1000\n",
        "num_epochs = 200 #200\n",
        "for i in range(num_epochs):\n",
        "   # print('Epoch - ', i)\n",
        "    print('-' * 30)\n",
        "    for idxs in tqdm(batch(range(train_sz), batch_size), total=int(train_sz/batch_size) + 1):\n",
        "        clf.partial_fit(X_train[idxs, :], Y_train[idxs], classes=[0, 1])\n",
        "        \n",
        "    probs = clf.predict_proba(X_test)[:, 1]\n",
        "    fpr, tpr, thresh = roc_curve(Y_test, probs)\n",
        "    roc_auc = auc(fpr, tpr)\n",
        "    print('AUC: ', roc_auc)"
      ],
      "execution_count": null,
      "outputs": [
        {
          "output_type": "stream",
          "text": [
            "-- Epoch 1\n",
            "Norm: 349.67, NNZs: 36563, Bias: 135.233036, T: 748, Avg. loss: 0.000000\n",
            "Total training time: 0.05 seconds.\n",
            "\n",
            "AUC:  0.7698833510074231\n",
            "------------------------------\n"
          ],
          "name": "stdout"
        },
        {
          "output_type": "display_data",
          "data": {
            "application/vnd.jupyter.widget-view+json": {
              "model_id": "f2c7a1b8fa394d35ad38730058323286",
              "version_minor": 0,
              "version_major": 2
            },
            "text/plain": [
              "HBox(children=(FloatProgress(value=0.0, max=1.0), HTML(value='')))"
            ]
          },
          "metadata": {
            "tags": []
          }
        },
        {
          "output_type": "stream",
          "text": [
            "-- Epoch 1\n",
            "Norm: 347.93, NNZs: 36563, Bias: 135.233023, T: 748, Avg. loss: 0.000000\n",
            "Total training time: 0.05 seconds.\n",
            "\n",
            "AUC:  0.7698833510074231\n"
          ],
          "name": "stdout"
        }
      ]
    },
    {
      "cell_type": "code",
      "metadata": {
        "colab": {
          "base_uri": "https://localhost:8080/"
        },
        "id": "K88tyc9GA2Kb",
        "outputId": "648a8941-5673-4c57-fe99-55e120c17df5"
      },
      "source": [
        "print(Y_test)"
      ],
      "execution_count": null,
      "outputs": [
        {
          "output_type": "stream",
          "text": [
            "[1 1 1 1 1 1 1 1 1 1 1 1 1 1 1 1 1 1 1 1 1 1 1 1 1 1 1 1 1 1 1 1 1 1 1 1 1\n",
            " 1 1 1 1 1 1 1 1 1 1 1 1 1 1 1 1 1 1 1 1 1 1 1 1 1 1 1 1 1 1 1 1 1 1 1 1 1\n",
            " 1 1 1 1 1 1 1 1 0 0 0 0 0 0 0 0 0 0 0 0 0 0 0 0 0 0 0 0 0 0 0 0 0 0 0 0 0\n",
            " 0 0 0 0 0 0 0 0 0 0 0 0 0 0 0 0 0 0 0 0 0 0 0 0 0 0 0 0 0 0 0 0 0 0 0 0 0\n",
            " 0 0 0]\n"
          ],
          "name": "stdout"
        }
      ]
    },
    {
      "cell_type": "code",
      "metadata": {
        "colab": {
          "base_uri": "https://localhost:8080/"
        },
        "id": "PUFCxPktA-MB",
        "outputId": "1399108b-be82-4fba-b54d-73ec450462ff"
      },
      "source": [
        "Y_pred = clf.predict(X_test)\n",
        "print(Y_pred)"
      ],
      "execution_count": null,
      "outputs": [
        {
          "output_type": "stream",
          "text": [
            "[1 1 1 1 1 0 1 1 1 0 1 1 1 1 1 0 1 0 1 1 1 1 1 0 1 1 1 0 0 1 1 1 1 1 1 1 1\n",
            " 1 1 1 1 1 0 1 1 1 1 1 1 0 0 1 1 1 1 1 1 1 1 1 1 1 1 1 0 1 1 1 0 1 0 0 1 1\n",
            " 1 1 1 1 1 1 1 0 0 1 0 0 0 0 0 0 1 0 0 1 0 1 0 1 0 1 1 0 0 0 0 0 0 0 1 1 0\n",
            " 0 1 0 0 1 1 1 0 0 1 0 0 0 0 0 1 1 1 0 0 0 1 0 0 0 0 1 0 1 0 0 0 0 0 0 0 0\n",
            " 0 0 0]\n"
          ],
          "name": "stdout"
        }
      ]
    },
    {
      "cell_type": "code",
      "metadata": {
        "colab": {
          "base_uri": "https://localhost:8080/"
        },
        "id": "peOjSjmPMxqP",
        "outputId": "ae79879e-45b6-40a4-ebf8-2b2c324e6014"
      },
      "source": [
        "from sklearn import metrics\n",
        "print('AUC: ', roc_auc)\n",
        "print('Accuracy:', clf.score(X_test, Y_test))\n",
        "metrics.confusion_matrix(Y_test, Y_pred)\n"
      ],
      "execution_count": null,
      "outputs": [
        {
          "output_type": "stream",
          "text": [
            "AUC:  0.7698833510074231\n",
            "Accuracy: 0.7682119205298014\n"
          ],
          "name": "stdout"
        },
        {
          "output_type": "execute_result",
          "data": {
            "text/plain": [
              "array([[49, 20],\n",
              "       [15, 67]])"
            ]
          },
          "metadata": {
            "tags": []
          },
          "execution_count": 38
        }
      ]
    },
    {
      "cell_type": "markdown",
      "metadata": {
        "id": "Jq7bhw9qRw_B"
      },
      "source": [
        "## Metrics for SGD"
      ]
    },
    {
      "cell_type": "code",
      "metadata": {
        "colab": {
          "base_uri": "https://localhost:8080/",
          "height": 1000
        },
        "id": "380XEwj9_kaw",
        "outputId": "056f6b23-0df0-4ff1-fa2d-dca06a127f68"
      },
      "source": [
        "roc_auc = auc(fpr, tpr)\n",
        "fig = go.Figure()\n",
        "fig.add_trace(go.Scatter(\n",
        "    x = fpr,\n",
        "    y = tpr,\n",
        "    text = thresh,\n",
        "    mode='lines'\n",
        "))\n",
        "fig.show(renderer=\"colab\")\n",
        "print(roc_auc)\n",
        "\n",
        "precision, recall, thresholds = precision_recall_curve(Y_test, probs)\n",
        "fig = go.Figure()\n",
        "fig.add_trace(go.Scatter(\n",
        "    x=recall,\n",
        "    y=precision,\n",
        "    text=np.array(thresholds).astype(str)\n",
        "))\n",
        "fig.show(renderer=\"colab\")\n",
        "print('AUC: ', auc(recall, precision))"
      ],
      "execution_count": null,
      "outputs": [
        {
          "output_type": "display_data",
          "data": {
            "text/html": [
              "<html>\n",
              "<head><meta charset=\"utf-8\" /></head>\n",
              "<body>\n",
              "    <div>\n",
              "            <script src=\"https://cdnjs.cloudflare.com/ajax/libs/mathjax/2.7.5/MathJax.js?config=TeX-AMS-MML_SVG\"></script><script type=\"text/javascript\">if (window.MathJax) {MathJax.Hub.Config({SVG: {font: \"STIX-Web\"}});}</script>\n",
              "                <script type=\"text/javascript\">window.PlotlyConfig = {MathJaxConfig: 'local'};</script>\n",
              "        <script src=\"https://cdn.plot.ly/plotly-latest.min.js\"></script>    \n",
              "            <div id=\"66f1d0c2-7554-486d-acf1-05b41e601880\" class=\"plotly-graph-div\" style=\"height:525px; width:100%;\"></div>\n",
              "            <script type=\"text/javascript\">\n",
              "                \n",
              "                    window.PLOTLYENV=window.PLOTLYENV || {};\n",
              "                    \n",
              "                if (document.getElementById(\"66f1d0c2-7554-486d-acf1-05b41e601880\")) {\n",
              "                    Plotly.newPlot(\n",
              "                        '66f1d0c2-7554-486d-acf1-05b41e601880',\n",
              "                        [{\"mode\": \"lines\", \"text\": [2.0, 1.0, 0.9999504858468282, 1.4528687702564442e-23, 1.0260340762829141e-63, 3.4940886710872552e-102, 1.0174404768076691e-155, 1.036259692051861e-160, 5.061436932404143e-168, 1.2712217594916746e-275, 2.522446875433933e-283, 1.5780383077798642e-298, 3.489454146871187e-304, 0.0], \"type\": \"scatter\", \"x\": [0.0, 0.2898550724637681, 0.2898550724637681, 0.3188405797101449, 0.3188405797101449, 0.391304347826087, 0.391304347826087, 0.4057971014492754, 0.4057971014492754, 0.5072463768115942, 0.5072463768115942, 0.5217391304347826, 0.5217391304347826, 1.0], \"y\": [0.0, 0.7926829268292683, 0.8170731707317073, 0.8170731707317073, 0.8536585365853658, 0.8536585365853658, 0.8658536585365854, 0.8658536585365854, 0.8780487804878049, 0.8780487804878049, 0.8902439024390244, 0.8902439024390244, 0.9024390243902439, 1.0]}],\n",
              "                        {\"template\": {\"data\": {\"bar\": [{\"error_x\": {\"color\": \"#2a3f5f\"}, \"error_y\": {\"color\": \"#2a3f5f\"}, \"marker\": {\"line\": {\"color\": \"#E5ECF6\", \"width\": 0.5}}, \"type\": \"bar\"}], \"barpolar\": [{\"marker\": {\"line\": {\"color\": \"#E5ECF6\", \"width\": 0.5}}, \"type\": \"barpolar\"}], \"carpet\": [{\"aaxis\": {\"endlinecolor\": \"#2a3f5f\", \"gridcolor\": \"white\", \"linecolor\": \"white\", \"minorgridcolor\": \"white\", \"startlinecolor\": \"#2a3f5f\"}, \"baxis\": {\"endlinecolor\": \"#2a3f5f\", \"gridcolor\": \"white\", \"linecolor\": \"white\", \"minorgridcolor\": \"white\", \"startlinecolor\": \"#2a3f5f\"}, \"type\": \"carpet\"}], \"choropleth\": [{\"colorbar\": {\"outlinewidth\": 0, \"ticks\": \"\"}, \"type\": \"choropleth\"}], \"contour\": [{\"colorbar\": {\"outlinewidth\": 0, \"ticks\": \"\"}, \"colorscale\": [[0.0, \"#0d0887\"], [0.1111111111111111, \"#46039f\"], [0.2222222222222222, \"#7201a8\"], [0.3333333333333333, \"#9c179e\"], [0.4444444444444444, \"#bd3786\"], [0.5555555555555556, \"#d8576b\"], [0.6666666666666666, \"#ed7953\"], [0.7777777777777778, \"#fb9f3a\"], [0.8888888888888888, \"#fdca26\"], [1.0, \"#f0f921\"]], \"type\": \"contour\"}], \"contourcarpet\": [{\"colorbar\": {\"outlinewidth\": 0, \"ticks\": \"\"}, \"type\": \"contourcarpet\"}], \"heatmap\": [{\"colorbar\": {\"outlinewidth\": 0, \"ticks\": \"\"}, \"colorscale\": [[0.0, \"#0d0887\"], [0.1111111111111111, \"#46039f\"], [0.2222222222222222, \"#7201a8\"], [0.3333333333333333, \"#9c179e\"], [0.4444444444444444, \"#bd3786\"], [0.5555555555555556, \"#d8576b\"], [0.6666666666666666, \"#ed7953\"], [0.7777777777777778, \"#fb9f3a\"], [0.8888888888888888, \"#fdca26\"], [1.0, \"#f0f921\"]], \"type\": \"heatmap\"}], \"heatmapgl\": [{\"colorbar\": {\"outlinewidth\": 0, \"ticks\": \"\"}, \"colorscale\": [[0.0, \"#0d0887\"], [0.1111111111111111, \"#46039f\"], [0.2222222222222222, \"#7201a8\"], [0.3333333333333333, \"#9c179e\"], [0.4444444444444444, \"#bd3786\"], [0.5555555555555556, \"#d8576b\"], [0.6666666666666666, \"#ed7953\"], [0.7777777777777778, \"#fb9f3a\"], [0.8888888888888888, \"#fdca26\"], [1.0, \"#f0f921\"]], \"type\": \"heatmapgl\"}], \"histogram\": [{\"marker\": {\"colorbar\": {\"outlinewidth\": 0, \"ticks\": \"\"}}, \"type\": \"histogram\"}], \"histogram2d\": [{\"colorbar\": {\"outlinewidth\": 0, \"ticks\": \"\"}, \"colorscale\": [[0.0, \"#0d0887\"], [0.1111111111111111, \"#46039f\"], [0.2222222222222222, \"#7201a8\"], [0.3333333333333333, \"#9c179e\"], [0.4444444444444444, \"#bd3786\"], [0.5555555555555556, \"#d8576b\"], [0.6666666666666666, \"#ed7953\"], [0.7777777777777778, \"#fb9f3a\"], [0.8888888888888888, \"#fdca26\"], [1.0, \"#f0f921\"]], \"type\": \"histogram2d\"}], \"histogram2dcontour\": [{\"colorbar\": {\"outlinewidth\": 0, \"ticks\": \"\"}, \"colorscale\": [[0.0, \"#0d0887\"], [0.1111111111111111, \"#46039f\"], [0.2222222222222222, \"#7201a8\"], [0.3333333333333333, \"#9c179e\"], [0.4444444444444444, \"#bd3786\"], [0.5555555555555556, \"#d8576b\"], [0.6666666666666666, \"#ed7953\"], [0.7777777777777778, \"#fb9f3a\"], [0.8888888888888888, \"#fdca26\"], [1.0, \"#f0f921\"]], \"type\": \"histogram2dcontour\"}], \"mesh3d\": [{\"colorbar\": {\"outlinewidth\": 0, \"ticks\": \"\"}, \"type\": \"mesh3d\"}], \"parcoords\": [{\"line\": {\"colorbar\": {\"outlinewidth\": 0, \"ticks\": \"\"}}, \"type\": \"parcoords\"}], \"pie\": [{\"automargin\": true, \"type\": \"pie\"}], \"scatter\": [{\"marker\": {\"colorbar\": {\"outlinewidth\": 0, \"ticks\": \"\"}}, \"type\": \"scatter\"}], \"scatter3d\": [{\"line\": {\"colorbar\": {\"outlinewidth\": 0, \"ticks\": \"\"}}, \"marker\": {\"colorbar\": {\"outlinewidth\": 0, \"ticks\": \"\"}}, \"type\": \"scatter3d\"}], \"scattercarpet\": [{\"marker\": {\"colorbar\": {\"outlinewidth\": 0, \"ticks\": \"\"}}, \"type\": \"scattercarpet\"}], \"scattergeo\": [{\"marker\": {\"colorbar\": {\"outlinewidth\": 0, \"ticks\": \"\"}}, \"type\": \"scattergeo\"}], \"scattergl\": [{\"marker\": {\"colorbar\": {\"outlinewidth\": 0, \"ticks\": \"\"}}, \"type\": \"scattergl\"}], \"scattermapbox\": [{\"marker\": {\"colorbar\": {\"outlinewidth\": 0, \"ticks\": \"\"}}, \"type\": \"scattermapbox\"}], \"scatterpolar\": [{\"marker\": {\"colorbar\": {\"outlinewidth\": 0, \"ticks\": \"\"}}, \"type\": \"scatterpolar\"}], \"scatterpolargl\": [{\"marker\": {\"colorbar\": {\"outlinewidth\": 0, \"ticks\": \"\"}}, \"type\": \"scatterpolargl\"}], \"scatterternary\": [{\"marker\": {\"colorbar\": {\"outlinewidth\": 0, \"ticks\": \"\"}}, \"type\": \"scatterternary\"}], \"surface\": [{\"colorbar\": {\"outlinewidth\": 0, \"ticks\": \"\"}, \"colorscale\": [[0.0, \"#0d0887\"], [0.1111111111111111, \"#46039f\"], [0.2222222222222222, \"#7201a8\"], [0.3333333333333333, \"#9c179e\"], [0.4444444444444444, \"#bd3786\"], [0.5555555555555556, \"#d8576b\"], [0.6666666666666666, \"#ed7953\"], [0.7777777777777778, \"#fb9f3a\"], [0.8888888888888888, \"#fdca26\"], [1.0, \"#f0f921\"]], \"type\": \"surface\"}], \"table\": [{\"cells\": {\"fill\": {\"color\": \"#EBF0F8\"}, \"line\": {\"color\": \"white\"}}, \"header\": {\"fill\": {\"color\": \"#C8D4E3\"}, \"line\": {\"color\": \"white\"}}, \"type\": \"table\"}]}, \"layout\": {\"annotationdefaults\": {\"arrowcolor\": \"#2a3f5f\", \"arrowhead\": 0, \"arrowwidth\": 1}, \"coloraxis\": {\"colorbar\": {\"outlinewidth\": 0, \"ticks\": \"\"}}, \"colorscale\": {\"diverging\": [[0, \"#8e0152\"], [0.1, \"#c51b7d\"], [0.2, \"#de77ae\"], [0.3, \"#f1b6da\"], [0.4, \"#fde0ef\"], [0.5, \"#f7f7f7\"], [0.6, \"#e6f5d0\"], [0.7, \"#b8e186\"], [0.8, \"#7fbc41\"], [0.9, \"#4d9221\"], [1, \"#276419\"]], \"sequential\": [[0.0, \"#0d0887\"], [0.1111111111111111, \"#46039f\"], [0.2222222222222222, \"#7201a8\"], [0.3333333333333333, \"#9c179e\"], [0.4444444444444444, \"#bd3786\"], [0.5555555555555556, \"#d8576b\"], [0.6666666666666666, \"#ed7953\"], [0.7777777777777778, \"#fb9f3a\"], [0.8888888888888888, \"#fdca26\"], [1.0, \"#f0f921\"]], \"sequentialminus\": [[0.0, \"#0d0887\"], [0.1111111111111111, \"#46039f\"], [0.2222222222222222, \"#7201a8\"], [0.3333333333333333, \"#9c179e\"], [0.4444444444444444, \"#bd3786\"], [0.5555555555555556, \"#d8576b\"], [0.6666666666666666, \"#ed7953\"], [0.7777777777777778, \"#fb9f3a\"], [0.8888888888888888, \"#fdca26\"], [1.0, \"#f0f921\"]]}, \"colorway\": [\"#636efa\", \"#EF553B\", \"#00cc96\", \"#ab63fa\", \"#FFA15A\", \"#19d3f3\", \"#FF6692\", \"#B6E880\", \"#FF97FF\", \"#FECB52\"], \"font\": {\"color\": \"#2a3f5f\"}, \"geo\": {\"bgcolor\": \"white\", \"lakecolor\": \"white\", \"landcolor\": \"#E5ECF6\", \"showlakes\": true, \"showland\": true, \"subunitcolor\": \"white\"}, \"hoverlabel\": {\"align\": \"left\"}, \"hovermode\": \"closest\", \"mapbox\": {\"style\": \"light\"}, \"paper_bgcolor\": \"white\", \"plot_bgcolor\": \"#E5ECF6\", \"polar\": {\"angularaxis\": {\"gridcolor\": \"white\", \"linecolor\": \"white\", \"ticks\": \"\"}, \"bgcolor\": \"#E5ECF6\", \"radialaxis\": {\"gridcolor\": \"white\", \"linecolor\": \"white\", \"ticks\": \"\"}}, \"scene\": {\"xaxis\": {\"backgroundcolor\": \"#E5ECF6\", \"gridcolor\": \"white\", \"gridwidth\": 2, \"linecolor\": \"white\", \"showbackground\": true, \"ticks\": \"\", \"zerolinecolor\": \"white\"}, \"yaxis\": {\"backgroundcolor\": \"#E5ECF6\", \"gridcolor\": \"white\", \"gridwidth\": 2, \"linecolor\": \"white\", \"showbackground\": true, \"ticks\": \"\", \"zerolinecolor\": \"white\"}, \"zaxis\": {\"backgroundcolor\": \"#E5ECF6\", \"gridcolor\": \"white\", \"gridwidth\": 2, \"linecolor\": \"white\", \"showbackground\": true, \"ticks\": \"\", \"zerolinecolor\": \"white\"}}, \"shapedefaults\": {\"line\": {\"color\": \"#2a3f5f\"}}, \"ternary\": {\"aaxis\": {\"gridcolor\": \"white\", \"linecolor\": \"white\", \"ticks\": \"\"}, \"baxis\": {\"gridcolor\": \"white\", \"linecolor\": \"white\", \"ticks\": \"\"}, \"bgcolor\": \"#E5ECF6\", \"caxis\": {\"gridcolor\": \"white\", \"linecolor\": \"white\", \"ticks\": \"\"}}, \"title\": {\"x\": 0.05}, \"xaxis\": {\"automargin\": true, \"gridcolor\": \"white\", \"linecolor\": \"white\", \"ticks\": \"\", \"title\": {\"standoff\": 15}, \"zerolinecolor\": \"white\", \"zerolinewidth\": 2}, \"yaxis\": {\"automargin\": true, \"gridcolor\": \"white\", \"linecolor\": \"white\", \"ticks\": \"\", \"title\": {\"standoff\": 15}, \"zerolinecolor\": \"white\", \"zerolinewidth\": 2}}}},\n",
              "                        {\"responsive\": true}\n",
              "                    ).then(function(){\n",
              "                            \n",
              "var gd = document.getElementById('66f1d0c2-7554-486d-acf1-05b41e601880');\n",
              "var x = new MutationObserver(function (mutations, observer) {{\n",
              "        var display = window.getComputedStyle(gd).display;\n",
              "        if (!display || display === 'none') {{\n",
              "            console.log([gd, 'removed!']);\n",
              "            Plotly.purge(gd);\n",
              "            observer.disconnect();\n",
              "        }}\n",
              "}});\n",
              "\n",
              "// Listen for the removal of the full notebook cells\n",
              "var notebookContainer = gd.closest('#notebook-container');\n",
              "if (notebookContainer) {{\n",
              "    x.observe(notebookContainer, {childList: true});\n",
              "}}\n",
              "\n",
              "// Listen for the clearing of the current output cell\n",
              "var outputEl = gd.closest('.output');\n",
              "if (outputEl) {{\n",
              "    x.observe(outputEl, {childList: true});\n",
              "}}\n",
              "\n",
              "                        })\n",
              "                };\n",
              "                \n",
              "            </script>\n",
              "        </div>\n",
              "</body>\n",
              "</html>"
            ]
          },
          "metadata": {
            "tags": []
          }
        },
        {
          "output_type": "stream",
          "text": [
            "0.7698833510074231\n"
          ],
          "name": "stdout"
        },
        {
          "output_type": "display_data",
          "data": {
            "text/html": [
              "<html>\n",
              "<head><meta charset=\"utf-8\" /></head>\n",
              "<body>\n",
              "    <div>\n",
              "            <script src=\"https://cdnjs.cloudflare.com/ajax/libs/mathjax/2.7.5/MathJax.js?config=TeX-AMS-MML_SVG\"></script><script type=\"text/javascript\">if (window.MathJax) {MathJax.Hub.Config({SVG: {font: \"STIX-Web\"}});}</script>\n",
              "                <script type=\"text/javascript\">window.PlotlyConfig = {MathJaxConfig: 'local'};</script>\n",
              "        <script src=\"https://cdn.plot.ly/plotly-latest.min.js\"></script>    \n",
              "            <div id=\"a330bb28-ff63-47cf-99e7-e07a9bdf08a6\" class=\"plotly-graph-div\" style=\"height:525px; width:100%;\"></div>\n",
              "            <script type=\"text/javascript\">\n",
              "                \n",
              "                    window.PLOTLYENV=window.PLOTLYENV || {};\n",
              "                    \n",
              "                if (document.getElementById(\"a330bb28-ff63-47cf-99e7-e07a9bdf08a6\")) {\n",
              "                    Plotly.newPlot(\n",
              "                        'a330bb28-ff63-47cf-99e7-e07a9bdf08a6',\n",
              "                        [{\"text\": [\"0.0\", \"3.489454146871187e-304\", \"1.5780383077798642e-298\", \"2.522446875433933e-283\", \"1.2712217594916746e-275\", \"2.204255315385215e-261\", \"3.0426897403009273e-248\", \"1.8058373031192585e-224\", \"6.677820676075551e-217\", \"3.243104932907543e-186\", \"6.276197143608879e-181\", \"5.061436932404143e-168\", \"1.036259692051861e-160\", \"1.0174404768076691e-155\", \"3.4940886710872552e-102\", \"8.925765839065217e-85\", \"1.917569737285846e-77\", \"8.189048648791727e-73\", \"9.176730984323657e-72\", \"1.0260340762829141e-63\", \"1.2731538090997264e-36\", \"1.3045771073219023e-26\", \"1.4528687702564442e-23\", \"1.580369144746243e-11\", \"0.9999504858468282\", \"0.9999999998939968\", \"1.0\"], \"type\": \"scatter\", \"x\": [1.0, 0.9024390243902439, 0.8902439024390244, 0.8902439024390244, 0.8780487804878049, 0.8780487804878049, 0.8780487804878049, 0.8780487804878049, 0.8780487804878049, 0.8780487804878049, 0.8780487804878049, 0.8780487804878049, 0.8658536585365854, 0.8658536585365854, 0.8536585365853658, 0.8536585365853658, 0.8536585365853658, 0.8536585365853658, 0.8536585365853658, 0.8536585365853658, 0.8414634146341463, 0.8292682926829268, 0.8170731707317073, 0.8170731707317073, 0.8170731707317073, 0.8048780487804879, 0.7926829268292683, 0.0], \"y\": [0.543046357615894, 0.6727272727272727, 0.6697247706422018, 0.6759259259259259, 0.6728971962616822, 0.6792452830188679, 0.6857142857142857, 0.6923076923076923, 0.6990291262135923, 0.7058823529411765, 0.7128712871287128, 0.72, 0.7171717171717171, 0.7244897959183674, 0.7216494845360825, 0.7291666666666666, 0.7368421052631579, 0.7446808510638298, 0.7526881720430108, 0.7608695652173914, 0.7582417582417582, 0.7555555555555555, 0.7528089887640449, 0.7613636363636364, 0.7701149425287356, 0.7674418604651163, 0.7647058823529411, 1.0]}],\n",
              "                        {\"template\": {\"data\": {\"bar\": [{\"error_x\": {\"color\": \"#2a3f5f\"}, \"error_y\": {\"color\": \"#2a3f5f\"}, \"marker\": {\"line\": {\"color\": \"#E5ECF6\", \"width\": 0.5}}, \"type\": \"bar\"}], \"barpolar\": [{\"marker\": {\"line\": {\"color\": \"#E5ECF6\", \"width\": 0.5}}, \"type\": \"barpolar\"}], \"carpet\": [{\"aaxis\": {\"endlinecolor\": \"#2a3f5f\", \"gridcolor\": \"white\", \"linecolor\": \"white\", \"minorgridcolor\": \"white\", \"startlinecolor\": \"#2a3f5f\"}, \"baxis\": {\"endlinecolor\": \"#2a3f5f\", \"gridcolor\": \"white\", \"linecolor\": \"white\", \"minorgridcolor\": \"white\", \"startlinecolor\": \"#2a3f5f\"}, \"type\": \"carpet\"}], \"choropleth\": [{\"colorbar\": {\"outlinewidth\": 0, \"ticks\": \"\"}, \"type\": \"choropleth\"}], \"contour\": [{\"colorbar\": {\"outlinewidth\": 0, \"ticks\": \"\"}, \"colorscale\": [[0.0, \"#0d0887\"], [0.1111111111111111, \"#46039f\"], [0.2222222222222222, \"#7201a8\"], [0.3333333333333333, \"#9c179e\"], [0.4444444444444444, \"#bd3786\"], [0.5555555555555556, \"#d8576b\"], [0.6666666666666666, \"#ed7953\"], [0.7777777777777778, \"#fb9f3a\"], [0.8888888888888888, \"#fdca26\"], [1.0, \"#f0f921\"]], \"type\": \"contour\"}], \"contourcarpet\": [{\"colorbar\": {\"outlinewidth\": 0, \"ticks\": \"\"}, \"type\": \"contourcarpet\"}], \"heatmap\": [{\"colorbar\": {\"outlinewidth\": 0, \"ticks\": \"\"}, \"colorscale\": [[0.0, \"#0d0887\"], [0.1111111111111111, \"#46039f\"], [0.2222222222222222, \"#7201a8\"], [0.3333333333333333, \"#9c179e\"], [0.4444444444444444, \"#bd3786\"], [0.5555555555555556, \"#d8576b\"], [0.6666666666666666, \"#ed7953\"], [0.7777777777777778, \"#fb9f3a\"], [0.8888888888888888, \"#fdca26\"], [1.0, \"#f0f921\"]], \"type\": \"heatmap\"}], \"heatmapgl\": [{\"colorbar\": {\"outlinewidth\": 0, \"ticks\": \"\"}, \"colorscale\": [[0.0, \"#0d0887\"], [0.1111111111111111, \"#46039f\"], [0.2222222222222222, \"#7201a8\"], [0.3333333333333333, \"#9c179e\"], [0.4444444444444444, \"#bd3786\"], [0.5555555555555556, \"#d8576b\"], [0.6666666666666666, \"#ed7953\"], [0.7777777777777778, \"#fb9f3a\"], [0.8888888888888888, \"#fdca26\"], [1.0, \"#f0f921\"]], \"type\": \"heatmapgl\"}], \"histogram\": [{\"marker\": {\"colorbar\": {\"outlinewidth\": 0, \"ticks\": \"\"}}, \"type\": \"histogram\"}], \"histogram2d\": [{\"colorbar\": {\"outlinewidth\": 0, \"ticks\": \"\"}, \"colorscale\": [[0.0, \"#0d0887\"], [0.1111111111111111, \"#46039f\"], [0.2222222222222222, \"#7201a8\"], [0.3333333333333333, \"#9c179e\"], [0.4444444444444444, \"#bd3786\"], [0.5555555555555556, \"#d8576b\"], [0.6666666666666666, \"#ed7953\"], [0.7777777777777778, \"#fb9f3a\"], [0.8888888888888888, \"#fdca26\"], [1.0, \"#f0f921\"]], \"type\": \"histogram2d\"}], \"histogram2dcontour\": [{\"colorbar\": {\"outlinewidth\": 0, \"ticks\": \"\"}, \"colorscale\": [[0.0, \"#0d0887\"], [0.1111111111111111, \"#46039f\"], [0.2222222222222222, \"#7201a8\"], [0.3333333333333333, \"#9c179e\"], [0.4444444444444444, \"#bd3786\"], [0.5555555555555556, \"#d8576b\"], [0.6666666666666666, \"#ed7953\"], [0.7777777777777778, \"#fb9f3a\"], [0.8888888888888888, \"#fdca26\"], [1.0, \"#f0f921\"]], \"type\": \"histogram2dcontour\"}], \"mesh3d\": [{\"colorbar\": {\"outlinewidth\": 0, \"ticks\": \"\"}, \"type\": \"mesh3d\"}], \"parcoords\": [{\"line\": {\"colorbar\": {\"outlinewidth\": 0, \"ticks\": \"\"}}, \"type\": \"parcoords\"}], \"pie\": [{\"automargin\": true, \"type\": \"pie\"}], \"scatter\": [{\"marker\": {\"colorbar\": {\"outlinewidth\": 0, \"ticks\": \"\"}}, \"type\": \"scatter\"}], \"scatter3d\": [{\"line\": {\"colorbar\": {\"outlinewidth\": 0, \"ticks\": \"\"}}, \"marker\": {\"colorbar\": {\"outlinewidth\": 0, \"ticks\": \"\"}}, \"type\": \"scatter3d\"}], \"scattercarpet\": [{\"marker\": {\"colorbar\": {\"outlinewidth\": 0, \"ticks\": \"\"}}, \"type\": \"scattercarpet\"}], \"scattergeo\": [{\"marker\": {\"colorbar\": {\"outlinewidth\": 0, \"ticks\": \"\"}}, \"type\": \"scattergeo\"}], \"scattergl\": [{\"marker\": {\"colorbar\": {\"outlinewidth\": 0, \"ticks\": \"\"}}, \"type\": \"scattergl\"}], \"scattermapbox\": [{\"marker\": {\"colorbar\": {\"outlinewidth\": 0, \"ticks\": \"\"}}, \"type\": \"scattermapbox\"}], \"scatterpolar\": [{\"marker\": {\"colorbar\": {\"outlinewidth\": 0, \"ticks\": \"\"}}, \"type\": \"scatterpolar\"}], \"scatterpolargl\": [{\"marker\": {\"colorbar\": {\"outlinewidth\": 0, \"ticks\": \"\"}}, \"type\": \"scatterpolargl\"}], \"scatterternary\": [{\"marker\": {\"colorbar\": {\"outlinewidth\": 0, \"ticks\": \"\"}}, \"type\": \"scatterternary\"}], \"surface\": [{\"colorbar\": {\"outlinewidth\": 0, \"ticks\": \"\"}, \"colorscale\": [[0.0, \"#0d0887\"], [0.1111111111111111, \"#46039f\"], [0.2222222222222222, \"#7201a8\"], [0.3333333333333333, \"#9c179e\"], [0.4444444444444444, \"#bd3786\"], [0.5555555555555556, \"#d8576b\"], [0.6666666666666666, \"#ed7953\"], [0.7777777777777778, \"#fb9f3a\"], [0.8888888888888888, \"#fdca26\"], [1.0, \"#f0f921\"]], \"type\": \"surface\"}], \"table\": [{\"cells\": {\"fill\": {\"color\": \"#EBF0F8\"}, \"line\": {\"color\": \"white\"}}, \"header\": {\"fill\": {\"color\": \"#C8D4E3\"}, \"line\": {\"color\": \"white\"}}, \"type\": \"table\"}]}, \"layout\": {\"annotationdefaults\": {\"arrowcolor\": \"#2a3f5f\", \"arrowhead\": 0, \"arrowwidth\": 1}, \"coloraxis\": {\"colorbar\": {\"outlinewidth\": 0, \"ticks\": \"\"}}, \"colorscale\": {\"diverging\": [[0, \"#8e0152\"], [0.1, \"#c51b7d\"], [0.2, \"#de77ae\"], [0.3, \"#f1b6da\"], [0.4, \"#fde0ef\"], [0.5, \"#f7f7f7\"], [0.6, \"#e6f5d0\"], [0.7, \"#b8e186\"], [0.8, \"#7fbc41\"], [0.9, \"#4d9221\"], [1, \"#276419\"]], \"sequential\": [[0.0, \"#0d0887\"], [0.1111111111111111, \"#46039f\"], [0.2222222222222222, \"#7201a8\"], [0.3333333333333333, \"#9c179e\"], [0.4444444444444444, \"#bd3786\"], [0.5555555555555556, \"#d8576b\"], [0.6666666666666666, \"#ed7953\"], [0.7777777777777778, \"#fb9f3a\"], [0.8888888888888888, \"#fdca26\"], [1.0, \"#f0f921\"]], \"sequentialminus\": [[0.0, \"#0d0887\"], [0.1111111111111111, \"#46039f\"], [0.2222222222222222, \"#7201a8\"], [0.3333333333333333, \"#9c179e\"], [0.4444444444444444, \"#bd3786\"], [0.5555555555555556, \"#d8576b\"], [0.6666666666666666, \"#ed7953\"], [0.7777777777777778, \"#fb9f3a\"], [0.8888888888888888, \"#fdca26\"], [1.0, \"#f0f921\"]]}, \"colorway\": [\"#636efa\", \"#EF553B\", \"#00cc96\", \"#ab63fa\", \"#FFA15A\", \"#19d3f3\", \"#FF6692\", \"#B6E880\", \"#FF97FF\", \"#FECB52\"], \"font\": {\"color\": \"#2a3f5f\"}, \"geo\": {\"bgcolor\": \"white\", \"lakecolor\": \"white\", \"landcolor\": \"#E5ECF6\", \"showlakes\": true, \"showland\": true, \"subunitcolor\": \"white\"}, \"hoverlabel\": {\"align\": \"left\"}, \"hovermode\": \"closest\", \"mapbox\": {\"style\": \"light\"}, \"paper_bgcolor\": \"white\", \"plot_bgcolor\": \"#E5ECF6\", \"polar\": {\"angularaxis\": {\"gridcolor\": \"white\", \"linecolor\": \"white\", \"ticks\": \"\"}, \"bgcolor\": \"#E5ECF6\", \"radialaxis\": {\"gridcolor\": \"white\", \"linecolor\": \"white\", \"ticks\": \"\"}}, \"scene\": {\"xaxis\": {\"backgroundcolor\": \"#E5ECF6\", \"gridcolor\": \"white\", \"gridwidth\": 2, \"linecolor\": \"white\", \"showbackground\": true, \"ticks\": \"\", \"zerolinecolor\": \"white\"}, \"yaxis\": {\"backgroundcolor\": \"#E5ECF6\", \"gridcolor\": \"white\", \"gridwidth\": 2, \"linecolor\": \"white\", \"showbackground\": true, \"ticks\": \"\", \"zerolinecolor\": \"white\"}, \"zaxis\": {\"backgroundcolor\": \"#E5ECF6\", \"gridcolor\": \"white\", \"gridwidth\": 2, \"linecolor\": \"white\", \"showbackground\": true, \"ticks\": \"\", \"zerolinecolor\": \"white\"}}, \"shapedefaults\": {\"line\": {\"color\": \"#2a3f5f\"}}, \"ternary\": {\"aaxis\": {\"gridcolor\": \"white\", \"linecolor\": \"white\", \"ticks\": \"\"}, \"baxis\": {\"gridcolor\": \"white\", \"linecolor\": \"white\", \"ticks\": \"\"}, \"bgcolor\": \"#E5ECF6\", \"caxis\": {\"gridcolor\": \"white\", \"linecolor\": \"white\", \"ticks\": \"\"}}, \"title\": {\"x\": 0.05}, \"xaxis\": {\"automargin\": true, \"gridcolor\": \"white\", \"linecolor\": \"white\", \"ticks\": \"\", \"title\": {\"standoff\": 15}, \"zerolinecolor\": \"white\", \"zerolinewidth\": 2}, \"yaxis\": {\"automargin\": true, \"gridcolor\": \"white\", \"linecolor\": \"white\", \"ticks\": \"\", \"title\": {\"standoff\": 15}, \"zerolinecolor\": \"white\", \"zerolinewidth\": 2}}}},\n",
              "                        {\"responsive\": true}\n",
              "                    ).then(function(){\n",
              "                            \n",
              "var gd = document.getElementById('a330bb28-ff63-47cf-99e7-e07a9bdf08a6');\n",
              "var x = new MutationObserver(function (mutations, observer) {{\n",
              "        var display = window.getComputedStyle(gd).display;\n",
              "        if (!display || display === 'none') {{\n",
              "            console.log([gd, 'removed!']);\n",
              "            Plotly.purge(gd);\n",
              "            observer.disconnect();\n",
              "        }}\n",
              "}});\n",
              "\n",
              "// Listen for the removal of the full notebook cells\n",
              "var notebookContainer = gd.closest('#notebook-container');\n",
              "if (notebookContainer) {{\n",
              "    x.observe(notebookContainer, {childList: true});\n",
              "}}\n",
              "\n",
              "// Listen for the clearing of the current output cell\n",
              "var outputEl = gd.closest('.output');\n",
              "if (outputEl) {{\n",
              "    x.observe(outputEl, {childList: true});\n",
              "}}\n",
              "\n",
              "                        })\n",
              "                };\n",
              "                \n",
              "            </script>\n",
              "        </div>\n",
              "</body>\n",
              "</html>"
            ]
          },
          "metadata": {
            "tags": []
          }
        },
        {
          "output_type": "stream",
          "text": [
            "AUC:  0.8391319224771813\n"
          ],
          "name": "stdout"
        }
      ]
    },
    {
      "cell_type": "markdown",
      "metadata": {
        "id": "ypE9_SH3AA_L"
      },
      "source": [
        "## Train Classifier : PyTorchNN"
      ]
    },
    {
      "cell_type": "code",
      "metadata": {
        "id": "wmaNF1qP_87j"
      },
      "source": [
        "with open(TEMP_DATA_DIR + '/ordering_metadata.p', 'rb') as f:\n",
        "    train_sz, test_sz, val_sz, train_idxs = pickle.load(f)\n",
        "    \n",
        "with open(TEMP_DATA_DIR + '/transformers.p', 'rb') as f:\n",
        "    transformer, scaler = pickle.load(f)"
      ],
      "execution_count": null,
      "outputs": []
    },
    {
      "cell_type": "code",
      "metadata": {
        "id": "Xre8_nrkAJDU"
      },
      "source": [
        "feature_sz = len(transformer.get_feature_names())\n",
        "X_train = np.memmap(TEMP_DATA_DIR + '/extracted_features_X_train.npy', dtype='float32', mode='r', shape=(train_sz, feature_sz))\n",
        "Y_train = np.memmap(TEMP_DATA_DIR + '/extracted_features_Y_train.npy', dtype='int32', mode='r', shape=(train_sz))\n",
        "\n",
        "X_val = np.memmap(TEMP_DATA_DIR + '/extracted_features_X_val.npy', dtype='float32', mode='r+', shape=(val_sz, feature_sz))\n",
        "Y_val = np.memmap(TEMP_DATA_DIR + '/extracted_features_Y_val.npy', dtype='int32', mode='r+', shape=(val_sz))\n",
        "\n",
        "X_test = np.memmap(TEMP_DATA_DIR + '/extracted_features_X_test.npy', dtype='float32', mode='r', shape=(test_sz, feature_sz))\n",
        "Y_test = np.memmap(TEMP_DATA_DIR + '/extracted_features_Y_test.npy', dtype='int32', mode='r', shape=(test_sz))"
      ],
      "execution_count": null,
      "outputs": []
    },
    {
      "cell_type": "code",
      "metadata": {
        "id": "22O19BOHAPhh"
      },
      "source": [
        "# Device configuration\n",
        "device = torch.device('cpu')\n",
        "\n",
        "# Hyper-parameters \n",
        "input_size = X_train.shape[1]\n",
        "hidden_size = 500\n",
        "num_classes = 1\n",
        "num_epochs = 20\n",
        "batch_size = 1000\n",
        "dropout_rate = 0.9\n",
        "learning_rate = 0.0001"
      ],
      "execution_count": null,
      "outputs": []
    },
    {
      "cell_type": "code",
      "metadata": {
        "id": "B6i1YgvRATfD",
        "colab": {
          "base_uri": "https://localhost:8080/"
        },
        "outputId": "04a3ee1c-aa25-4ea2-d5da-778461bf3205"
      },
      "source": [
        "train_dataset = data.TensorDataset(torch.from_numpy(X_train), torch.from_numpy(Y_train.astype('float32')))\n",
        "val_dataset = data.TensorDataset(torch.from_numpy(X_val), torch.from_numpy(Y_val.astype('float32')))\n",
        "test_dataset = data.TensorDataset(torch.from_numpy(X_test), torch.from_numpy(Y_test.astype('float32')))\n",
        " \n",
        "# Data loader\n",
        "train_loader = torch.utils.data.DataLoader(dataset=train_dataset, \n",
        "                                           batch_size=batch_size, \n",
        "                                           shuffle=False)\n",
        " \n",
        "val_loader = torch.utils.data.DataLoader(dataset=val_dataset, \n",
        "                                           batch_size=batch_size, \n",
        "                                           shuffle=False)\n",
        " \n",
        "test_loader = torch.utils.data.DataLoader(dataset=test_dataset, \n",
        "                                          batch_size=batch_size, \n",
        "                                          shuffle=False)\n",
        " \n",
        "model = NeuralNet(input_size, hidden_size, num_classes, dropout_rate).to(device)\n",
        " \n",
        "# Loss and optimizer \n",
        "# create a loss function\n",
        "criterion = nn.BCELoss() #Creates a criterion that measures the Binary Cross Entropy between the target and the output\n",
        "# create a stochastic gradient descent optimizer\n",
        "optimizer = torch.optim.Adam(model.parameters(), lr=learning_rate) #A method for stochastic optimisation"
      ],
      "execution_count": null,
      "outputs": [
        {
          "output_type": "stream",
          "text": [
            "/usr/local/lib/python3.7/dist-packages/ipykernel_launcher.py:1: UserWarning:\n",
            "\n",
            "The given NumPy array is not writeable, and PyTorch does not support non-writeable tensors. This means you can write to the underlying (supposedly non-writeable) NumPy array using the tensor. You may want to copy the array to protect its data or make it writeable before converting it to a tensor. This type of warning will be suppressed for the rest of this program. (Triggered internally at  /pytorch/torch/csrc/utils/tensor_numpy.cpp:143.)\n",
            "\n"
          ],
          "name": "stderr"
        }
      ]
    },
    {
      "cell_type": "code",
      "metadata": {
        "colab": {
          "base_uri": "https://localhost:8080/"
        },
        "id": "cXVgjUjBAVb5",
        "outputId": "24cd8ae9-320e-4d64-9bfb-c776e82101fc"
      },
      "source": [
        "# Train the model\n",
        "training_loss = []\n",
        "validation_loss = []\n",
        "aucs = []\n",
        "total_step = len(train_loader)\n",
        "for epoch in range(num_epochs):\n",
        "    model.train()\n",
        "    running_training_loss = 0.0\n",
        "    for i, (x, y) in enumerate(train_loader):  \n",
        "        # Move tensors to the configured device\n",
        "        x = x.to(device)\n",
        "        y = y.to(device).unsqueeze(1)\n",
        "        \n",
        "        # Forward pass\n",
        "        outputs = model(x)\n",
        "        loss = criterion(outputs, y)\n",
        "        \n",
        "        running_training_loss += loss.item()\n",
        "        \n",
        "        # Backward and optimize\n",
        "        optimizer.zero_grad() #\n",
        "        loss.backward()\n",
        "        optimizer.step()\n",
        "    \n",
        "    training_loss.append(running_training_loss / len(train_loader))\n",
        "    \n",
        "    model.eval()\n",
        "    # Validation loop\n",
        "    running_val_loss = 0.0\n",
        "    actual = []\n",
        "    preds = []\n",
        "    \n",
        "    best_auc = 0.0\n",
        "    best_model = model\n",
        "    for X_batch, y_batch in val_loader:\n",
        "        with torch.no_grad():\n",
        "            y_pred = model(X_batch)\n",
        "            y_batch = y_batch.to(device).unsqueeze(1)\n",
        "            loss = criterion(y_pred, y_batch)\n",
        "            running_val_loss += loss.item()\n",
        "            preds.extend(list(y_pred.numpy()[:, 0]))\n",
        "            actual.extend(list(y_batch.numpy()))\n",
        "            \n",
        "    fpr, tpr, thresh = roc_curve(actual, preds)\n",
        "    roc_auc = auc(fpr, tpr)\n",
        "    aucs.append(roc_auc)\n",
        "    if roc_auc > best_auc:\n",
        "        best_auc = roc_auc\n",
        "        best_model = copy.deepcopy(model)\n",
        "    validation_loss.append(running_val_loss / len(val_loader))\n",
        "\n",
        "\n",
        "    print ('Epoch [{}/{}], Training Loss: {:.4f}, Val Loss: {:.4f}, AUC: {:.4f}' \n",
        "           .format(epoch+1, num_epochs, running_training_loss / len(train_loader), running_val_loss / len(val_loader), roc_auc))"
      ],
      "execution_count": null,
      "outputs": [
        {
          "output_type": "stream",
          "text": [
            "Epoch [1/20], Training Loss: 1.0352, Val Loss: 0.9328, AUC: 0.7424\n",
            "Epoch [2/20], Training Loss: 0.7008, Val Loss: 1.5049, AUC: 0.8276\n",
            "Epoch [3/20], Training Loss: 0.5284, Val Loss: 2.1840, AUC: 0.8668\n",
            "Epoch [4/20], Training Loss: 0.4084, Val Loss: 2.8243, AUC: 0.8828\n",
            "Epoch [5/20], Training Loss: 0.3066, Val Loss: 3.3644, AUC: 0.8934\n",
            "Epoch [6/20], Training Loss: 0.2538, Val Loss: 3.7921, AUC: 0.9010\n",
            "Epoch [7/20], Training Loss: 0.2165, Val Loss: 4.0996, AUC: 0.9064\n",
            "Epoch [8/20], Training Loss: 0.2067, Val Loss: 4.2971, AUC: 0.9082\n",
            "Epoch [9/20], Training Loss: 0.1583, Val Loss: 4.3841, AUC: 0.9090\n",
            "Epoch [10/20], Training Loss: 0.1606, Val Loss: 4.3948, AUC: 0.9118\n",
            "Epoch [11/20], Training Loss: 0.1326, Val Loss: 4.3397, AUC: 0.9128\n",
            "Epoch [12/20], Training Loss: 0.1206, Val Loss: 4.2348, AUC: 0.9141\n",
            "Epoch [13/20], Training Loss: 0.0992, Val Loss: 4.0883, AUC: 0.9151\n",
            "Epoch [14/20], Training Loss: 0.1065, Val Loss: 3.9154, AUC: 0.9148\n",
            "Epoch [15/20], Training Loss: 0.0814, Val Loss: 3.7291, AUC: 0.9148\n",
            "Epoch [16/20], Training Loss: 0.0800, Val Loss: 3.5395, AUC: 0.9144\n",
            "Epoch [17/20], Training Loss: 0.0793, Val Loss: 3.3504, AUC: 0.9137\n",
            "Epoch [18/20], Training Loss: 0.0685, Val Loss: 3.1585, AUC: 0.9135\n",
            "Epoch [19/20], Training Loss: 0.0583, Val Loss: 2.9624, AUC: 0.9141\n",
            "Epoch [20/20], Training Loss: 0.0632, Val Loss: 2.7740, AUC: 0.9146\n"
          ],
          "name": "stdout"
        }
      ]
    },
    {
      "cell_type": "code",
      "metadata": {
        "colab": {
          "base_uri": "https://localhost:8080/"
        },
        "id": "2hzET1WxSbpx",
        "outputId": "fea4228c-9789-43da-b67b-db292e5d81fd"
      },
      "source": [
        "model.eval()"
      ],
      "execution_count": null,
      "outputs": [
        {
          "output_type": "execute_result",
          "data": {
            "text/plain": [
              "NeuralNet(\n",
              "  (fc1): Linear(in_features=36593, out_features=500, bias=True)\n",
              "  (relu): ReLU()\n",
              "  (fc2): Linear(in_features=500, out_features=1, bias=True)\n",
              "  (batchnorm1): BatchNorm1d(500, eps=1e-05, momentum=0.1, affine=True, track_running_stats=True)\n",
              "  (dropout): Dropout(p=0.9, inplace=False)\n",
              "  (act): Sigmoid()\n",
              ")"
            ]
          },
          "metadata": {
            "tags": []
          },
          "execution_count": 46
        }
      ]
    },
    {
      "cell_type": "code",
      "metadata": {
        "id": "DZGQLvKIRGv4"
      },
      "source": [
        "from sklearn.datasets import make_circles\n",
        "from sklearn.metrics import accuracy_score\n",
        "from sklearn.metrics import precision_score\n",
        "from sklearn.metrics import recall_score\n",
        "from sklearn.metrics import f1_score\n",
        "from sklearn.metrics import cohen_kappa_score\n",
        "from sklearn.metrics import roc_auc_score\n",
        "from sklearn.metrics import confusion_matrix\n"
      ],
      "execution_count": null,
      "outputs": []
    },
    {
      "cell_type": "code",
      "metadata": {
        "colab": {
          "base_uri": "https://localhost:8080/",
          "height": 542
        },
        "id": "fv7F43VHAvMy",
        "outputId": "17cd289b-b4d8-4471-f046-5a6a1095abbb"
      },
      "source": [
        "fig = go.Figure()\n",
        "fig.add_trace(go.Scatter(\n",
        "    x = list(range(len(training_loss))),\n",
        "    y = training_loss,\n",
        "    mode='lines',\n",
        "    name='Training Loss'\n",
        "))\n",
        "fig.add_trace(go.Scatter(\n",
        "    x = list(range(len(validation_loss))),\n",
        "    y = validation_loss,\n",
        "    mode='lines',\n",
        "    name='Validation Loss'\n",
        "))\n",
        "fig.show(renderer=\"colab\")"
      ],
      "execution_count": null,
      "outputs": [
        {
          "output_type": "display_data",
          "data": {
            "text/html": [
              "<html>\n",
              "<head><meta charset=\"utf-8\" /></head>\n",
              "<body>\n",
              "    <div>\n",
              "            <script src=\"https://cdnjs.cloudflare.com/ajax/libs/mathjax/2.7.5/MathJax.js?config=TeX-AMS-MML_SVG\"></script><script type=\"text/javascript\">if (window.MathJax) {MathJax.Hub.Config({SVG: {font: \"STIX-Web\"}});}</script>\n",
              "                <script type=\"text/javascript\">window.PlotlyConfig = {MathJaxConfig: 'local'};</script>\n",
              "        <script src=\"https://cdn.plot.ly/plotly-latest.min.js\"></script>    \n",
              "            <div id=\"479d2695-a16b-4cb6-85a8-3f02027c4399\" class=\"plotly-graph-div\" style=\"height:525px; width:100%;\"></div>\n",
              "            <script type=\"text/javascript\">\n",
              "                \n",
              "                    window.PLOTLYENV=window.PLOTLYENV || {};\n",
              "                    \n",
              "                if (document.getElementById(\"479d2695-a16b-4cb6-85a8-3f02027c4399\")) {\n",
              "                    Plotly.newPlot(\n",
              "                        '479d2695-a16b-4cb6-85a8-3f02027c4399',\n",
              "                        [{\"mode\": \"lines\", \"name\": \"Training Loss\", \"type\": \"scatter\", \"x\": [0, 1, 2, 3, 4, 5, 6, 7, 8, 9, 10, 11, 12, 13, 14, 15, 16, 17, 18, 19], \"y\": [1.0351992845535278, 0.7007544040679932, 0.5283851623535156, 0.40841782093048096, 0.30663689970970154, 0.2538207471370697, 0.21645113825798035, 0.20665612816810608, 0.15834133327007294, 0.1606082171201706, 0.13261988759040833, 0.12064900994300842, 0.09916979819536209, 0.10648100823163986, 0.08138930797576904, 0.08004394173622131, 0.0792502835392952, 0.06847245991230011, 0.058317527174949646, 0.06322796642780304]}, {\"mode\": \"lines\", \"name\": \"Validation Loss\", \"type\": \"scatter\", \"x\": [0, 1, 2, 3, 4, 5, 6, 7, 8, 9, 10, 11, 12, 13, 14, 15, 16, 17, 18, 19], \"y\": [0.9327695965766907, 1.5049424171447754, 2.1839611530303955, 2.8243329524993896, 3.3644449710845947, 3.79209303855896, 4.099557399749756, 4.297083854675293, 4.384133815765381, 4.394763946533203, 4.339666843414307, 4.234752655029297, 4.0883331298828125, 3.9154140949249268, 3.729074239730835, 3.5394644737243652, 3.3503661155700684, 3.158540725708008, 2.962430477142334, 2.7740161418914795]}],\n",
              "                        {\"template\": {\"data\": {\"bar\": [{\"error_x\": {\"color\": \"#2a3f5f\"}, \"error_y\": {\"color\": \"#2a3f5f\"}, \"marker\": {\"line\": {\"color\": \"#E5ECF6\", \"width\": 0.5}}, \"type\": \"bar\"}], \"barpolar\": [{\"marker\": {\"line\": {\"color\": \"#E5ECF6\", \"width\": 0.5}}, \"type\": \"barpolar\"}], \"carpet\": [{\"aaxis\": {\"endlinecolor\": \"#2a3f5f\", \"gridcolor\": \"white\", \"linecolor\": \"white\", \"minorgridcolor\": \"white\", \"startlinecolor\": \"#2a3f5f\"}, \"baxis\": {\"endlinecolor\": \"#2a3f5f\", \"gridcolor\": \"white\", \"linecolor\": \"white\", \"minorgridcolor\": \"white\", \"startlinecolor\": \"#2a3f5f\"}, \"type\": \"carpet\"}], \"choropleth\": [{\"colorbar\": {\"outlinewidth\": 0, \"ticks\": \"\"}, \"type\": \"choropleth\"}], \"contour\": [{\"colorbar\": {\"outlinewidth\": 0, \"ticks\": \"\"}, \"colorscale\": [[0.0, \"#0d0887\"], [0.1111111111111111, \"#46039f\"], [0.2222222222222222, \"#7201a8\"], [0.3333333333333333, \"#9c179e\"], [0.4444444444444444, \"#bd3786\"], [0.5555555555555556, \"#d8576b\"], [0.6666666666666666, \"#ed7953\"], [0.7777777777777778, \"#fb9f3a\"], [0.8888888888888888, \"#fdca26\"], [1.0, \"#f0f921\"]], \"type\": \"contour\"}], \"contourcarpet\": [{\"colorbar\": {\"outlinewidth\": 0, \"ticks\": \"\"}, \"type\": \"contourcarpet\"}], \"heatmap\": [{\"colorbar\": {\"outlinewidth\": 0, \"ticks\": \"\"}, \"colorscale\": [[0.0, \"#0d0887\"], [0.1111111111111111, \"#46039f\"], [0.2222222222222222, \"#7201a8\"], [0.3333333333333333, \"#9c179e\"], [0.4444444444444444, \"#bd3786\"], [0.5555555555555556, \"#d8576b\"], [0.6666666666666666, \"#ed7953\"], [0.7777777777777778, \"#fb9f3a\"], [0.8888888888888888, \"#fdca26\"], [1.0, \"#f0f921\"]], \"type\": \"heatmap\"}], \"heatmapgl\": [{\"colorbar\": {\"outlinewidth\": 0, \"ticks\": \"\"}, \"colorscale\": [[0.0, \"#0d0887\"], [0.1111111111111111, \"#46039f\"], [0.2222222222222222, \"#7201a8\"], [0.3333333333333333, \"#9c179e\"], [0.4444444444444444, \"#bd3786\"], [0.5555555555555556, \"#d8576b\"], [0.6666666666666666, \"#ed7953\"], [0.7777777777777778, \"#fb9f3a\"], [0.8888888888888888, \"#fdca26\"], [1.0, \"#f0f921\"]], \"type\": \"heatmapgl\"}], \"histogram\": [{\"marker\": {\"colorbar\": {\"outlinewidth\": 0, \"ticks\": \"\"}}, \"type\": \"histogram\"}], \"histogram2d\": [{\"colorbar\": {\"outlinewidth\": 0, \"ticks\": \"\"}, \"colorscale\": [[0.0, \"#0d0887\"], [0.1111111111111111, \"#46039f\"], [0.2222222222222222, \"#7201a8\"], [0.3333333333333333, \"#9c179e\"], [0.4444444444444444, \"#bd3786\"], [0.5555555555555556, \"#d8576b\"], [0.6666666666666666, \"#ed7953\"], [0.7777777777777778, \"#fb9f3a\"], [0.8888888888888888, \"#fdca26\"], [1.0, \"#f0f921\"]], \"type\": \"histogram2d\"}], \"histogram2dcontour\": [{\"colorbar\": {\"outlinewidth\": 0, \"ticks\": \"\"}, \"colorscale\": [[0.0, \"#0d0887\"], [0.1111111111111111, \"#46039f\"], [0.2222222222222222, \"#7201a8\"], [0.3333333333333333, \"#9c179e\"], [0.4444444444444444, \"#bd3786\"], [0.5555555555555556, \"#d8576b\"], [0.6666666666666666, \"#ed7953\"], [0.7777777777777778, \"#fb9f3a\"], [0.8888888888888888, \"#fdca26\"], [1.0, \"#f0f921\"]], \"type\": \"histogram2dcontour\"}], \"mesh3d\": [{\"colorbar\": {\"outlinewidth\": 0, \"ticks\": \"\"}, \"type\": \"mesh3d\"}], \"parcoords\": [{\"line\": {\"colorbar\": {\"outlinewidth\": 0, \"ticks\": \"\"}}, \"type\": \"parcoords\"}], \"pie\": [{\"automargin\": true, \"type\": \"pie\"}], \"scatter\": [{\"marker\": {\"colorbar\": {\"outlinewidth\": 0, \"ticks\": \"\"}}, \"type\": \"scatter\"}], \"scatter3d\": [{\"line\": {\"colorbar\": {\"outlinewidth\": 0, \"ticks\": \"\"}}, \"marker\": {\"colorbar\": {\"outlinewidth\": 0, \"ticks\": \"\"}}, \"type\": \"scatter3d\"}], \"scattercarpet\": [{\"marker\": {\"colorbar\": {\"outlinewidth\": 0, \"ticks\": \"\"}}, \"type\": \"scattercarpet\"}], \"scattergeo\": [{\"marker\": {\"colorbar\": {\"outlinewidth\": 0, \"ticks\": \"\"}}, \"type\": \"scattergeo\"}], \"scattergl\": [{\"marker\": {\"colorbar\": {\"outlinewidth\": 0, \"ticks\": \"\"}}, \"type\": \"scattergl\"}], \"scattermapbox\": [{\"marker\": {\"colorbar\": {\"outlinewidth\": 0, \"ticks\": \"\"}}, \"type\": \"scattermapbox\"}], \"scatterpolar\": [{\"marker\": {\"colorbar\": {\"outlinewidth\": 0, \"ticks\": \"\"}}, \"type\": \"scatterpolar\"}], \"scatterpolargl\": [{\"marker\": {\"colorbar\": {\"outlinewidth\": 0, \"ticks\": \"\"}}, \"type\": \"scatterpolargl\"}], \"scatterternary\": [{\"marker\": {\"colorbar\": {\"outlinewidth\": 0, \"ticks\": \"\"}}, \"type\": \"scatterternary\"}], \"surface\": [{\"colorbar\": {\"outlinewidth\": 0, \"ticks\": \"\"}, \"colorscale\": [[0.0, \"#0d0887\"], [0.1111111111111111, \"#46039f\"], [0.2222222222222222, \"#7201a8\"], [0.3333333333333333, \"#9c179e\"], [0.4444444444444444, \"#bd3786\"], [0.5555555555555556, \"#d8576b\"], [0.6666666666666666, \"#ed7953\"], [0.7777777777777778, \"#fb9f3a\"], [0.8888888888888888, \"#fdca26\"], [1.0, \"#f0f921\"]], \"type\": \"surface\"}], \"table\": [{\"cells\": {\"fill\": {\"color\": \"#EBF0F8\"}, \"line\": {\"color\": \"white\"}}, \"header\": {\"fill\": {\"color\": \"#C8D4E3\"}, \"line\": {\"color\": \"white\"}}, \"type\": \"table\"}]}, \"layout\": {\"annotationdefaults\": {\"arrowcolor\": \"#2a3f5f\", \"arrowhead\": 0, \"arrowwidth\": 1}, \"coloraxis\": {\"colorbar\": {\"outlinewidth\": 0, \"ticks\": \"\"}}, \"colorscale\": {\"diverging\": [[0, \"#8e0152\"], [0.1, \"#c51b7d\"], [0.2, \"#de77ae\"], [0.3, \"#f1b6da\"], [0.4, \"#fde0ef\"], [0.5, \"#f7f7f7\"], [0.6, \"#e6f5d0\"], [0.7, \"#b8e186\"], [0.8, \"#7fbc41\"], [0.9, \"#4d9221\"], [1, \"#276419\"]], \"sequential\": [[0.0, \"#0d0887\"], [0.1111111111111111, \"#46039f\"], [0.2222222222222222, \"#7201a8\"], [0.3333333333333333, \"#9c179e\"], [0.4444444444444444, \"#bd3786\"], [0.5555555555555556, \"#d8576b\"], [0.6666666666666666, \"#ed7953\"], [0.7777777777777778, \"#fb9f3a\"], [0.8888888888888888, \"#fdca26\"], [1.0, \"#f0f921\"]], \"sequentialminus\": [[0.0, \"#0d0887\"], [0.1111111111111111, \"#46039f\"], [0.2222222222222222, \"#7201a8\"], [0.3333333333333333, \"#9c179e\"], [0.4444444444444444, \"#bd3786\"], [0.5555555555555556, \"#d8576b\"], [0.6666666666666666, \"#ed7953\"], [0.7777777777777778, \"#fb9f3a\"], [0.8888888888888888, \"#fdca26\"], [1.0, \"#f0f921\"]]}, \"colorway\": [\"#636efa\", \"#EF553B\", \"#00cc96\", \"#ab63fa\", \"#FFA15A\", \"#19d3f3\", \"#FF6692\", \"#B6E880\", \"#FF97FF\", \"#FECB52\"], \"font\": {\"color\": \"#2a3f5f\"}, \"geo\": {\"bgcolor\": \"white\", \"lakecolor\": \"white\", \"landcolor\": \"#E5ECF6\", \"showlakes\": true, \"showland\": true, \"subunitcolor\": \"white\"}, \"hoverlabel\": {\"align\": \"left\"}, \"hovermode\": \"closest\", \"mapbox\": {\"style\": \"light\"}, \"paper_bgcolor\": \"white\", \"plot_bgcolor\": \"#E5ECF6\", \"polar\": {\"angularaxis\": {\"gridcolor\": \"white\", \"linecolor\": \"white\", \"ticks\": \"\"}, \"bgcolor\": \"#E5ECF6\", \"radialaxis\": {\"gridcolor\": \"white\", \"linecolor\": \"white\", \"ticks\": \"\"}}, \"scene\": {\"xaxis\": {\"backgroundcolor\": \"#E5ECF6\", \"gridcolor\": \"white\", \"gridwidth\": 2, \"linecolor\": \"white\", \"showbackground\": true, \"ticks\": \"\", \"zerolinecolor\": \"white\"}, \"yaxis\": {\"backgroundcolor\": \"#E5ECF6\", \"gridcolor\": \"white\", \"gridwidth\": 2, \"linecolor\": \"white\", \"showbackground\": true, \"ticks\": \"\", \"zerolinecolor\": \"white\"}, \"zaxis\": {\"backgroundcolor\": \"#E5ECF6\", \"gridcolor\": \"white\", \"gridwidth\": 2, \"linecolor\": \"white\", \"showbackground\": true, \"ticks\": \"\", \"zerolinecolor\": \"white\"}}, \"shapedefaults\": {\"line\": {\"color\": \"#2a3f5f\"}}, \"ternary\": {\"aaxis\": {\"gridcolor\": \"white\", \"linecolor\": \"white\", \"ticks\": \"\"}, \"baxis\": {\"gridcolor\": \"white\", \"linecolor\": \"white\", \"ticks\": \"\"}, \"bgcolor\": \"#E5ECF6\", \"caxis\": {\"gridcolor\": \"white\", \"linecolor\": \"white\", \"ticks\": \"\"}}, \"title\": {\"x\": 0.05}, \"xaxis\": {\"automargin\": true, \"gridcolor\": \"white\", \"linecolor\": \"white\", \"ticks\": \"\", \"title\": {\"standoff\": 15}, \"zerolinecolor\": \"white\", \"zerolinewidth\": 2}, \"yaxis\": {\"automargin\": true, \"gridcolor\": \"white\", \"linecolor\": \"white\", \"ticks\": \"\", \"title\": {\"standoff\": 15}, \"zerolinecolor\": \"white\", \"zerolinewidth\": 2}}}},\n",
              "                        {\"responsive\": true}\n",
              "                    ).then(function(){\n",
              "                            \n",
              "var gd = document.getElementById('479d2695-a16b-4cb6-85a8-3f02027c4399');\n",
              "var x = new MutationObserver(function (mutations, observer) {{\n",
              "        var display = window.getComputedStyle(gd).display;\n",
              "        if (!display || display === 'none') {{\n",
              "            console.log([gd, 'removed!']);\n",
              "            Plotly.purge(gd);\n",
              "            observer.disconnect();\n",
              "        }}\n",
              "}});\n",
              "\n",
              "// Listen for the removal of the full notebook cells\n",
              "var notebookContainer = gd.closest('#notebook-container');\n",
              "if (notebookContainer) {{\n",
              "    x.observe(notebookContainer, {childList: true});\n",
              "}}\n",
              "\n",
              "// Listen for the clearing of the current output cell\n",
              "var outputEl = gd.closest('.output');\n",
              "if (outputEl) {{\n",
              "    x.observe(outputEl, {childList: true});\n",
              "}}\n",
              "\n",
              "                        })\n",
              "                };\n",
              "                \n",
              "            </script>\n",
              "        </div>\n",
              "</body>\n",
              "</html>"
            ]
          },
          "metadata": {
            "tags": []
          }
        }
      ]
    },
    {
      "cell_type": "code",
      "metadata": {
        "id": "JqsKnDmt7TSv"
      },
      "source": [
        "import pandas as pd\n",
        "import numpy as np\n",
        "import pickle\n",
        "import nltk\n",
        "from nltk.tokenize import TweetTokenizer\n",
        "\n",
        "from tqdm import  tqdm\n",
        "import json\n",
        "import re\n",
        "import os\n",
        "import string\n",
        "import argparse\n",
        "import sys\n",
        "import torch\n",
        "\n",
        "TRANSFORMER_FILE = PATH+ '/transformers.p'\n",
        "MODEL_FILE = '/content/drive/MyDrive/minor-project/best_model.pt'\n",
        "\n",
        "class PANDatasetIterator(torch.utils.data.IterableDataset):\n",
        "\n",
        "    def __init__(self, f_in, transformer, scaler):\n",
        "        self.f_in = f_in\n",
        "        self.transformer = transformer\n",
        "        self.scaler = scaler\n",
        "\n",
        "    def mapper(self, line):\n",
        "        d = json.loads(line)\n",
        "       \n",
        "        x1 = scaler.transform(transformer.transform([prepare_entry(d['pair'][0])]).todense())\n",
        "        x2 = scaler.transform(transformer.transform([prepare_entry(d['pair'][1])]).todense())\n",
        "        x = np.abs(x1 - x2)[0, :].astype('float32')\n",
        "        return x, d['id']\n",
        "    \n",
        "\n",
        "    def __iter__(self):\n",
        "        f_itr = open(self.f_in, 'r')\n",
        "        return map(self.mapper, f_itr)\n",
        "    \n",
        "class Args:\n",
        "    i= PATH\n",
        "    o= PATH\n",
        "\n",
        "\n",
        "args=Args()\n",
        "print(args.i)\n",
        "    \n",
        "    # validate:\n",
        "if not args.i:\n",
        "    raise ValueError('Eval dir path is required')\n",
        "if not args.o:\n",
        "    raise ValueError('Output dir path is required')\n",
        "        \n",
        "        \n",
        "input_file = os.path.join(args.i, 'val_dataset.jsonl')\n",
        "output_file = os.path.join(args.o, 'out.jsonl')\n",
        "print(\"Writing answers to:\", output_file , file=sys.stderr)\n",
        "    \n",
        "with open(TRANSFORMER_FILE, 'rb') as f:\n",
        "    transformer, scaler = pickle.load(f)\n",
        "\n",
        "with open(MODEL_FILE, 'rb') as f:\n",
        "    best_model = torch.load(f)\n",
        "    \n",
        "device = torch.device('cpu')\n",
        "ds = PANDatasetIterator(input_file, transformer, scaler)\n",
        "test_loader = torch.utils.data.DataLoader(dataset=ds, batch_size=1000)\n",
        "\n",
        "fout = open(output_file, 'a')\n",
        "c = 0\n",
        "with torch.no_grad():\n",
        "    for x, ids in test_loader:\n",
        "        x = x.to(device)\n",
        "        outputs = best_model(x)\n",
        "        probs = outputs.numpy()[:, 0].astype(float)\n",
        "\n",
        "        for i in range(len(ids)):\n",
        "            d = {\n",
        "                'id': ids[i],\n",
        "                'value': probs[i]\n",
        "            }\n",
        "            json.dump(d, fout)\n",
        "            fout.write('\\n')\n",
        "        c += len(ids)\n",
        "        print(c, file=sys.stderr)\n",
        "        print('Written to', output_file, flush=True, file=sys.stderr)\n",
        "\n",
        "fout.close()"
      ],
      "execution_count": null,
      "outputs": []
    },
    {
      "cell_type": "code",
      "metadata": {
        "id": "fkSRZ2gkRx16"
      },
      "source": [
        "import pandas as pd\n",
        "import numpy as np\n",
        "import pickle\n",
        "import nltk\n",
        "from nltk.tokenize import TweetTokenizer\n",
        "\n",
        "from tqdm import  tqdm\n",
        "import json\n",
        "import re\n",
        "import os\n",
        "import string\n",
        "import argparse\n",
        "import sys\n",
        "import torch\n",
        "\n",
        "TRANSFORMER_FILE = PATH+ '/transformers.p'\n",
        "MODEL_FILE = '/content/drive/MyDrive/minor-project/best_model.pt'\n",
        "\n",
        "class PANDatasetIterator(torch.utils.data.IterableDataset):\n",
        "\n",
        "    def __init__(self, f_in, transformer, scaler):\n",
        "        self.f_in = f_in\n",
        "        self.transformer = transformer\n",
        "        self.scaler = scaler\n",
        "\n",
        "    def mapper(self, line):\n",
        "        d = json.loads(line)\n",
        "       \n",
        "        x1 = scaler.transform(transformer.transform([prepare_entry(d['pair'][0])]).todense())\n",
        "        x2 = scaler.transform(transformer.transform([prepare_entry(d['pair'][1])]).todense())\n",
        "        x = np.abs(x1 - x2)[0, :].astype('float32')\n",
        "        return x, d['id']\n",
        "    \n",
        "\n",
        "    def __iter__(self):\n",
        "        f_itr = open(self.f_in, 'r')\n",
        "        return map(self.mapper, f_itr)\n",
        "    \n",
        "class Args:\n",
        "    i= PATH\n",
        "    o= PATH\n",
        "\n",
        "\n",
        "args=Args()\n",
        "print(args.i)\n",
        "    \n",
        "    # validate:\n",
        "if not args.i:\n",
        "    raise ValueError('Eval dir path is required')\n",
        "if not args.o:\n",
        "    raise ValueError('Output dir path is required')\n",
        "        \n",
        "        \n",
        "input_file = os.path.join(args.i, 'val_dataset.jsonl')\n",
        "output_file = os.path.join(args.o, 'op_ground_truth.jsonl')\n",
        "print(\"Writing answers to:\", output_file , file=sys.stderr)\n",
        "    \n",
        "with open(TRANSFORMER_FILE, 'rb') as f:\n",
        "    transformer, scaler = pickle.load(f)\n",
        "\n",
        "with open(MODEL_FILE, 'rb') as f:\n",
        "    best_model = torch.load(f)\n",
        "    \n",
        "device = torch.device('cpu')\n",
        "ds = PANDatasetIterator(input_file, transformer, scaler)\n",
        "test_loader = torch.utils.data.DataLoader(dataset=ds, batch_size=1000)\n",
        "\n",
        "fout = open(output_file, 'a')\n",
        "c = 0\n",
        "with torch.no_grad():\n",
        "    for x, ids in test_loader:\n",
        "        x = x.to(device)\n",
        "        print(x)\n",
        "        # outputs = best_model(x)\n",
        "        probs = x.numpy()[:, 0].astype(float)\n",
        "\n",
        "        for i in range(len(ids)):\n",
        "            d = {\n",
        "                'id': ids[i],\n",
        "                'value': probs[i]\n",
        "            }\n",
        "            json.dump(d, fout)\n",
        "            fout.write('\\n')\n",
        "        c += len(ids)\n",
        "        print(c, file=sys.stderr)\n",
        "        print('Written to', output_file, flush=True, file=sys.stderr)\n",
        "\n",
        "fout.close()"
      ],
      "execution_count": null,
      "outputs": []
    },
    {
      "cell_type": "code",
      "metadata": {
        "colab": {
          "base_uri": "https://localhost:8080/"
        },
        "id": "47OEkZHNlMdp",
        "outputId": "f200fe4c-e254-4cea-af7b-1d37b5ef1137"
      },
      "source": [
        "print(actual)\n",
        "print(preds)\n",
        "# confusion_matrix(actual, preds)"
      ],
      "execution_count": null,
      "outputs": [
        {
          "output_type": "stream",
          "text": [
            "[array([1.], dtype=float32), array([1.], dtype=float32), array([1.], dtype=float32), array([1.], dtype=float32), array([1.], dtype=float32), array([1.], dtype=float32), array([1.], dtype=float32), array([1.], dtype=float32), array([1.], dtype=float32), array([1.], dtype=float32), array([1.], dtype=float32), array([1.], dtype=float32), array([1.], dtype=float32), array([1.], dtype=float32), array([1.], dtype=float32), array([1.], dtype=float32), array([1.], dtype=float32), array([1.], dtype=float32), array([1.], dtype=float32), array([1.], dtype=float32), array([1.], dtype=float32), array([1.], dtype=float32), array([1.], dtype=float32), array([1.], dtype=float32), array([1.], dtype=float32), array([1.], dtype=float32), array([1.], dtype=float32), array([1.], dtype=float32), array([1.], dtype=float32), array([1.], dtype=float32), array([1.], dtype=float32), array([1.], dtype=float32), array([1.], dtype=float32), array([1.], dtype=float32), array([1.], dtype=float32), array([1.], dtype=float32), array([1.], dtype=float32), array([1.], dtype=float32), array([1.], dtype=float32), array([1.], dtype=float32), array([1.], dtype=float32), array([1.], dtype=float32), array([1.], dtype=float32), array([1.], dtype=float32), array([1.], dtype=float32), array([1.], dtype=float32), array([1.], dtype=float32), array([1.], dtype=float32), array([1.], dtype=float32), array([1.], dtype=float32), array([1.], dtype=float32), array([1.], dtype=float32), array([1.], dtype=float32), array([1.], dtype=float32), array([1.], dtype=float32), array([1.], dtype=float32), array([1.], dtype=float32), array([1.], dtype=float32), array([1.], dtype=float32), array([1.], dtype=float32), array([1.], dtype=float32), array([1.], dtype=float32), array([1.], dtype=float32), array([1.], dtype=float32), array([1.], dtype=float32), array([1.], dtype=float32), array([1.], dtype=float32), array([1.], dtype=float32), array([1.], dtype=float32), array([1.], dtype=float32), array([1.], dtype=float32), array([1.], dtype=float32), array([1.], dtype=float32), array([1.], dtype=float32), array([1.], dtype=float32), array([1.], dtype=float32), array([1.], dtype=float32), array([1.], dtype=float32), array([1.], dtype=float32), array([1.], dtype=float32), array([0.], dtype=float32), array([0.], dtype=float32), array([0.], dtype=float32), array([0.], dtype=float32), array([0.], dtype=float32), array([0.], dtype=float32), array([0.], dtype=float32), array([0.], dtype=float32), array([0.], dtype=float32), array([0.], dtype=float32), array([0.], dtype=float32), array([0.], dtype=float32), array([0.], dtype=float32), array([0.], dtype=float32), array([0.], dtype=float32), array([0.], dtype=float32), array([0.], dtype=float32), array([0.], dtype=float32), array([0.], dtype=float32), array([0.], dtype=float32), array([0.], dtype=float32), array([0.], dtype=float32), array([0.], dtype=float32), array([0.], dtype=float32), array([0.], dtype=float32), array([0.], dtype=float32), array([0.], dtype=float32), array([0.], dtype=float32), array([0.], dtype=float32), array([0.], dtype=float32), array([0.], dtype=float32), array([0.], dtype=float32), array([0.], dtype=float32), array([0.], dtype=float32), array([0.], dtype=float32), array([0.], dtype=float32), array([0.], dtype=float32), array([0.], dtype=float32), array([0.], dtype=float32), array([0.], dtype=float32), array([0.], dtype=float32), array([0.], dtype=float32), array([0.], dtype=float32), array([0.], dtype=float32), array([0.], dtype=float32), array([0.], dtype=float32), array([0.], dtype=float32), array([0.], dtype=float32), array([0.], dtype=float32), array([0.], dtype=float32), array([0.], dtype=float32), array([0.], dtype=float32), array([0.], dtype=float32), array([0.], dtype=float32), array([0.], dtype=float32), array([0.], dtype=float32), array([0.], dtype=float32), array([0.], dtype=float32), array([0.], dtype=float32), array([0.], dtype=float32), array([0.], dtype=float32), array([0.], dtype=float32), array([0.], dtype=float32), array([0.], dtype=float32), array([0.], dtype=float32), array([0.], dtype=float32), array([0.], dtype=float32), array([0.], dtype=float32), array([0.], dtype=float32), array([0.], dtype=float32), array([0.], dtype=float32), array([0.], dtype=float32)]\n",
            "[0.0012357256, 0.013709257, 0.0017302633, 0.0013309821, 0.0076423185, 7.710941e-05, 0.024854727, 0.011818967, 0.295964, 0.014890562, 0.0013208921, 0.001802504, 0.006770697, 0.023604931, 0.020027194, 0.010797186, 0.00014519122, 0.0005616048, 0.0071840812, 1.5040418e-05, 0.0017375197, 0.0040996973, 0.002970236, 0.2657637, 0.15188347, 0.20775157, 0.02426073, 0.19884309, 0.008688528, 0.00055100984, 0.017764041, 0.0023353202, 0.050632216, 0.0009718302, 0.00010639396, 0.0064196507, 0.008170824, 0.0002823677, 0.0022976769, 0.009751094, 0.00031178034, 0.00049423164, 0.009860083, 0.008150665, 0.0074823336, 0.015160772, 0.001968985, 0.009587485, 0.003154294, 0.016105965, 0.0008149365, 0.009975223, 0.00081498426, 0.0012342036, 0.0063311476, 0.0021748792, 0.0013966245, 0.0053790775, 0.009366958, 0.0038094167, 0.006307917, 0.0006274508, 0.00066728203, 0.005249667, 0.0008798041, 0.13111544, 0.09538884, 0.10023148, 0.0023559493, 0.00925529, 0.024035404, 0.083321795, 0.02681613, 0.0068722246, 0.01926965, 0.02563469, 0.0009475342, 0.00081434957, 0.02428292, 0.0027156738, 0.00011983145, 1.5159276e-05, 2.7991637e-05, 0.00012125133, 0.0013616062, 2.7811713e-05, 6.1607498e-06, 0.00096557604, 4.66119e-05, 0.00026666952, 0.00029424456, 1.8605291e-05, 3.2311083e-05, 0.000121720965, 1.0112337e-05, 1.8033229e-06, 4.577543e-05, 2.0440482e-05, 8.248554e-06, 0.00039676446, 0.00034046714, 4.7904476e-05, 0.00022617543, 0.0015952385, 0.0001391606, 1.3399272e-05, 5.9994476e-05, 0.0003755109, 6.516909e-06, 0.00025986962, 9.039969e-06, 8.322894e-06, 8.6213686e-07, 0.00014506419, 0.0002576247, 4.3569257e-06, 0.0005210303, 0.007744686, 1.8814299e-05, 0.00013959507, 4.2690144e-06, 0.0032873673, 0.00076084066, 0.00047786415, 0.0031905884, 1.0816621e-05, 0.0001548828, 0.0015866493, 0.00028655096, 0.0020111727, 3.3923603e-05, 0.00028674252, 0.0031116046, 0.00014968205, 1.1821402e-06, 2.2965145e-05, 0.00014903731, 0.0011863671, 1.8453376e-05, 0.00014205303, 0.0017804413, 1.0910494e-05, 9.0562084e-05, 0.0002125689, 5.237834e-05, 0.00027539567, 1.9660456e-06, 8.546192e-06, 8.054801e-05, 5.9770395e-05, 0.020359987, 0.00019583559]\n"
          ],
          "name": "stdout"
        }
      ]
    },
    {
      "cell_type": "code",
      "metadata": {
        "colab": {
          "base_uri": "https://localhost:8080/",
          "height": 1000
        },
        "id": "6AQcYgwSC5T1",
        "outputId": "906a7205-e8e7-4f9b-ca6d-88376bd32e64"
      },
      "source": [
        "fpr, tpr, thresh = roc_curve(actual, preds)\n",
        "roc_auc = auc(fpr, tpr)\n",
        "fig = go.Figure()\n",
        "fig.add_trace(go.Scatter(\n",
        "    x = fpr,\n",
        "    y = tpr,\n",
        "    text = thresh,\n",
        "    mode='lines'\n",
        "))\n",
        "fig.show(renderer=\"colab\")\n",
        "print(roc_auc)\n",
        " \n",
        " \n",
        "print('P-R Curve')\n",
        "precision, recall, thresholds = precision_recall_curve(actual, preds)\n",
        "fig = go.Figure()\n",
        "fig.add_trace(go.Scatter(\n",
        "    x=recall,\n",
        "    y=precision,\n",
        "    text=np.array(thresholds).astype(str)\n",
        "))\n",
        "fig.show(renderer=\"colab\")\n",
        "print('AUC: ', auc(recall, precision))"
      ],
      "execution_count": null,
      "outputs": [
        {
          "output_type": "display_data",
          "data": {
            "text/html": [
              "<html>\n",
              "<head><meta charset=\"utf-8\" /></head>\n",
              "<body>\n",
              "    <div>\n",
              "            <script src=\"https://cdnjs.cloudflare.com/ajax/libs/mathjax/2.7.5/MathJax.js?config=TeX-AMS-MML_SVG\"></script><script type=\"text/javascript\">if (window.MathJax) {MathJax.Hub.Config({SVG: {font: \"STIX-Web\"}});}</script>\n",
              "                <script type=\"text/javascript\">window.PlotlyConfig = {MathJaxConfig: 'local'};</script>\n",
              "        <script src=\"https://cdn.plot.ly/plotly-latest.min.js\"></script>    \n",
              "            <div id=\"ac0ebc8a-66a0-4b26-b00c-bf4c51367237\" class=\"plotly-graph-div\" style=\"height:525px; width:100%;\"></div>\n",
              "            <script type=\"text/javascript\">\n",
              "                \n",
              "                    window.PLOTLYENV=window.PLOTLYENV || {};\n",
              "                    \n",
              "                if (document.getElementById(\"ac0ebc8a-66a0-4b26-b00c-bf4c51367237\")) {\n",
              "                    Plotly.newPlot(\n",
              "                        'ac0ebc8a-66a0-4b26-b00c-bf4c51367237',\n",
              "                        [{\"mode\": \"lines\", \"text\": [1.295964002609253, 0.29596400260925293, 0.02360493130981922, 0.020359987393021584, 0.00815066508948803, 0.007744686212390661, 0.0038094166666269302, 0.003190588438883424, 0.0031542940996587276, 0.0031116046011447906, 0.002174879191443324, 0.002011172706261277, 0.001802503946237266, 0.0017804412636905909, 0.0017302633496001363, 0.0015866493340581656, 0.001396624487824738, 0.001361606176942587, 0.001234203577041626, 0.0011863671243190765, 0.0009718302171677351, 0.0009655760368332267, 0.0008143495651893318, 0.0007608406594954431, 0.0005510098417289555, 0.0005210302770137787, 0.000494231644552201, 0.0003404671442694962, 0.00031178034259937704, 0.000286550959572196, 0.00028236769139766693, 0.00014903731062076986, 0.00014519122487399727, 0.00011983144941041246, 0.00010639396350597963, 8.054800855461508e-05, 7.710941281402484e-05, 1.5159275790210813e-05, 1.5040417565614916e-05, 8.62136857904261e-07], \"type\": \"scatter\", \"x\": [0.0, 0.0, 0.0, 0.013888888888888888, 0.013888888888888888, 0.027777777777777776, 0.027777777777777776, 0.05555555555555555, 0.05555555555555555, 0.06944444444444445, 0.06944444444444445, 0.08333333333333333, 0.08333333333333333, 0.09722222222222222, 0.09722222222222222, 0.125, 0.125, 0.1388888888888889, 0.1388888888888889, 0.1527777777777778, 0.1527777777777778, 0.16666666666666666, 0.16666666666666666, 0.18055555555555555, 0.18055555555555555, 0.19444444444444445, 0.19444444444444445, 0.25, 0.25, 0.2916666666666667, 0.2916666666666667, 0.4305555555555556, 0.4305555555555556, 0.5277777777777778, 0.5277777777777778, 0.5555555555555556, 0.5555555555555556, 0.7777777777777778, 0.7777777777777778, 1.0], \"y\": [0.0, 0.0125, 0.2125, 0.2125, 0.4375, 0.4375, 0.5875, 0.5875, 0.6, 0.6, 0.675, 0.675, 0.7, 0.7, 0.725, 0.725, 0.7375, 0.7375, 0.7875, 0.7875, 0.8, 0.8, 0.8625, 0.8625, 0.9125, 0.9125, 0.925, 0.925, 0.9375, 0.9375, 0.95, 0.95, 0.9625, 0.9625, 0.975, 0.975, 0.9875, 0.9875, 1.0, 1.0]}],\n",
              "                        {\"template\": {\"data\": {\"bar\": [{\"error_x\": {\"color\": \"#2a3f5f\"}, \"error_y\": {\"color\": \"#2a3f5f\"}, \"marker\": {\"line\": {\"color\": \"#E5ECF6\", \"width\": 0.5}}, \"type\": \"bar\"}], \"barpolar\": [{\"marker\": {\"line\": {\"color\": \"#E5ECF6\", \"width\": 0.5}}, \"type\": \"barpolar\"}], \"carpet\": [{\"aaxis\": {\"endlinecolor\": \"#2a3f5f\", \"gridcolor\": \"white\", \"linecolor\": \"white\", \"minorgridcolor\": \"white\", \"startlinecolor\": \"#2a3f5f\"}, \"baxis\": {\"endlinecolor\": \"#2a3f5f\", \"gridcolor\": \"white\", \"linecolor\": \"white\", \"minorgridcolor\": \"white\", \"startlinecolor\": \"#2a3f5f\"}, \"type\": \"carpet\"}], \"choropleth\": [{\"colorbar\": {\"outlinewidth\": 0, \"ticks\": \"\"}, \"type\": \"choropleth\"}], \"contour\": [{\"colorbar\": {\"outlinewidth\": 0, \"ticks\": \"\"}, \"colorscale\": [[0.0, \"#0d0887\"], [0.1111111111111111, \"#46039f\"], [0.2222222222222222, \"#7201a8\"], [0.3333333333333333, \"#9c179e\"], [0.4444444444444444, \"#bd3786\"], [0.5555555555555556, \"#d8576b\"], [0.6666666666666666, \"#ed7953\"], [0.7777777777777778, \"#fb9f3a\"], [0.8888888888888888, \"#fdca26\"], [1.0, \"#f0f921\"]], \"type\": \"contour\"}], \"contourcarpet\": [{\"colorbar\": {\"outlinewidth\": 0, \"ticks\": \"\"}, \"type\": \"contourcarpet\"}], \"heatmap\": [{\"colorbar\": {\"outlinewidth\": 0, \"ticks\": \"\"}, \"colorscale\": [[0.0, \"#0d0887\"], [0.1111111111111111, \"#46039f\"], [0.2222222222222222, \"#7201a8\"], [0.3333333333333333, \"#9c179e\"], [0.4444444444444444, \"#bd3786\"], [0.5555555555555556, \"#d8576b\"], [0.6666666666666666, \"#ed7953\"], [0.7777777777777778, \"#fb9f3a\"], [0.8888888888888888, \"#fdca26\"], [1.0, \"#f0f921\"]], \"type\": \"heatmap\"}], \"heatmapgl\": [{\"colorbar\": {\"outlinewidth\": 0, \"ticks\": \"\"}, \"colorscale\": [[0.0, \"#0d0887\"], [0.1111111111111111, \"#46039f\"], [0.2222222222222222, \"#7201a8\"], [0.3333333333333333, \"#9c179e\"], [0.4444444444444444, \"#bd3786\"], [0.5555555555555556, \"#d8576b\"], [0.6666666666666666, \"#ed7953\"], [0.7777777777777778, \"#fb9f3a\"], [0.8888888888888888, \"#fdca26\"], [1.0, \"#f0f921\"]], \"type\": \"heatmapgl\"}], \"histogram\": [{\"marker\": {\"colorbar\": {\"outlinewidth\": 0, \"ticks\": \"\"}}, \"type\": \"histogram\"}], \"histogram2d\": [{\"colorbar\": {\"outlinewidth\": 0, \"ticks\": \"\"}, \"colorscale\": [[0.0, \"#0d0887\"], [0.1111111111111111, \"#46039f\"], [0.2222222222222222, \"#7201a8\"], [0.3333333333333333, \"#9c179e\"], [0.4444444444444444, \"#bd3786\"], [0.5555555555555556, \"#d8576b\"], [0.6666666666666666, \"#ed7953\"], [0.7777777777777778, \"#fb9f3a\"], [0.8888888888888888, \"#fdca26\"], [1.0, \"#f0f921\"]], \"type\": \"histogram2d\"}], \"histogram2dcontour\": [{\"colorbar\": {\"outlinewidth\": 0, \"ticks\": \"\"}, \"colorscale\": [[0.0, \"#0d0887\"], [0.1111111111111111, \"#46039f\"], [0.2222222222222222, \"#7201a8\"], [0.3333333333333333, \"#9c179e\"], [0.4444444444444444, \"#bd3786\"], [0.5555555555555556, \"#d8576b\"], [0.6666666666666666, \"#ed7953\"], [0.7777777777777778, \"#fb9f3a\"], [0.8888888888888888, \"#fdca26\"], [1.0, \"#f0f921\"]], \"type\": \"histogram2dcontour\"}], \"mesh3d\": [{\"colorbar\": {\"outlinewidth\": 0, \"ticks\": \"\"}, \"type\": \"mesh3d\"}], \"parcoords\": [{\"line\": {\"colorbar\": {\"outlinewidth\": 0, \"ticks\": \"\"}}, \"type\": \"parcoords\"}], \"pie\": [{\"automargin\": true, \"type\": \"pie\"}], \"scatter\": [{\"marker\": {\"colorbar\": {\"outlinewidth\": 0, \"ticks\": \"\"}}, \"type\": \"scatter\"}], \"scatter3d\": [{\"line\": {\"colorbar\": {\"outlinewidth\": 0, \"ticks\": \"\"}}, \"marker\": {\"colorbar\": {\"outlinewidth\": 0, \"ticks\": \"\"}}, \"type\": \"scatter3d\"}], \"scattercarpet\": [{\"marker\": {\"colorbar\": {\"outlinewidth\": 0, \"ticks\": \"\"}}, \"type\": \"scattercarpet\"}], \"scattergeo\": [{\"marker\": {\"colorbar\": {\"outlinewidth\": 0, \"ticks\": \"\"}}, \"type\": \"scattergeo\"}], \"scattergl\": [{\"marker\": {\"colorbar\": {\"outlinewidth\": 0, \"ticks\": \"\"}}, \"type\": \"scattergl\"}], \"scattermapbox\": [{\"marker\": {\"colorbar\": {\"outlinewidth\": 0, \"ticks\": \"\"}}, \"type\": \"scattermapbox\"}], \"scatterpolar\": [{\"marker\": {\"colorbar\": {\"outlinewidth\": 0, \"ticks\": \"\"}}, \"type\": \"scatterpolar\"}], \"scatterpolargl\": [{\"marker\": {\"colorbar\": {\"outlinewidth\": 0, \"ticks\": \"\"}}, \"type\": \"scatterpolargl\"}], \"scatterternary\": [{\"marker\": {\"colorbar\": {\"outlinewidth\": 0, \"ticks\": \"\"}}, \"type\": \"scatterternary\"}], \"surface\": [{\"colorbar\": {\"outlinewidth\": 0, \"ticks\": \"\"}, \"colorscale\": [[0.0, \"#0d0887\"], [0.1111111111111111, \"#46039f\"], [0.2222222222222222, \"#7201a8\"], [0.3333333333333333, \"#9c179e\"], [0.4444444444444444, \"#bd3786\"], [0.5555555555555556, \"#d8576b\"], [0.6666666666666666, \"#ed7953\"], [0.7777777777777778, \"#fb9f3a\"], [0.8888888888888888, \"#fdca26\"], [1.0, \"#f0f921\"]], \"type\": \"surface\"}], \"table\": [{\"cells\": {\"fill\": {\"color\": \"#EBF0F8\"}, \"line\": {\"color\": \"white\"}}, \"header\": {\"fill\": {\"color\": \"#C8D4E3\"}, \"line\": {\"color\": \"white\"}}, \"type\": \"table\"}]}, \"layout\": {\"annotationdefaults\": {\"arrowcolor\": \"#2a3f5f\", \"arrowhead\": 0, \"arrowwidth\": 1}, \"coloraxis\": {\"colorbar\": {\"outlinewidth\": 0, \"ticks\": \"\"}}, \"colorscale\": {\"diverging\": [[0, \"#8e0152\"], [0.1, \"#c51b7d\"], [0.2, \"#de77ae\"], [0.3, \"#f1b6da\"], [0.4, \"#fde0ef\"], [0.5, \"#f7f7f7\"], [0.6, \"#e6f5d0\"], [0.7, \"#b8e186\"], [0.8, \"#7fbc41\"], [0.9, \"#4d9221\"], [1, \"#276419\"]], \"sequential\": [[0.0, \"#0d0887\"], [0.1111111111111111, \"#46039f\"], [0.2222222222222222, \"#7201a8\"], [0.3333333333333333, \"#9c179e\"], [0.4444444444444444, \"#bd3786\"], [0.5555555555555556, \"#d8576b\"], [0.6666666666666666, \"#ed7953\"], [0.7777777777777778, \"#fb9f3a\"], [0.8888888888888888, \"#fdca26\"], [1.0, \"#f0f921\"]], \"sequentialminus\": [[0.0, \"#0d0887\"], [0.1111111111111111, \"#46039f\"], [0.2222222222222222, \"#7201a8\"], [0.3333333333333333, \"#9c179e\"], [0.4444444444444444, \"#bd3786\"], [0.5555555555555556, \"#d8576b\"], [0.6666666666666666, \"#ed7953\"], [0.7777777777777778, \"#fb9f3a\"], [0.8888888888888888, \"#fdca26\"], [1.0, \"#f0f921\"]]}, \"colorway\": [\"#636efa\", \"#EF553B\", \"#00cc96\", \"#ab63fa\", \"#FFA15A\", \"#19d3f3\", \"#FF6692\", \"#B6E880\", \"#FF97FF\", \"#FECB52\"], \"font\": {\"color\": \"#2a3f5f\"}, \"geo\": {\"bgcolor\": \"white\", \"lakecolor\": \"white\", \"landcolor\": \"#E5ECF6\", \"showlakes\": true, \"showland\": true, \"subunitcolor\": \"white\"}, \"hoverlabel\": {\"align\": \"left\"}, \"hovermode\": \"closest\", \"mapbox\": {\"style\": \"light\"}, \"paper_bgcolor\": \"white\", \"plot_bgcolor\": \"#E5ECF6\", \"polar\": {\"angularaxis\": {\"gridcolor\": \"white\", \"linecolor\": \"white\", \"ticks\": \"\"}, \"bgcolor\": \"#E5ECF6\", \"radialaxis\": {\"gridcolor\": \"white\", \"linecolor\": \"white\", \"ticks\": \"\"}}, \"scene\": {\"xaxis\": {\"backgroundcolor\": \"#E5ECF6\", \"gridcolor\": \"white\", \"gridwidth\": 2, \"linecolor\": \"white\", \"showbackground\": true, \"ticks\": \"\", \"zerolinecolor\": \"white\"}, \"yaxis\": {\"backgroundcolor\": \"#E5ECF6\", \"gridcolor\": \"white\", \"gridwidth\": 2, \"linecolor\": \"white\", \"showbackground\": true, \"ticks\": \"\", \"zerolinecolor\": \"white\"}, \"zaxis\": {\"backgroundcolor\": \"#E5ECF6\", \"gridcolor\": \"white\", \"gridwidth\": 2, \"linecolor\": \"white\", \"showbackground\": true, \"ticks\": \"\", \"zerolinecolor\": \"white\"}}, \"shapedefaults\": {\"line\": {\"color\": \"#2a3f5f\"}}, \"ternary\": {\"aaxis\": {\"gridcolor\": \"white\", \"linecolor\": \"white\", \"ticks\": \"\"}, \"baxis\": {\"gridcolor\": \"white\", \"linecolor\": \"white\", \"ticks\": \"\"}, \"bgcolor\": \"#E5ECF6\", \"caxis\": {\"gridcolor\": \"white\", \"linecolor\": \"white\", \"ticks\": \"\"}}, \"title\": {\"x\": 0.05}, \"xaxis\": {\"automargin\": true, \"gridcolor\": \"white\", \"linecolor\": \"white\", \"ticks\": \"\", \"title\": {\"standoff\": 15}, \"zerolinecolor\": \"white\", \"zerolinewidth\": 2}, \"yaxis\": {\"automargin\": true, \"gridcolor\": \"white\", \"linecolor\": \"white\", \"ticks\": \"\", \"title\": {\"standoff\": 15}, \"zerolinecolor\": \"white\", \"zerolinewidth\": 2}}}},\n",
              "                        {\"responsive\": true}\n",
              "                    ).then(function(){\n",
              "                            \n",
              "var gd = document.getElementById('ac0ebc8a-66a0-4b26-b00c-bf4c51367237');\n",
              "var x = new MutationObserver(function (mutations, observer) {{\n",
              "        var display = window.getComputedStyle(gd).display;\n",
              "        if (!display || display === 'none') {{\n",
              "            console.log([gd, 'removed!']);\n",
              "            Plotly.purge(gd);\n",
              "            observer.disconnect();\n",
              "        }}\n",
              "}});\n",
              "\n",
              "// Listen for the removal of the full notebook cells\n",
              "var notebookContainer = gd.closest('#notebook-container');\n",
              "if (notebookContainer) {{\n",
              "    x.observe(notebookContainer, {childList: true});\n",
              "}}\n",
              "\n",
              "// Listen for the clearing of the current output cell\n",
              "var outputEl = gd.closest('.output');\n",
              "if (outputEl) {{\n",
              "    x.observe(outputEl, {childList: true});\n",
              "}}\n",
              "\n",
              "                        })\n",
              "                };\n",
              "                \n",
              "            </script>\n",
              "        </div>\n",
              "</body>\n",
              "</html>"
            ]
          },
          "metadata": {
            "tags": []
          }
        },
        {
          "output_type": "stream",
          "text": [
            "0.9145833333333333\n",
            "P-R Curve\n"
          ],
          "name": "stdout"
        },
        {
          "output_type": "display_data",
          "data": {
            "text/html": [
              "<html>\n",
              "<head><meta charset=\"utf-8\" /></head>\n",
              "<body>\n",
              "    <div>\n",
              "            <script src=\"https://cdnjs.cloudflare.com/ajax/libs/mathjax/2.7.5/MathJax.js?config=TeX-AMS-MML_SVG\"></script><script type=\"text/javascript\">if (window.MathJax) {MathJax.Hub.Config({SVG: {font: \"STIX-Web\"}});}</script>\n",
              "                <script type=\"text/javascript\">window.PlotlyConfig = {MathJaxConfig: 'local'};</script>\n",
              "        <script src=\"https://cdn.plot.ly/plotly-latest.min.js\"></script>    \n",
              "            <div id=\"262585c0-87b6-4586-9812-81d0b853dc71\" class=\"plotly-graph-div\" style=\"height:525px; width:100%;\"></div>\n",
              "            <script type=\"text/javascript\">\n",
              "                \n",
              "                    window.PLOTLYENV=window.PLOTLYENV || {};\n",
              "                    \n",
              "                if (document.getElementById(\"262585c0-87b6-4586-9812-81d0b853dc71\")) {\n",
              "                    Plotly.newPlot(\n",
              "                        '262585c0-87b6-4586-9812-81d0b853dc71',\n",
              "                        [{\"text\": [\"1.5040418e-05\", \"1.5159276e-05\", \"1.8453376e-05\", \"1.8605291e-05\", \"1.8814299e-05\", \"2.0440482e-05\", \"2.2965145e-05\", \"2.7811713e-05\", \"2.7991637e-05\", \"3.2311083e-05\", \"3.3923603e-05\", \"4.577543e-05\", \"4.66119e-05\", \"4.7904476e-05\", \"5.237834e-05\", \"5.9770395e-05\", \"5.9994476e-05\", \"7.710941e-05\", \"8.054801e-05\", \"9.0562084e-05\", \"0.00010639396\", \"0.00011983145\", \"0.00012125133\", \"0.000121720965\", \"0.0001391606\", \"0.00013959507\", \"0.00014205303\", \"0.00014506419\", \"0.00014519122\", \"0.00014903731\", \"0.00014968205\", \"0.0001548828\", \"0.00019583559\", \"0.0002125689\", \"0.00022617543\", \"0.0002576247\", \"0.00025986962\", \"0.00026666952\", \"0.00027539567\", \"0.0002823677\", \"0.00028655096\", \"0.00028674252\", \"0.00029424456\", \"0.00031178034\", \"0.00034046714\", \"0.0003755109\", \"0.00039676446\", \"0.00047786415\", \"0.00049423164\", \"0.0005210303\", \"0.00055100984\", \"0.0005616048\", \"0.0006274508\", \"0.00066728203\", \"0.00076084066\", \"0.00081434957\", \"0.0008149365\", \"0.00081498426\", \"0.0008798041\", \"0.0009475342\", \"0.00096557604\", \"0.0009718302\", \"0.0011863671\", \"0.0012342036\", \"0.0012357256\", \"0.0013208921\", \"0.0013309821\", \"0.0013616062\", \"0.0013966245\", \"0.0015866493\", \"0.0015952385\", \"0.0017302633\", \"0.0017375197\", \"0.0017804413\", \"0.001802504\", \"0.001968985\", \"0.0020111727\", \"0.0021748792\", \"0.0022976769\", \"0.0023353202\", \"0.0023559493\", \"0.0027156738\", \"0.002970236\", \"0.0031116046\", \"0.003154294\", \"0.0031905884\", \"0.0032873673\", \"0.0038094167\", \"0.0040996973\", \"0.005249667\", \"0.0053790775\", \"0.006307917\", \"0.0063311476\", \"0.0064196507\", \"0.006770697\", \"0.0068722246\", \"0.0071840812\", \"0.0074823336\", \"0.0076423185\", \"0.007744686\", \"0.008150665\", \"0.008170824\", \"0.008688528\", \"0.00925529\", \"0.009366958\", \"0.009587485\", \"0.009751094\", \"0.009860083\", \"0.009975223\", \"0.010797186\", \"0.011818967\", \"0.013709257\", \"0.014890562\", \"0.015160772\", \"0.016105965\", \"0.017764041\", \"0.01926965\", \"0.020027194\", \"0.020359987\", \"0.023604931\", \"0.024035404\", \"0.02426073\", \"0.02428292\", \"0.024854727\", \"0.02563469\", \"0.02681613\", \"0.050632216\", \"0.083321795\", \"0.09538884\", \"0.10023148\", \"0.13111544\", \"0.15188347\", \"0.19884309\", \"0.20775157\", \"0.2657637\", \"0.295964\"], \"type\": \"scatter\", \"x\": [1.0, 0.9875, 0.9875, 0.9875, 0.9875, 0.9875, 0.9875, 0.9875, 0.9875, 0.9875, 0.9875, 0.9875, 0.9875, 0.9875, 0.9875, 0.9875, 0.9875, 0.9875, 0.975, 0.975, 0.975, 0.9625, 0.9625, 0.9625, 0.9625, 0.9625, 0.9625, 0.9625, 0.9625, 0.95, 0.95, 0.95, 0.95, 0.95, 0.95, 0.95, 0.95, 0.95, 0.95, 0.95, 0.9375, 0.9375, 0.9375, 0.9375, 0.925, 0.925, 0.925, 0.925, 0.925, 0.9125, 0.9125, 0.9, 0.8875, 0.875, 0.8625, 0.8625, 0.85, 0.8375, 0.825, 0.8125, 0.8, 0.8, 0.7875, 0.7875, 0.775, 0.7625, 0.75, 0.7375, 0.7375, 0.725, 0.725, 0.725, 0.7125, 0.7, 0.7, 0.6875, 0.675, 0.675, 0.6625, 0.65, 0.6375, 0.625, 0.6125, 0.6, 0.6, 0.5875, 0.5875, 0.5875, 0.575, 0.5625, 0.55, 0.5375, 0.525, 0.5125, 0.5, 0.4875, 0.475, 0.4625, 0.45, 0.4375, 0.4375, 0.425, 0.4125, 0.4, 0.3875, 0.375, 0.3625, 0.35, 0.3375, 0.325, 0.3125, 0.3, 0.2875, 0.275, 0.2625, 0.25, 0.2375, 0.225, 0.2125, 0.2125, 0.2, 0.1875, 0.175, 0.1625, 0.15, 0.1375, 0.125, 0.1125, 0.1, 0.0875, 0.075, 0.0625, 0.05, 0.0375, 0.025, 0.0125, 0.0], \"y\": [0.5882352941176471, 0.5851851851851851, 0.5895522388059702, 0.5939849624060151, 0.5984848484848485, 0.6030534351145038, 0.6076923076923076, 0.6124031007751938, 0.6171875, 0.6220472440944882, 0.626984126984127, 0.632, 0.6370967741935484, 0.6422764227642277, 0.6475409836065574, 0.6528925619834711, 0.6583333333333333, 0.6638655462184874, 0.6610169491525424, 0.6666666666666666, 0.6724137931034483, 0.6695652173913044, 0.6754385964912281, 0.6814159292035398, 0.6875, 0.6936936936936937, 0.7, 0.7064220183486238, 0.7129629629629629, 0.7102803738317757, 0.7169811320754716, 0.7238095238095238, 0.7307692307692307, 0.7378640776699029, 0.7450980392156863, 0.7524752475247525, 0.76, 0.7676767676767676, 0.7755102040816326, 0.7835051546391752, 0.78125, 0.7894736842105263, 0.7978723404255319, 0.8064516129032258, 0.8043478260869565, 0.8131868131868132, 0.8222222222222222, 0.8314606741573034, 0.8409090909090909, 0.8390804597701149, 0.8488372093023255, 0.8470588235294118, 0.8452380952380952, 0.8433734939759037, 0.8414634146341463, 0.8518518518518519, 0.85, 0.8481012658227848, 0.8461538461538461, 0.8441558441558441, 0.8421052631578947, 0.8533333333333334, 0.8513513513513513, 0.863013698630137, 0.8611111111111112, 0.8591549295774648, 0.8571428571428571, 0.855072463768116, 0.8676470588235294, 0.8656716417910447, 0.8787878787878788, 0.8923076923076924, 0.890625, 0.8888888888888888, 0.9032258064516129, 0.9016393442622951, 0.9, 0.9152542372881356, 0.9137931034482759, 0.9122807017543859, 0.9107142857142857, 0.9090909090909091, 0.9074074074074074, 0.9056603773584906, 0.9230769230769231, 0.9215686274509803, 0.94, 0.9591836734693877, 0.9583333333333334, 0.9574468085106383, 0.9565217391304348, 0.9555555555555556, 0.9545454545454546, 0.9534883720930233, 0.9523809523809523, 0.9512195121951219, 0.95, 0.9487179487179487, 0.9473684210526315, 0.9459459459459459, 0.9722222222222222, 0.9714285714285714, 0.9705882352941176, 0.9696969696969697, 0.96875, 0.967741935483871, 0.9666666666666667, 0.9655172413793104, 0.9642857142857143, 0.9629629629629629, 0.9615384615384616, 0.96, 0.9583333333333334, 0.9565217391304348, 0.9545454545454546, 0.9523809523809523, 0.95, 0.9473684210526315, 0.9444444444444444, 1.0, 1.0, 1.0, 1.0, 1.0, 1.0, 1.0, 1.0, 1.0, 1.0, 1.0, 1.0, 1.0, 1.0, 1.0, 1.0, 1.0, 1.0]}],\n",
              "                        {\"template\": {\"data\": {\"bar\": [{\"error_x\": {\"color\": \"#2a3f5f\"}, \"error_y\": {\"color\": \"#2a3f5f\"}, \"marker\": {\"line\": {\"color\": \"#E5ECF6\", \"width\": 0.5}}, \"type\": \"bar\"}], \"barpolar\": [{\"marker\": {\"line\": {\"color\": \"#E5ECF6\", \"width\": 0.5}}, \"type\": \"barpolar\"}], \"carpet\": [{\"aaxis\": {\"endlinecolor\": \"#2a3f5f\", \"gridcolor\": \"white\", \"linecolor\": \"white\", \"minorgridcolor\": \"white\", \"startlinecolor\": \"#2a3f5f\"}, \"baxis\": {\"endlinecolor\": \"#2a3f5f\", \"gridcolor\": \"white\", \"linecolor\": \"white\", \"minorgridcolor\": \"white\", \"startlinecolor\": \"#2a3f5f\"}, \"type\": \"carpet\"}], \"choropleth\": [{\"colorbar\": {\"outlinewidth\": 0, \"ticks\": \"\"}, \"type\": \"choropleth\"}], \"contour\": [{\"colorbar\": {\"outlinewidth\": 0, \"ticks\": \"\"}, \"colorscale\": [[0.0, \"#0d0887\"], [0.1111111111111111, \"#46039f\"], [0.2222222222222222, \"#7201a8\"], [0.3333333333333333, \"#9c179e\"], [0.4444444444444444, \"#bd3786\"], [0.5555555555555556, \"#d8576b\"], [0.6666666666666666, \"#ed7953\"], [0.7777777777777778, \"#fb9f3a\"], [0.8888888888888888, \"#fdca26\"], [1.0, \"#f0f921\"]], \"type\": \"contour\"}], \"contourcarpet\": [{\"colorbar\": {\"outlinewidth\": 0, \"ticks\": \"\"}, \"type\": \"contourcarpet\"}], \"heatmap\": [{\"colorbar\": {\"outlinewidth\": 0, \"ticks\": \"\"}, \"colorscale\": [[0.0, \"#0d0887\"], [0.1111111111111111, \"#46039f\"], [0.2222222222222222, \"#7201a8\"], [0.3333333333333333, \"#9c179e\"], [0.4444444444444444, \"#bd3786\"], [0.5555555555555556, \"#d8576b\"], [0.6666666666666666, \"#ed7953\"], [0.7777777777777778, \"#fb9f3a\"], [0.8888888888888888, \"#fdca26\"], [1.0, \"#f0f921\"]], \"type\": \"heatmap\"}], \"heatmapgl\": [{\"colorbar\": {\"outlinewidth\": 0, \"ticks\": \"\"}, \"colorscale\": [[0.0, \"#0d0887\"], [0.1111111111111111, \"#46039f\"], [0.2222222222222222, \"#7201a8\"], [0.3333333333333333, \"#9c179e\"], [0.4444444444444444, \"#bd3786\"], [0.5555555555555556, \"#d8576b\"], [0.6666666666666666, \"#ed7953\"], [0.7777777777777778, \"#fb9f3a\"], [0.8888888888888888, \"#fdca26\"], [1.0, \"#f0f921\"]], \"type\": \"heatmapgl\"}], \"histogram\": [{\"marker\": {\"colorbar\": {\"outlinewidth\": 0, \"ticks\": \"\"}}, \"type\": \"histogram\"}], \"histogram2d\": [{\"colorbar\": {\"outlinewidth\": 0, \"ticks\": \"\"}, \"colorscale\": [[0.0, \"#0d0887\"], [0.1111111111111111, \"#46039f\"], [0.2222222222222222, \"#7201a8\"], [0.3333333333333333, \"#9c179e\"], [0.4444444444444444, \"#bd3786\"], [0.5555555555555556, \"#d8576b\"], [0.6666666666666666, \"#ed7953\"], [0.7777777777777778, \"#fb9f3a\"], [0.8888888888888888, \"#fdca26\"], [1.0, \"#f0f921\"]], \"type\": \"histogram2d\"}], \"histogram2dcontour\": [{\"colorbar\": {\"outlinewidth\": 0, \"ticks\": \"\"}, \"colorscale\": [[0.0, \"#0d0887\"], [0.1111111111111111, \"#46039f\"], [0.2222222222222222, \"#7201a8\"], [0.3333333333333333, \"#9c179e\"], [0.4444444444444444, \"#bd3786\"], [0.5555555555555556, \"#d8576b\"], [0.6666666666666666, \"#ed7953\"], [0.7777777777777778, \"#fb9f3a\"], [0.8888888888888888, \"#fdca26\"], [1.0, \"#f0f921\"]], \"type\": \"histogram2dcontour\"}], \"mesh3d\": [{\"colorbar\": {\"outlinewidth\": 0, \"ticks\": \"\"}, \"type\": \"mesh3d\"}], \"parcoords\": [{\"line\": {\"colorbar\": {\"outlinewidth\": 0, \"ticks\": \"\"}}, \"type\": \"parcoords\"}], \"pie\": [{\"automargin\": true, \"type\": \"pie\"}], \"scatter\": [{\"marker\": {\"colorbar\": {\"outlinewidth\": 0, \"ticks\": \"\"}}, \"type\": \"scatter\"}], \"scatter3d\": [{\"line\": {\"colorbar\": {\"outlinewidth\": 0, \"ticks\": \"\"}}, \"marker\": {\"colorbar\": {\"outlinewidth\": 0, \"ticks\": \"\"}}, \"type\": \"scatter3d\"}], \"scattercarpet\": [{\"marker\": {\"colorbar\": {\"outlinewidth\": 0, \"ticks\": \"\"}}, \"type\": \"scattercarpet\"}], \"scattergeo\": [{\"marker\": {\"colorbar\": {\"outlinewidth\": 0, \"ticks\": \"\"}}, \"type\": \"scattergeo\"}], \"scattergl\": [{\"marker\": {\"colorbar\": {\"outlinewidth\": 0, \"ticks\": \"\"}}, \"type\": \"scattergl\"}], \"scattermapbox\": [{\"marker\": {\"colorbar\": {\"outlinewidth\": 0, \"ticks\": \"\"}}, \"type\": \"scattermapbox\"}], \"scatterpolar\": [{\"marker\": {\"colorbar\": {\"outlinewidth\": 0, \"ticks\": \"\"}}, \"type\": \"scatterpolar\"}], \"scatterpolargl\": [{\"marker\": {\"colorbar\": {\"outlinewidth\": 0, \"ticks\": \"\"}}, \"type\": \"scatterpolargl\"}], \"scatterternary\": [{\"marker\": {\"colorbar\": {\"outlinewidth\": 0, \"ticks\": \"\"}}, \"type\": \"scatterternary\"}], \"surface\": [{\"colorbar\": {\"outlinewidth\": 0, \"ticks\": \"\"}, \"colorscale\": [[0.0, \"#0d0887\"], [0.1111111111111111, \"#46039f\"], [0.2222222222222222, \"#7201a8\"], [0.3333333333333333, \"#9c179e\"], [0.4444444444444444, \"#bd3786\"], [0.5555555555555556, \"#d8576b\"], [0.6666666666666666, \"#ed7953\"], [0.7777777777777778, \"#fb9f3a\"], [0.8888888888888888, \"#fdca26\"], [1.0, \"#f0f921\"]], \"type\": \"surface\"}], \"table\": [{\"cells\": {\"fill\": {\"color\": \"#EBF0F8\"}, \"line\": {\"color\": \"white\"}}, \"header\": {\"fill\": {\"color\": \"#C8D4E3\"}, \"line\": {\"color\": \"white\"}}, \"type\": \"table\"}]}, \"layout\": {\"annotationdefaults\": {\"arrowcolor\": \"#2a3f5f\", \"arrowhead\": 0, \"arrowwidth\": 1}, \"coloraxis\": {\"colorbar\": {\"outlinewidth\": 0, \"ticks\": \"\"}}, \"colorscale\": {\"diverging\": [[0, \"#8e0152\"], [0.1, \"#c51b7d\"], [0.2, \"#de77ae\"], [0.3, \"#f1b6da\"], [0.4, \"#fde0ef\"], [0.5, \"#f7f7f7\"], [0.6, \"#e6f5d0\"], [0.7, \"#b8e186\"], [0.8, \"#7fbc41\"], [0.9, \"#4d9221\"], [1, \"#276419\"]], \"sequential\": [[0.0, \"#0d0887\"], [0.1111111111111111, \"#46039f\"], [0.2222222222222222, \"#7201a8\"], [0.3333333333333333, \"#9c179e\"], [0.4444444444444444, \"#bd3786\"], [0.5555555555555556, \"#d8576b\"], [0.6666666666666666, \"#ed7953\"], [0.7777777777777778, \"#fb9f3a\"], [0.8888888888888888, \"#fdca26\"], [1.0, \"#f0f921\"]], \"sequentialminus\": [[0.0, \"#0d0887\"], [0.1111111111111111, \"#46039f\"], [0.2222222222222222, \"#7201a8\"], [0.3333333333333333, \"#9c179e\"], [0.4444444444444444, \"#bd3786\"], [0.5555555555555556, \"#d8576b\"], [0.6666666666666666, \"#ed7953\"], [0.7777777777777778, \"#fb9f3a\"], [0.8888888888888888, \"#fdca26\"], [1.0, \"#f0f921\"]]}, \"colorway\": [\"#636efa\", \"#EF553B\", \"#00cc96\", \"#ab63fa\", \"#FFA15A\", \"#19d3f3\", \"#FF6692\", \"#B6E880\", \"#FF97FF\", \"#FECB52\"], \"font\": {\"color\": \"#2a3f5f\"}, \"geo\": {\"bgcolor\": \"white\", \"lakecolor\": \"white\", \"landcolor\": \"#E5ECF6\", \"showlakes\": true, \"showland\": true, \"subunitcolor\": \"white\"}, \"hoverlabel\": {\"align\": \"left\"}, \"hovermode\": \"closest\", \"mapbox\": {\"style\": \"light\"}, \"paper_bgcolor\": \"white\", \"plot_bgcolor\": \"#E5ECF6\", \"polar\": {\"angularaxis\": {\"gridcolor\": \"white\", \"linecolor\": \"white\", \"ticks\": \"\"}, \"bgcolor\": \"#E5ECF6\", \"radialaxis\": {\"gridcolor\": \"white\", \"linecolor\": \"white\", \"ticks\": \"\"}}, \"scene\": {\"xaxis\": {\"backgroundcolor\": \"#E5ECF6\", \"gridcolor\": \"white\", \"gridwidth\": 2, \"linecolor\": \"white\", \"showbackground\": true, \"ticks\": \"\", \"zerolinecolor\": \"white\"}, \"yaxis\": {\"backgroundcolor\": \"#E5ECF6\", \"gridcolor\": \"white\", \"gridwidth\": 2, \"linecolor\": \"white\", \"showbackground\": true, \"ticks\": \"\", \"zerolinecolor\": \"white\"}, \"zaxis\": {\"backgroundcolor\": \"#E5ECF6\", \"gridcolor\": \"white\", \"gridwidth\": 2, \"linecolor\": \"white\", \"showbackground\": true, \"ticks\": \"\", \"zerolinecolor\": \"white\"}}, \"shapedefaults\": {\"line\": {\"color\": \"#2a3f5f\"}}, \"ternary\": {\"aaxis\": {\"gridcolor\": \"white\", \"linecolor\": \"white\", \"ticks\": \"\"}, \"baxis\": {\"gridcolor\": \"white\", \"linecolor\": \"white\", \"ticks\": \"\"}, \"bgcolor\": \"#E5ECF6\", \"caxis\": {\"gridcolor\": \"white\", \"linecolor\": \"white\", \"ticks\": \"\"}}, \"title\": {\"x\": 0.05}, \"xaxis\": {\"automargin\": true, \"gridcolor\": \"white\", \"linecolor\": \"white\", \"ticks\": \"\", \"title\": {\"standoff\": 15}, \"zerolinecolor\": \"white\", \"zerolinewidth\": 2}, \"yaxis\": {\"automargin\": true, \"gridcolor\": \"white\", \"linecolor\": \"white\", \"ticks\": \"\", \"title\": {\"standoff\": 15}, \"zerolinecolor\": \"white\", \"zerolinewidth\": 2}}}},\n",
              "                        {\"responsive\": true}\n",
              "                    ).then(function(){\n",
              "                            \n",
              "var gd = document.getElementById('262585c0-87b6-4586-9812-81d0b853dc71');\n",
              "var x = new MutationObserver(function (mutations, observer) {{\n",
              "        var display = window.getComputedStyle(gd).display;\n",
              "        if (!display || display === 'none') {{\n",
              "            console.log([gd, 'removed!']);\n",
              "            Plotly.purge(gd);\n",
              "            observer.disconnect();\n",
              "        }}\n",
              "}});\n",
              "\n",
              "// Listen for the removal of the full notebook cells\n",
              "var notebookContainer = gd.closest('#notebook-container');\n",
              "if (notebookContainer) {{\n",
              "    x.observe(notebookContainer, {childList: true});\n",
              "}}\n",
              "\n",
              "// Listen for the clearing of the current output cell\n",
              "var outputEl = gd.closest('.output');\n",
              "if (outputEl) {{\n",
              "    x.observe(outputEl, {childList: true});\n",
              "}}\n",
              "\n",
              "                        })\n",
              "                };\n",
              "                \n",
              "            </script>\n",
              "        </div>\n",
              "</body>\n",
              "</html>"
            ]
          },
          "metadata": {
            "tags": []
          }
        },
        {
          "output_type": "stream",
          "text": [
            "AUC:  0.9193317946373702\n"
          ],
          "name": "stdout"
        }
      ]
    },
    {
      "cell_type": "code",
      "metadata": {
        "id": "nxHNfo1JDJgv"
      },
      "source": [
        "torch.save(best_model, TEMP_DATA_DIR + '/best_model.pt')"
      ],
      "execution_count": null,
      "outputs": []
    },
    {
      "cell_type": "markdown",
      "metadata": {
        "id": "xEUxZTzsWBSl"
      },
      "source": [
        "Logistic Regression"
      ]
    },
    {
      "cell_type": "code",
      "metadata": {
        "id": "a1iBn7k0DMp8"
      },
      "source": [
        "with open(TEMP_DATA_DIR + '/ordering_metadata.p', 'rb') as f:\n",
        "    train_sz, test_sz, val_sz, train_idxs = pickle.load(f)\n",
        "    \n",
        "with open(TEMP_DATA_DIR + '/transformers.p', 'rb') as f:\n",
        "    transformer, scaler = pickle.load(f)"
      ],
      "execution_count": null,
      "outputs": []
    },
    {
      "cell_type": "code",
      "metadata": {
        "id": "SQrk3GlIDRWy"
      },
      "source": [
        "feature_sz = len(transformer.get_feature_names())\n",
        "X_train = np.memmap(TEMP_DATA_DIR + '/extracted_features_X_train.npy', dtype='float32', mode='r', shape=(train_sz, 100)) ## Instead of 100 it was feature_sz\n",
        "Y_train = np.memmap(TEMP_DATA_DIR + '/extracted_features_Y_train.npy', dtype='int32', mode='r', shape=(train_sz))\n",
        "\n",
        "X_val = np.memmap(TEMP_DATA_DIR + '/extracted_features_X_val.npy', dtype='float32', mode='r', shape=(val_sz, 100)) ## Instead of 100 it was feature_sz\n",
        "Y_val = np.memmap(TEMP_DATA_DIR + '/extracted_features_Y_val.npy', dtype='int32', mode='r', shape=(val_sz))\n",
        "\n",
        "X_test = np.memmap(TEMP_DATA_DIR + '/extracted_features_X_test.npy', dtype='float32', mode='r', shape=(test_sz, 100)) ## Instead of 100 it was feature_sz\n",
        "Y_test = np.memmap(TEMP_DATA_DIR + '/extracted_features_Y_test.npy', dtype='int32', mode='r', shape=(test_sz))"
      ],
      "execution_count": null,
      "outputs": []
    },
    {
      "cell_type": "code",
      "metadata": {
        "id": "Xnqq4YA0DUdW"
      },
      "source": [
        "X_train = np.array(X_train)"
      ],
      "execution_count": null,
      "outputs": []
    },
    {
      "cell_type": "code",
      "metadata": {
        "id": "wb9mpp7ZDgVg"
      },
      "source": [
        "clf = LogisticRegression(solver='lbfgs', max_iter=50)\n",
        "distributions = dict(C=uniform(loc=0, scale=4), penalty=['l2', 'l1'])\n",
        "param_clf = RandomizedSearchCV(clf, distributions, random_state=0, verbose=2, scoring='roc_auc')\n",
        "search = param_clf.fit(X_train, Y_train)\n",
        "search.best_params_"
      ],
      "execution_count": null,
      "outputs": []
    },
    {
      "cell_type": "code",
      "metadata": {
        "colab": {
          "base_uri": "https://localhost:8080/"
        },
        "id": "KcxrLbLDFpNn",
        "outputId": "3b0b38d9-53ee-4c57-9e0d-af35664e0b0b"
      },
      "source": [
        "search.best_params_"
      ],
      "execution_count": null,
      "outputs": [
        {
          "output_type": "execute_result",
          "data": {
            "text/plain": [
              "{'C': 1.5337660753031108, 'penalty': 'l2'}"
            ]
          },
          "metadata": {
            "tags": []
          },
          "execution_count": 71
        }
      ]
    },
    {
      "cell_type": "code",
      "metadata": {
        "colab": {
          "base_uri": "https://localhost:8080/"
        },
        "id": "nFmAMAsgGBny",
        "outputId": "09827e32-ad32-4448-e115-1f5a2646d5db"
      },
      "source": [
        "# clf = LogisticRegression(C=0.2, solver='lbfgs', max_iter=5000, verbose=True)\n",
        "clf.fit(X_train, Y_train)"
      ],
      "execution_count": null,
      "outputs": [
        {
          "output_type": "stream",
          "text": [
            "[Parallel(n_jobs=1)]: Using backend SequentialBackend with 1 concurrent workers.\n",
            "[Parallel(n_jobs=1)]: Done   1 out of   1 | elapsed:    0.0s finished\n"
          ],
          "name": "stderr"
        },
        {
          "output_type": "execute_result",
          "data": {
            "text/plain": [
              "LogisticRegression(C=0.2, class_weight=None, dual=False, fit_intercept=True,\n",
              "                   intercept_scaling=1, l1_ratio=None, max_iter=5000,\n",
              "                   multi_class='auto', n_jobs=None, penalty='l2',\n",
              "                   random_state=None, solver='lbfgs', tol=0.0001, verbose=True,\n",
              "                   warm_start=False)"
            ]
          },
          "metadata": {
            "tags": []
          },
          "execution_count": 78
        }
      ]
    },
    {
      "cell_type": "markdown",
      "metadata": {
        "id": "tP6tQpy_bMnZ"
      },
      "source": [
        "## Metrics of Logistic Regression"
      ]
    },
    {
      "cell_type": "code",
      "metadata": {
        "colab": {
          "base_uri": "https://localhost:8080/"
        },
        "id": "uEVJvA1oGkOs",
        "outputId": "193a2e02-403a-48b8-931c-4ff10fe3e211"
      },
      "source": [
        "Y_pred = clf.predict(X_test)\n",
        "metrics.confusion_matrix(Y_pred, Y_test)"
      ],
      "execution_count": null,
      "outputs": [
        {
          "output_type": "execute_result",
          "data": {
            "text/plain": [
              "array([[31, 30],\n",
              "       [38, 52]])"
            ]
          },
          "metadata": {
            "tags": []
          },
          "execution_count": 79
        }
      ]
    },
    {
      "cell_type": "code",
      "metadata": {
        "colab": {
          "base_uri": "https://localhost:8080/",
          "height": 1000
        },
        "id": "zzNaREAQGF2x",
        "outputId": "af00fc26-42c3-4c91-b9ab-3b0b7f19d0e4"
      },
      "source": [
        "preds = clf.predict_proba(X_test)[:, 1]\n",
        "print('FPR-TRP Curve')\n",
        "\n",
        "fpr, tpr, thresh = roc_curve(Y_test, preds)\n",
        "roc_auc = auc(fpr, tpr)\n",
        "fig = go.Figure()\n",
        "fig.add_trace(go.Scatter(\n",
        "    x = fpr,\n",
        "    y = tpr,\n",
        "    text = thresh,\n",
        "    mode='lines'\n",
        "))\n",
        "fig.show(renderer=\"colab\")\n",
        "print(roc_auc)\n",
        "\n",
        "\n",
        "print('P-R Curve')\n",
        "precision, recall, thresholds = precision_recall_curve(Y_test, preds)\n",
        "fig = go.Figure()\n",
        "fig.add_trace(go.Scatter(\n",
        "    x=recall,\n",
        "    y=precision,\n",
        "    text=np.array(thresholds).astype(str)\n",
        "))\n",
        "fig.show(renderer=\"colab\")\n",
        "print('AUC: ', auc(recall, precision))"
      ],
      "execution_count": null,
      "outputs": [
        {
          "output_type": "stream",
          "text": [
            "FPR-TRP Curve\n"
          ],
          "name": "stdout"
        },
        {
          "output_type": "display_data",
          "data": {
            "text/html": [
              "<html>\n",
              "<head><meta charset=\"utf-8\" /></head>\n",
              "<body>\n",
              "    <div>\n",
              "            <script src=\"https://cdnjs.cloudflare.com/ajax/libs/mathjax/2.7.5/MathJax.js?config=TeX-AMS-MML_SVG\"></script><script type=\"text/javascript\">if (window.MathJax) {MathJax.Hub.Config({SVG: {font: \"STIX-Web\"}});}</script>\n",
              "                <script type=\"text/javascript\">window.PlotlyConfig = {MathJaxConfig: 'local'};</script>\n",
              "        <script src=\"https://cdn.plot.ly/plotly-latest.min.js\"></script>    \n",
              "            <div id=\"3de1e460-cddd-4341-b01e-a210f5bd4f60\" class=\"plotly-graph-div\" style=\"height:525px; width:100%;\"></div>\n",
              "            <script type=\"text/javascript\">\n",
              "                \n",
              "                    window.PLOTLYENV=window.PLOTLYENV || {};\n",
              "                    \n",
              "                if (document.getElementById(\"3de1e460-cddd-4341-b01e-a210f5bd4f60\")) {\n",
              "                    Plotly.newPlot(\n",
              "                        '3de1e460-cddd-4341-b01e-a210f5bd4f60',\n",
              "                        [{\"mode\": \"lines\", \"text\": [1.995940347561604, 0.9959403475616039, 0.8596346073465824, 0.8572373236279394, 0.8299635448048626, 0.8225569765897264, 0.8170818798861319, 0.7771966798937324, 0.7586875142447335, 0.7526195195946344, 0.7518251791854957, 0.7444472275955297, 0.7259239609837475, 0.7214219812192071, 0.7086578678989807, 0.7055750646555402, 0.704098572603695, 0.7002754591252548, 0.6953228257839241, 0.6846789602371538, 0.6803625843006929, 0.6781862241372254, 0.6617544153088306, 0.6577922643058529, 0.6555140935005648, 0.6454165726667712, 0.643337148085878, 0.6333593756805986, 0.6296112794229822, 0.6285160047477905, 0.6148121483690674, 0.6130255645131871, 0.6041358420714485, 0.5920774655922785, 0.5772386857081928, 0.5762046027796061, 0.5587009427709007, 0.5548953007899762, 0.54110821769397, 0.5408410899117563, 0.535884940938333, 0.5351414490433344, 0.5180424750784206, 0.5159839511571863, 0.5104326442496481, 0.508808168877874, 0.5070551561755277, 0.4717350265161219, 0.4711429477300484, 0.4671065311771172, 0.4608813240250067, 0.4561977776960544, 0.4516791940943978, 0.4487568792301697, 0.4470820115558869, 0.44592169507477303, 0.426501971092312, 0.4245177196774244, 0.4229025674537153, 0.4201792120552891, 0.4178194309914187, 0.4177795292392499, 0.416184631285811, 0.41534851247640076, 0.4078773963677309, 0.3953441604343922, 0.3623444213109978, 0.353221122058361, 0.35154513652643743, 0.35007553936817076, 0.33159175672931174, 0.3194927782414433, 0.31895993611316553, 0.29977133065217143, 0.29624370540633654, 0.29504492372148927, 0.28476235331474264, 0.21907195735304494, 0.1925553600526611, 0.15213765296396514, 0.14875727397721109, 0.05366757895528457, 0.010568353532028008], \"type\": \"scatter\", \"x\": [0.0, 0.0, 0.0, 0.014492753623188406, 0.014492753623188406, 0.028985507246376812, 0.028985507246376812, 0.13043478260869565, 0.13043478260869565, 0.15942028985507245, 0.15942028985507245, 0.17391304347826086, 0.17391304347826086, 0.18840579710144928, 0.18840579710144928, 0.2028985507246377, 0.2028985507246377, 0.2318840579710145, 0.2318840579710145, 0.2463768115942029, 0.2463768115942029, 0.2608695652173913, 0.2608695652173913, 0.2753623188405797, 0.2753623188405797, 0.3188405797101449, 0.3188405797101449, 0.36231884057971014, 0.36231884057971014, 0.391304347826087, 0.391304347826087, 0.4057971014492754, 0.4057971014492754, 0.4492753623188406, 0.4492753623188406, 0.463768115942029, 0.463768115942029, 0.4927536231884058, 0.4927536231884058, 0.5072463768115942, 0.5072463768115942, 0.5217391304347826, 0.5217391304347826, 0.5362318840579711, 0.5362318840579711, 0.5507246376811594, 0.5507246376811594, 0.6086956521739131, 0.6086956521739131, 0.6376811594202898, 0.6376811594202898, 0.6666666666666666, 0.6666666666666666, 0.6811594202898551, 0.6811594202898551, 0.6956521739130435, 0.6956521739130435, 0.7101449275362319, 0.7101449275362319, 0.7246376811594203, 0.7246376811594203, 0.7391304347826086, 0.7391304347826086, 0.7536231884057971, 0.7536231884057971, 0.7681159420289855, 0.7681159420289855, 0.7971014492753623, 0.7971014492753623, 0.8115942028985508, 0.8115942028985508, 0.8405797101449275, 0.8405797101449275, 0.8695652173913043, 0.8695652173913043, 0.8840579710144928, 0.8840579710144928, 0.9565217391304348, 0.9565217391304348, 0.9855072463768116, 0.9855072463768116, 1.0, 1.0], \"y\": [0.0, 0.012195121951219513, 0.036585365853658534, 0.036585365853658534, 0.07317073170731707, 0.07317073170731707, 0.08536585365853659, 0.08536585365853659, 0.12195121951219512, 0.12195121951219512, 0.13414634146341464, 0.13414634146341464, 0.17073170731707318, 0.17073170731707318, 0.21951219512195122, 0.21951219512195122, 0.23170731707317074, 0.23170731707317074, 0.2682926829268293, 0.2682926829268293, 0.2926829268292683, 0.2926829268292683, 0.34146341463414637, 0.34146341463414637, 0.35365853658536583, 0.35365853658536583, 0.3780487804878049, 0.3780487804878049, 0.3902439024390244, 0.3902439024390244, 0.4268292682926829, 0.4268292682926829, 0.45121951219512196, 0.45121951219512196, 0.47560975609756095, 0.47560975609756095, 0.5121951219512195, 0.5121951219512195, 0.5365853658536586, 0.5365853658536586, 0.5609756097560976, 0.5609756097560976, 0.5853658536585366, 0.5853658536585366, 0.6219512195121951, 0.6219512195121951, 0.6341463414634146, 0.6341463414634146, 0.6463414634146342, 0.6463414634146342, 0.6829268292682927, 0.6829268292682927, 0.7073170731707317, 0.7073170731707317, 0.7195121951219512, 0.7195121951219512, 0.7560975609756098, 0.7560975609756098, 0.7682926829268293, 0.7682926829268293, 0.7804878048780488, 0.7804878048780488, 0.7926829268292683, 0.7926829268292683, 0.8048780487804879, 0.8048780487804879, 0.8780487804878049, 0.8780487804878049, 0.8902439024390244, 0.8902439024390244, 0.926829268292683, 0.926829268292683, 0.9390243902439024, 0.9390243902439024, 0.9512195121951219, 0.9512195121951219, 0.9634146341463414, 0.9634146341463414, 0.975609756097561, 0.975609756097561, 0.9878048780487805, 0.9878048780487805, 1.0]}],\n",
              "                        {\"template\": {\"data\": {\"bar\": [{\"error_x\": {\"color\": \"#2a3f5f\"}, \"error_y\": {\"color\": \"#2a3f5f\"}, \"marker\": {\"line\": {\"color\": \"#E5ECF6\", \"width\": 0.5}}, \"type\": \"bar\"}], \"barpolar\": [{\"marker\": {\"line\": {\"color\": \"#E5ECF6\", \"width\": 0.5}}, \"type\": \"barpolar\"}], \"carpet\": [{\"aaxis\": {\"endlinecolor\": \"#2a3f5f\", \"gridcolor\": \"white\", \"linecolor\": \"white\", \"minorgridcolor\": \"white\", \"startlinecolor\": \"#2a3f5f\"}, \"baxis\": {\"endlinecolor\": \"#2a3f5f\", \"gridcolor\": \"white\", \"linecolor\": \"white\", \"minorgridcolor\": \"white\", \"startlinecolor\": \"#2a3f5f\"}, \"type\": \"carpet\"}], \"choropleth\": [{\"colorbar\": {\"outlinewidth\": 0, \"ticks\": \"\"}, \"type\": \"choropleth\"}], \"contour\": [{\"colorbar\": {\"outlinewidth\": 0, \"ticks\": \"\"}, \"colorscale\": [[0.0, \"#0d0887\"], [0.1111111111111111, \"#46039f\"], [0.2222222222222222, \"#7201a8\"], [0.3333333333333333, \"#9c179e\"], [0.4444444444444444, \"#bd3786\"], [0.5555555555555556, \"#d8576b\"], [0.6666666666666666, \"#ed7953\"], [0.7777777777777778, \"#fb9f3a\"], [0.8888888888888888, \"#fdca26\"], [1.0, \"#f0f921\"]], \"type\": \"contour\"}], \"contourcarpet\": [{\"colorbar\": {\"outlinewidth\": 0, \"ticks\": \"\"}, \"type\": \"contourcarpet\"}], \"heatmap\": [{\"colorbar\": {\"outlinewidth\": 0, \"ticks\": \"\"}, \"colorscale\": [[0.0, \"#0d0887\"], [0.1111111111111111, \"#46039f\"], [0.2222222222222222, \"#7201a8\"], [0.3333333333333333, \"#9c179e\"], [0.4444444444444444, \"#bd3786\"], [0.5555555555555556, \"#d8576b\"], [0.6666666666666666, \"#ed7953\"], [0.7777777777777778, \"#fb9f3a\"], [0.8888888888888888, \"#fdca26\"], [1.0, \"#f0f921\"]], \"type\": \"heatmap\"}], \"heatmapgl\": [{\"colorbar\": {\"outlinewidth\": 0, \"ticks\": \"\"}, \"colorscale\": [[0.0, \"#0d0887\"], [0.1111111111111111, \"#46039f\"], [0.2222222222222222, \"#7201a8\"], [0.3333333333333333, \"#9c179e\"], [0.4444444444444444, \"#bd3786\"], [0.5555555555555556, \"#d8576b\"], [0.6666666666666666, \"#ed7953\"], [0.7777777777777778, \"#fb9f3a\"], [0.8888888888888888, \"#fdca26\"], [1.0, \"#f0f921\"]], \"type\": \"heatmapgl\"}], \"histogram\": [{\"marker\": {\"colorbar\": {\"outlinewidth\": 0, \"ticks\": \"\"}}, \"type\": \"histogram\"}], \"histogram2d\": [{\"colorbar\": {\"outlinewidth\": 0, \"ticks\": \"\"}, \"colorscale\": [[0.0, \"#0d0887\"], [0.1111111111111111, \"#46039f\"], [0.2222222222222222, \"#7201a8\"], [0.3333333333333333, \"#9c179e\"], [0.4444444444444444, \"#bd3786\"], [0.5555555555555556, \"#d8576b\"], [0.6666666666666666, \"#ed7953\"], [0.7777777777777778, \"#fb9f3a\"], [0.8888888888888888, \"#fdca26\"], [1.0, \"#f0f921\"]], \"type\": \"histogram2d\"}], \"histogram2dcontour\": [{\"colorbar\": {\"outlinewidth\": 0, \"ticks\": \"\"}, \"colorscale\": [[0.0, \"#0d0887\"], [0.1111111111111111, \"#46039f\"], [0.2222222222222222, \"#7201a8\"], [0.3333333333333333, \"#9c179e\"], [0.4444444444444444, \"#bd3786\"], [0.5555555555555556, \"#d8576b\"], [0.6666666666666666, \"#ed7953\"], [0.7777777777777778, \"#fb9f3a\"], [0.8888888888888888, \"#fdca26\"], [1.0, \"#f0f921\"]], \"type\": \"histogram2dcontour\"}], \"mesh3d\": [{\"colorbar\": {\"outlinewidth\": 0, \"ticks\": \"\"}, \"type\": \"mesh3d\"}], \"parcoords\": [{\"line\": {\"colorbar\": {\"outlinewidth\": 0, \"ticks\": \"\"}}, \"type\": \"parcoords\"}], \"pie\": [{\"automargin\": true, \"type\": \"pie\"}], \"scatter\": [{\"marker\": {\"colorbar\": {\"outlinewidth\": 0, \"ticks\": \"\"}}, \"type\": \"scatter\"}], \"scatter3d\": [{\"line\": {\"colorbar\": {\"outlinewidth\": 0, \"ticks\": \"\"}}, \"marker\": {\"colorbar\": {\"outlinewidth\": 0, \"ticks\": \"\"}}, \"type\": \"scatter3d\"}], \"scattercarpet\": [{\"marker\": {\"colorbar\": {\"outlinewidth\": 0, \"ticks\": \"\"}}, \"type\": \"scattercarpet\"}], \"scattergeo\": [{\"marker\": {\"colorbar\": {\"outlinewidth\": 0, \"ticks\": \"\"}}, \"type\": \"scattergeo\"}], \"scattergl\": [{\"marker\": {\"colorbar\": {\"outlinewidth\": 0, \"ticks\": \"\"}}, \"type\": \"scattergl\"}], \"scattermapbox\": [{\"marker\": {\"colorbar\": {\"outlinewidth\": 0, \"ticks\": \"\"}}, \"type\": \"scattermapbox\"}], \"scatterpolar\": [{\"marker\": {\"colorbar\": {\"outlinewidth\": 0, \"ticks\": \"\"}}, \"type\": \"scatterpolar\"}], \"scatterpolargl\": [{\"marker\": {\"colorbar\": {\"outlinewidth\": 0, \"ticks\": \"\"}}, \"type\": \"scatterpolargl\"}], \"scatterternary\": [{\"marker\": {\"colorbar\": {\"outlinewidth\": 0, \"ticks\": \"\"}}, \"type\": \"scatterternary\"}], \"surface\": [{\"colorbar\": {\"outlinewidth\": 0, \"ticks\": \"\"}, \"colorscale\": [[0.0, \"#0d0887\"], [0.1111111111111111, \"#46039f\"], [0.2222222222222222, \"#7201a8\"], [0.3333333333333333, \"#9c179e\"], [0.4444444444444444, \"#bd3786\"], [0.5555555555555556, \"#d8576b\"], [0.6666666666666666, \"#ed7953\"], [0.7777777777777778, \"#fb9f3a\"], [0.8888888888888888, \"#fdca26\"], [1.0, \"#f0f921\"]], \"type\": \"surface\"}], \"table\": [{\"cells\": {\"fill\": {\"color\": \"#EBF0F8\"}, \"line\": {\"color\": \"white\"}}, \"header\": {\"fill\": {\"color\": \"#C8D4E3\"}, \"line\": {\"color\": \"white\"}}, \"type\": \"table\"}]}, \"layout\": {\"annotationdefaults\": {\"arrowcolor\": \"#2a3f5f\", \"arrowhead\": 0, \"arrowwidth\": 1}, \"coloraxis\": {\"colorbar\": {\"outlinewidth\": 0, \"ticks\": \"\"}}, \"colorscale\": {\"diverging\": [[0, \"#8e0152\"], [0.1, \"#c51b7d\"], [0.2, \"#de77ae\"], [0.3, \"#f1b6da\"], [0.4, \"#fde0ef\"], [0.5, \"#f7f7f7\"], [0.6, \"#e6f5d0\"], [0.7, \"#b8e186\"], [0.8, \"#7fbc41\"], [0.9, \"#4d9221\"], [1, \"#276419\"]], \"sequential\": [[0.0, \"#0d0887\"], [0.1111111111111111, \"#46039f\"], [0.2222222222222222, \"#7201a8\"], [0.3333333333333333, \"#9c179e\"], [0.4444444444444444, \"#bd3786\"], [0.5555555555555556, \"#d8576b\"], [0.6666666666666666, \"#ed7953\"], [0.7777777777777778, \"#fb9f3a\"], [0.8888888888888888, \"#fdca26\"], [1.0, \"#f0f921\"]], \"sequentialminus\": [[0.0, \"#0d0887\"], [0.1111111111111111, \"#46039f\"], [0.2222222222222222, \"#7201a8\"], [0.3333333333333333, \"#9c179e\"], [0.4444444444444444, \"#bd3786\"], [0.5555555555555556, \"#d8576b\"], [0.6666666666666666, \"#ed7953\"], [0.7777777777777778, \"#fb9f3a\"], [0.8888888888888888, \"#fdca26\"], [1.0, \"#f0f921\"]]}, \"colorway\": [\"#636efa\", \"#EF553B\", \"#00cc96\", \"#ab63fa\", \"#FFA15A\", \"#19d3f3\", \"#FF6692\", \"#B6E880\", \"#FF97FF\", \"#FECB52\"], \"font\": {\"color\": \"#2a3f5f\"}, \"geo\": {\"bgcolor\": \"white\", \"lakecolor\": \"white\", \"landcolor\": \"#E5ECF6\", \"showlakes\": true, \"showland\": true, \"subunitcolor\": \"white\"}, \"hoverlabel\": {\"align\": \"left\"}, \"hovermode\": \"closest\", \"mapbox\": {\"style\": \"light\"}, \"paper_bgcolor\": \"white\", \"plot_bgcolor\": \"#E5ECF6\", \"polar\": {\"angularaxis\": {\"gridcolor\": \"white\", \"linecolor\": \"white\", \"ticks\": \"\"}, \"bgcolor\": \"#E5ECF6\", \"radialaxis\": {\"gridcolor\": \"white\", \"linecolor\": \"white\", \"ticks\": \"\"}}, \"scene\": {\"xaxis\": {\"backgroundcolor\": \"#E5ECF6\", \"gridcolor\": \"white\", \"gridwidth\": 2, \"linecolor\": \"white\", \"showbackground\": true, \"ticks\": \"\", \"zerolinecolor\": \"white\"}, \"yaxis\": {\"backgroundcolor\": \"#E5ECF6\", \"gridcolor\": \"white\", \"gridwidth\": 2, \"linecolor\": \"white\", \"showbackground\": true, \"ticks\": \"\", \"zerolinecolor\": \"white\"}, \"zaxis\": {\"backgroundcolor\": \"#E5ECF6\", \"gridcolor\": \"white\", \"gridwidth\": 2, \"linecolor\": \"white\", \"showbackground\": true, \"ticks\": \"\", \"zerolinecolor\": \"white\"}}, \"shapedefaults\": {\"line\": {\"color\": \"#2a3f5f\"}}, \"ternary\": {\"aaxis\": {\"gridcolor\": \"white\", \"linecolor\": \"white\", \"ticks\": \"\"}, \"baxis\": {\"gridcolor\": \"white\", \"linecolor\": \"white\", \"ticks\": \"\"}, \"bgcolor\": \"#E5ECF6\", \"caxis\": {\"gridcolor\": \"white\", \"linecolor\": \"white\", \"ticks\": \"\"}}, \"title\": {\"x\": 0.05}, \"xaxis\": {\"automargin\": true, \"gridcolor\": \"white\", \"linecolor\": \"white\", \"ticks\": \"\", \"title\": {\"standoff\": 15}, \"zerolinecolor\": \"white\", \"zerolinewidth\": 2}, \"yaxis\": {\"automargin\": true, \"gridcolor\": \"white\", \"linecolor\": \"white\", \"ticks\": \"\", \"title\": {\"standoff\": 15}, \"zerolinecolor\": \"white\", \"zerolinewidth\": 2}}}},\n",
              "                        {\"responsive\": true}\n",
              "                    ).then(function(){\n",
              "                            \n",
              "var gd = document.getElementById('3de1e460-cddd-4341-b01e-a210f5bd4f60');\n",
              "var x = new MutationObserver(function (mutations, observer) {{\n",
              "        var display = window.getComputedStyle(gd).display;\n",
              "        if (!display || display === 'none') {{\n",
              "            console.log([gd, 'removed!']);\n",
              "            Plotly.purge(gd);\n",
              "            observer.disconnect();\n",
              "        }}\n",
              "}});\n",
              "\n",
              "// Listen for the removal of the full notebook cells\n",
              "var notebookContainer = gd.closest('#notebook-container');\n",
              "if (notebookContainer) {{\n",
              "    x.observe(notebookContainer, {childList: true});\n",
              "}}\n",
              "\n",
              "// Listen for the clearing of the current output cell\n",
              "var outputEl = gd.closest('.output');\n",
              "if (outputEl) {{\n",
              "    x.observe(outputEl, {childList: true});\n",
              "}}\n",
              "\n",
              "                        })\n",
              "                };\n",
              "                \n",
              "            </script>\n",
              "        </div>\n",
              "</body>\n",
              "</html>"
            ]
          },
          "metadata": {
            "tags": []
          }
        },
        {
          "output_type": "stream",
          "text": [
            "0.5364086249558148\n",
            "P-R Curve\n"
          ],
          "name": "stdout"
        },
        {
          "output_type": "display_data",
          "data": {
            "text/html": [
              "<html>\n",
              "<head><meta charset=\"utf-8\" /></head>\n",
              "<body>\n",
              "    <div>\n",
              "            <script src=\"https://cdnjs.cloudflare.com/ajax/libs/mathjax/2.7.5/MathJax.js?config=TeX-AMS-MML_SVG\"></script><script type=\"text/javascript\">if (window.MathJax) {MathJax.Hub.Config({SVG: {font: \"STIX-Web\"}});}</script>\n",
              "                <script type=\"text/javascript\">window.PlotlyConfig = {MathJaxConfig: 'local'};</script>\n",
              "        <script src=\"https://cdn.plot.ly/plotly-latest.min.js\"></script>    \n",
              "            <div id=\"ff03571e-395b-47ba-9383-4c444d353ed5\" class=\"plotly-graph-div\" style=\"height:525px; width:100%;\"></div>\n",
              "            <script type=\"text/javascript\">\n",
              "                \n",
              "                    window.PLOTLYENV=window.PLOTLYENV || {};\n",
              "                    \n",
              "                if (document.getElementById(\"ff03571e-395b-47ba-9383-4c444d353ed5\")) {\n",
              "                    Plotly.newPlot(\n",
              "                        'ff03571e-395b-47ba-9383-4c444d353ed5',\n",
              "                        [{\"text\": [\"0.010568353532028008\", \"0.05366757895528457\", \"0.14875727397721109\", \"0.15213765296396514\", \"0.1577013834631666\", \"0.1925553600526611\", \"0.21907195735304494\", \"0.25004275603690446\", \"0.25704371488232397\", \"0.2591187433816321\", \"0.2808633732219152\", \"0.28476235331474264\", \"0.29504492372148927\", \"0.29624370540633654\", \"0.29977133065217143\", \"0.3130850442627611\", \"0.31895993611316553\", \"0.3194927782414433\", \"0.32733588398111335\", \"0.33159175672931174\", \"0.3369715827054998\", \"0.343209486756323\", \"0.35007553936817076\", \"0.35154513652643743\", \"0.353221122058361\", \"0.3556853304296331\", \"0.3623444213109978\", \"0.3645696640394383\", \"0.37164266294755316\", \"0.37197014952111046\", \"0.39148435396902886\", \"0.39201579719707286\", \"0.3953441604343922\", \"0.4078773963677309\", \"0.41534851247640076\", \"0.416184631285811\", \"0.4177795292392499\", \"0.4178194309914187\", \"0.4201792120552891\", \"0.4229025674537153\", \"0.4245177196774244\", \"0.426501971092312\", \"0.432096068857489\", \"0.4357292735771305\", \"0.44592169507477303\", \"0.4470820115558869\", \"0.4487568792301697\", \"0.4516791940943978\", \"0.45412164264295674\", \"0.4561977776960544\", \"0.4586435767153967\", \"0.4608813240250067\", \"0.4614136274109146\", \"0.46579697669435877\", \"0.4671065311771172\", \"0.469157239955959\", \"0.4711429477300484\", \"0.4717350265161219\", \"0.4721259582666836\", \"0.48360908320116447\", \"0.4908350245860317\", \"0.5070551561755277\", \"0.508808168877874\", \"0.5104326442496481\", \"0.5110500385184201\", \"0.5143731206658455\", \"0.5159839511571863\", \"0.5180424750784206\", \"0.5199966267606451\", \"0.5351414490433344\", \"0.535884940938333\", \"0.5361147442842711\", \"0.5408410899117563\", \"0.54110821769397\", \"0.5510286460867145\", \"0.5548953007899762\", \"0.5562679414134162\", \"0.5587009427709007\", \"0.5736888335336907\", \"0.5759981966636756\", \"0.5762046027796061\", \"0.5772386857081928\", \"0.5877526421204787\", \"0.5920774655922785\", \"0.594085558113815\", \"0.5993156012338036\", \"0.6041358420714485\", \"0.6118672706007278\", \"0.6130255645131871\", \"0.6148121483690674\", \"0.6163351307363656\", \"0.6236366167767765\", \"0.6285160047477905\", \"0.6291935090212296\", \"0.6296112794229822\", \"0.6333593756805986\", \"0.6338889090933131\", \"0.6344797552685628\", \"0.643337148085878\", \"0.6443247022292969\", \"0.6454165726667712\", \"0.6487481975307651\", \"0.652494144722821\", \"0.6555140935005648\", \"0.6577922643058529\", \"0.6617544153088306\", \"0.6683032568579637\", \"0.6691851622320847\", \"0.6761214005412483\", \"0.6781862241372254\", \"0.6803625843006929\", \"0.6825626805705173\", \"0.6846789602371538\", \"0.6953228257839241\", \"0.6979151183849651\", \"0.6995388613556845\", \"0.7002754591252548\", \"0.701260578368379\", \"0.704098572603695\", \"0.7055750646555402\", \"0.7086578678989807\", \"0.7102026609392126\", \"0.7103696598494695\", \"0.7106965971528738\", \"0.7214219812192071\", \"0.7259239609837475\", \"0.7282852255780756\", \"0.7351923776194406\", \"0.7444472275955297\", \"0.7518251791854957\", \"0.7526195195946344\", \"0.7572212096797035\", \"0.7586875142447335\", \"0.7732688870228981\", \"0.7748430826797663\", \"0.7771966798937324\", \"0.781429288581422\", \"0.7884097562426794\", \"0.7891599948200788\", \"0.7896366100946312\", \"0.81174209873344\", \"0.8139543477159198\", \"0.8170818798861319\", \"0.8225569765897264\", \"0.8299635448048626\", \"0.8300826310606632\", \"0.8441516581714111\", \"0.8572373236279394\", \"0.8596346073465824\", \"0.8784679081302349\", \"0.9959403475616039\"], \"type\": \"scatter\", \"x\": [1.0, 0.9878048780487805, 0.9878048780487805, 0.975609756097561, 0.975609756097561, 0.975609756097561, 0.9634146341463414, 0.9634146341463414, 0.9634146341463414, 0.9634146341463414, 0.9634146341463414, 0.9634146341463414, 0.9512195121951219, 0.9512195121951219, 0.9390243902439024, 0.9390243902439024, 0.9390243902439024, 0.926829268292683, 0.926829268292683, 0.926829268292683, 0.9146341463414634, 0.9024390243902439, 0.8902439024390244, 0.8902439024390244, 0.8780487804878049, 0.8780487804878049, 0.8780487804878049, 0.8658536585365854, 0.8536585365853658, 0.8414634146341463, 0.8292682926829268, 0.8170731707317073, 0.8048780487804879, 0.8048780487804879, 0.7926829268292683, 0.7926829268292683, 0.7804878048780488, 0.7804878048780488, 0.7682926829268293, 0.7682926829268293, 0.7560975609756098, 0.7560975609756098, 0.7439024390243902, 0.7317073170731707, 0.7195121951219512, 0.7195121951219512, 0.7073170731707317, 0.7073170731707317, 0.6951219512195121, 0.6829268292682927, 0.6829268292682927, 0.6829268292682927, 0.6707317073170732, 0.6585365853658537, 0.6463414634146342, 0.6463414634146342, 0.6463414634146342, 0.6341463414634146, 0.6341463414634146, 0.6341463414634146, 0.6341463414634146, 0.6341463414634146, 0.6219512195121951, 0.6219512195121951, 0.6097560975609756, 0.5975609756097561, 0.5853658536585366, 0.5853658536585366, 0.573170731707317, 0.5609756097560976, 0.5609756097560976, 0.5487804878048781, 0.5365853658536586, 0.5365853658536586, 0.524390243902439, 0.5121951219512195, 0.5121951219512195, 0.5121951219512195, 0.5, 0.4878048780487805, 0.47560975609756095, 0.47560975609756095, 0.4634146341463415, 0.45121951219512196, 0.45121951219512196, 0.45121951219512196, 0.45121951219512196, 0.43902439024390244, 0.4268292682926829, 0.4268292682926829, 0.4146341463414634, 0.4024390243902439, 0.3902439024390244, 0.3902439024390244, 0.3902439024390244, 0.3780487804878049, 0.3780487804878049, 0.3780487804878049, 0.3780487804878049, 0.36585365853658536, 0.35365853658536583, 0.35365853658536583, 0.35365853658536583, 0.35365853658536583, 0.34146341463414637, 0.34146341463414637, 0.32926829268292684, 0.3170731707317073, 0.3048780487804878, 0.2926829268292683, 0.2926829268292683, 0.2804878048780488, 0.2682926829268293, 0.2682926829268293, 0.25609756097560976, 0.24390243902439024, 0.23170731707317074, 0.23170731707317074, 0.23170731707317074, 0.21951219512195122, 0.21951219512195122, 0.2073170731707317, 0.1951219512195122, 0.18292682926829268, 0.17073170731707318, 0.17073170731707318, 0.15853658536585366, 0.14634146341463414, 0.13414634146341464, 0.13414634146341464, 0.12195121951219512, 0.12195121951219512, 0.12195121951219512, 0.10975609756097561, 0.0975609756097561, 0.08536585365853659, 0.08536585365853659, 0.08536585365853659, 0.08536585365853659, 0.08536585365853659, 0.08536585365853659, 0.08536585365853659, 0.08536585365853659, 0.07317073170731707, 0.07317073170731707, 0.06097560975609756, 0.04878048780487805, 0.036585365853658534, 0.036585365853658534, 0.024390243902439025, 0.012195121951219513, 0.0], \"y\": [0.543046357615894, 0.54, 0.5436241610738255, 0.5405405405405406, 0.54421768707483, 0.547945205479452, 0.5448275862068965, 0.5486111111111112, 0.5524475524475524, 0.5563380281690141, 0.5602836879432624, 0.5642857142857143, 0.5611510791366906, 0.5652173913043478, 0.5620437956204379, 0.5661764705882353, 0.5703703703703704, 0.5671641791044776, 0.5714285714285714, 0.5757575757575758, 0.5725190839694656, 0.5692307692307692, 0.5658914728682171, 0.5703125, 0.5669291338582677, 0.5714285714285714, 0.576, 0.5725806451612904, 0.5691056910569106, 0.5655737704918032, 0.5619834710743802, 0.5583333333333333, 0.5546218487394958, 0.559322033898305, 0.5555555555555556, 0.5603448275862069, 0.5565217391304348, 0.5614035087719298, 0.5575221238938053, 0.5625, 0.5585585585585585, 0.5636363636363636, 0.5596330275229358, 0.5555555555555556, 0.5514018691588785, 0.5566037735849056, 0.5523809523809524, 0.5576923076923077, 0.5533980582524272, 0.5490196078431373, 0.5544554455445545, 0.56, 0.5555555555555556, 0.5510204081632653, 0.5463917525773195, 0.5520833333333334, 0.5578947368421052, 0.5531914893617021, 0.5591397849462365, 0.5652173913043478, 0.5714285714285714, 0.5777777777777777, 0.5730337078651685, 0.5795454545454546, 0.5747126436781609, 0.5697674418604651, 0.5647058823529412, 0.5714285714285714, 0.5662650602409639, 0.5609756097560976, 0.5679012345679012, 0.5625, 0.5569620253164557, 0.5641025641025641, 0.5584415584415584, 0.5526315789473685, 0.56, 0.5675675675675675, 0.5616438356164384, 0.5555555555555556, 0.5492957746478874, 0.5571428571428572, 0.5507246376811594, 0.5441176470588235, 0.5522388059701493, 0.5606060606060606, 0.5692307692307692, 0.5625, 0.5555555555555556, 0.5645161290322581, 0.5573770491803278, 0.55, 0.5423728813559322, 0.5517241379310345, 0.5614035087719298, 0.5535714285714286, 0.5636363636363636, 0.5740740740740741, 0.5849056603773585, 0.5769230769230769, 0.5686274509803921, 0.58, 0.5918367346938775, 0.6041666666666666, 0.5957446808510638, 0.6086956521739131, 0.6, 0.5909090909090909, 0.5813953488372093, 0.5714285714285714, 0.5853658536585366, 0.575, 0.5641025641025641, 0.5789473684210527, 0.5675675675675675, 0.5555555555555556, 0.5428571428571428, 0.5588235294117647, 0.5757575757575758, 0.5625, 0.5806451612903226, 0.5666666666666667, 0.5517241379310345, 0.5357142857142857, 0.5185185185185185, 0.5384615384615384, 0.52, 0.5, 0.4782608695652174, 0.5, 0.47619047619047616, 0.5, 0.5263157894736842, 0.5, 0.47058823529411764, 0.4375, 0.4666666666666667, 0.5, 0.5384615384615384, 0.5833333333333334, 0.6363636363636364, 0.7, 0.7777777777777778, 0.75, 0.8571428571428571, 0.8333333333333334, 0.8, 0.75, 1.0, 1.0, 1.0, 1.0]}],\n",
              "                        {\"template\": {\"data\": {\"bar\": [{\"error_x\": {\"color\": \"#2a3f5f\"}, \"error_y\": {\"color\": \"#2a3f5f\"}, \"marker\": {\"line\": {\"color\": \"#E5ECF6\", \"width\": 0.5}}, \"type\": \"bar\"}], \"barpolar\": [{\"marker\": {\"line\": {\"color\": \"#E5ECF6\", \"width\": 0.5}}, \"type\": \"barpolar\"}], \"carpet\": [{\"aaxis\": {\"endlinecolor\": \"#2a3f5f\", \"gridcolor\": \"white\", \"linecolor\": \"white\", \"minorgridcolor\": \"white\", \"startlinecolor\": \"#2a3f5f\"}, \"baxis\": {\"endlinecolor\": \"#2a3f5f\", \"gridcolor\": \"white\", \"linecolor\": \"white\", \"minorgridcolor\": \"white\", \"startlinecolor\": \"#2a3f5f\"}, \"type\": \"carpet\"}], \"choropleth\": [{\"colorbar\": {\"outlinewidth\": 0, \"ticks\": \"\"}, \"type\": \"choropleth\"}], \"contour\": [{\"colorbar\": {\"outlinewidth\": 0, \"ticks\": \"\"}, \"colorscale\": [[0.0, \"#0d0887\"], [0.1111111111111111, \"#46039f\"], [0.2222222222222222, \"#7201a8\"], [0.3333333333333333, \"#9c179e\"], [0.4444444444444444, \"#bd3786\"], [0.5555555555555556, \"#d8576b\"], [0.6666666666666666, \"#ed7953\"], [0.7777777777777778, \"#fb9f3a\"], [0.8888888888888888, \"#fdca26\"], [1.0, \"#f0f921\"]], \"type\": \"contour\"}], \"contourcarpet\": [{\"colorbar\": {\"outlinewidth\": 0, \"ticks\": \"\"}, \"type\": \"contourcarpet\"}], \"heatmap\": [{\"colorbar\": {\"outlinewidth\": 0, \"ticks\": \"\"}, \"colorscale\": [[0.0, \"#0d0887\"], [0.1111111111111111, \"#46039f\"], [0.2222222222222222, \"#7201a8\"], [0.3333333333333333, \"#9c179e\"], [0.4444444444444444, \"#bd3786\"], [0.5555555555555556, \"#d8576b\"], [0.6666666666666666, \"#ed7953\"], [0.7777777777777778, \"#fb9f3a\"], [0.8888888888888888, \"#fdca26\"], [1.0, \"#f0f921\"]], \"type\": \"heatmap\"}], \"heatmapgl\": [{\"colorbar\": {\"outlinewidth\": 0, \"ticks\": \"\"}, \"colorscale\": [[0.0, \"#0d0887\"], [0.1111111111111111, \"#46039f\"], [0.2222222222222222, \"#7201a8\"], [0.3333333333333333, \"#9c179e\"], [0.4444444444444444, \"#bd3786\"], [0.5555555555555556, \"#d8576b\"], [0.6666666666666666, \"#ed7953\"], [0.7777777777777778, \"#fb9f3a\"], [0.8888888888888888, \"#fdca26\"], [1.0, \"#f0f921\"]], \"type\": \"heatmapgl\"}], \"histogram\": [{\"marker\": {\"colorbar\": {\"outlinewidth\": 0, \"ticks\": \"\"}}, \"type\": \"histogram\"}], \"histogram2d\": [{\"colorbar\": {\"outlinewidth\": 0, \"ticks\": \"\"}, \"colorscale\": [[0.0, \"#0d0887\"], [0.1111111111111111, \"#46039f\"], [0.2222222222222222, \"#7201a8\"], [0.3333333333333333, \"#9c179e\"], [0.4444444444444444, \"#bd3786\"], [0.5555555555555556, \"#d8576b\"], [0.6666666666666666, \"#ed7953\"], [0.7777777777777778, \"#fb9f3a\"], [0.8888888888888888, \"#fdca26\"], [1.0, \"#f0f921\"]], \"type\": \"histogram2d\"}], \"histogram2dcontour\": [{\"colorbar\": {\"outlinewidth\": 0, \"ticks\": \"\"}, \"colorscale\": [[0.0, \"#0d0887\"], [0.1111111111111111, \"#46039f\"], [0.2222222222222222, \"#7201a8\"], [0.3333333333333333, \"#9c179e\"], [0.4444444444444444, \"#bd3786\"], [0.5555555555555556, \"#d8576b\"], [0.6666666666666666, \"#ed7953\"], [0.7777777777777778, \"#fb9f3a\"], [0.8888888888888888, \"#fdca26\"], [1.0, \"#f0f921\"]], \"type\": \"histogram2dcontour\"}], \"mesh3d\": [{\"colorbar\": {\"outlinewidth\": 0, \"ticks\": \"\"}, \"type\": \"mesh3d\"}], \"parcoords\": [{\"line\": {\"colorbar\": {\"outlinewidth\": 0, \"ticks\": \"\"}}, \"type\": \"parcoords\"}], \"pie\": [{\"automargin\": true, \"type\": \"pie\"}], \"scatter\": [{\"marker\": {\"colorbar\": {\"outlinewidth\": 0, \"ticks\": \"\"}}, \"type\": \"scatter\"}], \"scatter3d\": [{\"line\": {\"colorbar\": {\"outlinewidth\": 0, \"ticks\": \"\"}}, \"marker\": {\"colorbar\": {\"outlinewidth\": 0, \"ticks\": \"\"}}, \"type\": \"scatter3d\"}], \"scattercarpet\": [{\"marker\": {\"colorbar\": {\"outlinewidth\": 0, \"ticks\": \"\"}}, \"type\": \"scattercarpet\"}], \"scattergeo\": [{\"marker\": {\"colorbar\": {\"outlinewidth\": 0, \"ticks\": \"\"}}, \"type\": \"scattergeo\"}], \"scattergl\": [{\"marker\": {\"colorbar\": {\"outlinewidth\": 0, \"ticks\": \"\"}}, \"type\": \"scattergl\"}], \"scattermapbox\": [{\"marker\": {\"colorbar\": {\"outlinewidth\": 0, \"ticks\": \"\"}}, \"type\": \"scattermapbox\"}], \"scatterpolar\": [{\"marker\": {\"colorbar\": {\"outlinewidth\": 0, \"ticks\": \"\"}}, \"type\": \"scatterpolar\"}], \"scatterpolargl\": [{\"marker\": {\"colorbar\": {\"outlinewidth\": 0, \"ticks\": \"\"}}, \"type\": \"scatterpolargl\"}], \"scatterternary\": [{\"marker\": {\"colorbar\": {\"outlinewidth\": 0, \"ticks\": \"\"}}, \"type\": \"scatterternary\"}], \"surface\": [{\"colorbar\": {\"outlinewidth\": 0, \"ticks\": \"\"}, \"colorscale\": [[0.0, \"#0d0887\"], [0.1111111111111111, \"#46039f\"], [0.2222222222222222, \"#7201a8\"], [0.3333333333333333, \"#9c179e\"], [0.4444444444444444, \"#bd3786\"], [0.5555555555555556, \"#d8576b\"], [0.6666666666666666, \"#ed7953\"], [0.7777777777777778, \"#fb9f3a\"], [0.8888888888888888, \"#fdca26\"], [1.0, \"#f0f921\"]], \"type\": \"surface\"}], \"table\": [{\"cells\": {\"fill\": {\"color\": \"#EBF0F8\"}, \"line\": {\"color\": \"white\"}}, \"header\": {\"fill\": {\"color\": \"#C8D4E3\"}, \"line\": {\"color\": \"white\"}}, \"type\": \"table\"}]}, \"layout\": {\"annotationdefaults\": {\"arrowcolor\": \"#2a3f5f\", \"arrowhead\": 0, \"arrowwidth\": 1}, \"coloraxis\": {\"colorbar\": {\"outlinewidth\": 0, \"ticks\": \"\"}}, \"colorscale\": {\"diverging\": [[0, \"#8e0152\"], [0.1, \"#c51b7d\"], [0.2, \"#de77ae\"], [0.3, \"#f1b6da\"], [0.4, \"#fde0ef\"], [0.5, \"#f7f7f7\"], [0.6, \"#e6f5d0\"], [0.7, \"#b8e186\"], [0.8, \"#7fbc41\"], [0.9, \"#4d9221\"], [1, \"#276419\"]], \"sequential\": [[0.0, \"#0d0887\"], [0.1111111111111111, \"#46039f\"], [0.2222222222222222, \"#7201a8\"], [0.3333333333333333, \"#9c179e\"], [0.4444444444444444, \"#bd3786\"], [0.5555555555555556, \"#d8576b\"], [0.6666666666666666, \"#ed7953\"], [0.7777777777777778, \"#fb9f3a\"], [0.8888888888888888, \"#fdca26\"], [1.0, \"#f0f921\"]], \"sequentialminus\": [[0.0, \"#0d0887\"], [0.1111111111111111, \"#46039f\"], [0.2222222222222222, \"#7201a8\"], [0.3333333333333333, \"#9c179e\"], [0.4444444444444444, \"#bd3786\"], [0.5555555555555556, \"#d8576b\"], [0.6666666666666666, \"#ed7953\"], [0.7777777777777778, \"#fb9f3a\"], [0.8888888888888888, \"#fdca26\"], [1.0, \"#f0f921\"]]}, \"colorway\": [\"#636efa\", \"#EF553B\", \"#00cc96\", \"#ab63fa\", \"#FFA15A\", \"#19d3f3\", \"#FF6692\", \"#B6E880\", \"#FF97FF\", \"#FECB52\"], \"font\": {\"color\": \"#2a3f5f\"}, \"geo\": {\"bgcolor\": \"white\", \"lakecolor\": \"white\", \"landcolor\": \"#E5ECF6\", \"showlakes\": true, \"showland\": true, \"subunitcolor\": \"white\"}, \"hoverlabel\": {\"align\": \"left\"}, \"hovermode\": \"closest\", \"mapbox\": {\"style\": \"light\"}, \"paper_bgcolor\": \"white\", \"plot_bgcolor\": \"#E5ECF6\", \"polar\": {\"angularaxis\": {\"gridcolor\": \"white\", \"linecolor\": \"white\", \"ticks\": \"\"}, \"bgcolor\": \"#E5ECF6\", \"radialaxis\": {\"gridcolor\": \"white\", \"linecolor\": \"white\", \"ticks\": \"\"}}, \"scene\": {\"xaxis\": {\"backgroundcolor\": \"#E5ECF6\", \"gridcolor\": \"white\", \"gridwidth\": 2, \"linecolor\": \"white\", \"showbackground\": true, \"ticks\": \"\", \"zerolinecolor\": \"white\"}, \"yaxis\": {\"backgroundcolor\": \"#E5ECF6\", \"gridcolor\": \"white\", \"gridwidth\": 2, \"linecolor\": \"white\", \"showbackground\": true, \"ticks\": \"\", \"zerolinecolor\": \"white\"}, \"zaxis\": {\"backgroundcolor\": \"#E5ECF6\", \"gridcolor\": \"white\", \"gridwidth\": 2, \"linecolor\": \"white\", \"showbackground\": true, \"ticks\": \"\", \"zerolinecolor\": \"white\"}}, \"shapedefaults\": {\"line\": {\"color\": \"#2a3f5f\"}}, \"ternary\": {\"aaxis\": {\"gridcolor\": \"white\", \"linecolor\": \"white\", \"ticks\": \"\"}, \"baxis\": {\"gridcolor\": \"white\", \"linecolor\": \"white\", \"ticks\": \"\"}, \"bgcolor\": \"#E5ECF6\", \"caxis\": {\"gridcolor\": \"white\", \"linecolor\": \"white\", \"ticks\": \"\"}}, \"title\": {\"x\": 0.05}, \"xaxis\": {\"automargin\": true, \"gridcolor\": \"white\", \"linecolor\": \"white\", \"ticks\": \"\", \"title\": {\"standoff\": 15}, \"zerolinecolor\": \"white\", \"zerolinewidth\": 2}, \"yaxis\": {\"automargin\": true, \"gridcolor\": \"white\", \"linecolor\": \"white\", \"ticks\": \"\", \"title\": {\"standoff\": 15}, \"zerolinecolor\": \"white\", \"zerolinewidth\": 2}}}},\n",
              "                        {\"responsive\": true}\n",
              "                    ).then(function(){\n",
              "                            \n",
              "var gd = document.getElementById('ff03571e-395b-47ba-9383-4c444d353ed5');\n",
              "var x = new MutationObserver(function (mutations, observer) {{\n",
              "        var display = window.getComputedStyle(gd).display;\n",
              "        if (!display || display === 'none') {{\n",
              "            console.log([gd, 'removed!']);\n",
              "            Plotly.purge(gd);\n",
              "            observer.disconnect();\n",
              "        }}\n",
              "}});\n",
              "\n",
              "// Listen for the removal of the full notebook cells\n",
              "var notebookContainer = gd.closest('#notebook-container');\n",
              "if (notebookContainer) {{\n",
              "    x.observe(notebookContainer, {childList: true});\n",
              "}}\n",
              "\n",
              "// Listen for the clearing of the current output cell\n",
              "var outputEl = gd.closest('.output');\n",
              "if (outputEl) {{\n",
              "    x.observe(outputEl, {childList: true});\n",
              "}}\n",
              "\n",
              "                        })\n",
              "                };\n",
              "                \n",
              "            </script>\n",
              "        </div>\n",
              "</body>\n",
              "</html>"
            ]
          },
          "metadata": {
            "tags": []
          }
        },
        {
          "output_type": "stream",
          "text": [
            "AUC:  0.5849154250880106\n"
          ],
          "name": "stdout"
        }
      ]
    },
    {
      "cell_type": "code",
      "metadata": {
        "colab": {
          "base_uri": "https://localhost:8080/"
        },
        "id": "4zg3nrdEGfwi",
        "outputId": "ba4dbca6-a8af-47e4-84a0-088cd2456b53"
      },
      "source": [
        "Y_pred = clf.predict(X_test)\n",
        "print(Y_pred)\n",
        "print(Y_test)\n",
        "score =accuracy_score(Y_test,Y_pred)\n",
        "print(\"Accuracy: \",score)"
      ],
      "execution_count": null,
      "outputs": [
        {
          "output_type": "stream",
          "text": [
            "[1 0 1 1 1 1 1 1 0 1 1 1 1 1 0 1 1 1 0 0 1 1 1 1 1 0 1 1 0 0 1 0 1 0 1 0 1\n",
            " 1 1 1 1 0 0 1 0 0 1 1 1 1 0 1 0 0 1 1 1 1 0 1 1 1 1 0 0 0 0 0 1 1 1 1 1 0\n",
            " 0 0 0 1 1 0 0 1 1 1 1 0 1 0 1 1 1 1 0 0 1 0 0 1 0 0 0 0 1 0 1 0 1 1 0 1 0\n",
            " 1 1 0 0 0 1 1 1 1 1 1 0 0 1 1 0 1 0 1 0 1 1 1 1 1 1 0 0 1 0 0 0 0 1 1 0 0\n",
            " 0 1 1]\n",
            "[1 1 1 1 1 1 1 1 1 1 1 1 1 1 1 1 1 1 1 1 1 1 1 1 1 1 1 1 1 1 1 1 1 1 1 1 1\n",
            " 1 1 1 1 1 1 1 1 1 1 1 1 1 1 1 1 1 1 1 1 1 1 1 1 1 1 1 1 1 1 1 1 1 1 1 1 1\n",
            " 1 1 1 1 1 1 1 1 0 0 0 0 0 0 0 0 0 0 0 0 0 0 0 0 0 0 0 0 0 0 0 0 0 0 0 0 0\n",
            " 0 0 0 0 0 0 0 0 0 0 0 0 0 0 0 0 0 0 0 0 0 0 0 0 0 0 0 0 0 0 0 0 0 0 0 0 0\n",
            " 0 0 0]\n",
            "Accuracy:  0.5496688741721855\n"
          ],
          "name": "stdout"
        }
      ]
    },
    {
      "cell_type": "code",
      "metadata": {
        "id": "kP1xEJXgGOIv"
      },
      "source": [
        "with open(TEMP_DATA_DIR + 'LiniearRegressionModal.p', 'wb') as f:\n",
        "    pickle.dump(clf, f)"
      ],
      "execution_count": null,
      "outputs": []
    }
  ]
}